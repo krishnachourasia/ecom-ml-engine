{
 "cells": [
  {
   "cell_type": "code",
   "execution_count": 7,
   "metadata": {},
   "outputs": [
    {
     "name": "stdout",
     "output_type": "stream",
     "text": [
      "['category_tree.csv', 'events.csv', 'item_properties_part1.csv', 'item_properties_part2.csv']\n"
     ]
    }
   ],
   "source": [
    "import numpy as np\n",
    "import pandas as pd\n",
    "import matplotlib.pyplot as plt\n",
    "import seaborn as sns\n",
    "\n",
    "\n",
    "# Checking files data files\n",
    "import os\n",
    "print(os.listdir(\"ecommerce-dataset\"))"
   ]
  },
  {
   "cell_type": "code",
   "execution_count": 8,
   "metadata": {},
   "outputs": [
    {
     "data": {
      "text/html": [
       "<div>\n",
       "<style scoped>\n",
       "    .dataframe tbody tr th:only-of-type {\n",
       "        vertical-align: middle;\n",
       "    }\n",
       "\n",
       "    .dataframe tbody tr th {\n",
       "        vertical-align: top;\n",
       "    }\n",
       "\n",
       "    .dataframe thead th {\n",
       "        text-align: right;\n",
       "    }\n",
       "</style>\n",
       "<table border=\"1\" class=\"dataframe\">\n",
       "  <thead>\n",
       "    <tr style=\"text-align: right;\">\n",
       "      <th></th>\n",
       "      <th>timestamp</th>\n",
       "      <th>itemid</th>\n",
       "      <th>property</th>\n",
       "      <th>value</th>\n",
       "    </tr>\n",
       "  </thead>\n",
       "  <tbody>\n",
       "    <tr>\n",
       "      <th>10989</th>\n",
       "      <td>1439089200000</td>\n",
       "      <td>183697</td>\n",
       "      <td>888</td>\n",
       "      <td>231316 237874 610517 n108.000 424566 784581 12...</td>\n",
       "    </tr>\n",
       "    <tr>\n",
       "      <th>10990</th>\n",
       "      <td>1441508400000</td>\n",
       "      <td>337184</td>\n",
       "      <td>978</td>\n",
       "      <td>684814 234274</td>\n",
       "    </tr>\n",
       "    <tr>\n",
       "      <th>10991</th>\n",
       "      <td>1433646000000</td>\n",
       "      <td>55909</td>\n",
       "      <td>888</td>\n",
       "      <td>1072784</td>\n",
       "    </tr>\n",
       "    <tr>\n",
       "      <th>10992</th>\n",
       "      <td>1431226800000</td>\n",
       "      <td>209920</td>\n",
       "      <td>764</td>\n",
       "      <td>1285872</td>\n",
       "    </tr>\n",
       "    <tr>\n",
       "      <th>10993</th>\n",
       "      <td>1432436400000</td>\n",
       "      <td>257606</td>\n",
       "      <td>888</td>\n",
       "      <td>1280825</td>\n",
       "    </tr>\n",
       "    <tr>\n",
       "      <th>10994</th>\n",
       "      <td>1431226800000</td>\n",
       "      <td>329250</td>\n",
       "      <td>available</td>\n",
       "      <td>0</td>\n",
       "    </tr>\n",
       "    <tr>\n",
       "      <th>10995</th>\n",
       "      <td>1440298800000</td>\n",
       "      <td>387609</td>\n",
       "      <td>available</td>\n",
       "      <td>1</td>\n",
       "    </tr>\n",
       "    <tr>\n",
       "      <th>10996</th>\n",
       "      <td>1437274800000</td>\n",
       "      <td>94406</td>\n",
       "      <td>790</td>\n",
       "      <td>n306720.000</td>\n",
       "    </tr>\n",
       "    <tr>\n",
       "      <th>10997</th>\n",
       "      <td>1431226800000</td>\n",
       "      <td>337872</td>\n",
       "      <td>categoryid</td>\n",
       "      <td>1113</td>\n",
       "    </tr>\n",
       "    <tr>\n",
       "      <th>10998</th>\n",
       "      <td>1435460400000</td>\n",
       "      <td>334542</td>\n",
       "      <td>451</td>\n",
       "      <td>1141052 n36.000</td>\n",
       "    </tr>\n",
       "  </tbody>\n",
       "</table>\n",
       "</div>"
      ],
      "text/plain": [
       "           timestamp  itemid    property  \\\n",
       "10989  1439089200000  183697         888   \n",
       "10990  1441508400000  337184         978   \n",
       "10991  1433646000000   55909         888   \n",
       "10992  1431226800000  209920         764   \n",
       "10993  1432436400000  257606         888   \n",
       "10994  1431226800000  329250   available   \n",
       "10995  1440298800000  387609   available   \n",
       "10996  1437274800000   94406         790   \n",
       "10997  1431226800000  337872  categoryid   \n",
       "10998  1435460400000  334542         451   \n",
       "\n",
       "                                                   value  \n",
       "10989  231316 237874 610517 n108.000 424566 784581 12...  \n",
       "10990                                      684814 234274  \n",
       "10991                                            1072784  \n",
       "10992                                            1285872  \n",
       "10993                                            1280825  \n",
       "10994                                                  0  \n",
       "10995                                                  1  \n",
       "10996                                        n306720.000  \n",
       "10997                                               1113  \n",
       "10998                                    1141052 n36.000  "
      ]
     },
     "execution_count": 8,
     "metadata": {},
     "output_type": "execute_result"
    }
   ],
   "source": [
    "## loading items dataset\n",
    "items = pd.read_csv(\"ecommerce-dataset/item_properties_part1.csv\")\n",
    "items = items[:10999]\n",
    "items.tail(10)"
   ]
  },
  {
   "cell_type": "code",
   "execution_count": 9,
   "metadata": {},
   "outputs": [
    {
     "data": {
      "text/plain": [
       "(10999, 4)"
      ]
     },
     "execution_count": 9,
     "metadata": {},
     "output_type": "execute_result"
    }
   ],
   "source": [
    "items.shape"
   ]
  },
  {
   "cell_type": "code",
   "execution_count": 10,
   "metadata": {},
   "outputs": [],
   "source": [
    "import datetime\n",
    "dtime = []\n",
    "for i in items['timestamp']:\n",
    "    dtime.append(datetime.datetime.fromtimestamp(i//1000))"
   ]
  },
  {
   "cell_type": "code",
   "execution_count": 11,
   "metadata": {},
   "outputs": [],
   "source": [
    "items['timestamp'] = dtime"
   ]
  },
  {
   "cell_type": "code",
   "execution_count": 12,
   "metadata": {},
   "outputs": [
    {
     "data": {
      "text/html": [
       "<div>\n",
       "<style scoped>\n",
       "    .dataframe tbody tr th:only-of-type {\n",
       "        vertical-align: middle;\n",
       "    }\n",
       "\n",
       "    .dataframe tbody tr th {\n",
       "        vertical-align: top;\n",
       "    }\n",
       "\n",
       "    .dataframe thead th {\n",
       "        text-align: right;\n",
       "    }\n",
       "</style>\n",
       "<table border=\"1\" class=\"dataframe\">\n",
       "  <thead>\n",
       "    <tr style=\"text-align: right;\">\n",
       "      <th></th>\n",
       "      <th>timestamp</th>\n",
       "      <th>itemid</th>\n",
       "      <th>property</th>\n",
       "      <th>value</th>\n",
       "    </tr>\n",
       "  </thead>\n",
       "  <tbody>\n",
       "    <tr>\n",
       "      <th>0</th>\n",
       "      <td>2015-06-28 08:30:00</td>\n",
       "      <td>460429</td>\n",
       "      <td>categoryid</td>\n",
       "      <td>1338</td>\n",
       "    </tr>\n",
       "    <tr>\n",
       "      <th>1</th>\n",
       "      <td>2015-09-06 08:30:00</td>\n",
       "      <td>206783</td>\n",
       "      <td>888</td>\n",
       "      <td>1116713 960601 n277.200</td>\n",
       "    </tr>\n",
       "    <tr>\n",
       "      <th>2</th>\n",
       "      <td>2015-08-09 08:30:00</td>\n",
       "      <td>395014</td>\n",
       "      <td>400</td>\n",
       "      <td>n552.000 639502 n720.000 424566</td>\n",
       "    </tr>\n",
       "    <tr>\n",
       "      <th>3</th>\n",
       "      <td>2015-05-10 08:30:00</td>\n",
       "      <td>59481</td>\n",
       "      <td>790</td>\n",
       "      <td>n15360.000</td>\n",
       "    </tr>\n",
       "    <tr>\n",
       "      <th>4</th>\n",
       "      <td>2015-05-17 08:30:00</td>\n",
       "      <td>156781</td>\n",
       "      <td>917</td>\n",
       "      <td>828513</td>\n",
       "    </tr>\n",
       "    <tr>\n",
       "      <th>5</th>\n",
       "      <td>2015-07-05 08:30:00</td>\n",
       "      <td>285026</td>\n",
       "      <td>available</td>\n",
       "      <td>0</td>\n",
       "    </tr>\n",
       "    <tr>\n",
       "      <th>6</th>\n",
       "      <td>2015-06-14 08:30:00</td>\n",
       "      <td>89534</td>\n",
       "      <td>213</td>\n",
       "      <td>1121373</td>\n",
       "    </tr>\n",
       "    <tr>\n",
       "      <th>7</th>\n",
       "      <td>2015-05-17 08:30:00</td>\n",
       "      <td>264312</td>\n",
       "      <td>6</td>\n",
       "      <td>319724</td>\n",
       "    </tr>\n",
       "    <tr>\n",
       "      <th>8</th>\n",
       "      <td>2015-06-07 08:30:00</td>\n",
       "      <td>229370</td>\n",
       "      <td>202</td>\n",
       "      <td>1330310</td>\n",
       "    </tr>\n",
       "    <tr>\n",
       "      <th>9</th>\n",
       "      <td>2015-06-14 08:30:00</td>\n",
       "      <td>98113</td>\n",
       "      <td>451</td>\n",
       "      <td>1141052 n48.000</td>\n",
       "    </tr>\n",
       "  </tbody>\n",
       "</table>\n",
       "</div>"
      ],
      "text/plain": [
       "            timestamp  itemid    property                            value\n",
       "0 2015-06-28 08:30:00  460429  categoryid                             1338\n",
       "1 2015-09-06 08:30:00  206783         888          1116713 960601 n277.200\n",
       "2 2015-08-09 08:30:00  395014         400  n552.000 639502 n720.000 424566\n",
       "3 2015-05-10 08:30:00   59481         790                       n15360.000\n",
       "4 2015-05-17 08:30:00  156781         917                           828513\n",
       "5 2015-07-05 08:30:00  285026   available                                0\n",
       "6 2015-06-14 08:30:00   89534         213                          1121373\n",
       "7 2015-05-17 08:30:00  264312           6                           319724\n",
       "8 2015-06-07 08:30:00  229370         202                          1330310\n",
       "9 2015-06-14 08:30:00   98113         451                  1141052 n48.000"
      ]
     },
     "execution_count": 12,
     "metadata": {},
     "output_type": "execute_result"
    }
   ],
   "source": [
    "items.head(10)"
   ]
  },
  {
   "cell_type": "code",
   "execution_count": 13,
   "metadata": {},
   "outputs": [
    {
     "data": {
      "text/html": [
       "<div>\n",
       "<style scoped>\n",
       "    .dataframe tbody tr th:only-of-type {\n",
       "        vertical-align: middle;\n",
       "    }\n",
       "\n",
       "    .dataframe tbody tr th {\n",
       "        vertical-align: top;\n",
       "    }\n",
       "\n",
       "    .dataframe thead th {\n",
       "        text-align: right;\n",
       "    }\n",
       "</style>\n",
       "<table border=\"1\" class=\"dataframe\">\n",
       "  <thead>\n",
       "    <tr style=\"text-align: right;\">\n",
       "      <th></th>\n",
       "      <th>timestamp</th>\n",
       "      <th>visitorid</th>\n",
       "      <th>event</th>\n",
       "      <th>itemid</th>\n",
       "      <th>transactionid</th>\n",
       "    </tr>\n",
       "  </thead>\n",
       "  <tbody>\n",
       "    <tr>\n",
       "      <th>0</th>\n",
       "      <td>1433221332117</td>\n",
       "      <td>257597</td>\n",
       "      <td>view</td>\n",
       "      <td>355908</td>\n",
       "      <td>NaN</td>\n",
       "    </tr>\n",
       "    <tr>\n",
       "      <th>1</th>\n",
       "      <td>1433224214164</td>\n",
       "      <td>992329</td>\n",
       "      <td>view</td>\n",
       "      <td>248676</td>\n",
       "      <td>NaN</td>\n",
       "    </tr>\n",
       "    <tr>\n",
       "      <th>2</th>\n",
       "      <td>1433221999827</td>\n",
       "      <td>111016</td>\n",
       "      <td>view</td>\n",
       "      <td>318965</td>\n",
       "      <td>NaN</td>\n",
       "    </tr>\n",
       "    <tr>\n",
       "      <th>3</th>\n",
       "      <td>1433221955914</td>\n",
       "      <td>483717</td>\n",
       "      <td>view</td>\n",
       "      <td>253185</td>\n",
       "      <td>NaN</td>\n",
       "    </tr>\n",
       "    <tr>\n",
       "      <th>4</th>\n",
       "      <td>1433221337106</td>\n",
       "      <td>951259</td>\n",
       "      <td>view</td>\n",
       "      <td>367447</td>\n",
       "      <td>NaN</td>\n",
       "    </tr>\n",
       "    <tr>\n",
       "      <th>5</th>\n",
       "      <td>1433224086234</td>\n",
       "      <td>972639</td>\n",
       "      <td>view</td>\n",
       "      <td>22556</td>\n",
       "      <td>NaN</td>\n",
       "    </tr>\n",
       "    <tr>\n",
       "      <th>6</th>\n",
       "      <td>1433221923240</td>\n",
       "      <td>810725</td>\n",
       "      <td>view</td>\n",
       "      <td>443030</td>\n",
       "      <td>NaN</td>\n",
       "    </tr>\n",
       "    <tr>\n",
       "      <th>7</th>\n",
       "      <td>1433223291897</td>\n",
       "      <td>794181</td>\n",
       "      <td>view</td>\n",
       "      <td>439202</td>\n",
       "      <td>NaN</td>\n",
       "    </tr>\n",
       "    <tr>\n",
       "      <th>8</th>\n",
       "      <td>1433220899221</td>\n",
       "      <td>824915</td>\n",
       "      <td>view</td>\n",
       "      <td>428805</td>\n",
       "      <td>NaN</td>\n",
       "    </tr>\n",
       "    <tr>\n",
       "      <th>9</th>\n",
       "      <td>1433221204592</td>\n",
       "      <td>339335</td>\n",
       "      <td>view</td>\n",
       "      <td>82389</td>\n",
       "      <td>NaN</td>\n",
       "    </tr>\n",
       "  </tbody>\n",
       "</table>\n",
       "</div>"
      ],
      "text/plain": [
       "       timestamp  visitorid event  itemid  transactionid\n",
       "0  1433221332117     257597  view  355908            NaN\n",
       "1  1433224214164     992329  view  248676            NaN\n",
       "2  1433221999827     111016  view  318965            NaN\n",
       "3  1433221955914     483717  view  253185            NaN\n",
       "4  1433221337106     951259  view  367447            NaN\n",
       "5  1433224086234     972639  view   22556            NaN\n",
       "6  1433221923240     810725  view  443030            NaN\n",
       "7  1433223291897     794181  view  439202            NaN\n",
       "8  1433220899221     824915  view  428805            NaN\n",
       "9  1433221204592     339335  view   82389            NaN"
      ]
     },
     "execution_count": 13,
     "metadata": {},
     "output_type": "execute_result"
    }
   ],
   "source": [
    "## Loading user-interactions, i.e, events dataset\n",
    "events = pd.read_csv(\"ecommerce-dataset/events.csv\")\n",
    "events = events[:27561]\n",
    "events.head(10)"
   ]
  },
  {
   "cell_type": "code",
   "execution_count": 14,
   "metadata": {},
   "outputs": [
    {
     "name": "stdout",
     "output_type": "stream",
     "text": [
      "(27561, 5)\n",
      "view           26700\n",
      "addtocart        639\n",
      "transaction      222\n",
      "Name: event, dtype: int64\n"
     ]
    },
    {
     "data": {
      "text/plain": [
       "<matplotlib.axes._subplots.AxesSubplot at 0x534ebd0>"
      ]
     },
     "execution_count": 14,
     "metadata": {},
     "output_type": "execute_result"
    },
    {
     "data": {
      "image/png": "[encoded data removed]",
      "text/plain": [
       "<Figure size 432x288 with 1 Axes>"
      ]
     },
     "metadata": {
      "needs_background": "light"
     },
     "output_type": "display_data"
    }
   ],
   "source": [
    "print(events.shape)\n",
    "print(events['event'].value_counts())\n",
    "sns.countplot(x='event', data=events, palette='pastel')"
   ]
  },
  {
   "cell_type": "markdown",
   "metadata": {},
   "source": [
    "## TODO: load and analyse Category datasets"
   ]
  },
  {
   "cell_type": "code",
   "execution_count": 15,
   "metadata": {},
   "outputs": [
    {
     "name": "stdout",
     "output_type": "stream",
     "text": [
      "All visitors: 27561\n",
      "All customers: 16684\n"
     ]
    }
   ],
   "source": [
    "## Finding Unique visiters i.e, all the customers\n",
    "customers = events['visitorid'].unique()\n",
    "\n",
    "print(\"All visitors:\", events['visitorid'].size)\n",
    "print(\"All customers:\", customers.size)"
   ]
  },
  {
   "cell_type": "code",
   "execution_count": 16,
   "metadata": {},
   "outputs": [
    {
     "name": "stdout",
     "output_type": "stream",
     "text": [
      "Customers who bought something: 136\n"
     ]
    }
   ],
   "source": [
    "## Finding customers who purchased\n",
    "customers_purchased = events[events.transactionid.notnull()].visitorid.unique()\n",
    "print(\"Customers who bought something:\",customers_purchased.size)"
   ]
  },
  {
   "cell_type": "code",
   "execution_count": 17,
   "metadata": {},
   "outputs": [
    {
     "name": "stdout",
     "output_type": "stream",
     "text": [
      "event\n",
      "addtocart      [5206, 10572, 255275, 356475, 312728, 63312, 1...\n",
      "transaction    [356475, 15335, 81345, 150318, 310791, 54058, ...\n",
      "view           [355908, 248676, 318965, 253185, 367447, 22556...\n",
      "Name: itemid, dtype: object\n"
     ]
    },
    {
     "data": {
      "text/plain": [
       "<matplotlib.axes._subplots.AxesSubplot at 0x921e30>"
      ]
     },
     "execution_count": 17,
     "metadata": {},
     "output_type": "execute_result"
    },
    {
     "data": {
      "image/png": "[encoded data removed]",
      "text/plain": [
       "<Figure size 432x288 with 1 Axes>"
      ]
     },
     "metadata": {
      "needs_background": "light"
     },
     "output_type": "display_data"
    }
   ],
   "source": [
    "## grouping itemid with it's event type into a lost\n",
    "grouped = events.groupby('event')['itemid'].apply(list)\n",
    "print(grouped)\n",
    "\n",
    "## Finding the most viewed items\n",
    "import operator\n",
    "views = grouped['view']\n",
    "count_view = {}\n",
    "views = np.array(views[:])\n",
    "\n",
    "#counting unique value of itemids and respective views and conveting it to dictionary\n",
    "unique, counts = np.unique(views, return_counts=True)\n",
    "count_view = dict(zip(unique, counts))\n",
    "sorted_view = sorted(count_view.items(), key= operator.itemgetter(1), reverse=True)\n",
    "\n",
    "## intialising graph\n",
    "x = [i[0] for i in sorted_view[:10]]\n",
    "y = [i[1] for i in sorted_view[:10]]\n",
    "sns.barplot(x, y, order=x, palette='rocket')"
   ]
  },
  {
   "cell_type": "code",
   "execution_count": 18,
   "metadata": {},
   "outputs": [
    {
     "data": {
      "text/plain": [
       "<matplotlib.axes._subplots.AxesSubplot at 0xd0fc3f0>"
      ]
     },
     "execution_count": 18,
     "metadata": {},
     "output_type": "execute_result"
    },
    {
     "data": {
      "image/png": "[encoded data removed]",
      "text/plain": [
       "<Figure size 432x288 with 1 Axes>"
      ]
     },
     "metadata": {
      "needs_background": "light"
     },
     "output_type": "display_data"
    }
   ],
   "source": [
    "## Finding the most added to cart items\n",
    "addtocart = grouped['addtocart']\n",
    "count_cart = {}\n",
    "addtocart = np.array(addtocart[:])\n",
    "\n",
    "#counting unique value of itemids and respective addtocart and conveting it to dictionary\n",
    "unique, counts = np.unique(addtocart, return_counts=True)\n",
    "count_cart = dict(zip(unique, counts))\n",
    "sorted_cart = sorted(count_cart.items(), key= operator.itemgetter(1), reverse=True)\n",
    "\n",
    "## intialising graph\n",
    "x = [i[0] for i in sorted_cart[:10]]\n",
    "y = [i[1] for i in sorted_cart[:10]]\n",
    "sns.barplot(x, y, order=x, palette='pastel')"
   ]
  },
  {
   "cell_type": "code",
   "execution_count": 19,
   "metadata": {},
   "outputs": [
    {
     "data": {
      "text/plain": [
       "<matplotlib.axes._subplots.AxesSubplot at 0xd1d1e10>"
      ]
     },
     "execution_count": 19,
     "metadata": {},
     "output_type": "execute_result"
    },
    {
     "data": {
      "image/png": "[encoded data removed]",
      "text/plain": [
       "<Figure size 432x288 with 1 Axes>"
      ]
     },
     "metadata": {
      "needs_background": "light"
     },
     "output_type": "display_data"
    }
   ],
   "source": [
    "## Finding the most purchased items\n",
    "transaction = grouped['transaction']\n",
    "count_transaction = {}\n",
    "transaction = np.array(transaction[:])\n",
    "\n",
    "#counting unique value of itemids and respective addtocart and conveting it to dictionary\n",
    "unique, counts = np.unique(transaction, return_counts=True)\n",
    "count_transaction = dict(zip(unique, counts))\n",
    "sorted_transaction = sorted(count_transaction.items(), key= operator.itemgetter(1), reverse=True)\n",
    "\n",
    "## intialising graph\n",
    "x = [i[0] for i in sorted_transaction[:20]]\n",
    "y = [i[1] for i in sorted_transaction[:20]]\n",
    "sns.barplot(x, y, order=x, palette='rocket')"
   ]
  },
  {
   "cell_type": "markdown",
   "metadata": {},
   "source": [
    "# TODO: Modeling with lightfm"
   ]
  },
  {
   "cell_type": "code",
   "execution_count": 20,
   "metadata": {},
   "outputs": [],
   "source": [
    "from sklearn import preprocessing\n",
    "from lightfm import LightFM\n",
    "from scipy.sparse import coo_matrix\n",
    "from scipy.sparse import csr_matrix\n",
    "from sklearn.metrics import roc_auc_score\n",
    "from lightfm.evaluation import auc_score\n",
    "import time\n",
    "import pickle\n",
    "import datetime"
   ]
  },
  {
   "cell_type": "code",
   "execution_count": 21,
   "metadata": {},
   "outputs": [
    {
     "data": {
      "text/html": [
       "<div>\n",
       "<style scoped>\n",
       "    .dataframe tbody tr th:only-of-type {\n",
       "        vertical-align: middle;\n",
       "    }\n",
       "\n",
       "    .dataframe tbody tr th {\n",
       "        vertical-align: top;\n",
       "    }\n",
       "\n",
       "    .dataframe thead th {\n",
       "        text-align: right;\n",
       "    }\n",
       "</style>\n",
       "<table border=\"1\" class=\"dataframe\">\n",
       "  <thead>\n",
       "    <tr style=\"text-align: right;\">\n",
       "      <th></th>\n",
       "      <th>visitorid</th>\n",
       "      <th>itemid</th>\n",
       "      <th>event</th>\n",
       "      <th>date</th>\n",
       "    </tr>\n",
       "  </thead>\n",
       "  <tbody>\n",
       "    <tr>\n",
       "      <th>27551</th>\n",
       "      <td>353455</td>\n",
       "      <td>114070</td>\n",
       "      <td>view</td>\n",
       "      <td>2015-06-03</td>\n",
       "    </tr>\n",
       "    <tr>\n",
       "      <th>27552</th>\n",
       "      <td>977950</td>\n",
       "      <td>197816</td>\n",
       "      <td>view</td>\n",
       "      <td>2015-06-03</td>\n",
       "    </tr>\n",
       "    <tr>\n",
       "      <th>27553</th>\n",
       "      <td>160659</td>\n",
       "      <td>443590</td>\n",
       "      <td>view</td>\n",
       "      <td>2015-06-03</td>\n",
       "    </tr>\n",
       "    <tr>\n",
       "      <th>27554</th>\n",
       "      <td>77390</td>\n",
       "      <td>258810</td>\n",
       "      <td>view</td>\n",
       "      <td>2015-06-03</td>\n",
       "    </tr>\n",
       "    <tr>\n",
       "      <th>27555</th>\n",
       "      <td>571645</td>\n",
       "      <td>36906</td>\n",
       "      <td>view</td>\n",
       "      <td>2015-06-03</td>\n",
       "    </tr>\n",
       "    <tr>\n",
       "      <th>27556</th>\n",
       "      <td>411496</td>\n",
       "      <td>192491</td>\n",
       "      <td>view</td>\n",
       "      <td>2015-06-03</td>\n",
       "    </tr>\n",
       "    <tr>\n",
       "      <th>27557</th>\n",
       "      <td>1004112</td>\n",
       "      <td>376137</td>\n",
       "      <td>view</td>\n",
       "      <td>2015-06-03</td>\n",
       "    </tr>\n",
       "    <tr>\n",
       "      <th>27558</th>\n",
       "      <td>382778</td>\n",
       "      <td>372293</td>\n",
       "      <td>view</td>\n",
       "      <td>2015-06-03</td>\n",
       "    </tr>\n",
       "    <tr>\n",
       "      <th>27559</th>\n",
       "      <td>913611</td>\n",
       "      <td>263437</td>\n",
       "      <td>view</td>\n",
       "      <td>2015-06-03</td>\n",
       "    </tr>\n",
       "    <tr>\n",
       "      <th>27560</th>\n",
       "      <td>838727</td>\n",
       "      <td>361963</td>\n",
       "      <td>view</td>\n",
       "      <td>2015-06-03</td>\n",
       "    </tr>\n",
       "  </tbody>\n",
       "</table>\n",
       "</div>"
      ],
      "text/plain": [
       "       visitorid  itemid event        date\n",
       "27551     353455  114070  view  2015-06-03\n",
       "27552     977950  197816  view  2015-06-03\n",
       "27553     160659  443590  view  2015-06-03\n",
       "27554      77390  258810  view  2015-06-03\n",
       "27555     571645   36906  view  2015-06-03\n",
       "27556     411496  192491  view  2015-06-03\n",
       "27557    1004112  376137  view  2015-06-03\n",
       "27558     382778  372293  view  2015-06-03\n",
       "27559     913611  263437  view  2015-06-03\n",
       "27560     838727  361963  view  2015-06-03"
      ]
     },
     "execution_count": 21,
     "metadata": {},
     "output_type": "execute_result"
    }
   ],
   "source": [
    "# Sorting wrt date(dataset did not had index field as timestamp)\n",
    "events = events.assign(date=pd.Series(datetime.datetime.fromtimestamp(i//1000).date() for i in events.timestamp))\n",
    "events = events.sort_values('date').reset_index(drop=True)\n",
    "events = events[['visitorid', 'itemid', 'event', 'date']]\n",
    "events.tail(10)"
   ]
  },
  {
   "cell_type": "code",
   "execution_count": 22,
   "metadata": {},
   "outputs": [
    {
     "data": {
      "text/html": [
       "<div>\n",
       "<style scoped>\n",
       "    .dataframe tbody tr th:only-of-type {\n",
       "        vertical-align: middle;\n",
       "    }\n",
       "\n",
       "    .dataframe tbody tr th {\n",
       "        vertical-align: top;\n",
       "    }\n",
       "\n",
       "    .dataframe thead th {\n",
       "        text-align: right;\n",
       "    }\n",
       "</style>\n",
       "<table border=\"1\" class=\"dataframe\">\n",
       "  <thead>\n",
       "    <tr style=\"text-align: right;\">\n",
       "      <th></th>\n",
       "      <th>visitorid</th>\n",
       "      <th>itemid</th>\n",
       "      <th>event</th>\n",
       "      <th>date</th>\n",
       "    </tr>\n",
       "  </thead>\n",
       "  <tbody>\n",
       "    <tr>\n",
       "      <th>0</th>\n",
       "      <td>1305393</td>\n",
       "      <td>84160</td>\n",
       "      <td>view</td>\n",
       "      <td>2015-06-01</td>\n",
       "    </tr>\n",
       "    <tr>\n",
       "      <th>1</th>\n",
       "      <td>568149</td>\n",
       "      <td>351450</td>\n",
       "      <td>view</td>\n",
       "      <td>2015-06-01</td>\n",
       "    </tr>\n",
       "    <tr>\n",
       "      <th>2</th>\n",
       "      <td>1166026</td>\n",
       "      <td>367588</td>\n",
       "      <td>view</td>\n",
       "      <td>2015-06-01</td>\n",
       "    </tr>\n",
       "    <tr>\n",
       "      <th>3</th>\n",
       "      <td>1186298</td>\n",
       "      <td>134698</td>\n",
       "      <td>view</td>\n",
       "      <td>2015-06-01</td>\n",
       "    </tr>\n",
       "    <tr>\n",
       "      <th>4</th>\n",
       "      <td>570614</td>\n",
       "      <td>288795</td>\n",
       "      <td>view</td>\n",
       "      <td>2015-06-01</td>\n",
       "    </tr>\n",
       "    <tr>\n",
       "      <th>5</th>\n",
       "      <td>549695</td>\n",
       "      <td>315756</td>\n",
       "      <td>view</td>\n",
       "      <td>2015-06-01</td>\n",
       "    </tr>\n",
       "    <tr>\n",
       "      <th>6</th>\n",
       "      <td>531661</td>\n",
       "      <td>399491</td>\n",
       "      <td>view</td>\n",
       "      <td>2015-06-01</td>\n",
       "    </tr>\n",
       "    <tr>\n",
       "      <th>7</th>\n",
       "      <td>253694</td>\n",
       "      <td>86057</td>\n",
       "      <td>view</td>\n",
       "      <td>2015-06-01</td>\n",
       "    </tr>\n",
       "    <tr>\n",
       "      <th>8</th>\n",
       "      <td>665281</td>\n",
       "      <td>121595</td>\n",
       "      <td>view</td>\n",
       "      <td>2015-06-01</td>\n",
       "    </tr>\n",
       "    <tr>\n",
       "      <th>9</th>\n",
       "      <td>678672</td>\n",
       "      <td>324822</td>\n",
       "      <td>view</td>\n",
       "      <td>2015-06-01</td>\n",
       "    </tr>\n",
       "  </tbody>\n",
       "</table>\n",
       "</div>"
      ],
      "text/plain": [
       "   visitorid  itemid event        date\n",
       "0    1305393   84160  view  2015-06-01\n",
       "1     568149  351450  view  2015-06-01\n",
       "2    1166026  367588  view  2015-06-01\n",
       "3    1186298  134698  view  2015-06-01\n",
       "4     570614  288795  view  2015-06-01\n",
       "5     549695  315756  view  2015-06-01\n",
       "6     531661  399491  view  2015-06-01\n",
       "7     253694   86057  view  2015-06-01\n",
       "8     665281  121595  view  2015-06-01\n",
       "9     678672  324822  view  2015-06-01"
      ]
     },
     "execution_count": 22,
     "metadata": {},
     "output_type": "execute_result"
    }
   ],
   "source": [
    "# Selecting interval\n",
    "start_date = '2015-06-01'\n",
    "end_date = '2015-06-03'\n",
    "fd = lambda x: datetime.datetime.strptime(x, '%Y-%m-%d').date()\n",
    "events = events[(events.date >= fd(start_date)) & (events.date <= fd(end_date))]\n",
    "events.head(10)"
   ]
  },
  {
   "cell_type": "code",
   "execution_count": 23,
   "metadata": {},
   "outputs": [],
   "source": [
    "# Splitting train and test data\n",
    "split_point = np.int(np.round(events.shape[0]*0.8))\n",
    "events_train = events.iloc[0:split_point]\n",
    "events_test = events.iloc[split_point::]\n",
    "events_test = events_test[(events_test['visitorid'].isin(events_train['visitorid'])) & (events_test['itemid'].isin(events_train['itemid']))]\n"
   ]
  },
  {
   "cell_type": "code",
   "execution_count": 45,
   "metadata": {},
   "outputs": [],
   "source": [
    "# Encoding the data and using visitorid and itemid as the only fields\n",
    "id_cols = ['visitorid','itemid']\n",
    "trans_cat_train = {}\n",
    "trans_cat_test = {}\n",
    "\n",
    "for k in id_cols:\n",
    "    cate_enc = preprocessing.LabelEncoder()\n",
    "    trans_cat_train[k] = cate_enc.fit_transform(events_train[k])\n",
    "    trans_cat_test[k] = cate_enc.transform(events_test[k])"
   ]
  },
  {
   "cell_type": "code",
   "execution_count": 58,
   "metadata": {},
   "outputs": [
    {
     "name": "stdout",
     "output_type": "stream",
     "text": [
      "[1305393  568149 1166026 ...   76339  272555  796623]\n",
      "22049\n",
      "[12433  5435 11119 ...   726  2600  7580]\n",
      "22049\n"
     ]
    }
   ],
   "source": [
    "print(events_train['visitorid'].values)\n",
    "print(events_train['visitorid'].size)\n",
    "print(trans_cat_train['visitorid'])\n",
    "print(trans_cat_train['visitorid'].size)"
   ]
  },
  {
   "cell_type": "code",
   "execution_count": 48,
   "metadata": {},
   "outputs": [],
   "source": [
    "# building ratings\n",
    "ratings = dict()\n",
    "\n",
    "cate_enc = preprocessing.LabelEncoder()\n",
    "ratings['train'] = cate_enc.fit_transform(events_train.event)\n",
    "ratings['test'] = cate_enc.transform(events_test.event)\n"
   ]
  },
  {
   "cell_type": "code",
   "execution_count": 49,
   "metadata": {},
   "outputs": [
    {
     "name": "stdout",
     "output_type": "stream",
     "text": [
      "['view' 'view' 'view' ... 'view' 'view' 'view']\n",
      "{'train': array([2, 2, 2, ..., 2, 2, 2]), 'test': array([2, 2, 2, ..., 2, 2, 2])}\n"
     ]
    }
   ],
   "source": [
    "print(events_train.event.values)\n",
    "print(ratings)"
   ]
  },
  {
   "cell_type": "code",
   "execution_count": 50,
   "metadata": {},
   "outputs": [
    {
     "name": "stdout",
     "output_type": "stream",
     "text": [
      "13426 13357\n"
     ]
    }
   ],
   "source": [
    "# Storing dimensions\n",
    "n_users = len(np.unique(trans_cat_train['visitorid']))\n",
    "n_items = len(np.unique(trans_cat_train['itemid']))\n",
    "print(n_users,n_items)"
   ]
  },
  {
   "cell_type": "code",
   "execution_count": null,
   "metadata": {},
   "outputs": [],
   "source": []
  },
  {
   "cell_type": "code",
   "execution_count": 60,
   "metadata": {},
   "outputs": [],
   "source": [
    "# building rate matrix of the data\n",
    "rate_matrix = {}\n",
    "rate_matrix['train'] = coo_matrix((ratings['train'],(trans_cat_train['visitorid'], trans_cat_train['itemid'])), shape=(n_users, n_items))\n",
    "rate_matrix['test'] = coo_matrix((ratings['test'], (trans_cat_test['visitorid'], trans_cat_test['itemid'])), shape=(n_users, n_items))"
   ]
  },
  {
   "cell_type": "code",
   "execution_count": null,
   "metadata": {},
   "outputs": [],
   "source": []
  },
  {
   "cell_type": "code",
   "execution_count": 52,
   "metadata": {},
   "outputs": [
    {
     "data": {
      "text/plain": [
       "<lightfm.lightfm.LightFM at 0x8849d0>"
      ]
     },
     "execution_count": 52,
     "metadata": {},
     "output_type": "execute_result"
    }
   ],
   "source": [
    "# training the model\n",
    "model = LightFM(no_components=10, loss='warp')\n",
    "model.fit(rate_matrix['train'], epochs=100, num_threads=1)"
   ]
  },
  {
   "cell_type": "code",
   "execution_count": 53,
   "metadata": {},
   "outputs": [
    {
     "name": "stdout",
     "output_type": "stream",
     "text": [
      "Train Score: 0.9976551\n",
      "Test Score: 0.8850976\n"
     ]
    }
   ],
   "source": [
    "# testing the model\n",
    "auc_train = auc_score(model, rate_matrix['train']).mean()\n",
    "auc_test = auc_score(model, rate_matrix['test']).mean()\n",
    "print(\"Train Score:\",auc_train)\n",
    "print(\"Test Score:\", auc_test)\n",
    "# pickled = {\n",
    "#     'model' : model,\n",
    "#     'n_items': n_items\n",
    "# }\n",
    "# pickle.dump(pickled,open('model'+\".p\",\"wb\"))"
   ]
  },
  {
   "cell_type": "code",
   "execution_count": 40,
   "metadata": {},
   "outputs": [
    {
     "data": {
      "text/plain": [
       "(22049, 4)"
      ]
     },
     "execution_count": 40,
     "metadata": {},
     "output_type": "execute_result"
    }
   ],
   "source": [
    "events_train.shape"
   ]
  },
  {
   "cell_type": "code",
   "execution_count": 41,
   "metadata": {
    "scrolled": true
   },
   "outputs": [
    {
     "name": "stdout",
     "output_type": "stream",
     "text": [
      "0       -2.179387\n",
      "1       -0.107676\n",
      "2       -1.599488\n",
      "3       -0.502344\n",
      "4       -0.730306\n",
      "           ...   \n",
      "13352   -2.475867\n",
      "13353   -1.805128\n",
      "13354   -1.321846\n",
      "13355   -2.701240\n",
      "13356   -2.514669\n",
      "Length: 13357, dtype: float64\n"
     ]
    }
   ],
   "source": [
    "ans = pd.Series(model.predict(3917,np.arange(n_items)))\n",
    "print(ans)"
   ]
  },
  {
   "cell_type": "code",
   "execution_count": 42,
   "metadata": {},
   "outputs": [
    {
     "data": {
      "text/plain": [
       "(13357,)"
      ]
     },
     "execution_count": 42,
     "metadata": {},
     "output_type": "execute_result"
    }
   ],
   "source": [
    "ans.shape"
   ]
  },
  {
   "cell_type": "code",
   "execution_count": 43,
   "metadata": {
    "scrolled": true
   },
   "outputs": [
    {
     "data": {
      "text/plain": [
       "array([    0,     1,     2, ..., 13354, 13355, 13356], dtype=int32)"
      ]
     },
     "execution_count": 43,
     "metadata": {},
     "output_type": "execute_result"
    }
   ],
   "source": [
    "np.unique(trans_cat_train['itemid'])"
   ]
  },
  {
   "cell_type": "code",
   "execution_count": 44,
   "metadata": {},
   "outputs": [
    {
     "name": "stdout",
     "output_type": "stream",
     "text": [
      "[10887, 9350, 10472, 7924, 13309, 9589, 7398, 6133, 5292, 13193, 3791, 12887, 8566, 5397, 5890, 12575, 2155, 11748, 11097, 12516, 187, 6606, 10160, 10045, 12647, 11833, 4711, 9447, 11359, 488, 9740, 3069, 8840, 959, 10314, 10685, 6247, 8872, 123, 12724, 556, 4486, 10598, 9432, 4043, 11015, 8093, 9007, 12261, 9976, 3988, 9561, 849, 2176, 905, 5703, 2250, 3115, 574, 7467, 685, 9010, 1431, 277, 9088, 1182, 8041, 586, 2157, 3628, 11781, 8995, 5030, 11589, 11923, 3161, 10548, 7807, 9428, 1180, 4758, 11488, 3632, 4018, 11190, 8062, 2478, 460, 2501, 4349, 9442, 2748, 1172, 9032, 8776, 11971, 5110, 12890, 9565, 8, 9644, 11513, 1473, 9942, 5319, 10725, 5518, 2015, 8710, 6076, 9468, 13034, 11772, 2075, 2167, 6885, 10438, 12636, 11509, 11068, 1107, 2498, 5633, 5496, 10263, 3503, 10642, 2378, 11235, 131, 4615, 12699, 9864, 717, 10016, 747, 3448, 10567, 10408, 1800, 936, 10768, 2497, 9425, 3852, 8157, 13166, 10987, 10802, 8196, 4020, 230, 11301, 2543, 9480, 6094, 5568, 2763, 3804, 9034, 10822, 346, 7161, 11144, 9629, 530, 8077, 8416, 8164, 1774, 714, 516, 7540, 4523, 13059, 3799, 10047, 6284, 10486, 70, 10324, 13212, 6304, 2383, 303, 6104, 6581, 29, 7596, 6289, 6654, 4988, 9385, 7771, 7896, 4674, 12803, 9533, 8343, 6576, 10169, 8217, 11839, 4195, 5866, 13205, 4342, 1947, 4599, 4699, 1111, 8236, 5771, 5441, 1429, 7769, 5506, 9240, 3377, 1397, 3156, 2426, 9710, 10789, 817, 11933, 11583, 5394, 11432, 5617, 197, 7589, 2588, 13259, 9886, 524, 6202, 12977, 8923, 1656, 12465, 8992, 1146, 4930, 11040, 11957, 12817, 2619, 6694, 13133, 3875, 5230, 6835, 9114, 240, 3036, 399, 4256, 4728, 12796, 8821, 9918, 10470, 3068, 543, 9100, 3263, 4520, 6331, 9787, 12865, 2360, 8739, 11350, 10996, 2091, 12255, 3858, 4500, 1880, 124, 8520, 7433, 5326, 4076, 11593, 5676, 7320, 10597, 6337, 2949, 3597, 3298, 5414, 6871, 12241, 9013, 8172, 12229, 1155, 4447, 10774, 3592, 1719, 3961, 1286, 8252, 5638, 2001, 7369, 8939, 3644, 4656, 10796, 6911, 7892, 6851, 828, 2739, 5430, 10480, 9422, 1258, 7383, 8809, 2637, 137, 7607, 763, 2419, 10778, 4503, 10235, 9082, 7730, 1960, 50, 11047, 11974, 3802, 5366, 5452, 10665, 7288, 5078, 1791, 10614, 7133, 11117, 6125, 6976, 11571, 4174, 9936, 6354, 2677, 7029, 10093, 12321, 8105, 11064, 8880, 8563, 6899, 5448, 3394, 7388, 5869, 1549, 8113, 11794, 9897, 7653, 7267, 12512, 2964, 5699, 4646, 8301, 10120, 5793, 8783, 9119, 11153, 12614, 10998, 11287, 3361, 10085, 2903, 337, 5269, 5486, 86, 11911, 10569, 6490, 6727, 600, 13153, 7068, 7349, 3360, 13336, 8022, 10287, 11240, 7023, 5517, 6657, 10222, 1366, 273, 3356, 11131, 11377, 11936, 8380, 3392, 4612, 8163, 8363, 7593, 874, 9643, 11223, 12645, 1455, 11184, 10270, 9234, 5342, 2055, 11055, 11549, 2428, 3571, 5581, 9398, 6412, 11288, 8394, 125, 3573, 11447, 6524, 13040, 2204, 4440, 7815, 9716, 7001, 8438, 8141, 3871, 966, 12484, 3678, 1094, 4992, 10134, 7015, 6389, 5436, 7347, 12564, 13182, 74, 1279, 2009, 12129, 7100, 9056, 8124, 4704, 2342, 13190, 6601, 1376, 5126, 7885, 11608, 4717, 12717, 7878, 3996, 3131, 67, 852, 295, 12889, 6141, 4075, 3711, 11996, 10971, 6516, 3075, 318, 4016, 6719, 4357, 2506, 5175, 12547, 3977, 7484, 436, 12601, 5255, 10259, 5844, 3217, 5588, 1132, 7364, 921, 1183, 3446, 6553, 11067, 12968, 9207, 5550, 6343, 548, 4641, 1379, 11082, 3384, 2834, 5199, 10083, 10654, 1161, 13134, 7482, 6200, 8658, 8031, 11017, 2483, 10250, 12427, 10516, 3626, 3655, 12421, 7165, 10787, 8853, 7566, 12844, 2473, 2755, 7038, 13220, 11265, 13155, 4312, 3563, 71, 10915, 8185, 1117, 4244, 9949, 7532, 8629, 7759, 13091, 8909, 282, 9149, 9191, 4776, 9911, 5905, 11313, 1734, 11045, 8894, 581, 3598, 11688, 13271, 10522, 8561, 10296, 1129, 11600, 11972, 3021, 819, 5237, 5013, 4537, 5730, 5033, 11623, 5502, 2138, 12676, 3635, 12096, 6699, 1496, 5208, 6722, 7933, 7899, 7584, 2937, 11013, 2093, 8261, 7800, 10798, 4769, 2556, 4916, 9364, 2531, 11250, 4046, 1193, 3523, 4976, 5849, 6519, 2789, 10358, 8021, 81, 11489, 256, 5381, 12487, 25, 2095, 9550, 1293, 39, 13145, 9450, 3894, 12098, 1745, 5494, 6056, 2377, 12012, 1309, 9306, 1282, 3882, 3495, 6965, 9518, 3014, 3209, 2936, 4855, 3219, 3693, 5563, 9043, 2559, 11683, 10370, 2298, 12597, 8907, 8934, 2083, 5169, 5661, 12304, 10983, 5688, 1843, 9343, 1339, 10680, 12086, 4999, 7144, 4011, 7262, 5753, 12544, 1351, 2441, 2665, 11108, 2615, 5949, 13131, 4630, 12896, 916, 11613, 121, 5912, 8415, 10187, 6545, 371, 4483, 11810, 3638, 9324, 8459, 6542, 1482, 9445, 6700, 651, 2052, 726, 4895, 8689, 3279, 1481, 5473, 5872, 8499, 12644, 4670, 4263, 1893, 6838, 7255, 10797, 4979, 4737, 11991, 7644, 7637, 3270, 8836, 317, 9893, 10543, 4212, 1402, 12679, 6729, 4183, 8820, 1036, 5546, 5775, 5329, 4147, 12357, 11418, 8847, 9898, 324, 11829, 1292, 5624, 10818, 8699, 6800, 7245, 4879, 2228, 10184, 8117, 6806, 7128, 3047, 12539, 12144, 9584, 1, 10816, 3308, 3425, 8824, 60, 601, 4793, 968, 10856, 3688, 1290, 11519, 4049, 9417, 7889, 12336, 10442, 11120, 9208, 765, 6869, 6589, 5399, 6444, 7475, 12690, 11365, 8395, 6388, 3720, 11133, 4454, 1925, 3346, 9735, 10726, 1038, 2408, 3482, 4433, 13311, 8489, 1664, 1355, 2818, 11414, 625, 4453, 12187, 2643, 6464, 9605, 1288, 6939, 5796, 3268, 10862, 1737, 5579, 419, 10153, 11330, 13229, 3168, 11959, 2454, 9130, 12500, 5649, 9239, 4307, 12761, 1096, 5083, 11654, 663, 12173, 3917, 8145, 4565, 13174, 3631, 11207, 10912, 5927, 3466, 11161, 8057, 176, 6674, 6404, 4786, 22, 12949, 11498, 10485, 3134, 1729, 4830, 10893, 4096, 2762, 13094, 12099, 6442, 7258, 5468, 12068, 1984, 8855, 6655, 5943, 5297, 10838, 4234, 11159, 1012, 10325, 8042, 5940, 12384, 6798, 10769, 5432, 11987, 9751, 3088, 2332, 8454, 10018, 8398, 8112, 12994, 11298, 4561, 5178, 12103, 3213, 8985, 12708, 6864, 6921, 5065, 12114, 7199, 2353, 2168, 4134, 2128, 812, 4597, 13210, 1071, 9545, 2016, 12557, 9030, 8118, 5791, 12787, 8744, 9771, 9663, 3462, 11776, 10444, 8536, 312, 4382, 5089, 11647, 12248, 7373, 285, 10985, 12370, 6063, 7724, 3444, 6350, 6948, 4694, 11935, 3135, 4710, 9790, 10588, 4363, 10455, 5488, 9493, 9151, 8749, 1490, 3353, 78, 12185, 1797, 6971, 7779, 1657, 1068, 12279, 8040, 4040, 1035, 2638, 11627, 10877, 10266, 10921, 10863, 4578, 987, 9883, 227, 9685, 7468, 5004, 5324, 9377, 1419, 2271, 9280, 787, 7635, 3381, 3246, 2260, 5179, 4824, 4383, 8725, 2140, 2494, 5236, 2673, 4915, 2688, 9160, 749, 7527, 9934, 1866, 1120, 4983, 2394, 13316, 11909, 7310, 3486, 2345, 9500, 12738, 7964, 6205, 8806, 2237, 5080, 675, 1511, 724, 10372, 5656, 1678, 2227, 4368, 8913, 6766, 7049, 1445, 6746, 4242, 5785, 8740, 10843, 2839, 2073, 6799, 4651, 9085, 12359, 3171, 4235, 2534, 4761, 9753, 5515, 1231, 10809, 2086, 9684, 8076, 9848, 10986, 12101, 3103, 6908, 2331, 665, 1772, 2518, 5163, 10091, 3531, 1086, 3066, 6435, 6912, 13346, 5954, 7503, 132, 206, 12481, 13199, 12813, 11535, 5603, 9093, 6648, 9222, 13253, 5976, 8134, 12855, 1926, 453, 6018, 1104, 9216, 7173, 1314, 3417, 4354, 7997, 6213, 1808, 3589, 5886, 4860, 10168, 730, 4029, 2049, 11455, 1706, 2039, 5839, 4306, 4190, 6931, 1881, 7367, 4115, 13222, 7321, 1591, 13140, 3456, 8385, 3142, 7620, 2752, 11497, 3876, 10331, 3741, 4803, 2021, 9084, 8390, 3437, 7615, 2686, 11048, 6364, 12745, 12416, 10762, 11211, 4249, 283, 2347, 5209, 10078, 7141, 4888, 9346, 6129, 10620, 8334, 9456, 209, 5091, 9718, 2670, 10360, 823, 11516, 9203, 3157, 7611, 8850, 12504, 10316, 1638, 3601, 1502, 5029, 13008, 7264, 4130, 6642, 3954, 5529, 3060, 4974, 5404, 7105, 13293, 6607, 9556, 4904, 6986, 2746, 6787, 8007, 1505, 9340, 2272, 9908, 13192, 1861, 3426, 8102, 12080, 1060, 12945, 8814, 947, 3292, 13322, 13315, 12811, 4756, 396, 8144, 1404, 6664, 9720, 1224, 4206, 1979, 735, 7289, 9642, 7868, 6826, 8676, 12863, 10433, 2391, 6653, 9703, 8774, 6544, 5698, 12109, 4067, 5750, 6953, 299, 8331, 13312, 6738, 3004, 6780, 13263, 4386, 5781, 9555, 1998, 10927, 4333, 4660, 2175, 2283, 4053, 9681, 4592, 2422, 6564, 10924, 12834, 10518, 9574, 1073, 4329, 6750, 5246, 3669, 4847, 293, 12006, 5641, 1685, 4468, 4309, 8547, 11276, 4233, 6128, 7920, 4828, 2060, 5884, 4693, 8991, 12274, 12721, 207, 10106, 2423, 3206, 11768, 2606, 5953, 6500, 2363, 11738, 801, 8669, 3515, 11243, 12983, 12284, 8896, 793, 5542, 10201, 13279, 1125, 6709, 8315, 4304, 3288, 2580, 3240, 1083, 9419, 8564, 4552, 12001, 12183, 8045, 8313, 878, 4800, 4207, 10073, 13213, 10493, 8678, 4139, 11098, 2828, 7170, 3438, 7055, 332, 4902, 8526, 3359, 2037, 6349, 3331, 7071, 12682, 13028, 11649, 9021, 11034, 12198, 11532, 836, 8406, 8204, 1811, 11906, 10847, 1399, 1639, 6057, 354, 9004, 2505, 597, 5357, 3801, 4997, 10135, 3051, 3863, 389, 12182, 821, 6031, 9737, 3037, 7982, 13160, 11660, 1322, 3970, 5991, 5800, 1242, 6548, 10368, 6966, 1862, 2125, 2396, 11085, 2659, 11529, 11548, 13154, 10424, 11434, 6424, 943, 5739, 6314, 5526, 10545, 5382, 4636, 9374, 11943, 3204, 7399, 998, 10898, 7891, 6956, 11687, 8937, 700, 8826, 2281, 1414, 12914, 5695, 2511, 6451, 4744, 5732, 6675, 10064, 246, 6086, 4262, 11979, 9881, 5564, 1320, 10098, 12046, 9369, 5509, 1056, 9347, 697, 9237, 1299, 12047, 10635, 2114, 521, 5094, 11234, 11520, 822, 3888, 3, 10294, 4705, 7299, 5855, 1449, 4135, 8901, 2100, 9576, 5823, 579, 7414, 9612, 24, 9658, 2475, 8232, 3899, 8752, 5487, 7846, 6013, 4438, 8641, 11590, 1938, 11102, 12367, 12093, 2563, 10180, 2813, 8321, 12752, 6670, 8110, 7306, 7382, 8966, 1747, 10801, 4000, 683, 10137, 8703, 7380, 12822, 611, 7670, 244, 1767, 12213, 5832, 12786, 1358, 6387, 13350, 5162, 6697, 10553, 12204, 3338, 236, 10734, 3129, 9115, 8859, 9599, 8138, 6353, 1700, 1957, 7135, 12716, 9201, 4158, 12382, 6359, 10306, 8961, 1865, 11, 6546, 13224, 4703, 1980, 11383, 11524, 11473, 12149, 5156, 8946, 9289, 7776, 4494, 7163, 1257, 550, 4573, 4316, 12630, 12542, 3534, 3936, 5639, 8625, 3416, 11062, 12439, 2655, 263, 2565, 11251, 2323, 6098, 10710, 12296, 1037, 1359, 9570, 6245, 7774, 880, 2987, 5942, 11424, 10330, 9195, 12130, 7177, 3413, 3243, 1584, 9448, 3846, 13081, 8269, 8306, 11902, 7871, 10219, 3516, 9451, 6521, 9458, 3728, 9909, 1672, 13064, 877, 10357, 11360, 6145, 8304, 10351, 8591, 8768, 1281, 5831, 6426, 10052, 10063, 1912, 6038, 10164, 5239, 7528, 13186, 3428, 1581, 1726, 7565, 12434, 1780, 10094, 11697, 4863, 4819, 11815, 5465, 11275, 2226, 9087, 10880, 6924, 7175, 7917, 7459, 1798, 2151, 3945, 4227, 361, 6340, 7998, 12563, 2589, 5536, 11229, 7117, 3405, 2035, 6295, 4645, 6881, 10583, 4006, 3636, 3828, 6107, 578, 9300, 5893, 4531, 1779, 6982, 5447, 47, 5445, 4774, 2773, 10772, 10328, 3607, 7344, 2187, 12650, 3737, 3390, 4441, 9917, 12433, 10223, 2074, 3816, 6882, 126, 8617, 7457, 5745, 1681, 9541, 1227, 8672, 1822, 401, 1055, 13127, 11962, 3995, 9423, 133, 10393, 11838, 5058, 13332, 7476, 11463, 7669, 438, 3692, 11178, 903, 2911, 6267, 7274, 3300, 5562, 3186, 906, 3760, 8630, 9107, 4098, 2612, 4826, 10732, 520, 13206, 10414, 8464, 8562, 2469, 4445, 10261, 4772, 9146, 10090, 2385, 8238, 5992, 2440, 4499, 4327, 12480, 13106, 6900, 10208, 6848, 5694, 9190, 6143, 10495, 10096, 12906, 11790, 12074, 6604, 4962, 10010, 10600, 1065, 8556, 3654, 12352, 12718, 2194, 9815, 1234, 8457, 12598, 4286, 4428, 1717, 12179, 4770, 1654, 2770, 2790, 2261, 8265, 12324, 4995, 8008, 3101, 5946, 6240, 1423, 3509, 716, 5535, 13339, 2315, 3749, 11072, 139, 7750, 12290, 11587, 5194, 12375, 5521, 1713, 7743, 1877, 1017, 13149, 6888, 11231, 6083, 11317, 12503, 6638, 1352, 2886, 10656, 12226, 3192, 412, 12520, 12936, 10247, 7487, 6169, 1599, 8582, 4437, 10238, 258, 1005, 8861, 11326, 10579, 9238, 12755, 12111, 1395, 8704, 3398, 12138, 11035, 32, 2290, 3232, 9255, 560, 1730, 154, 2649, 1474, 5574, 10293, 6346, 831, 10900, 794, 1121, 3058, 9766, 12561, 3973, 4007, 3789, 11493, 11448, 3385, 5062, 13026, 5985, 11221, 11758, 8016, 10127, 8993, 10832, 11920, 10668, 8664, 470, 8587, 7990, 4193, 11132, 7513, 6042, 7376, 9921, 13110, 5427, 6561, 2219, 12981, 3710, 1828, 8657, 1620, 3478, 8210, 6950, 8412, 771, 66, 8712, 11899, 5757, 1891, 3691, 1504, 6508, 718, 6687, 5601, 13306, 756, 243, 7910, 12366, 9342, 7251, 8879, 6861, 2524, 12287, 6658, 3291, 3226, 381, 10342, 4409, 9297, 6397, 10284, 5460, 6590, 5738, 7826, 12147, 6439, 1512, 6610, 1911, 9870, 2265, 9275, 11999, 4388, 8642, 3843, 1715, 5898, 10251, 6377, 3884, 7648, 6781, 8127, 7424, 4297, 8393, 4411, 11588, 11673, 12526, 3015, 8795, 13215, 10268, 861, 4050, 11269, 13093, 12230, 9487, 9543, 11778, 11449, 12795, 8848, 9272, 11268, 3485, 7158, 9495, 1205, 9512, 1851, 12493, 3729, 2179, 3327, 8751, 2664, 11894, 310, 1382, 11277, 12657, 7178, 11732, 4967, 8058, 7783, 10418, 3579, 2930, 3086, 6617, 12713, 5021, 7308, 6609, 11258, 1879, 4, 6032, 8505, 660, 6227, 7616, 13078, 6097, 3492, 4907, 3627, 9252, 13019, 1209, 9677, 4653, 6390, 8259, 3459, 13233, 9131, 10538, 3620, 10658, 12189, 8032, 13257, 13129, 20, 8237, 1508, 6745, 2374, 8533, 9972, 6767, 12659, 1297, 6184, 7834, 2054, 811, 5048, 5037, 8555, 2056, 3231, 5076, 6907, 5792, 1531, 6794, 11659, 12360, 8683, 896, 13194, 4432, 3903, 4897, 2244, 900, 13248, 4837, 12161, 9441, 3794, 11116, 2335, 7027, 9050, 233, 2896, 10490, 4788, 6598, 12758, 6887, 3055, 7028, 1199, 12695, 11618, 587, 1628, 2653, 5431, 8735, 3490, 7531, 8361, 485, 215, 3257, 12781, 9389, 8379, 668, 9690, 7915, 10329, 6744, 2405, 8300, 3424, 2171, 10599, 11324, 9337, 9579, 5206, 10641, 5204, 11185, 7706, 6558, 10107, 3046, 961, 7547, 6027, 2916, 5620, 1260, 1852, 10373, 2943, 7411, 9376, 1590, 7545, 7436, 11986, 8023, 18, 7331, 8786, 11556, 11065, 4107, 9394, 2136, 5305, 11694, 11663, 12227, 249, 5437, 10714, 13221, 7051, 12277, 7323, 10136, 3724, 5182, 9357, 6430, 2212, 8341, 9906, 9040, 4380, 6557, 9311, 4041, 456, 4164, 8685, 7243, 408, 9872, 12316, 10940, 4250, 5268, 8666, 6175, 2634, 7907, 1018, 7602, 7455, 677, 9198, 3347, 10977, 10242, 8605, 2023, 4101, 2888, 10819, 12436, 1337, 9314, 4822, 6044, 11584, 13176, 11009, 6357, 3864, 7973, 1464, 13226, 9138, 6741, 3606, 7591, 1468, 13101, 3028, 8239, 13, 1207, 12827, 13281, 582, 5082, 3386, 10274, 580, 8805, 224, 2304, 8905, 4122, 11779, 8621, 13103, 2538, 10411, 489, 5537, 6560, 8365, 7194, 7793, 2076, 4315, 4610, 10215, 11901, 13032, 9403, 3006, 2779, 7842, 12376, 12271, 11356, 5107, 8223, 7004, 8159, 1212, 12839, 11560, 13317, 8864, 4813, 13209, 5902, 4004, 6955, 9660, 4361, 4458, 3959, 997, 3496, 12870, 3991, 12622, 1249, 11793, 2371, 212, 8600, 549, 2190, 8346, 2000, 5095, 9650, 3868, 7809, 11494, 5922, 7355, 2823, 8969, 4187, 3099, 10873, 4709, 8066, 2833, 7195, 12206, 11903, 11567, 12525, 10012, 3013, 1699, 6845, 11605, 9105, 6022, 8336, 935, 9063, 8643, 13060, 5801, 10643, 9185, 9697, 9788, 1370, 8701, 6311, 6702, 6095, 11980, 8044, 855, 1847, 10664, 12556, 949, 1551, 5049, 10102, 11543, 939, 3082, 2918, 3810, 500, 3404, 2087, 12232, 12768, 7722, 9913, 10563, 8174, 3479, 3439, 5744, 4197, 10244, 703, 9877, 8401, 3859, 1456, 12823, 7064, 7497, 3886, 7936, 9497, 8460, 2126, 11376, 7978, 8295, 1262, 2584, 11820, 7081, 235, 9954, 9706, 11329, 3830, 7401, 7192, 11139, 13013, 5051, 362, 6394, 9514, 10624, 2006, 4859, 13188, 2488, 5086, 12340, 6874, 9018, 6079, 8326, 1204, 8218, 10318, 3429, 2415, 1341, 1632, 12428, 8637, 8342, 4215, 2942, 952, 3393, 4799, 1556, 8467, 9175, 2393, 10181, 10503, 13214, 12807, 7303, 7890, 9743, 11453, 3273, 3508, 2033, 12257, 826, 1134, 10278, 657, 9990, 5860, 4802, 3735, 3854, 8240, 6228, 5443, 1016, 12056, 3938, 10572, 9037, 1870, 1346, 9804, 326, 5074, 10283, 10621, 6489, 11730, 3348, 10188, 8249, 13037, 11508, 10002, 2939, 7816, 536, 8198, 3545, 7861, 8673, 8114, 4038, 8535, 6679, 2994, 11958, 6405, 12054, 8771, 7539, 12617, 13296, 5259, 8844, 1447, 3034, 13261, 10603, 8064, 12333, 8429, 11876, 3027, 13144, 10721, 9168, 709, 7499, 5671, 12295, 379, 4947, 5628, 650, 13163, 10397, 4444, 7305, 10919, 11335, 4099, 5561, 2215, 11257, 2131, 2871, 8162, 1958, 3647, 9341, 2699, 8266, 10559, 6563, 1896, 12656, 12062, 1940, 1334, 9457, 4348, 9947, 13181, 9994, 6659, 9775, 3861, 592, 7224, 7182, 5838, 6434, 10812, 2293, 8447, 11570, 9878, 3536, 10967, 1517, 7421, 5007, 932, 5079, 13335, 7318, 1561, 7265, 4153, 10447, 5077, 10176, 3383, 1027, 11615, 11724, 13067, 7638, 7393, 9132, 4668, 12217, 2184, 9057, 3396, 10629, 10046, 1076, 2436, 8596, 11528, 2998, 8686, 10075, 11558, 3239, 10842, 7438, 9600, 6296, 4991, 12845, 10303, 12616, 1746, 5646, 6118, 12934, 6550, 11765, 7235, 2239, 9602, 6803, 11946, 7061, 6992, 3076, 99, 6569, 355, 5403, 9305, 10929, 2837, 4959, 8297, 9490, 944, 6132, 7599, 705, 12164, 10666, 10534, 5693, 8182, 2952, 8933, 1610, 5814, 11408, 12021, 3971, 2350, 10735, 5492, 798, 9860, 2375, 12097, 12127, 482, 10113, 5881, 12223, 2910, 5354, 11624, 10302, 4371, 12689, 6039, 10925, 7863, 1469, 796, 10824, 3318, 182, 9979, 6, 1495, 7201, 10457, 2517, 10504, 6972, 5937, 7856, 1714, 1757, 10395, 5772, 111, 5875, 12974, 12299, 3502, 9784, 8761, 494, 1275, 6058, 4642, 7663, 10825, 8083, 2003, 5070, 5717, 2177, 1219, 9544, 8601, 7903, 12621, 6624, 3687, 4734, 5205, 2251, 9839, 6963, 1327, 12176, 13320, 11867, 957, 6054, 2404, 5558, 8551, 12602, 2741, 3255, 268, 642, 11545, 2940, 12806, 4248, 12877, 4673, 12533, 4194, 734, 5136, 2338, 5134, 12076, 3269, 2689, 10570, 7905, 11633, 12042, 9075, 641, 333, 10744, 9511, 10007, 9041, 5918, 9024, 511, 7617, 8444, 8161, 9258, 1004, 711, 10237, 615, 4952, 12194, 10829, 7897, 9308, 9396, 11934, 595, 9363, 2149, 9473, 6877, 6626, 3920, 8272, 8720, 8732, 3230, 4133, 12908, 8631, 4515, 6517, 9887, 8791, 3642, 8722, 10460, 12309, 6690, 6310, 12132, 8780, 12415, 2119, 2141, 12064, 7444, 1875, 8005, 6234, 11809, 4652, 10963, 8061, 4878, 9387, 3732, 2165, 1236, 495, 11635, 428, 7146, 8255, 7334, 9086, 10191, 12764, 10781, 3190, 11357, 4603, 5780, 210, 3041, 3887, 12091, 10844, 10804, 3966, 4198, 5274, 5534, 9830, 13086, 9121, 869, 4836, 8537, 8796, 9461, 13211, 12937, 5225, 10056, 9212, 4014, 10049, 8524, 4684, 7823, 12350, 13283, 3351, 671, 11702, 6918, 10499, 10976, 3989, 444, 6233, 245, 12273, 9623, 2508, 382, 688, 10672, 12262, 4829, 11562, 6043, 7454, 8013, 11989, 8443, 10933, 2646, 4474, 12929, 3980, 9202, 84, 8694, 6238, 5596, 8881, 7705, 5064, 2397, 9365, 11215, 3889, 5415, 13004, 4771, 1268, 1576, 8267, 7534, 7360, 2652, 12785, 7656, 9096, 10435, 4687, 850, 216, 2812, 1997, 6251, 9564, 4019, 4911, 11948, 2028, 3095, 1114, 2792, 7838, 6052, 8598, 2915, 7188, 3985, 3467, 4022, 6751, 7685, 6317, 890, 1360, 10246, 9674, 10156, 12555, 9381, 135, 1436, 1344, 11559, 9943, 4986, 264, 10932, 8942, 7186, 4462, 10740, 655, 7786, 5926, 12631, 8125, 7515, 12326, 10440, 9210, 5176, 8503, 4156, 1196, 7629, 8936, 2912, 7959, 9393, 3473, 11676, 3699, 12749, 11452, 3664, 9760, 5103, 807, 3003, 3818, 2029, 8608, 8715, 3234, 623, 8109, 1023, 7417, 10954, 177, 11267, 7695, 1618, 4221, 1011, 12264, 2951, 2355, 5904, 4203, 12225, 1848, 4989, 9167, 2367, 4021, 10651, 298, 669, 5485, 3719, 12016, 1885, 5407, 13237, 9566, 10723, 12055, 10477, 11305, 8521, 6570, 3833, 1758, 7205, 13168, 5859, 5970, 5640, 9052, 4884, 3310, 9241, 4677, 3975, 8288, 11283, 13208, 2170, 605, 4602, 13255, 2583, 5900, 5626, 10884, 10890, 4807, 7214, 1277, 9741, 2616, 5429, 5398, 10939, 12571, 8727, 7857, 4419, 5475, 7050, 12705, 11142, 457, 420, 6279, 7612, 505, 1689, 3352, 6358, 8254, 4489, 4114, 1824, 4220, 9373, 2685, 1211, 12399, 12809, 2166, 11175, 10728, 11808, 6048, 4318, 701, 12862, 9701, 7586, 6488, 9162, 5493, 8322, 5696, 1411, 11041, 4725, 11913, 8121, 12634, 4222, 12506, 12482, 7788, 7938, 12242, 11942, 10881, 4777, 1181, 5351, 1441, 11919, 2344, 12438, 596, 827, 11419, 9557, 141, 6809, 12722, 9256, 3743, 3918, 11370, 1112, 1692, 2276, 11811, 9587, 2735, 2787, 2571, 7075, 11222, 108, 6035, 5921, 10746, 4536, 5557, 5514, 3020, 3211, 7213, 2047, 6683, 487, 1110, 10897, 3435, 6301, 9434, 8282, 4080, 6629, 8647, 11666, 12609, 10392, 4118, 5895, 6061, 8680, 12826, 4341, 699, 6103, 1130, 3608, 5374, 9964, 5036, 4833, 8928, 10067, 7286, 1042, 12909, 2010, 11927, 10167, 1842, 9803, 5684, 1541, 5966, 2336, 12052, 12065, 1962, 4421, 10161, 8085, 4556, 11684, 2948, 11628, 11842, 3645, 6821, 4700, 2487, 1840, 450, 10876, 4475, 3251, 12478, 5787, 11726, 5214, 6926, 9919, 8638, 898, 57, 9296, 12095, 10013, 10616, 2796, 9066, 5124, 12543, 5914, 3850, 10677, 7944, 1859, 2143, 5982, 6774, 13267, 2550, 9664, 12687, 13021, 10989, 10731, 9945, 10810, 10389, 4394, 3407, 7992, 12332, 6195, 4344, 6597, 6760, 883, 10387, 5683, 3182, 2139, 12015, 5257, 3481, 4434, 11511, 11227, 12469, 7395, 12501, 10909, 2410, 8104, 7766, 1144, 8688, 7847, 2156, 1815, 2743, 10257, 13254, 5713, 275, 146, 12435, 10110, 2927, 12019, 7916, 8935, 11915, 6453, 12033, 4691, 11648, 13273, 1675, 603, 5118, 12266, 6485, 12519, 9580, 12683, 10751, 11850, 6156, 9734, 10845, 397, 3822, 3079, 11868, 10682, 387, 9789, 8192, 9586, 5125, 161, 9129, 6218, 2809, 7154, 2801, 8169, 919, 8456, 9683, 3333, 163, 7185, 10582, 13020, 10345, 8999, 10182, 11882, 3366, 10050, 518, 9, 6114, 3282, 9338, 3969, 6732, 915, 3769, 7387, 6940, 8386, 5117, 940, 2389, 11391, 3896, 12492, 2107, 5957, 6985, 4732, 9560, 6360, 344, 11769, 8245, 5166, 8294, 702, 1626, 10471, 7817, 5854, 3674, 12334, 178, 11521, 6198, 9715, 12142, 9008, 9950, 1416, 3141, 1417, 1420, 2880, 4723, 1890, 2034, 12661, 6846, 12252, 8851, 7019, 2547, 10241, 11462, 5376, 8843, 1961, 5952, 12387, 11709, 3053, 6448, 632, 7363, 13027, 9257, 12244, 7041, 6996, 1308, 12009, 10695, 8911, 7230, 12518, 8534, 11952, 8262, 33, 2810, 9896, 9390, 2280, 4202, 4057, 8177, 3165, 6201, 4477, 1825, 4667, 1658, 4210, 2520, 2607, 1841, 9537, 6193, 2795, 12197, 11994, 11028, 3108, 9796, 1152, 12460, 5405, 3584, 7626, 4418, 5614, 7359, 6478, 954, 11345, 10999, 2630, 8770, 13076, 10923, 2292, 10194, 12407, 9470, 1142, 2333, 4978, 7227, 5212, 12048, 1818, 9286, 1634, 5218, 6673, 9693, 11396, 4448, 2714, 12643, 9585, 10165, 12043, 5145, 10437, 5137, 11379, 1914, 11601, 9246, 4218, 12891, 9793, 8569, 3965, 7097, 5863, 13270, 9678, 6753, 1900, 6708, 5906, 3463, 1140, 12642, 2321, 1953, 10792, 6166, 11399, 4877, 3084, 9670, 6619, 1217, 2183, 10498, 4892, 9117, 12824, 6023, 4766, 5841, 1553, 5809, 4530, 2067, 6313, 9253, 5055, 6755, 12691, 8626, 9637, 12873, 10901, 6872, 7259, 4851, 8539, 1707, 8487, 11382, 7234, 11320, 13264, 6445, 4981, 5116, 9961, 3138, 13017, 5022, 11639, 8915, 9152, 3127, 9147, 7727, 2038, 12898, 7619, 6080, 4692, 12072, 12432, 8767, 4957, 4649, 5031, 5653, 7488, 11555, 3031, 3616, 1968, 9438, 11766, 11058, 8588, 4024, 10821, 11837, 8392, 5618, 871, 10036, 8977, 2490, 11264, 5421, 7858, 4073, 4027, 3120, 7005, 9205, 10738, 6246, 12513, 481, 10431, 398, 5088, 11458, 4280, 12678, 3295, 3653, 1783, 9045, 6789, 237, 6265, 1942, 5913, 7929, 10079, 3648, 12783, 8310, 241, 12413, 2220, 13097, 810, 5798, 11095, 1668, 3942, 1088, 5782, 4679, 5605, 4052, 4490, 7614, 3260, 11160, 23, 10737, 2842, 2464, 493, 12038, 10754, 8215, 4112, 323, 6248, 10131, 4866, 4940, 9362, 4442, 3026, 9098, 5584, 12924, 8197, 6530, 3630, 5879, 12045, 7240, 1218, 4787, 11217, 3261, 1904, 2146, 7236, 8920, 3893, 9079, 11814, 7975, 11400, 1738, 1716, 10074, 6113, 6259, 4035, 5384, 4659, 4935, 2465, 5453, 8440, 13085, 13025, 11848, 3937, 10544, 13108, 8348, 7280, 772, 10520, 5835, 5412, 8951, 55, 12472, 911, 13319, 1597, 12835, 12207, 2738, 2869, 174, 3340, 3133, 6049, 1809, 7391, 11165, 4435, 8651, 8075, 5060, 6539, 12032, 7583, 2582, 5933, 12499, 1819, 1775, 1659, 8480, 9713, 2603, 5830, 9829, 7723, 3731, 7720, 3176, 6186, 4973, 13053, 3634, 2172, 8173, 8367, 8653, 9880, 1306, 12948, 4162, 4071, 818, 4151, 5140, 7661, 1794, 6203, 15, 6210, 6423, 441, 2636, 8742, 4925, 4972, 7443, 4953, 3476, 2438, 1263, 2535, 2895, 5613, 5142, 12497, 12804, 6002, 7338, 6998, 4685, 1228, 7042, 11832, 12301, 3420, 5197, 6594, 6115, 12593, 11321, 9274, 9009, 7121, 9724, 8214, 1499, 288, 8080, 1233, 6816, 3132, 1631, 9696, 7516, 12322, 1524, 9824, 9409, 8453, 9336, 7900, 7958, 3397, 6212, 5555, 5454, 3797, 12562, 9939, 11904, 12964, 12477, 4077, 11467, 1519, 3048, 3162, 13014, 10380, 1476, 3236, 2856, 1080, 11828, 12030, 7984, 12511, 2090, 12545, 7377, 7352, 1126, 10350, 10811, 6146, 4760, 7884, 4607, 13198, 10065, 8038, 7283, 1160, 13200, 1202, 4542, 8866, 6119, 3094, 5650, 10462, 5387, 3062, 13051, 413, 13024, 3706, 8506, 6260, 5552, 3326, 5720, 4479, 1267, 12115, 6081, 11526, 301, 2523, 4260, 3039, 4094, 551, 7886, 1821, 2072, 9124, 10450, 12576, 10190, 2878, 1598, 5464, 5870, 7999, 3314, 13354, 3180, 2618, 3904, 11824, 10276, 11191, 3604, 2412, 11001, 3761, 10846, 2411, 2446, 1769, 5690, 6797, 9828, 737, 11879, 2130, 10230, 5052, 10172, 4138, 6711, 780, 6014, 1709, 11043, 10171, 9094, 4528, 7770, 6520, 6204, 2959, 2013, 4719, 12318, 5857, 9826, 5741, 1784, 6466, 11922, 3152, 2874, 4033, 8695, 11442, 6330, 6611, 8763, 12728, 4205, 6401, 11976, 12674, 10793, 9752, 5519, 4532, 4423, 9608, 10592, 8756, 499, 7697, 6287, 1330, 13290, 5773, 13307, 8106, 4502, 11658, 122, 4908, 5321, 11741, 1300, 10402, 2920, 4470, 2972, 10716, 9876, 13152, 10150, 2401, 4547, 12211, 12121, 10949, 10484, 4589, 8119, 8730, 12089, 8435, 11603, 2079, 12310, 4955, 13075, 7450, 9624, 12186, 741, 10379, 7632, 6842, 6208, 774, 10906, 7053, 11180, 2106, 10009, 8448, 11260, 7881, 10147, 11522, 5737, 3294, 12624, 6142, 8517, 3772, 6613, 5606, 5746, 3559, 4145, 8116, 5383, 6792, 5551, 629, 5423, 8904, 12549, 11199, 8501, 7594, 5634, 12414, 9285, 1354, 882, 4924, 1612, 13022, 2309, 5234, 3227, 7597, 11023, 3126, 5479, 13268, 11515, 7190, 3723, 4313, 8674, 9048, 7963, 4258, 2786, 6572, 3016, 12339, 7107, 2661, 5847, 2674, 306, 10973, 3906, 7754, 8156, 825, 8953, 12551, 10676, 9509, 2815, 9923, 12486, 9316, 8463, 1384, 2154, 4320, 11938, 1128, 9516, 12000, 7339, 7108, 12087, 3313, 1771, 8972, 9762, 5455, 962, 3763, 982, 11195, 7116, 13179, 11787, 9821, 7552, 8818, 2852, 12759, 7260, 7678, 4657, 3119, 9819, 8376, 5797, 8560, 10319, 3149, 12667, 7022, 6409, 5721, 6752, 9123, 12108, 9294, 5003, 10256, 12510, 9572, 1462, 4832, 2455, 7855, 407, 6062, 464, 6522, 8368, 2592, 1413, 10089, 4727, 2821, 6922, 6274, 7419, 7427, 1157, 11551, 6747, 3957, 7471, 557, 7309, 8228, 5001, 7952, 3698, 5845, 3845, 5112, 2231, 4912, 2382, 4314, 9491, 6472, 9443, 5819, 10112, 6130, 3567, 6641, 8663, 851, 11862, 238, 12999, 4676, 11636, 6147, 10265, 4048, 7409, 5108, 8956, 12312, 9519, 8370, 12104, 2259, 8289, 602, 2969, 9292, 4374, 11303, 5220, 11387, 4792, 10560, 3667, 1963, 12397, 7719, 3857, 11294, 1373, 8714, 9181, 226, 12298, 1669, 576, 6949, 4272, 9755, 11014, 977, 805, 73, 9529, 6090, 10205, 7603, 7610, 10162, 2624, 1381, 3812, 9610, 8115, 609, 3823, 11968, 10286, 5767, 4585, 4841, 9853, 10786, 6961, 6428, 9081, 2007, 4712, 8878, 10032, 9993, 2733, 1931, 12037, 11146, 1274, 3159, 6718, 10771, 2256, 2351, 10139, 3860, 9873, 4654, 4160, 10875, 9150, 2104, 9640, 4159, 7092, 10489, 4901, 8160, 3491, 2519, 616, 11164, 4643, 11995, 2785, 4370, 11194, 5804, 6999, 1812, 10678, 3557, 786, 4059, 11292, 3956, 5978, 4620, 2061, 308, 12632, 9813, 4063, 7768, 7021, 3422, 8469, 8782, 2099, 13146, 9348, 9968, 5450, 1241, 6060, 4563, 6786, 6407, 10312, 4664, 6710, 5344, 3703, 3726, 5973, 7072, 3848, 4798, 6652, 1578, 5332, 4480, 9856, 4746, 7578, 5972, 806, 3755, 7366, 5059, 1226, 7649, 10292, 7220, 10859, 1704, 1986, 13337, 8391, 1718, 4492, 3929, 4446, 4219, 3465, 8069, 12730, 3411, 1061, 6643, 4950, 7466, 10341, 9783, 430, 9695, 1869, 1084, 7937, 8737, 9165, 1363, 9980, 3434, 4417, 8745, 3222, 6513, 1329, 12379, 3553, 12714, 12832, 9023, 865, 3535, 9816, 2096, 13077, 10213, 2024, 5840, 6540, 9635, 9779, 2705, 875, 479, 4854, 8226, 1540, 11530, 7415, 783, 11859, 2545, 12373, 8868, 5712, 2679, 1264, 10095, 12612, 9223, 8612, 3345, 95, 172, 4255, 4714, 11757, 11937, 11575, 4790, 9989, 4247, 3955, 1116, 1176, 10432, 7139, 7746, 11069, 6410, 10197, 8369, 12926, 4161, 1829, 5547, 8754, 5997, 653, 4062, 304, 11284, 1917, 3408, 5123, 12851, 972, 1933, 4639, 7595, 8884, 11905, 10198, 1109, 10907, 11032, 4241, 5734, 9520, 1871, 3827, 6819, 252, 7672, 613, 11582, 4473, 9182, 4245, 5822, 4110, 2560, 11405, 12331, 10282, 5198, 3775, 12010, 6065, 5554, 7739, 8668, 6987, 6804, 7494, 5106, 7422, 11841, 2931, 5802, 12458, 3264, 990, 9464, 13325, 12092, 3188, 12852, 3293, 3549, 6385, 7608, 7132, 3840, 12515, 5817, 10748, 4404, 11931, 7536, 11871, 11094, 2040, 6703, 2186, 2164, 1338, 11366, 910, 2993, 8784, 8738, 12629, 11546, 1255, 8748, 12280, 2456, 6447, 2502, 5500, 7082, 8527, 3595, 6468, 4604, 2747, 6880, 473, 6644, 6586, 1391, 8492, 8227, 3837, 2025, 614, 9515, 5560, 400, 7683, 7521, 9276, 11025, 8867, 1803, 2561, 4984, 3914, 2042, 4259, 347, 12588, 11010, 9329, 3622, 5210, 788, 4170, 1788, 7796, 12767, 6386, 1285, 7181, 1676, 7745, 4352, 7957, 2045, 9199, 11729, 3106, 13161, 6712, 12024, 5227, 8842, 451, 1437, 8906, 3019, 10683, 5389, 512, 5009, 10806, 10958, 6300, 11568, 372, 13124, 6600, 11395, 7152, 5379, 3197, 11198, 8758, 2225, 10581, 11105, 3933, 7810, 12205, 10981, 2599, 7292, 9200, 5098, 3560, 2133, 5864, 5959, 1905, 10494, 907, 6078, 1019, 3373, 9523, 10441, 352, 7955, 11975, 10332, 9798, 4869, 10681, 4414, 7033, 1640, 297, 5346, 4292, 4662, 8691, 7773, 5223, 11322, 8235, 11707, 1733, 4384, 1220, 6415, 5253, 11490, 8389, 7167, 6736, 3543, 12820, 7690, 1950, 9846, 11540, 519, 8256, 2953, 12696, 5583, 1592, 6443, 13142, 7822, 8747, 8574, 3275, 6077, 5365, 9440, 5570, 7248, 2255, 13010, 12592, 305, 8711, 1295, 4119, 7660, 12710, 4189, 11852, 6298, 3526, 8910, 6183, 7196, 545, 5466, 6206, 6622, 13029, 7090, 12641, 12912, 4285, 9204, 3118, 870, 10031, 9525, 6536, 10687, 5302, 12816, 2217, 4540, 257, 8624, 1530, 2865, 1062, 6671, 2963, 459, 5215, 2243, 7486, 4403, 4842, 7319, 10648, 608, 9122, 8329, 2984, 3796, 11468, 6946, 4720, 365, 5286, 2406, 658, 6299, 6868, 2970, 3540, 626, 10295, 6400, 10071, 7065, 93, 1453, 4385, 10645, 11491, 4722, 11708, 11392, 7820, 11308, 2977, 475, 4514, 6574, 3235, 4755, 9313, 8130, 3430, 11316, 1570, 11481, 1776, 11863, 6019, 13201, 4715, 9407, 10327, 8635, 9691, 7904, 1744, 3844, 10391, 7869, 7372, 2765, 1007, 10157, 10300, 8277, 1159, 12246, 8540, 6452, 681, 6634, 5418, 10502, 5962, 4526, 2782, 6568, 13043, 11255, 1401, 3725, 3454, 11664, 6959, 8765, 4784, 7044, 8372, 12582, 624, 12911, 11270, 248, 1538, 2544, 1135, 7568, 2481, 9378, 1127, 4506, 8705, 687, 857, 11642, 13041, 10260, 4132, 4493, 7630, 6873, 10566, 4450, 4079, 28, 2867, 985, 2564, 10866, 12733, 3717, 4753, 2064, 2300, 7407, 9837, 9263, 9506, 8932, 7164, 7969, 7636, 2566, 2503, 5293, 9573, 729, 13175, 10152, 10199, 11581, 12468, 567, 8474, 322, 4505, 5915, 2109, 2587, 10649, 6046, 9126, 2640, 2234, 2137, 13018, 10868, 4034, 1164, 10024, 342, 4559, 8419, 12946, 5525, 5010, 4635, 2528, 12522, 228, 4064, 9904, 4261, 9554, 7716, 437, 7731, 7797, 3623, 3163, 11496, 11338, 13291, 8497, 8490, 12212, 1251, 4399, 4618, 2883, 7654, 1296, 7993, 10400, 11086, 2, 8919, 8512, 719, 1630, 1525, 10729, 5191, 2983, 6256, 1052, 621, 7402, 8330, 9636, 6713, 8790, 9001, 5887, 9709, 13068, 11205, 7914, 4508, 1246, 2633, 3029, 4569, 6841, 11155, 5896, 10903, 11881, 10403, 11978, 10601, 815, 2409, 5023, 7744, 10833, 2161, 12900, 7329, 1303, 5498, 2851, 3284, 8149, 6413, 6970, 6463, 1461, 7009, 4289, 11680, 4271, 11531, 31, 10111, 11210, 91, 7179, 11430, 7057, 9916, 4443, 9952, 10557, 10552, 7572, 10813, 3339, 12313, 5277, 10003, 4176, 3964, 8925, 2921, 2277, 10, 3147, 10828, 10852, 7301, 2732, 6429, 6717, 2477, 3926, 3851, 894, 2471, 7764, 7749, 13052, 4317, 5149, 11602, 8700, 3484, 9729, 7284, 3362, 3853, 3941, 3494, 12069, 3072, 72, 9062, 6672, 11016, 8575, 12536, 1607, 872, 9408, 6612, 7431, 9680, 5061, 8974, 11947, 2516, 6889, 4782, 1189, 4105, 6831, 9756, 11775, 8798, 13030, 10671, 12637, 9591, 8888, 773, 2859, 2376, 13006, 7425, 13299, 1536, 7778, 6153, 8224, 10928, 8828, 5709, 12496, 7953, 442, 10965, 3455, 157, 4960, 114, 13135, 644, 6682, 6876, 8284, 8060, 5345, 12861, 3317, 832, 8615, 3304, 6292, 4429, 3074, 12239, 11148, 9421, 4874, 12235, 12854, 4188, 4031, 12677, 10507, 1106, 12489, 2925, 12158, 7478, 9273, 10539, 9293, 3172, 10574, 9002, 3750, 6348, 6668, 9345, 9811, 13139, 6498, 13057, 7895, 4128, 666, 8257, 7151, 1906, 754, 8948, 6667, 12441, 11332, 3497, 2135, 2486, 3890, 3461, 8488, 4392, 12553, 6168, 4265, 116, 10934, 8086, 3734, 12825, 9590, 6161, 5901, 10200, 7384, 7962, 1989, 5416, 4903, 134, 366, 8886, 1641, 6775, 10099, 5025, 3625, 3689, 5306, 3550, 10159, 2116, 9501, 4811, 4397, 4583, 9206, 2046, 7314, 1031, 7581, 5947, 10464, 4398, 2489, 6406, 10634, 3025, 2999, 1966, 4111, 7002, 7947, 5294, 2693, 6223, 8980, 566, 12075, 9328, 5419, 1179, 6997, 7490, 6050, 6177, 13074, 10591, 336, 1150, 862, 2558, 4862, 8811, 10779, 5152, 13250, 7700, 12306, 6547, 3529, 11573, 10785, 8241, 2253, 392, 11895, 5172, 35, 7674, 7767, 3117, 11344, 9133, 7076, 8543, 3521, 4406, 9003, 11183, 12570, 12776, 8461, 11764, 10072, 4595, 3940, 11351, 4845, 13207, 296, 988, 12884, 8553, 9459, 8837, 8816, 4843, 2730, 4931, 9528, 3040, 247, 8793, 11002, 11492, 6482, 12216, 7416, 12788, 4425, 6074, 12943, 8132, 461, 8545, 1147, 8408, 4982, 9320, 12135, 6507, 6620, 1156, 863, 2860, 1936, 3145, 1764, 12903, 13113, 4413, 1899, 585, 10474, 5836, 160, 1138, 9016, 11154, 8107, 1724, 6363, 7986, 5264, 1102, 10066, 2720, 8982, 11723, 3665, 4613, 12395, 13297, 4586, 6832, 1614, 5016, 7233, 2836, 8485, 9358, 5619, 7559, 1823, 11156, 7876, 1033, 10133, 12698, 10670, 2310, 8988, 13170, 92, 5995, 11158, 7753, 9903, 7757, 4566, 10820, 9594, 10336, 4237, 10941, 11393, 9474, 7134, 6010, 5820, 7676, 11056, 8755, 12719, 7216, 11074, 1434, 2301, 8285, 2537, 6578, 6630, 1995, 866, 4560, 11834, 12429, 6933, 3205, 1315, 12594, 5356, 10374, 5549, 1435, 12224, 11982, 10177, 8371, 12090, 4555, 8869, 11439, 11200, 6446, 8623, 4783, 3824, 1693, 9058, 10084, 383, 5523, 7686, 11475, 8268, 8838, 1872, 7814, 10969, 4097, 8166, 860, 12613, 2203, 11090, 12894, 6425, 5590, 8291, 8679, 572, 1786, 12231, 2718, 5812, 4178, 10476, 10688, 8636, 5071, 8366, 3751, 490, 4282, 11981, 10942, 670, 3354, 4267, 6073, 8054, 10149, 4741, 3432, 12537, 6945, 6677, 4283, 3614, 5507, 4655, 9485, 1178, 11189, 789, 2662, 11248, 1021, 7862, 7470, 3064, 7114, 8525, 1884, 6167, 11893, 3756, 5928, 5446, 9382, 1090, 12853, 12625, 680, 12744, 1688, 6192, 8439, 2623, 1307, 4627, 11857, 1760, 11727, 10586, 12527, 12459, 5629, 2601, 11421, 12437, 474, 5647, 11302, 9595, 2479, 6739, 10449, 370, 9747, 2088, 11886, 1367, 12061, 4513, 11579, 12658, 12462, 8148, 9558, 7851, 8436, 9668, 11300, 1927, 12011, 418, 6282, 8652, 6879, 8207, 13231, 7631, 7375, 2980, 1542, 4213, 11802, 8697, 8187, 9985, 829, 5115, 9841, 5129, 10108, 1935, 8178, 12595, 6944, 7483, 2450, 9582, 5907, 5386, 8137, 974, 12456, 6749, 9370, 6135, 10175, 13105, 8788, 8760, 5203, 5226, 4137, 12850, 8211, 8260, 12461, 385, 784, 2305, 3596, 9110, 917, 11296, 8353, 13266, 9569, 12746, 7758, 7437, 5368, 10055, 9675, 6093, 2510, 12123, 1238, 3912, 7447, 4853, 11128, 11641, 2926, 1752, 3365, 3005, 6734, 12734, 6923, 11368, 12343, 13314, 107, 12077, 7781, 5754, 7032, 11457, 12892, 12711, 9388, 4171, 7557, 10551, 5497, 9259, 6862, 80, 9875, 5499, 4047, 1876, 12760, 10155, 12347, 5925, 6342, 11030, 1210, 4426, 11795, 7570, 9326, 3160, 2711, 2671, 12150, 3745, 9099, 12082, 11547, 5347, 7012, 10652, 2273, 9902, 4797, 8019, 4106, 2715, 6599, 1143, 13246, 1546, 4964, 11000, 9532, 7302, 11182, 4707, 13087, 5697, 11104, 3191, 5075, 356, 4328, 12872, 7324, 4154, 1336, 2257, 11963, 3280, 12727, 6006, 3905, 6180, 6254, 13158, 6788, 2103, 1988, 630, 9053, 251, 10660, 7465, 6782, 319, 6374, 6773, 9933, 2068, 10361, 8046, 148, 8987, 4351, 7327, 3968, 13185, 3784, 4232, 9170, 10228, 2694, 13109, 5850, 373, 922, 835, 4495, 9243, 846, 564, 5630, 4637, 1396, 4360, 13321, 6704, 12976, 3498, 6812, 8410, 7093, 4415, 11720, 1742, 6294, 7113, 7256, 4323, 8122, 2668, 12418, 8325, 9120, 10458, 11845, 12004, 6011, 8332, 4152, 11441, 5120, 12283, 736, 2081, 10631, 8834, 3287, 12743, 10576, 3676, 5685, 4896, 10105, 1170, 4296, 1137, 3836, 5184, 12026, 9609, 5309, 11289, 8014, 5910, 276, 1095, 136, 5361, 7671, 191, 6217, 2448, 12386, 9268, 13138, 5659, 9139, 12821, 11310, 7970, 12655, 4535, 10109, 10542, 3619, 859, 5833, 8619, 983, 678, 1407, 13353, 1696, 8382, 11337, 10679, 11304, 2669, 7717, 8633, 6491, 5413, 5183, 5811, 1973, 4941, 6108, 2767, 3662, 5385, 11145, 7506, 1488, 5242, 9392, 8773, 12053, 4465, 218, 10488, 1735, 12932, 3395, 5623, 6495, 10578, 5770, 7351, 9467, 12148, 2944, 1514, 7396, 10335, 9188, 3281, 9901, 7191, 5378, 184, 6335, 7514, 7086, 6174, 4032, 1804, 5491, 9622, 3125, 3554, 8468, 12586, 4550, 12843, 13269, 1316, 3450, 10062, 10421, 8681, 12880, 6840, 2800, 5636, 10070, 2282, 6688, 1153, 2048, 5008, 12345, 722, 5704, 9712, 6509, 2337, 11514, 12210, 9225, 3753, 12249, 9271, 6935, 7125, 6071, 9027, 1645, 3605, 6226, 267, 11261, 1168, 4157, 2268, 6216, 5068, 10220, 1635, 7985, 10305, 2254, 13130, 3770, 1773, 2216, 1215, 7361, 12635, 2420, 6802, 3976, 6730, 3885, 1310, 106, 9814, 12467, 8422, 11121, 10491, 9669, 3203, 1555, 10888, 9895, 1364, 9645, 13328, 10753, 10465, 6891, 8319, 8131, 6957, 5290, 10759, 3776, 5589, 7704, 5522, 11750, 10140, 5301, 9248, 13151, 9226, 9889, 6016, 770, 12327, 5837, 2430, 12800, 11816, 3762, 10080, 9135, 13031, 4334, 98, 2567, 5320, 4594, 13282, 13178, 9649, 1072, 4243, 10733, 8364, 546, 3809, 3958, 11721, 4614, 3389, 8362, 11236, 7605, 3787, 51, 7397, 12408, 6309, 4056, 7111, 11861, 9097, 6025, 9965, 2485, 10376, 9522, 7136, 7212, 3096, 5053, 3591, 10799, 10780, 11941, 10158, 11998, 2080, 11188, 7119, 1846, 3489, 2269, 6836, 7290, 12008, 10192, 7458, 4120, 13038, 6901, 10526, 6266, 9012, 13308, 4946, 1501, 11572, 13313, 6639, 4228, 12797, 1691, 11436, 10720, 6909, 1513, 12124, 9454, 10661, 4927, 13318, 2163, 41, 2954, 12784, 881, 11295, 4358, 8670, 9748, 10051, 359, 6504, 11470, 13169, 4906, 8098, 7430, 9863, 897, 3612, 4779, 5758, 8446, 13234, 5391, 12828, 5827, 10916, 12483, 6531, 9414, 11539, 3834, 433, 11381, 9233, 128, 11380, 11557, 11460, 2678, 8049, 10209, 2687, 12170, 4920, 2458, 3767, 9538, 9823, 6362, 12566, 12002, 11853, 2213, 1892, 12980, 11689, 10011, 12955, 7967, 8931, 6367, 7106, 313, 367, 9850, 6756, 9022, 4588, 11346, 363, 7792, 12639, 6101, 1702, 5248, 376, 5249, 3122, 1939, 12085, 808, 234, 9531, 12031, 3907, 6588, 12808, 9866, 4724, 10029, 458, 4617, 5099, 12651, 3488, 5538, 11525, 452, 4012, 12907, 9444, 266, 12922, 6194, 715, 9547, 4572, 2443, 1844, 10764, 12498, 9446, 5127, 7406, 5308, 7564, 13033, 4571, 10240, 9806, 10782, 10795, 11506, 4355, 2621, 10562, 477, 4378, 7875, 4359, 11196, 5642, 6691, 1248, 2917, 1460, 6029, 2749, 1312, 8831, 2617, 10143, 4917, 6529, 5908, 3008, 4353, 12473, 2429, 9593, 12457, 2252, 10101, 3322, 3128, 8063, 3544, 2946, 2814, 11536, 7016, 150, 4083, 3367, 3542, 138, 3943, 9127, 740, 11929, 13137, 6096, 6825, 11622, 1446, 10473, 12688, 4726, 4045, 7761, 10033, 1273, 6811, 9611, 2958, 10233, 3323, 5986, 4775, 12619, 8298, 7795, 5715, 7336, 10706, 5247, 11806, 6438, 6273, 4591, 6480, 3032, 8180, 9659, 13240, 12401, 2284, 9975, 1589, 12177, 5825, 58, 7543, 506, 6676, 2236, 767, 2962, 884, 3994, 8952, 1837, 7322, 8496, 3683, 5762, 1564, 3410, 542, 6318, 7326, 10216, 388, 7485, 4739, 7346, 6211, 1506, 1901, 12385, 4598, 7928, 8975, 402, 3158, 8589, 3867, 11466, 3464, 11384, 3618, 9536, 2278, 3652, 10124, 8827, 9055, 13245, 10693, 4867, 10479, 3001, 992, 598, 1895, 895, 12294, 10644, 2504, 1349, 7966, 5256, 3266, 5892, 1378, 2381, 10756, 12706, 3727, 11353, 13054, 5702, 4337, 10340, 7300, 2071, 1978, 13324, 4103, 8029, 2302, 4675, 12330, 9799, 9235, 7832, 7229, 11340, 7357, 8916, 2036, 10885, 4476, 404, 12664, 10117, 10869, 7865, 9704, 8158, 3947, 79, 5456, 1386, 12314, 12317, 10385, 4729, 1608, 5705, 7765, 2745, 2881, 9318, 6952, 3107, 8231, 7278, 2417, 1723, 9730, 6176, 3306, 6414, 5592, 6382, 4838, 3856, 3472, 10249, 12243, 13204, 12392, 9805, 782, 2105, 8597, 2329, 498, 8529, 2491, 3017, 728, 2191, 9282, 3960, 571, 10571, 11672, 9562, 1347, 6232, 1649, 13111, 3183, 11686, 10138, 4345, 12502, 7098, 12067, 6277, 10625, 5260, 21, 1139, 2210, 13115, 8311, 3911, 6138, 11206, 4375, 3574, 9764, 8567, 11739, 1103, 6297, 1374, 11719, 9761, 2981, 9067, 1479, 2364, 643, 535, 10343, 11435, 11700, 12125, 1197, 8743, 364, 2573, 13217, 12765, 6051, 6995, 1410, 12023, 7747, 6993, 8558, 1633, 7995, 7677, 9433, 10081, 11386, 12292, 11502, 4377, 10356, 8451, 876, 1025, 1294, 2552, 11372, 9849, 5171, 7155, 12972, 12443, 13349, 11737, 8519, 5983, 4469, 8458, 10953, 9530, 12060, 7200, 5789, 5312, 6596, 6512, 446, 5017, 5266, 8671, 1321, 11407, 9539, 11716, 2947, 1122, 7645, 9077, 11033, 3757, 5871, 10344, 1646, 2062, 3814, 2968, 1022, 11089, 11147, 2890, 9049, 10088, 11440, 9141, 7633, 3826, 791, 221, 434, 4338, 6951, 5311, 5155, 2723, 6839, 6121, 4461, 2474, 7169, 10466, 8882, 7370, 6131, 757, 3742, 7740, 9940, 3952, 5853, 393, 6036, 11423, 5643, 2110, 5474, 8963, 7221, 2658, 1483, 554, 3656, 4631, 1977, 9351, 8971, 2799, 12875, 5531, 13244, 1098, 3990, 9486, 12829, 9386, 8243, 2992, 9688, 5700, 2570, 7996, 12133, 6120, 6334, 11756, 10561, 7553, 10855, 1743, 11445, 1162, 10662, 2011, 10905, 7464, 435, 3603, 4295, 10104, 11487, 5572, 11042, 7176, 1039, 12707, 6807, 7446, 3869, 5186, 7561, 11652, 6321, 10555, 7894, 7271, 13216, 10878, 5784, 9494, 3200, 10709, 10650, 7699, 3522, 8892, 7150, 6499, 12195, 1458, 12383, 9498, 5880, 7342, 8753, 11012, 12303, 2593, 12393, 5190, 7166, 10511, 9228, 11777, 6723, 7408, 13329, 13126, 6244, 12059, 6182, 1518, 5662, 10311, 12957, 3480, 9125, 2459, 1222, 6635, 11552, 4084, 7507, 3511, 8431, 5287, 8003, 4579, 11527, 7940, 7031, 3668, 3169, 4870, 5810, 12917, 12979, 12684, 12238, 10323, 11020, 2976, 165, 11612, 6403, 11343, 9017, 888, 4281, 8757, 12028, 2797, 9634, 1722, 12966, 12446, 5899, 12709, 3682, 10636, 8377, 12450, 2628, 10115, 8303, 12729, 9104, 1967, 2357, 8817, 8170, 5727, 2398, 4716, 26, 3018, 10121, 9912, 8876, 6822, 6974, 1782, 10758, 2208, 11677, 8027, 8726, 12910, 13125, 6828, 6470, 8649, 12364, 10988, 8293, 12034, 3586, 3244, 5668, 1677, 6030, 2892, 2437, 6191, 6326, 6865, 2202, 2435, 3418, 9416, 8462, 3272, 9219, 8097, 12270, 13184, 5575, 13007, 5740, 9436, 11714, 3195, 4412, 2753, 4796, 751, 7362, 2568, 2862, 9915, 2373, 429, 13272, 5402, 9974, 6276, 4872, 1203, 1165, 5625, 2368, 4767, 7775, 12220, 4928, 11638, 745, 6188, 378, 9413, 1897, 7942, 5604, 12798, 68, 9652, 11634, 3815, 8792, 3538, 4812, 96, 10178, 1857, 9460, 2610, 2078, 5749, 10427, 2986, 4092, 6678, 11333, 5956, 6857, 12084, 2849, 12950, 6396, 5364, 7404, 4697, 4142, 6356, 10500, 12878, 1647, 11429, 2224, 4093, 10061, 6242, 8717, 3474, 10454, 440, 10980, 1015, 10684, 6380, 7519, 8810, 3879, 8877, 9616, 374, 3112, 9617, 10086, 5666, 2189, 11150, 4504, 8244, 6661, 9601, 7353, 1943, 11655, 2945, 2827, 6144, 4085, 2205, 4013, 5240, 11402, 10633, 180, 5610, 10163, 7456, 6258, 3477, 10938, 10936, 659, 7270, 194, 8609, 9874, 7241, 5950, 12885, 4551, 11477, 7651, 7210, 6930, 11077, 10727, 1910, 4072, 6371, 12410, 7500, 13331, 334, 1586, 3146, 12751, 1305, 8028, 1141, 3320, 7805, 5513, 10970, 594, 8409, 10632, 11586, 11916, 8477, 9797, 4008, 8897, 7828, 2641, 12541, 1569, 4369, 2235, 694, 9927, 2129, 6854, 649, 10151, 6055, 421, 9439, 9517, 3201, 3633, 9482, 2294, 5339, 3524, 9054, 10453, 1593, 5438, 8126, 6647, 2822, 9073, 7523, 3164, 971, 9944, 3350, 9102, 10026, 3061, 11312, 7036, 10724, 2180, 1418, 6370, 4336, 11201, 5795, 979, 2644, 8473, 1785, 3934, 11314, 1190, 11459, 2223, 4127, 3000, 6075, 10173, 229, 12793, 9996, 5442, 9270, 410, 13114, 5543, 6925, 6636, 11626, 4284, 12474, 6685, 11209, 10119, 7688, 8507, 9060, 1198, 6623, 7026, 13035, 11742, 5336, 1269, 631, 11505, 12838, 12815, 12049, 13258, 1497, 427, 4918, 3576, 12989, 12341, 8769, 3285, 8195, 7174, 12935, 432, 12665, 4735, 10952, 11237, 7874, 12027, 6064, 3283, 6003, 3675, 9992, 38, 1194, 9553, 2421, 13298, 7123, 10272, 10674, 10982, 6066, 1048, 9627, 12975, 2780, 9159, 1201, 8863, 11433, 12464, 11100, 3194, 5213, 2012, 8692, 7650, 164, 4037, 5263, 994, 11061, 12965, 4856, 1438, 5894, 4745, 9161, 115, 12358, 3113, 462, 4554, 1596, 1323, 3114, 8184, 10593, 1705, 8264, 11415, 5582, 6785, 6368, 8258, 10409, 8917, 2754, 12263, 6627, 5139, 7657, 11821, 3695, 11347, 10525, 9810, 1572, 9879, 13117, 4310, 2840, 4143, 12485, 3666, 11279, 5616, 11844, 1459, 4749, 1652, 11027, 6778, 7003, 5652, 2434, 2866, 311, 1835, 2529, 12969, 5658, 5716, 3774, 496, 6134, 3049, 1208, 6649, 4010, 199, 10848, 11856, 3170, 6493, 8491, 5300, 5104, 7976, 3808, 10860, 1350, 12112, 7741, 9885, 914, 8518, 1621, 7821, 2737, 13183, 9304, 4616, 6898, 5512, 5027, 8135, 3315, 8762, 4141, 12732, 7088, 9673, 102, 34, 12841, 11318, 8103, 847, 11404, 9679, 6308, 4463, 11254, 4852, 7147, 11084, 1064, 7007, 4748, 2008, 7880, 6640, 10535, 8929, 10439, 3220, 12191, 6157, 12958, 13292, 13274, 5334, 4621, 2077, 2424, 2923, 3296, 12736, 2470, 11118, 6152, 7931, 3548, 11112, 10694, 2879, 1801, 9109, 1225, 2627, 5989, 9638, 12058, 10585, 3218, 5516, 12451, 3568, 4305, 3752, 12669, 9290, 6179, 7059, 327, 8206, 4850, 10609, 2768, 6241, 5245, 2681, 12160, 12285, 4488, 2960, 13107, 4633, 13044, 6783, 1489, 12136, 930, 9064, 2885, 12155, 1976, 10248, 12565, 813, 2719, 7118, 10577, 10207, 5731, 4270, 1467, 11751, 6616, 10839, 8554, 9962, 4144, 909, 5254, 4362, 4934, 2232, 12992, 11437, 255, 1009, 11918, 12169, 3566, 4238, 1770, 6583, 11728, 1091, 13159, 8509, 42, 5719, 6373, 1067, 2781, 4507, 2102, 5724, 5470, 10321, 2713, 4548, 12750, 3825, 13066, 11413, 13294, 10204, 11021, 8150, 3551, 2181, 1817, 10015, 8096, 10097, 7077, 10290, 9946, 5663, 10513, 3042, 1642, 2551, 6693, 5969, 7122, 6418, 1993, 6339, 1426, 5742, 6875, 2356, 3319, 3999, 4567, 6281, 1583, 2319, 9717, 10699, 11151, 7655, 9953, 9834, 6844, 6116, 2247, 5072, 6707, 9632, 13128, 12693, 692, 760, 3357, 3811, 1301, 7043, 3406, 6823, 9218, 10273, 7693, 7941, 620, 9606, 1119, 9808, 5490, 7867, 9559, 5100, 7538, 8413, 9700, 0, 8465, 5189, 1991, 1163, 2716, 12020, 13232, 10639, 3564, 980, 5322, 9038, 1463, 7495, 9291, 3299, 4290, 713, 2966, 4184, 49, 10524, 3547, 9137, 10527, 5813, 7733, 3335, 6306, 9928, 12973, 3249, 7548, 2379, 7563, 341, 30, 6040, 13072, 5936, 10475, 10406, 7912, 6347, 7211, 2701, 12756, 6554, 48, 3007, 8354, 9592, 12680, 7600, 3442, 3071, 6978, 12960, 10407, 13342, 1405, 11018, 6625, 1624, 5878, 12833, 12275, 1574, 5794, 6934, 1611, 6705, 2197, 11591, 9404, 2147, 5377, 10468, 12524, 1387, 12425, 11081, 11760, 5707, 4460, 3379, 963, 3738, 2339, 12293, 4794, 8167, 9795, 4538, 9967, 9646, 8146, 11956, 8528, 9966, 4150, 12801, 8581, 5463, 5790, 12174, 4575, 7666, 2463, 11181, 3831, 5965, 9907, 8234, 1313, 12063, 7709, 10959, 5510, 7473, 2264, 4839, 3010, 9103, 4068, 9295, 12996, 1566, 1739, 11162, 10817, 4240, 5461, 8034, 1990, 2553, 690, 10895, 10459, 10770, 391, 8898, 7281, 10722, 12329, 9857, 6332, 5595, 2132, 12882, 8698, 5714, 4146, 3265, 5511, 1827, 2496, 2546, 5371, 11006, 1047, 996, 648, 11869, 7702, 9164, 6837, 1813, 9118, 10742, 928, 12297, 7162, 13242, 7330, 9426, 12159, 2594, 5968, 1256, 316, 5851, 4169, 11678, 11163, 1648, 5711, 3877, 159, 11773, 13288, 4690, 707, 9955, 533, 1237, 6288, 3819, 12214, 3793, 7718, 409, 993, 2444, 538, 9657, 7956, 9192, 4335, 12766, 10564, 3537, 1751, 1643, 11690, 2605, 9476, 5150, 13228, 12649, 6855, 5909, 9526, 9722, 9725, 9042, 13071, 3570, 4081, 9427, 7493, 11619, 8550, 3184, 6515, 5069, 9035, 3123, 11799, 3873, 3847, 9596, 955, 5675, 5285, 10382, 925, 5766, 1380, 10653, 11233, 6714, 1433, 7554, 639, 1686, 7541, 11063, 6858, 964, 7888, 1922, 5350, 6069, 8860, 3746, 2838, 3768, 8339, 2798, 6894, 7131, 6593, 6219, 1920, 3278, 10281, 1171, 1229, 6391, 6937, 6365, 1539, 11699, 664, 4880, 3044, 9310, 7110, 8912, 9330, 1694, 12876, 5756, 6958, 1528, 10991, 13156, 4484, 5333, 9733, 899, 1916, 5725, 12215, 12735, 3415, 7246, 5363, 5434, 1284, 10945, 10515, 11997, 13305, 9932, 10428, 6416, 10196, 845, 12956, 9728, 873, 3457, 11119, 6776, 3247, 2275, 3342, 59, 10752, 11843, 11443, 7872, 2751, 13277, 4834, 2542, 725, 8175, 12289, 97, 6936, 7989, 8494, 8675, 5708, 9665, 2845, 6237, 5369, 5632, 9499, 3224, 517, 7127, 13003, 11327, 2847, 3718, 9817, 6440, 9142, 3388, 7542, 4274, 11595, 492, 6584, 1740, 4806, 8900, 2680, 6523, 1552, 2122, 6422, 1613, 284, 10528, 4762, 5295, 4987, 10092, 9169, 4810, 2527, 4623, 10713, 3781, 12626, 2142, 1982, 8830, 9998, 6315, 8070, 2772, 4326, 2195, 10608, 9991, 449, 7204, 87, 8280, 1332, 6154, 7927, 11454, 9174, 3629, 4200, 12363, 1600, 9861, 975, 11003, 5975, 4481, 11685, 7239, 7979, 12925, 9031, 5611, 4754, 5670, 2554, 10702, 6109, 335, 483, 1280, 149, 2651, 638, 1697, 7095, 4977, 2127, 1385, 9694, 5105, 4702, 6743, 2451, 11665, 4919, 6432, 2555, 8914, 4485, 2358, 1878, 8233, 6272, 11038, 7598, 4266, 2736, 6492, 7728, 6906, 6646, 10448, 6484, 8965, 11311, 2134, 104, 476, 12881, 11770, 3686, 5482, 10027, 1636, 12003, 10422, 12442, 1232, 7972, 7273, 7827, 8514, 9327, 11926, 4501, 9284, 198, 8433, 2022, 2696, 9033, 4430, 10456, 2169, 6914, 5622, 938, 4968, 635, 11693, 8360, 2066, 13202, 7756, 7845, 7079, 9111, 5165, 1191, 10979, 8079, 12762, 10747, 12128, 4622, 3913, 11389, 5341, 8585, 11446, 10947, 11070, 7813, 12978, 10394, 840, 4276, 1283, 13036, 9184, 676, 3214, 11855, 11103, 10891, 13049, 10320, 3807, 1003, 1806, 9090, 2287, 11282, 12188, 562, 13343, 5598, 8734, 973, 10743, 11242, 12596, 2935, 1319, 2053, 10815, 11431, 7217, 11566, 7477, 7580, 6117, 11465, 7898, 10623, 8493, 4116, 10333, 8924, 8616, 6768, 2858, 11134, 9478, 11783, 1188, 10059, 2089, 7052, 6615, 7337, 9607, 12953, 1509, 12568, 10289, 10297, 3349, 5467, 11578, 7153, 2500, 7496, 2824, 8010, 9231, 11420, 10858, 11438, 10922, 5128, 11864, 7432, 2631, 12139, 7193, 7063, 10605, 6270, 1682, 36, 11717, 10882, 10388, 8513, 3343, 8627, 12633, 3657, 6716, 6352, 8242, 6268, 10974, 1221, 3987, 10707, 5897, 9466, 942, 11219, 2065, 9332, 1762, 1393, 6072, 7725, 2955, 893, 8388, 152, 9155, 9925, 11692, 8067, 4789, 10425, 5524, 11625, 4626, 11822, 1377, 330, 12927, 12611, 12495, 8414, 4815, 8797, 1522, 1348, 7585, 9101, 799, 9786, 10951, 3891, 3640, 10355, 9411, 5706, 1921, 8883, 12572, 5951, 11398, 2320, 4840, 7225, 12753, 12923, 8399, 4199, 5665, 7639, 637, 10001, 10994, 8579, 1894, 7223, 9620, 8191, 6106, 11681, 11780, 6808, 5567, 558, 7808, 12618, 13119, 7618, 2877, 45, 13303, 2330, 1492, 695, 12017, 4086, 5644, 11609, 3895, 5093, 5119, 7172, 5778, 192, 10338, 1063, 2348, 11499, 5945, 11860, 4780, 10776, 2709, 40, 1427, 13136, 6853, 2328, 9698, 867, 11471, 528, 8428, 10381, 6706, 1756, 10826, 4298, 9384, 2097, 12237, 12769, 2602, 6372, 1534, 1708, 1602, 6433, 11263, 8899, 3440, 5201, 2576, 4900, 3216, 8051, 2152, 12529, 6092, 12337, 5769, 3578, 1271, 9705, 2702, 3552, 5327, 11406, 3931, 2263, 5272, 9890, 10378, 11252, 1999, 12218, 5573, 9633, 8155, 2990, 3561, 6449, 7343, 13046, 1477, 5648, 4381, 6222, 1755, 8549, 8947, 11291, 6262, 8357, 6303, 8746, 7780, 2279, 10042, 292, 9723, 4681, 2967, 12535, 9455, 11049, 10415, 10146, 12608, 10831, 4823, 8200, 351, 8568, 8133, 8486, 10100, 11039, 8271, 12281, 2549, 9372, 885, 858, 10203, 9375, 5428, 345, 10908, 10298, 10926, 11599, 9317, 11225, 12920, 7703, 12814, 11640, 7056, 8328, 7960, 10025, 10594, 10692, 3167, 9682, 1680, 10689, 1272, 8247, 11173, 11735, 12779, 589, 6656, 12141, 2908, 4268, 7277, 1571, 8801, 3639, 6696, 69, 1915, 5961, 8542, 12081, 6089, 8320, 11523, 7551, 13278, 8059, 3419, 2691, 10035, 1026, 11478, 10367, 11784, 6084, 4498, 12180, 4066, 12867, 5261, 12740, 3533, 6666, 3838, 13079, 6733, 1679, 6663, 10239, 13341, 2988, 5483, 5235, 820, 7762, 2919, 7226, 10053, 12251, 755, 7138, 7060, 3979, 12476, 1291, 11096, 6964, 4996, 1683, 5011, 2769, 7039, 219, 1792, 13256, 6790, 2314, 561, 5148, 11319, 129, 6009, 5805, 4365, 175, 6393, 3198, 4544, 260, 3399, 3252, 11561, 2783, 10068, 7544, 10698, 5680, 9431, 995, 4324, 7701, 2893, 1020, 8088, 3712, 2577, 1845, 12228, 6473, 13167, 9355, 4239, 2431, 5761, 839, 544, 2206, 9178, 12774, 6285, 5689, 6905, 1667, 5038, 5916, 7328, 3181, 513, 11130, 5682, 12987, 480, 1053, 13080, 1503, 7974, 5180, 3136, 105, 9080, 12394, 6376, 12209, 9667, 11563, 6437, 12381, 8263, 8307, 9865, 1560, 2807, 2400, 12254, 2742, 11951, 3839, 11238, 8205, 10353, 7218, 8927, 9951, 12420, 5157, 11817, 2318, 6977, 8012, 2432, 8794, 7297, 9020, 1276, 11928, 547, 854, 62, 5202, 5271, 12940, 2825, 9535, 3670, 10269, 1587, 10077, 11486, 5923, 9759, 5701, 2900, 3105, 1952, 5508, 130, 10673, 5131, 1368, 864, 10595, 2965, 4113, 10082, 4431, 1563, 7965, 5580, 5392, 9025, 8523, 7219, 11544, 6527, 9699, 9648, 2806, 11939, 7673, 12152, 6034, 1398, 9731, 4522, 6305, 7801, 11354, 10836, 7794, 7317, 6991, 2843, 10022, 9217, 9778, 7849, 5353, 9655, 1424, 9888, 3302, 9006, 9809, 11877, 2613, 5687, 5141, 10615, 117, 12508, 7662, 10767, 11483, 11606, 5130, 3312, 7489, 11071, 3758, 5532, 10206, 13327, 3344, 1443, 9977, 927, 3898, 7469, 9471, 4894, 3153, 8812, 3558, 3939, 7839, 3307, 12997, 8417, 4060, 6250, 8128, 1604, 8750, 10530, 2445, 12988, 11044, 3865, 12604, 3556, 3325, 6155, 6770, 3073, 1929, 9061, 12532, 12, 12902, 6457, 6196, 8599, 795, 7919, 10202, 11122, 8845, 2123, 9727, 8572, 3908, 2704, 8584, 1243, 3803, 3919, 1603, 3602, 2950, 1609, 9472, 10749, 11878, 11203, 5349, 4706, 217, 10017, 10264, 279, 8949, 1480, 2541, 3458, 4131, 5067, 10841, 1971, 13352, 13284, 11632, 11955, 6605, 7099, 5200, 6017, 673, 10814, 12886, 10132, 4179, 10540, 10234, 11712, 9986, 9244, 10076, 13310, 9014, 9267, 5417, 6735, 12858, 13039, 10775, 9171, 1616, 10626, 11426, 4582, 10416, 7379, 12402, 7525, 7096, 4117, 7535, 941, 3011, 3870, 7625, 11731, 7222, 6214, 2938, 4584, 5330, 2868, 10144, 368, 7510, 3671, 8958, 11046, 3330, 4568, 12584, 6021, 7640, 12550, 10975, 8808, 2462, 7877, 8081, 9548, 11138, 8020, 4168, 4736, 3111, 8475, 5085, 6824, 2660, 2579, 4017, 3514, 5167, 4088, 9039, 569, 9772, 2515, 8452, 1115, 902, 6345, 12831, 4527, 3175, 5420, 7247, 7691, 9692, 8441, 2108, 5597, 1470, 11785, 12378, 12653, 8918, 8056, 3173, 9754, 6187, 4230, 11428, 4658, 10030, 4731, 10253, 11192, 3097, 12245, 2595, 447, 3849, 6477, 3431, 9435, 11136, 11031, 5848, 762, 8358, 7189, 3402, 6462, 7748, 11740, 466, 162, 1888, 8344, 2386, 3829, 6283, 1795, 9005, 6140, 1858, 6669, 1491, 7129, 1353, 759, 7883, 13356, 13058, 7882, 4451, 7859, 11870, 6469, 7168, 3321, 12328, 8222, 7148, 1403, 5655, 12805, 13323, 9702, 200, 7526, 3950, 2322, 2019, 309, 4938, 6528, 1727, 11977, 5736, 3436, 8693, 4420, 8968, 9156, 3452, 7445, 1765, 1629, 10630, 2609, 10800, 12967, 9801, 8515, 12153, 10883, 5755, 13287, 7664, 8531, 11993, 11679, 6903, 9189, 7498, 11668, 3900, 7571, 9307, 12040, 8908, 10618, 5032, 9283, 3316, 1240, 13084, 11169, 328, 4165, 5422, 843, 12430, 10426, 2112, 2031, 5657, 5006, 12931, 12400, 698, 656, 5867, 140, 6454, 10622, 11517, 10087, 2887, 3309, 7830, 9163, 4648, 2325, 13132, 8690, 508, 2526, 3651, 7785, 8018, 6726, 9148, 12517, 9492, 3972, 12342, 9719, 1507, 12726, 9177, 9260, 2578, 10467, 837, 13301, 5593, 4302, 4835, 7228, 5964, 8407, 395, 1573, 6171, 11807, 13095, 9145, 11883, 2017, 12970, 10871, 4467, 280, 7203, 3661, 10487, 2306, 8275, 4574, 4666, 16, 8176, 4231, 12640, 6221, 2758, 10125, 11813, 12944, 4511, 2341, 2493, 1465, 570, 13121, 6199, 9360, 214, 5323, 2113, 9999, 8309, 1343, 5846, 6455, 931, 6483, 6261, 4672, 13330, 7492, 12178, 6728, 11135, 3332, 5244, 2684, 3744, 12233, 1832, 5144, 5586, 12388, 12856, 8283, 9647, 9325, 12942, 1145, 415, 6417, 4545, 5472, 816, 4781, 3083, 11900, 5635, 8565, 4216, 82, 8287, 1975, 12703, 13251, 9970, 10573, 3193, 12377, 7263, 4814, 4030, 10227, 8967, 12754, 6720, 1371, 6085, 12403, 5449, 10069, 11675, 4366, 5177, 12305, 2536, 8777, 1515, 10313, 5433, 3721, 7037, 1951, 8356, 8278, 5710, 7276, 11819, 5063, 12105, 6591, 4303, 9776, 9534, 1985, 269, 11005, 8764, 11176, 8405, 5501, 11537, 2482, 1213, 12039, 9352, 7755, 9349, 8603, 5578, 575, 7511, 769, 10514, 5587, 112, 2296, 6190, 8317, 1924, 1206, 672, 10179, 4149, 9503, 10854, 6571, 10827, 5265, 1728, 758, 11425, 9892, 10445, 4319, 9092, 10307, 10122, 10568, 667, 12265, 7977, 406, 4721, 12660, 5154, 8437, 343, 2941, 1523, 9508, 13016, 11495, 4346, 3993, 10041, 2160, 5691, 11849, 1079, 5783, 10128, 6665, 5113, 11800, 11512, 1133, 10267, 565, 4173, 9418, 12406, 710, 2085, 2238, 8576, 10401, 27, 5877, 6291, 8345, 4055, 12930, 3593, 12507, 5343, 9288, 5304, 12380, 6913, 10886, 4102, 9410, 11007, 12860, 8220, 5541, 3196, 8216, 8248, 1451, 4039, 1383, 11836, 9770, 2608, 4747, 11917, 11315, 12118, 2979, 3855, 7025, 11846, 10917, 8721, 6518, 5934, 9379, 2805, 7474, 5815, 7441, 7803, 13235, 10299, 7333, 4254, 2971, 10966, 7901, 10040, 654, 12354, 10141, 2854, 2452, 6603, 7047, 1789, 6165, 1230, 2632, 10602, 8225, 6628, 5651, 8852, 4275, 13225, 11378, 6602, 10946, 7348, 9763, 1259, 4570, 3798, 7841, 3944, 13189, 7712, 1567, 969, 6795, 9567, 9922, 8471, 2574, 12335, 11671, 7576, 11892, 7505, 7460, 12947, 4491, 46, 8481, 7925, 12018, 3594, 891, 12540, 11992, 9935, 1544, 4898, 4875, 1972, 9847, 8583, 853, 7463, 7537, 4821, 11762, 9254, 8193, 10413, 12573, 3790, 4891, 11656, 10964, 10960, 9140, 7588, 7250, 12971, 2512, 12587, 11949, 4051, 5553, 800, 11110, 13012, 6742, 12025, 3081, 4322, 9072, 6012, 9224, 6721, 2989, 12569, 10436, 12419, 5528, 7682, 7385, 11174, 2366, 6059, 2207, 11745, 2173, 3697, 11759, 2334, 5862, 12985, 7909, 8577, 8998, 4698, 2285, 7729, 11747, 5282, 12282, 11789, 484, 11621, 4496, 8890, 7130, 3154, 5728, 12799, 8530, 2120, 10434, 3621, 202, 1695, 8472, 12962, 10057, 5164, 5090, 8139, 7304, 10038, 11812, 986, 3189, 5355, 5903, 2706, 11480, 6932, 2063, 12463, 9322, 11172, 9614, 1406, 6567, 11093, 1655, 9769, 7918, 10398, 8194, 7623, 8802, 3659, 6181, 11141, 2182, 11569, 12928, 6053, 6660, 1136, 7156, 3800, 4401, 2051, 5019, 3475, 8281, 10130, 2241, 384, 2402, 2647, 1375, 2453, 5828, 8604, 7604, 11500, 11054, 12494, 3199, 2614, 4087, 5122, 8352, 11840, 525, 7687, 10142, 7491, 8804, 9479, 10174, 2600, 61, 3056, 3915, 8323, 12221, 4253, 10285, 10990, 425, 7449, 7922, 10129, 2820, 11866, 2370, 7293, 10043, 1903, 9836, 1450, 2388, 10103, 4455, 9483, 5325, 8708, 4534, 11763, 10840, 11325, 1177, 552, 11224, 1175, 9186, 2492, 1369, 11262, 2864, 12372, 3098, 10870, 12534, 170, 4089, 3681, 8829, 8026, 12423, 2221, 11115, 10745, 9230, 11197, 3916, 1701, 803, 12567, 11409, 4543, 2299, 1543, 1087, 13223, 4943, 527, 13355, 1855, 201, 9091, 3817, 7291, 3067, 1721, 12291, 2522, 1195, 10760, 5020, 4740, 3611, 4391, 3409, 220, 7906, 9059, 3447, 8009, 9930, 5931, 9261, 3690, 2509, 768, 7453, 4831, 10443, 1325, 9563, 12961, 2240, 1720, 13047, 3504, 5358, 10532, 5533, 3077, 12560, 2111, 11896, 11024, 11220, 7777, 5948, 8546, 6556, 12151, 5096, 262, 7961, 1485, 10020, 315, 8418, 8327, 8522, 1345, 8661, 3978, 11985, 52, 8165, 12184, 775, 5980, 7893, 5826, 2898, 10835, 9855, 1766, 7819, 1790, 689, 563, 4546, 8959, 9588, 3453, 12079, 11696, 9551, 12670, 9399, 2324, 1856, 12490, 1732, 2725, 3902, 2014, 764, 2875, 11542, 13289, 1833, 7789, 10761, 842, 2707, 6566, 6122, 11367, 5540, 4593, 5241, 12157, 89, 3527, 1579, 9571, 5609, 11355, 6207, 5960, 13143, 2532, 3063, 10354, 4519, 4553, 7231, 9089, 526, 6580, 887, 156, 7831, 10232, 3730, 1653, 13344, 3038, 6047, 2442, 8316, 12088, 7054, 5395, 1665, 9982, 5181, 11361, 1625, 5146, 6355, 3624, 10777, 6859, 12590, 704, 7530, 12070, 13000, 3982, 5408, 6592, 5073, 10060, 7014, 10214, 3715, 9546, 7556, 11967, 1850, 8502, 6163, 8219, 7104, 778, 5188, 8432, 1340, 8043, 2413, 1662, 6928, 9278, 12603, 9987, 4108, 6737, 4509, 3035, 541, 12417, 652, 12741, 8470, 11272, 7103, 10590, 3258, 443, 534, 3065, 9028, 9083, 1548, 6045, 261, 4208, 6892, 411, 2416, 3948, 1216, 929, 2352, 7078, 7799, 11703, 11950, 11239, 5885, 1069, 12579, 8179, 6123, 13092, 9969, 11973, 2484, 12368, 886, 2902, 350, 9319, 4340, 12348, 3023, 8305, 8092, 1118, 2427, 2392, 12389, 11214, 11341, 8396, 6555, 9765, 9997, 7480, 3412, 3301, 6100, 11286, 11616, 3949, 6920, 892, 11646, 674, 5439, 4752, 9894, 3364, 6897, 8011, 497, 2771, 9613, 12440, 3400, 12548, 6960, 2069, 13050, 10008, 1898, 11091, 11299, 10864, 12338, 4471, 11966, 8862, 8978, 7018, 10384, 3588, 2414, 6514, 10288, 7249, 7696, 5883, 5359, 8111, 11965, 12475, 7011, 923, 9069, 2857, 1335, 10243, 7244, 3714, 10686, 8209, 7145, 5645, 4644, 9134, 10510, 946, 5275, 6384, 8819, 8094, 4264, 13061, 9015, 8723, 4886, 13070, 12300, 4395, 9687, 6618, 6286, 3788, 9481, 7390, 4665, 6398, 3370, 2666, 13001, 11401, 12627, 4236, 77, 4343, 7428, 12200, 10365, 11075, 879, 12648, 844, 4713, 8230, 8221, 5168, 540, 4405, 5944, 8213, 4549, 2778, 708, 8171, 6369, 2639, 11297, 6689, 204, 4225, 1174, 779, 3274, 4104, 5673, 9424, 12165, 290, 2575, 5873, 3754, 339, 6805, 6497, 11397, 2433, 1066, 7058, 1448, 12029, 331, 12405, 7381, 10496, 12146, 2882, 8308, 9708, 7440, 12344, 10218, 693, 8832, 7866, 2185, 7742, 4246, 1671, 11052, 4868, 1324, 5222, 3143, 5821, 11309, 4936, 12742, 5566, 1089, 5367, 9619, 186, 12398, 2656, 289, 10837, 2982, 2193, 8716, 1558, 4226, 8875, 167, 12355, 568, 5858, 10791, 11247, 8729, 2891, 10613, 7624, 9368, 6319, 471, 1992, 7298, 7879, 8400, 3705, 8033, 9315, 3150, 6419, 9628, 8123, 12219, 7517, 9671, 8129, 11667, 10347, 6772, 4311, 2092, 6341, 12938, 9405, 4379, 1074, 9176, 3375, 9166, 7647, 3210, 357, 5876, 11427, 4069, 11019, 4600, 501, 10961, 478, 7945, 13164, 3722, 11851, 3813, 8590, 7238, 8504, 12122, 4949, 2101, 7926, 7852, 10221, 3782, 5111, 7120, 12353, 11113, 9391, 11580, 6863, 2853, 529, 7472, 8212, 5594, 7294, 12391, 2826, 8741, 8426, 11029, 8120, 4023, 10701, 286, 5459, 7628, 2525, 1919, 13262, 11825, 3401, 7312, 12073, 8994, 10417, 3100, 2597, 4733, 9871, 4121, 10920, 3663, 12453, 10023, 5284, 5759, 11479, 559, 9831, 8548, 1670, 1930, 10523, 13147, 7567, 12580, 3372, 6765, 12589, 8873, 6981, 5664, 5458, 10429, 7502, 6366, 3109, 10446, 3140, 5735, 7911, 848, 2020, 9568, 11059, 9229, 8983, 8108, 3740, 8613, 6813, 4558, 11706, 9800, 3513, 7606, 13276, 12864, 4768, 5047, 6209, 4596, 12812, 2731, 8095, 5143, 950, 6458, 6852, 12409, 8655, 10536, 4356, 12175, 11749, 8857, 4533, 10918, 4825, 6026, 9750, 6573, 3680, 8874, 785, 1928, 64, 7069, 2766, 7627, 6810, 7621, 11456, 11422, 2346, 6225, 10596, 1867, 948, 8427, 12921, 7010, 6915, 8854, 5280, 11510, 11364, 2317, 8858, 6579, 1575, 10611, 9193, 151, 3881, 147, 10481, 4196, 8397, 8498, 7763, 8702, 11057, 1100, 12623, 12311, 6582, 3572, 6257, 9845, 6791, 12739, 11253, 5471, 2258, 10410, 1710, 2084, 8168, 7208, 1887, 12154, 12422, 7844, 2957, 10383, 7850, 4948, 4201, 5891, 12818, 1099, 8516, 3179, 6105, 12100, 2650, 6392, 11336, 2604, 10014, 1454, 5101, 12578, 7102, 1820, 10371, 5723, 6000, 11518, 6471, 3469, 7143, 12951, 8201, 6427, 3104, 6395, 4510, 2245, 7791, 5278, 7140, 5569, 8181, 2218, 1948, 6763, 9835, 11193, 8891, 3387, 10271, 7837, 618, 2274, 11872, 3981, 11036, 12772, 5109, 119, 4993, 1085, 7601, 9929, 1886, 10277, 9540, 12913, 9247, 158, 12163, 12236, 11891, 274, 11592, 11767, 12869, 10899, 6777, 9859, 12916, 619, 2784, 2200, 723, 4288, 2889, 8538, 11358, 5133, 7943, 3089, 7254, 3685, 11127, 4339, 11373, 2158, 4650, 1097, 2002, 10584, 951, 9489, 7684, 5929, 6381, 11168, 3371, 4464, 10346, 7268, 6151, 8559, 9971, 3909, 502, 11450, 591, 2361, 4529, 10968, 11266, 1253, 3253, 10482, 7420, 8337, 12323, 11080, 1601, 11954, 7574, 4364, 9672, 12819, 3052, 5380, 13340, 4671, 6943, 13088, 8333, 2201, 12606, 6236, 7266, 12319, 6843, 12466, 2387, 11290, 7930, 8532, 6323, 10412, 10972, 5576, 13062, 9621, 12771, 6239, 13196, 10254, 431, 8618, 6954, 8593, 7798, 142, 3702, 12715, 203, 8068, 2288, 901, 11271, 738, 3892, 532, 12836, 8292, 3414, 11885, 11908, 5852, 5024, 3880, 10116, 4865, 100, 10962, 6264, 553, 1761, 10123, 8100, 6552, 1605, 11026, 4214, 10612, 5362, 2676, 5637, 1577, 5495, 1955, 12747, 5409, 11412, 13023, 3765, 11140, 1415, 11484, 9738, 10531, 12789, 6293, 8154, 2249, 2591, 94, 10508, 11278, 6170, 253, 12701, 9867, 10337, 8090, 9820, 6633, 9402, 3487, 2372, 9215, 4661, 6681, 1318, 2026, 913, 294, 3923, 748, 13162, 6278, 6082, 2476, 3992, 5281, 11953, 190, 11469, 8640, 2901, 2326, 6235, 8374, 4966, 1617, 9214, 9973, 8544, 2997, 7549, 8053, 12448, 622, 4562, 11078, 1644, 9309, 9527, 11854, 1595, 7784, 2242, 2861, 340, 2098, 1777, 7752, 5232, 4632, 841, 2978, 1409, 593, 6549, 3391, 5977, 8660, 1040, 1970, 1959, 5217, 3376, 4695, 3507, 12842, 188, 2144, 10148, 2667, 5410, 9745, 5315, 463, 4611, 9366, 1425, 6263, 8687, 2586, 3739, 4680, 12426, 4026, 4257, 10386, 12837, 5252, 3532, 3541, 7582, 8351, 12412, 12702, 5476, 3166, 2384, 4525, 6102, 9154, 2121, 1372, 8036, 9301, 9583, 2439, 85, 3303, 1078, 1428, 10037, 4129, 307, 11597, 2721, 9076, 3185, 1186, 8839, 10210, 12583, 3208, 10506, 2214, 5764, 1907, 4252, 13180, 584, 10505, 3238, 8803, 6255, 10993, 4876, 4054, 8759, 6968, 4849, 1223, 2148, 11388, 10280, 1781, 12014, 11461, 7013, 539, 12538, 5372, 8381, 13157, 6847, 10193, 11734, 12628, 1302, 1807, 4332, 10423, 8039, 8595, 3587, 12396, 12110, 377, 369, 1028, 7833, 12171, 10501, 12505, 11944, 12700, 9344, 1759, 8570, 12666, 12117, 4273, 2286, 5743, 7124, 2572, 2759, 1093, 830, 8483, 6994, 5660, 3177, 11746, 10217, 7089, 10696, 3449, 3228, 321, 6793, 9044, 2777, 11390, 5824, 1002, 5718, 4922, 2005, 10512, 1034, 761, 2710, 5856, 11964, 8779, 7160, 9420, 10533, 9380, 10902, 11285, 3998, 9807, 2198, 7389, 11482, 11610, 6173, 11988, 13083, 9742, 7579, 4185, 1711, 6230, 4015, 3862, 7209, 12552, 5530, 5834, 4350, 5228, 12404, 13116, 1108, 6849, 10509, 6215, 386, 4905, 5477, 12094, 12620, 2082, 9000, 360, 3842, 10019, 1261, 12113, 4373, 11801, 9780, 3078, 424, 2145, 4882, 4459, 414, 439, 1452, 2708, 10255, 9924, 5185, 13069, 1883, 7253, 3369, 2425, 4478, 9505, 5229, 2835, 9746, 7714, 3748, 10690, 3696, 7435, 6253, 9265, 8253, 12810, 5440, 978, 7913, 10805, 11889, 2407, 6980, 4647, 4688, 3785, 8373, 2635, 4177, 9882, 9173, 2996, 4301, 4682, 4785, 9854, 833, 4001, 11921, 1580, 11771, 9187, 4180, 4929, 662, 9469, 5153, 2059, 11847, 2118, 4577, 4808, 2466, 5338, 3546, 11394, 13302, 7946, 3704, 11722, 1712, 2899, 7951, 8787, 6834, 1565, 4885, 3795, 10896, 2457, 8048, 6329, 12605, 10556, 3289, 8996, 11244, 7180, 11705, 11051, 11331, 790, 11171, 10546, 11152, 10851, 12044, 7024, 607, 12119, 6801, 8724, 13048, 7939, 2192, 6608, 5678, 10667, 5600, 7115, 6137, 1754, 11246, 1987, 6344, 2307, 6975, 5092, 13304, 6916, 12041, 4576, 6585, 3337, 9662, 5151, 11177, 10718, 6436, 2788, 7524, 196, 4980, 8425, 6474, 4449, 6070, 3297, 7721, 1594, 9914, 11101, 6150, 4100, 9598, 6779, 8349, 11701, 5763, 7345, 1252, 13171, 1994, 10517, 999, 11050, 11617, 8072, 9095, 2657, 1687, 7520, 6431, 1520, 3276, 3646, 6884, 1996, 6399, 4175, 12895, 10189, 4923, 5627, 12278, 12078, 6595, 4965, 6715, 11631, 7109, 1619, 6024, 2153, 2844, 12901, 617, 10575, 10867, 7462, 12848, 12181, 8091, 1666, 2846, 3555, 3221, 12918, 5243, 5861, 6725, 12791, 3374, 11576, 5192, 12445, 5035, 12521, 514, 9158, 9920, 10348, 10275, 6587, 11670, 13345, 12577, 4269, 6748, 348, 781, 12998, 12559, 6904, 4958, 6496, 4095, 6817, 4910, 3927, 1582, 7550, 10957, 11574, 11088, 3451, 3443, 9449, 1478, 6511, 8557, 2698, 3102, 11099, 5173, 10405, 7332, 2495, 5081, 3110, 10995, 6033, 7950, 3267, 13055, 10739, 10604, 9144, 270, 155, 3271, 3901, 8571, 9686, 6015, 1006, 1394, 2848, 5607, 6001, 12737, 12320, 13238, 3953, 2690, 7908, 7812, 4042, 11875, 11637, 8270, 12725, 4512, 6312, 9651, 1532, 8030, 4804, 10911, 6818, 11371, 13005, 3672, 679, 9463, 1660, 6320, 8902, 8335, 7675, 11932, 12654, 3786, 5686, 4427, 4970, 11715, 13191, 5932, 8677, 2872, 12780, 7439, 1466, 13122, 10004, 4124, 2774, 6893, 11004, 4628, 8324, 13227, 12984, 12995, 1361, 5631, 4224, 3700, 3780, 2569, 11259, 394, 889, 3368, 2829, 4998, 1081, 7101, 12411, 4757, 11374, 6127, 1333, 8004, 1317, 3610, 10317, 5276, 10997, 3590, 8025, 10589, 1239, 10537, 7137, 1200, 13102, 1763, 320, 1731, 4590, 6990, 6662, 1113, 8856, 8962, 7035, 8573, 10910, 7988, 1981, 3483, 3174, 7558, 6088, 6302, 920, 4082, 12369, 10638, 13249, 9477, 5195, 2683, 13150, 7573, 9236, 8622, 5316, 6784, 9194, 3820, 7062, 13197, 7954, 984, 4456, 7242, 6895, 2460, 834, 1854, 7887, 4913, 1623, 12558, 976, 10763, 8511, 2354, 628, 1802, 4718, 4817, 7275, 10005, 6535, 9183, 5615, 4036, 11711, 6243, 8188, 7934, 6333, 13118, 5994, 8015, 981, 3336, 2150, 11874, 231, 9453, 11504, 2870, 4971, 8984, 11166, 5015, 153, 11961, 9988, 1045, 11743, 7790, 11644, 6378, 12672, 9412, 2585, 13042, 13002, 3493, 9995, 10874, 10930, 12638, 1173, 12879, 10339, 1266, 5462, 7981, 1077, 6510, 10619, 8665, 6883, 7843, 11375, 6111, 1265, 9744, 8632, 12447, 12662, 5026, 12449, 6007, 4003, 8449, 1149, 10451, 1945, 5121, 12455, 2390, 12454, 13326, 4390, 1918, 4293, 1494, 2757, 5296, 3643, 7609, 6695, 3223, 9251, 1298, 2985, 12868, 10628, 7451, 3151, 6148, 10803, 11111, 7679, 6099, 380, 3520, 3087, 11212, 4791, 9113, 12528, 8960, 4773, 11232, 12777, 7715, 9767, 12131, 8065, 2159, 4482, 1637, 6091, 1831, 4889, 3599, 9899, 2316, 3736, 646, 6878, 10691, 8849, 90, 13265, 8990, 13236, 12840, 634, 1864, 3983, 6249, 3093, 12514, 2468, 8607, 967, 7087, 7452, 1331, 1008, 5478, 8713, 1663, 4861, 88, 12731, 9437, 11643, 11629, 1408, 7423, 5238, 4827, 9524, 11410, 9791, 10390, 3403, 10231, 5842, 8586, 9777, 1547, 7426, 7804, 10170, 504, 259, 6068, 9978, 4765, 6421, 1101, 3713, 8017, 3505, 6379, 11451, 3212, 10830, 2756, 422, 3925, 9269, 3528, 4439, 6502, 12893, 3382, 12704, 1029, 11803, 491, 7642, 5919, 5288, 5250, 5159, 4816, 10784, 171, 4287, 11661, 7680, 7652, 1768, 11761, 3059, 2682, 9068, 13099, 1889, 11022, 12116, 9128, 11137, 43, 5057, 752, 281, 6467, 10363, 6456, 455, 531, 3525, 9832, 5114, 4217, 10606, 7508, 1154, 7358, 10558, 10703, 11565, 1736, 10849, 5829, 2188, 3694, 5726, 934, 5340, 4881, 8895, 4759, 9739, 12269, 7257, 8047, 1070, 11476, 7282, 13280, 5279, 2850, 1166, 1568, 6621, 8610, 2817, 3747, 6280, 8384, 13260, 9221, 8922, 5489, 11669, 9513, 3363, 11596, 83, 9354, 3924, 2359, 1946, 3421, 4937, 8728, 5539, 1151, 7713, 6290, 3202, 8318, 265, 2262, 6814, 12260, 13218, 9153, 627, 12162, 8203, 7371, 4191, 7825, 4738, 1964, 10705, 9931, 6731, 9071, 10224, 2830, 8865, 3935, 1430, 11129, 7378, 10704, 6172, 8484, 5370, 11550, 11444, 8296, 5621, 13295, 4410, 4778, 12126, 4743, 195, 11614, 287, 12757, 12431, 10913, 10048, 1287, 1814, 1838, 3225, 403, 9299, 1124, 12607, 1392, 5435, 1010, 5251, 908, 647, 9577, 1684, 9400, 8578, 8707, 11339, 1753, 3090, 7587, 7634, 1741, 8656, 5565, 6988, 11087, 12600, 4321, 4581, 9074, 3144, 12919, 7340, 3806, 515, 11682, 11107, 76, 4921, 9179, 1500, 12610, 2362, 11797, 809, 3910, 223, 250, 4844, 1472, 9626, 1388, 9639, 12365, 5012, 5733, 3380, 4372, 10497, 5360, 11037, 7560, 12307, 3423, 13065, 2533, 6322, 3334, 3778, 416, 838, 10794, 242, 1839, 9136, 7848, 4279, 13285, 1158, 390, 6541, 11662, 12471, 5317, 6224, 8478, 11611, 13348, 958, 2395, 2776, 10719, 9581, 8986, 1169, 11538, 2816, 2312, 12712, 1965, 1105, 5672, 6041, 3241, 5056, 7074, 9858, 54, 2819, 9884, 11109, 1059, 8611, 8979, 5310, 5066, 9029, 8229, 2932, 2717, 10375, 11930, 7374, 5313, 9277, 9653, 9070, 9367, 7782, 8789, 9335, 5097, 11796, 12258, 2750, 5865, 6185, 6275, 4750, 6575, 10697, 577, 10225, 5270, 7157, 6005, 6479, 5939, 10857, 10420, 5996, 5987, 2811, 4299, 5406, 6316, 5221, 7665, 208, 9958, 10461, 4678, 6938, 2876, 7350, 7335, 8718, 6505, 63, 12288, 12374, 4090, 8684, 5132, 5874, 9143, 3709, 1944, 6324, 12222, 1690, 6461, 9333, 4402, 6494, 10617, 13045, 6917, 12874, 2058, 2041, 11073, 7902, 2480, 1245, 3733, 1400, 9689, 11352, 4074, 8421, 6124, 5005, 1365, 8772, 56, 2906, 448, 3468, 933, 1342, 9910, 6796, 1873, 3080, 8099, 6856, 2672, 2703, 4136, 11585, 5216, 1049, 1475, 8423, 12681, 1749, 4864, 9323, 9736, 8495, 6559, 6503, 2521, 12168, 10757, 9036, 11835, 4945, 3085, 225, 7048, 3565, 5328, 7836, 10580, 7237, 4857, 8000, 193, 3139, 8420, 6562, 6307, 9957, 6967, 8667, 3932, 5273, 4887, 11736, 7046, 10236, 1661, 8552, 6487, 4125, 6229, 6680, 3637, 5084, 583, 2418, 7215, 11752, 4954, 8606, 10326, 5480, 2791, 8954, 10861, 2303, 4858, 9264, 3245, 2248, 11485, 7325, 3615, 11725, 3984, 325, 9707, 9180, 1051, 6351, 8634, 8781, 1457, 1748, 4818, 10044, 10483, 8893, 1941, 5722, 10211, 6538, 5971, 7736, 8614, 9371, 101, 272, 1932, 3022, 2267, 4466, 1908, 6577, 5087, 1442, 12276, 12196, 1799, 6375, 6927, 1389, 1703, 5000, 1535, 8276, 12509, 4211, 3679, 12554, 3613, 7198, 11106, 7311, 10226, 1030, 12905, 5267, 6632, 4883, 1487, 2246, 12259, 7442, 11281, 7394, 8002, 11092, 8286, 6973, 10322, 11363, 2973, 11411, 4580, 4638, 7434, 7873, 13219, 110, 8274, 8785, 9331, 991, 4539, 12470, 8383, 6252, 9656, 945, 271, 7555, 3030, 10377, 5559, 3229, 9578, 7698, 4396, 4848, 8246, 8989, 6481, 3783, 8050, 11805, 5544, 4524, 11924, 6008, 9339, 12847, 2904, 6761, 4376, 3759, 10463, 2645, 11202, 11187, 11534, 7020, 3897, 1148, 11501, 12137, 6271, 1362, 7149, 11218, 5018, 3510, 6526, 6929, 12773, 7641, 645, 11887, 12802, 746, 8835, 1537, 144, 8251, 5993, 8152, 720, 8592, 12444, 13252, 7562, 5760, 6325, 143, 4873, 1432, 8055, 9941, 2178, 3445, 6896, 12234, 3701, 1421, 7316, 4325, 8885, 7518, 10943, 12723, 7689, 7760, 12156, 10262, 9510, 2724, 2907, 12673, 6189, 9862, 4308, 4209, 11940, 706, 5193, 7159, 2043, 3974, 8273, 7735, 9011, 4932, 6110, 1214, 2909, 10252, 1486, 7479, 6860, 8970, 2598, 12915, 7410, 12203, 2369, 13098, 9782, 12866, 10647, 9220, 6420, 5729, 11124, 5258, 12686, 10627, 9732, 8450, 2697, 4686, 2933, 3673, 5187, 8815, 7751, 7085, 4634, 13089, 3441, 5484, 11792, 4990, 10766, 375, 5585, 11208, 610, 6867, 1471, 8347, 8037, 4963, 9065, 8628, 9303, 8153, 4025, 10185, 4331, 5963, 8602, 5400, 2548, 10711, 7187, 6762, 6158, 5219, 10708, 1545, 2629, 8387, 2956, 9211, 2625, 1412, 5014, 12272, 5196, 11880, 12591, 10659, 5679, 7577, 12794, 8938, 109, 7269, 2596, 2611, 12859, 4416, 1533, 12349, 9116, 1902, 5050, 11754, 7569, 12991, 11753, 11620, 5457, 918, 10773, 5779, 9785, 2913, 12904, 8930, 11226, 7732, 5040, 10547, 792, 1934, 1805, 4605, 12668, 12849, 1326, 6450, 7368, 6979, 232, 6328, 1167, 5751, 13073, 776, 5337, 11645, 1557, 4708, 10646, 12599, 7, 4300, 19, 12202, 5889, 6764, 4330, 1024, 8140, 37, 12720, 11076, 3922, 10872, 5924, 7418, 9302, 11733, 472, 13347, 11970, 3009, 213, 8500, 6543, 11170, 4070, 5335, 9213, 11890, 118, 8957, 11898, 9868, 3215, 9429, 3002, 11564, 12982, 4005, 12763, 4204, 1184, 6759, 11230, 10669, 423, 7313, 358, 5426, 6829, 13090, 10006, 11827, 1092, 4742, 11474, 12574, 8074, 4181, 6197, 10554, 8889, 3187, 7707, 12057, 12071, 3617, 13172, 11830, 10118, 4951, 7921, 7008, 6441, 960, 5599, 12581, 7481, 9488, 732, 9047, 1860, 8186, 3660, 8147, 12782, 7429, 5504, 7646, 11079, 4521, 7006, 3835, 2884, 6983, 696, 12036, 510, 7708, 9827, 1650, 9818, 12022, 4751, 11651, 5777, 1651, 5556, 11598, 3148, 7509, 11925, 8696, 4846, 1750, 11698, 8424, 9475, 13120, 2030, 12166, 6383, 6408, 9630, 3116, 1187, 11873, 5102, 7183, 9844, 6162, 405, 2961, 4472, 13104, 2044, 11710, 8338, 5799, 7692, 11786, 750, 5843, 2832, 7806, 5669, 8350, 12775, 2229, 9981, 12013, 6771, 10519, 3928, 5444, 10607, 8659, 9019, 12939, 5231, 8719, 3262, 8731, 912, 1725, 2447, 7829, 13112, 1849, 4683, 10865, 926, 5806, 12256, 8314, 9521, 11114, 13195, 12546, 2403, 3539, 6902, 989, 8411, 8981, 10565, 2934, 7261, 5748, 8778, 12646, 11865, 11897, 10730, 6269, 12302, 9666, 2841, 1044, 8189, 10000, 3378, 8766, 1627, 5291, 11554, 661, 8594, 10950, 11653, 1493, 11213, 12035, 9984, 13082, 3259, 10955, 9401, 302, 6336, 4701, 3946, 8654, 11349, 11782, 5958, 4186, 739, 7094, 1698, 1836, 10039, 5803, 640, 12888, 291, 9298, 2794, 6947, 12172, 8733, 3962, 6890, 743, 11245, 8644, 11186, 12479, 12007, 2313, 3609, 11804, 2514, 11293, 3641, 2507, 6411, 10334, 6327, 12531, 4294, 5170, 3471, 9631, 2289, 6020, 12488, 12530, 599, 5882, 7392, 10399, 9757, 10308, 6486, 2922, 555, 11216, 1043, 3242, 11157, 4669, 4624, 8903, 1550, 8645, 12199, 205, 6159, 9078, 3124, 189, 1673, 8430, 10258, 9383, 5160, 4172, 9281, 5046, 11798, 9749, 13241, 7522, 7987, 6475, 7659, 7734, 2027, 10419, 3277, 9891, 6830, 12954, 5520, 11823, 2692, 9112, 3427, 588, 9395, 8682, 7365, 9852, 4805, 1606, 2803, 13011, 9963, 12267, 9359, 2626, 2590, 4517, 2727, 12615, 12051, 8479, 2808, 9603, 1956, 7184, 2654, 4277, 5571, 12308, 2831, 9802, 7400, 10904, 507, 7307, 12685, 691, 12585, 11274, 12424, 4091, 753, 8871, 8870, 9108, 13123, 10058, 6465, 7030, 8073, 1001, 4140, 12452, 12208, 7932, 7412, 13015, 486, 5981, 4969, 4763, 4457, 10956, 2924, 4126, 1235, 12963, 7000, 3777, 8290, 7272, 2663, 6910, 12286, 2032, 7512, 3575, 12692, 8510, 6757, 6361, 8950, 7854, 8648, 10310, 10944, 465, 7252, 338, 7206, 11541, 11328, 6701, 4393, 12356, 2297, 4956, 1622, 12253, 4696, 169, 4944, 3012, 2222, 7864, 11228, 11342, 353, 53, 3580, 12959, 9026, 4058, 3499, 5681, 11249, 113, 9262, 1000, 2642, 6537, 3707, 1390, 3311, 3290, 1521, 8945, 9654, 6850, 11774, 6870, 3874, 2540, 4163, 2472, 6149, 1311, 5955, 5577, 12120, 10114, 5028, 8404, 13165, 8434, 6028, 1440, 3248, 8312, 12663, 8706, 239, 5147, 12145, 5283, 11553, 12346, 9618, 9926, 2855, 8955, 13173, 8403, 9833, 8378, 11818, 7202, 8807, 12361, 11241, 8035, 4899, 103, 6833, 9507, 3967, 10788, 8143, 10935, 10279, 7658, 1834, 2057, 3764, 8402, 6112, 9838, 9825, 7279, 8082, 10712, 12143, 9676, 3677, 1909, 8359, 12830, 7643, 606, 9242, 3866, 11008, 4223, 9768, 5224, 10315, 2174, 9812, 1058, 712, 3872, 173, 7994, 5503, 12192, 4028, 5138, 9842, 9822, 9397, 12491, 7772, 13096, 8190, 731, 2974, 2461, 10655, 11604, 3577, 4909, 11983, 12190, 924, 3121, 9197, 9869, 12325, 11755, 6886, 11306, 4939, 11831, 9641, 4518, 5233, 4078, 9615, 7017, 4436, 12652, 8646, 7835, 13009, 10700, 2700, 6614, 7991, 12140, 4452, 468, 4407, 10359, 8799, 1923, 8442, 8736, 11066, 3841, 13230, 5765, 10889, 686, 1014, 8944, 5135, 5390, 6724, 3054, 2018, 9250, 2266, 6501, 2722, 168, 4347, 75, 4985, 11149, 590, 1516, 4557, 11416, 10126, 8964, 3997, 14, 3583, 2539, 5752, 4606, 10183, 804, 9774, 3237, 814, 9356, 2562, 856, 7529, 1874, 10028, 5548, 10992, 6067, 10894, 5331, 7860, 120, 1937, 824, 7737, 7045, 7575, 8136, 7840, 10663, 11657, 12523, 12770, 9714, 417, 4764, 2557, 7461, 7073, 145, 11334, 1526, 12247, 10750, 17, 6565, 3043, 7787, 2094, 1615, 537, 9905, 9279, 10349, 9552, 11507, 7694, 6942, 2760, 8208, 8024, 13247, 10808, 10212, 12857, 166, 1013, 6969, 604, 13100, 8833, 10850, 9711, 11362, 1046, 4608, 8299, 4278, 11914, 1247, 9938, 12899, 5935, 211, 4065, 8183, 8199, 7980, 2764, 2728, 10937, 5527, 5161, 11791, 8340, 3207, 10469, 300, 9726, 10034, 8084, 3562, 5990, 5034, 1304, 8541, 12050, 7091, 2530, 1439, 12240, 3684, 9851, 4871, 12778, 2929, 10549, 1041, 127, 1863, 3358, 3033, 11674, 6631, 10717, 8508, 3092, 6534, 3256, 2991, 13338, 9794, 7802, 8973, 11143, 8940, 3286, 3328, 10853, 2209, 7232, 2863, 2467, 5211, 10741, 3766, 9549, 7668, 10492, 2622, 9604, 11650, 523, 3254, 3050, 2270, 2975, 3233, 4229, 2196, 3070, 11472, 721, 2729, 11167, 7726, 278, 3771, 10309, 9172, 727, 1270, 10521, 4251, 4640, 7613, 5424, 10715, 7504, 2230, 9312, 733, 6692, 522, 8087, 8445, 636, 3805, 4387, 612, 11969, 7066, 6962, 7171, 8202, 4408, 11503, 11713, 11960, 12993, 3057, 1810, 8943, 10834, 3658, 6160, 9334, 10362, 10229, 5938, 5674, 7710, 6637, 12790, 2399, 10948, 329, 2775, 6698, 7197, 1278, 4400, 2695, 2117, 7067, 11984, 1562, 1254, 6919, 3517, 12986, 3585, 4166, 2211, 11788, 5545, 3921, 3821, 10640, 4609, 12883, 5591, 3091, 9406, 13275, 8813, 8375, 1328, 7126, 1444, 7870, 8052, 7356, 11403, 12871, 1498, 12792, 2928, 9232, 4587, 8825, 1554, 7983, 5043, 9542, 6740, 12005, 6037, 10823, 5373, 4389, 3130, 10807, 8662, 4663, 181, 8302, 5045, 2897, 2740, 3986, 3650, 7070, 3155, 4123, 7413, 8006, 6459, 13334, 1913, 7386, 5988, 9046, 12106, 4367, 13333, 6533, 904, 2499, 9900, 3951, 11369, 10879, 469, 9321, 5348, 11011, 1816, 5654, 5941, 10978, 13351, 3512, 2734, 3530, 11691, 9465, 4564, 6220, 6941, 9106, 3930, 509, 5998, 5299, 3500, 5768, 7546, 9504, 10637, 3341, 10587, 3460, 1527, 8142, 5816, 5786, 6164, 12107, 2340, 5174, 9484, 2712, 6402, 3832, 5911, 7341, 797, 3470, 11280, 10154, 1787, 10529, 2620, 11385, 6815, 8823, 5776, 8800, 4890, 12846, 13300, 3649, 5401, 11910, 11577, 5747, 11630, 9209, 4109, 7590, 11718, 9661, 314, 8101, 11060, 3708, 3883, 5425, 12897, 12390, 7040, 2804, 10166, 5984, 3137, 4926, 937, 3600, 2380, 3716, 4689, 8078, 12250, 4192, 1357, 4625, 6651, 684, 970, 10021, 8482, 2343, 11594, 254, 6684, 9625, 11417, 13063, 1289, 6758, 8846, 8089, 2675, 12083, 11912, 4061, 1057, 5289, 1054, 12351, 4487, 2349, 5396, 503, 3963, 4629, 5002, 7968, 8650, 9266, 12134, 1853, 4291, 2115, 7935, 12167, 6645, 10657, 5375, 5388, 11695, 1032, 13203, 1826, 4002, 2295, 10352, 9983, 10790, 11858, 5602, 3878, 9452, 6686, 12671, 9051, 10478, 9245, 5677, 5158, 2581, 7448, 10195, 4730, 5818, 2327, 1529, 4044, 802, 2199, 6989, 573, 5451, 12371, 12697, 11826, 4942, 5481, 5608, 7622, 1250, 2233, 10404, 5393, 9960, 7315, 1674, 6866, 9157, 5307, 8926, 9758, 12675, 13056, 5888, 1422, 9502, 5612, 7142, 12941, 5774, 2449, 744, 11123, 4961, 1192, 1484, 13239, 1244, 1969, 7853, 956, 8071, 5207, 179, 6126, 11179, 9287, 6178, 1185, 10364, 4155, 9937, 3582, 13187, 8841, 3501, 12066, 4809, 953, 11990, 4009, 8709, 2744, 7592, 11607, 4182, 2513, 3305, 965, 5, 7403, 9196, 2004, 7501, 1050, 8921, 3518, 7296, 8001, 13177, 445, 12315, 7285, 1075, 10541, 10931, 11256, 10736, 1585, 4601, 6532, 4516, 10369, 5411, 10291, 11704, 11204, 7295, 9843, 1882, 65, 1778, 4497, 1983, 5044, 12193, 5352, 3329, 2124, 6525, 12694, 5314, 11744, 5303, 3355, 7949, 8976, 7533, 8997, 11053, 5262, 1123, 5967, 2648, 13141, 6087, 7354, 10550, 7948, 8466, 4424, 9956, 633, 10755, 9773, 11888, 11945, 5041, 3779, 5917, 3024, 5788, 7738, 7711, 8639, 1082, 10430, 11884, 3324, 12952, 12933, 10765, 2050, 467, 9361, 10892, 1949, 2802, 7681, 5054, 3178, 6476, 7287, 2162, 13243, 5039, 7667, 11083, 4619, 6551, 4933, 1868, 766, 5930, 8620, 9415, 1974, 13286, 9597, 6827, 6231, 8775, 3433, 7083, 11533, 8822, 9948, 9353, 777, 2793, 7084, 5469, 5920, 10914, 4994, 10675, 2311, 8580, 4820, 10366, 10452, 1954, 7034, 6338, 5974, 3045, 3519, 6984, 5318, 1131, 11307, 9792, 12990, 4893, 4801, 7818, 4975, 7811, 9781, 2905, 8455, 426, 9575, 5042, 10984, 8279, 5667, 4148, 11907, 12362, 9430, 1796, 1793, 7971, 10610, 183, 5999, 2308, 3250, 44, 5298, 9721, 2291, 8355, 11464, 6820, 9496, 9227, 9840, 2365, 11323, 12748, 2894, 8476, 2914, 12201, 10186, 10245, 2070, 7112, 10301, 3569, 2726, 349, 10783, 7824, 5807, 5808, 8887, 11348, 6460, 868, 9462, 1830, 1559, 7923, 3792, 10396, 3773, 12268, 2761, 5979, 5868, 11126, 10054, 8941, 8151, 13148, 4795, 6004, 6650, 3581, 5692, 185, 6754, 1510, 10145, 4422, 5505, 10304, 4541, 6136, 6506, 742, 9959, 4914, 1356, 2873, 222, 8250, 6139, 1588, 454, 682, 12102, 7080, 2995, 3506, 9249, 11125, 11273, 4167, 7405, 6769, 7207]\n"
     ]
    }
   ],
   "source": [
    "recommends = list(pd.Series(ans.sort_values(ascending=False).index))\n",
    "print(recommends)"
   ]
  },
  {
   "cell_type": "code",
   "execution_count": 21,
   "metadata": {},
   "outputs": [
    {
     "data": {
      "text/plain": [
       "0.4774557054042816"
      ]
     },
     "execution_count": 21,
     "metadata": {},
     "output_type": "execute_result"
    }
   ],
   "source": []
  },
  {
   "cell_type": "code",
   "execution_count": null,
   "metadata": {},
   "outputs": [],
   "source": []
  }
 ],
 "metadata": {
  "kernelspec": {
   "display_name": "Python 3",
   "language": "python",
   "name": "python3"
  },
  "language_info": {
   "codemirror_mode": {
    "name": "ipython",
    "version": 3
   },
   "file_extension": ".py",
   "mimetype": "text/x-python",
   "name": "python",
   "nbconvert_exporter": "python",
   "pygments_lexer": "ipython3",
   "version": "3.7.2"
  }
 },
 "nbformat": 4,
 "nbformat_minor": 4
}
