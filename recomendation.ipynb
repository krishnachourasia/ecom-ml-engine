{
 "cells": [
  {
   "cell_type": "code",
   "execution_count": 29,
   "metadata": {},
   "outputs": [
    {
     "name": "stdout",
     "output_type": "stream",
     "text": [
      "['category_tree.csv', 'events.csv', 'item_properties_part1.csv', 'item_properties_part2.csv']\n"
     ]
    }
   ],
   "source": [
    "import numpy as np\n",
    "import pandas as pd\n",
    "import matplotlib.pyplot as plt\n",
    "import seaborn as sns\n",
    "\n",
    "\n",
    "# Checking files data files\n",
    "import os\n",
    "print(os.listdir(\"ecommerce-dataset\"))"
   ]
  },
  {
   "cell_type": "code",
   "execution_count": 6,
   "metadata": {},
   "outputs": [
    {
     "data": {
      "text/html": [
       "<div>\n",
       "<style scoped>\n",
       "    .dataframe tbody tr th:only-of-type {\n",
       "        vertical-align: middle;\n",
       "    }\n",
       "\n",
       "    .dataframe tbody tr th {\n",
       "        vertical-align: top;\n",
       "    }\n",
       "\n",
       "    .dataframe thead th {\n",
       "        text-align: right;\n",
       "    }\n",
       "</style>\n",
       "<table border=\"1\" class=\"dataframe\">\n",
       "  <thead>\n",
       "    <tr style=\"text-align: right;\">\n",
       "      <th></th>\n",
       "      <th>timestamp</th>\n",
       "      <th>itemid</th>\n",
       "      <th>property</th>\n",
       "      <th>value</th>\n",
       "    </tr>\n",
       "  </thead>\n",
       "  <tbody>\n",
       "    <tr>\n",
       "      <th>10989</th>\n",
       "      <td>1439089200000</td>\n",
       "      <td>183697</td>\n",
       "      <td>888</td>\n",
       "      <td>231316 237874 610517 n108.000 424566 784581 12...</td>\n",
       "    </tr>\n",
       "    <tr>\n",
       "      <th>10990</th>\n",
       "      <td>1441508400000</td>\n",
       "      <td>337184</td>\n",
       "      <td>978</td>\n",
       "      <td>684814 234274</td>\n",
       "    </tr>\n",
       "    <tr>\n",
       "      <th>10991</th>\n",
       "      <td>1433646000000</td>\n",
       "      <td>55909</td>\n",
       "      <td>888</td>\n",
       "      <td>1072784</td>\n",
       "    </tr>\n",
       "    <tr>\n",
       "      <th>10992</th>\n",
       "      <td>1431226800000</td>\n",
       "      <td>209920</td>\n",
       "      <td>764</td>\n",
       "      <td>1285872</td>\n",
       "    </tr>\n",
       "    <tr>\n",
       "      <th>10993</th>\n",
       "      <td>1432436400000</td>\n",
       "      <td>257606</td>\n",
       "      <td>888</td>\n",
       "      <td>1280825</td>\n",
       "    </tr>\n",
       "    <tr>\n",
       "      <th>10994</th>\n",
       "      <td>1431226800000</td>\n",
       "      <td>329250</td>\n",
       "      <td>available</td>\n",
       "      <td>0</td>\n",
       "    </tr>\n",
       "    <tr>\n",
       "      <th>10995</th>\n",
       "      <td>1440298800000</td>\n",
       "      <td>387609</td>\n",
       "      <td>available</td>\n",
       "      <td>1</td>\n",
       "    </tr>\n",
       "    <tr>\n",
       "      <th>10996</th>\n",
       "      <td>1437274800000</td>\n",
       "      <td>94406</td>\n",
       "      <td>790</td>\n",
       "      <td>n306720.000</td>\n",
       "    </tr>\n",
       "    <tr>\n",
       "      <th>10997</th>\n",
       "      <td>1431226800000</td>\n",
       "      <td>337872</td>\n",
       "      <td>categoryid</td>\n",
       "      <td>1113</td>\n",
       "    </tr>\n",
       "    <tr>\n",
       "      <th>10998</th>\n",
       "      <td>1435460400000</td>\n",
       "      <td>334542</td>\n",
       "      <td>451</td>\n",
       "      <td>1141052 n36.000</td>\n",
       "    </tr>\n",
       "  </tbody>\n",
       "</table>\n",
       "</div>"
      ],
      "text/plain": [
       "           timestamp  itemid    property  \\\n",
       "10989  1439089200000  183697         888   \n",
       "10990  1441508400000  337184         978   \n",
       "10991  1433646000000   55909         888   \n",
       "10992  1431226800000  209920         764   \n",
       "10993  1432436400000  257606         888   \n",
       "10994  1431226800000  329250   available   \n",
       "10995  1440298800000  387609   available   \n",
       "10996  1437274800000   94406         790   \n",
       "10997  1431226800000  337872  categoryid   \n",
       "10998  1435460400000  334542         451   \n",
       "\n",
       "                                                   value  \n",
       "10989  231316 237874 610517 n108.000 424566 784581 12...  \n",
       "10990                                      684814 234274  \n",
       "10991                                            1072784  \n",
       "10992                                            1285872  \n",
       "10993                                            1280825  \n",
       "10994                                                  0  \n",
       "10995                                                  1  \n",
       "10996                                        n306720.000  \n",
       "10997                                               1113  \n",
       "10998                                    1141052 n36.000  "
      ]
     },
     "execution_count": 6,
     "metadata": {},
     "output_type": "execute_result"
    }
   ],
   "source": [
    "## loading items dataset\n",
    "items = pd.read_csv(\"ecommerce-dataset/item_properties_part1.csv\")\n",
    "items = items[:10999]\n",
    "items.tail(10)"
   ]
  },
  {
   "cell_type": "code",
   "execution_count": 7,
   "metadata": {},
   "outputs": [
    {
     "data": {
      "text/plain": [
       "(10999, 4)"
      ]
     },
     "execution_count": 7,
     "metadata": {},
     "output_type": "execute_result"
    }
   ],
   "source": [
    "items.shape"
   ]
  },
  {
   "cell_type": "code",
   "execution_count": 8,
   "metadata": {},
   "outputs": [],
   "source": [
    "import datetime\n",
    "dtime = []\n",
    "for i in items['timestamp']:\n",
    "    dtime.append(datetime.datetime.fromtimestamp(i//1000))"
   ]
  },
  {
   "cell_type": "code",
   "execution_count": 9,
   "metadata": {},
   "outputs": [],
   "source": [
    "items['timestamp'] = dtime"
   ]
  },
  {
   "cell_type": "code",
   "execution_count": 10,
   "metadata": {},
   "outputs": [
    {
     "data": {
      "text/html": [
       "<div>\n",
       "<style scoped>\n",
       "    .dataframe tbody tr th:only-of-type {\n",
       "        vertical-align: middle;\n",
       "    }\n",
       "\n",
       "    .dataframe tbody tr th {\n",
       "        vertical-align: top;\n",
       "    }\n",
       "\n",
       "    .dataframe thead th {\n",
       "        text-align: right;\n",
       "    }\n",
       "</style>\n",
       "<table border=\"1\" class=\"dataframe\">\n",
       "  <thead>\n",
       "    <tr style=\"text-align: right;\">\n",
       "      <th></th>\n",
       "      <th>timestamp</th>\n",
       "      <th>itemid</th>\n",
       "      <th>property</th>\n",
       "      <th>value</th>\n",
       "    </tr>\n",
       "  </thead>\n",
       "  <tbody>\n",
       "    <tr>\n",
       "      <th>0</th>\n",
       "      <td>2015-06-28 08:30:00</td>\n",
       "      <td>460429</td>\n",
       "      <td>categoryid</td>\n",
       "      <td>1338</td>\n",
       "    </tr>\n",
       "    <tr>\n",
       "      <th>1</th>\n",
       "      <td>2015-09-06 08:30:00</td>\n",
       "      <td>206783</td>\n",
       "      <td>888</td>\n",
       "      <td>1116713 960601 n277.200</td>\n",
       "    </tr>\n",
       "    <tr>\n",
       "      <th>2</th>\n",
       "      <td>2015-08-09 08:30:00</td>\n",
       "      <td>395014</td>\n",
       "      <td>400</td>\n",
       "      <td>n552.000 639502 n720.000 424566</td>\n",
       "    </tr>\n",
       "    <tr>\n",
       "      <th>3</th>\n",
       "      <td>2015-05-10 08:30:00</td>\n",
       "      <td>59481</td>\n",
       "      <td>790</td>\n",
       "      <td>n15360.000</td>\n",
       "    </tr>\n",
       "    <tr>\n",
       "      <th>4</th>\n",
       "      <td>2015-05-17 08:30:00</td>\n",
       "      <td>156781</td>\n",
       "      <td>917</td>\n",
       "      <td>828513</td>\n",
       "    </tr>\n",
       "    <tr>\n",
       "      <th>5</th>\n",
       "      <td>2015-07-05 08:30:00</td>\n",
       "      <td>285026</td>\n",
       "      <td>available</td>\n",
       "      <td>0</td>\n",
       "    </tr>\n",
       "    <tr>\n",
       "      <th>6</th>\n",
       "      <td>2015-06-14 08:30:00</td>\n",
       "      <td>89534</td>\n",
       "      <td>213</td>\n",
       "      <td>1121373</td>\n",
       "    </tr>\n",
       "    <tr>\n",
       "      <th>7</th>\n",
       "      <td>2015-05-17 08:30:00</td>\n",
       "      <td>264312</td>\n",
       "      <td>6</td>\n",
       "      <td>319724</td>\n",
       "    </tr>\n",
       "    <tr>\n",
       "      <th>8</th>\n",
       "      <td>2015-06-07 08:30:00</td>\n",
       "      <td>229370</td>\n",
       "      <td>202</td>\n",
       "      <td>1330310</td>\n",
       "    </tr>\n",
       "    <tr>\n",
       "      <th>9</th>\n",
       "      <td>2015-06-14 08:30:00</td>\n",
       "      <td>98113</td>\n",
       "      <td>451</td>\n",
       "      <td>1141052 n48.000</td>\n",
       "    </tr>\n",
       "  </tbody>\n",
       "</table>\n",
       "</div>"
      ],
      "text/plain": [
       "            timestamp  itemid    property                            value\n",
       "0 2015-06-28 08:30:00  460429  categoryid                             1338\n",
       "1 2015-09-06 08:30:00  206783         888          1116713 960601 n277.200\n",
       "2 2015-08-09 08:30:00  395014         400  n552.000 639502 n720.000 424566\n",
       "3 2015-05-10 08:30:00   59481         790                       n15360.000\n",
       "4 2015-05-17 08:30:00  156781         917                           828513\n",
       "5 2015-07-05 08:30:00  285026   available                                0\n",
       "6 2015-06-14 08:30:00   89534         213                          1121373\n",
       "7 2015-05-17 08:30:00  264312           6                           319724\n",
       "8 2015-06-07 08:30:00  229370         202                          1330310\n",
       "9 2015-06-14 08:30:00   98113         451                  1141052 n48.000"
      ]
     },
     "execution_count": 10,
     "metadata": {},
     "output_type": "execute_result"
    }
   ],
   "source": [
    "items.head(10)"
   ]
  },
  {
   "cell_type": "code",
   "execution_count": 30,
   "metadata": {},
   "outputs": [
    {
     "data": {
      "text/html": [
       "<div>\n",
       "<style scoped>\n",
       "    .dataframe tbody tr th:only-of-type {\n",
       "        vertical-align: middle;\n",
       "    }\n",
       "\n",
       "    .dataframe tbody tr th {\n",
       "        vertical-align: top;\n",
       "    }\n",
       "\n",
       "    .dataframe thead th {\n",
       "        text-align: right;\n",
       "    }\n",
       "</style>\n",
       "<table border=\"1\" class=\"dataframe\">\n",
       "  <thead>\n",
       "    <tr style=\"text-align: right;\">\n",
       "      <th></th>\n",
       "      <th>timestamp</th>\n",
       "      <th>visitorid</th>\n",
       "      <th>event</th>\n",
       "      <th>itemid</th>\n",
       "      <th>transactionid</th>\n",
       "    </tr>\n",
       "  </thead>\n",
       "  <tbody>\n",
       "    <tr>\n",
       "      <th>0</th>\n",
       "      <td>1433221332117</td>\n",
       "      <td>257597</td>\n",
       "      <td>view</td>\n",
       "      <td>355908</td>\n",
       "      <td>NaN</td>\n",
       "    </tr>\n",
       "    <tr>\n",
       "      <th>1</th>\n",
       "      <td>1433224214164</td>\n",
       "      <td>992329</td>\n",
       "      <td>view</td>\n",
       "      <td>248676</td>\n",
       "      <td>NaN</td>\n",
       "    </tr>\n",
       "    <tr>\n",
       "      <th>2</th>\n",
       "      <td>1433221999827</td>\n",
       "      <td>111016</td>\n",
       "      <td>view</td>\n",
       "      <td>318965</td>\n",
       "      <td>NaN</td>\n",
       "    </tr>\n",
       "    <tr>\n",
       "      <th>3</th>\n",
       "      <td>1433221955914</td>\n",
       "      <td>483717</td>\n",
       "      <td>view</td>\n",
       "      <td>253185</td>\n",
       "      <td>NaN</td>\n",
       "    </tr>\n",
       "    <tr>\n",
       "      <th>4</th>\n",
       "      <td>1433221337106</td>\n",
       "      <td>951259</td>\n",
       "      <td>view</td>\n",
       "      <td>367447</td>\n",
       "      <td>NaN</td>\n",
       "    </tr>\n",
       "    <tr>\n",
       "      <th>5</th>\n",
       "      <td>1433224086234</td>\n",
       "      <td>972639</td>\n",
       "      <td>view</td>\n",
       "      <td>22556</td>\n",
       "      <td>NaN</td>\n",
       "    </tr>\n",
       "    <tr>\n",
       "      <th>6</th>\n",
       "      <td>1433221923240</td>\n",
       "      <td>810725</td>\n",
       "      <td>view</td>\n",
       "      <td>443030</td>\n",
       "      <td>NaN</td>\n",
       "    </tr>\n",
       "    <tr>\n",
       "      <th>7</th>\n",
       "      <td>1433223291897</td>\n",
       "      <td>794181</td>\n",
       "      <td>view</td>\n",
       "      <td>439202</td>\n",
       "      <td>NaN</td>\n",
       "    </tr>\n",
       "    <tr>\n",
       "      <th>8</th>\n",
       "      <td>1433220899221</td>\n",
       "      <td>824915</td>\n",
       "      <td>view</td>\n",
       "      <td>428805</td>\n",
       "      <td>NaN</td>\n",
       "    </tr>\n",
       "    <tr>\n",
       "      <th>9</th>\n",
       "      <td>1433221204592</td>\n",
       "      <td>339335</td>\n",
       "      <td>view</td>\n",
       "      <td>82389</td>\n",
       "      <td>NaN</td>\n",
       "    </tr>\n",
       "  </tbody>\n",
       "</table>\n",
       "</div>"
      ],
      "text/plain": [
       "       timestamp  visitorid event  itemid  transactionid\n",
       "0  1433221332117     257597  view  355908            NaN\n",
       "1  1433224214164     992329  view  248676            NaN\n",
       "2  1433221999827     111016  view  318965            NaN\n",
       "3  1433221955914     483717  view  253185            NaN\n",
       "4  1433221337106     951259  view  367447            NaN\n",
       "5  1433224086234     972639  view   22556            NaN\n",
       "6  1433221923240     810725  view  443030            NaN\n",
       "7  1433223291897     794181  view  439202            NaN\n",
       "8  1433220899221     824915  view  428805            NaN\n",
       "9  1433221204592     339335  view   82389            NaN"
      ]
     },
     "execution_count": 30,
     "metadata": {},
     "output_type": "execute_result"
    }
   ],
   "source": [
    "## Loading user-interactions, i.e, events dataset\n",
    "events = pd.read_csv(\"ecommerce-dataset/events.csv\")\n",
    "events = events[:27561]\n",
    "events.head(10)"
   ]
  },
  {
   "cell_type": "code",
   "execution_count": 3,
   "metadata": {},
   "outputs": [
    {
     "name": "stdout",
     "output_type": "stream",
     "text": [
      "(27561, 5)\n",
      "view           26700\n",
      "addtocart        639\n",
      "transaction      222\n",
      "Name: event, dtype: int64\n"
     ]
    },
    {
     "data": {
      "text/plain": [
       "<matplotlib.axes._subplots.AxesSubplot at 0xda714d0>"
      ]
     },
     "execution_count": 3,
     "metadata": {},
     "output_type": "execute_result"
    },
    {
     "data": {
      "image/png": "[encoded data removed]",
      "text/plain": [
       "<Figure size 432x288 with 1 Axes>"
      ]
     },
     "metadata": {
      "needs_background": "light"
     },
     "output_type": "display_data"
    }
   ],
   "source": [
    "print(events.shape)\n",
    "print(events['event'].value_counts())\n",
    "sns.countplot(x='event', data=events, palette='pastel')"
   ]
  },
  {
   "cell_type": "markdown",
   "metadata": {},
   "source": [
    "## TODO: load and analyse Category datasets"
   ]
  },
  {
   "cell_type": "code",
   "execution_count": 13,
   "metadata": {},
   "outputs": [
    {
     "name": "stdout",
     "output_type": "stream",
     "text": [
      "All visitors: 27561\n",
      "All customers: 16684\n"
     ]
    }
   ],
   "source": [
    "## Finding Unique visiters i.e, all the customers\n",
    "customers = events['visitorid'].unique()\n",
    "\n",
    "print(\"All visitors:\", events['visitorid'].size)\n",
    "print(\"All customers:\", customers.size)"
   ]
  },
  {
   "cell_type": "code",
   "execution_count": 14,
   "metadata": {},
   "outputs": [
    {
     "name": "stdout",
     "output_type": "stream",
     "text": [
      "Customers who bought something: 136\n"
     ]
    }
   ],
   "source": [
    "## Finding customers who purchased\n",
    "customers_purchased = events[events.transactionid.notnull()].visitorid.unique()\n",
    "print(\"Customers who bought something:\",customers_purchased.size)"
   ]
  },
  {
   "cell_type": "code",
   "execution_count": 15,
   "metadata": {},
   "outputs": [
    {
     "name": "stdout",
     "output_type": "stream",
     "text": [
      "event\n",
      "addtocart      [5206, 10572, 255275, 356475, 312728, 63312, 1...\n",
      "transaction    [356475, 15335, 81345, 150318, 310791, 54058, ...\n",
      "view           [355908, 248676, 318965, 253185, 367447, 22556...\n",
      "Name: itemid, dtype: object\n"
     ]
    },
    {
     "data": {
      "text/plain": [
       "<matplotlib.axes._subplots.AxesSubplot at 0xec2c370>"
      ]
     },
     "execution_count": 15,
     "metadata": {},
     "output_type": "execute_result"
    },
    {
     "data": {
      "image/png": "[encoded data removed]",
      "text/plain": [
       "<Figure size 432x288 with 1 Axes>"
      ]
     },
     "metadata": {
      "needs_background": "light"
     },
     "output_type": "display_data"
    }
   ],
   "source": [
    "## grouping itemid with it's event type into a lost\n",
    "grouped = events.groupby('event')['itemid'].apply(list)\n",
    "print(grouped)\n",
    "\n",
    "## Finding the most viewed items\n",
    "import operator\n",
    "views = grouped['view']\n",
    "count_view = {}\n",
    "views = np.array(views[:])\n",
    "\n",
    "#counting unique value of itemids and respective views and conveting it to dictionary\n",
    "unique, counts = np.unique(views, return_counts=True)\n",
    "count_view = dict(zip(unique, counts))\n",
    "sorted_view = sorted(count_view.items(), key= operator.itemgetter(1), reverse=True)\n",
    "\n",
    "## intialising graph\n",
    "x = [i[0] for i in sorted_view[:10]]\n",
    "y = [i[1] for i in sorted_view[:10]]\n",
    "sns.barplot(x, y, order=x, palette='rocket')"
   ]
  },
  {
   "cell_type": "code",
   "execution_count": 16,
   "metadata": {},
   "outputs": [
    {
     "data": {
      "text/plain": [
       "<matplotlib.axes._subplots.AxesSubplot at 0xef549d0>"
      ]
     },
     "execution_count": 16,
     "metadata": {},
     "output_type": "execute_result"
    },
    {
     "data": {
      "image/png": "[encoded data removed]",
      "text/plain": [
       "<Figure size 432x288 with 1 Axes>"
      ]
     },
     "metadata": {
      "needs_background": "light"
     },
     "output_type": "display_data"
    }
   ],
   "source": [
    "## Finding the most added to cart items\n",
    "addtocart = grouped['addtocart']\n",
    "count_cart = {}\n",
    "addtocart = np.array(addtocart[:])\n",
    "\n",
    "#counting unique value of itemids and respective addtocart and conveting it to dictionary\n",
    "unique, counts = np.unique(addtocart, return_counts=True)\n",
    "count_cart = dict(zip(unique, counts))\n",
    "sorted_cart = sorted(count_cart.items(), key= operator.itemgetter(1), reverse=True)\n",
    "\n",
    "## intialising graph\n",
    "x = [i[0] for i in sorted_cart[:10]]\n",
    "y = [i[1] for i in sorted_cart[:10]]\n",
    "sns.barplot(x, y, order=x, palette='pastel')"
   ]
  },
  {
   "cell_type": "code",
   "execution_count": 17,
   "metadata": {},
   "outputs": [
    {
     "data": {
      "text/plain": [
       "<matplotlib.axes._subplots.AxesSubplot at 0xefc43d0>"
      ]
     },
     "execution_count": 17,
     "metadata": {},
     "output_type": "execute_result"
    },
    {
     "data": {
      "image/png": "[encoded data removed]",
      "text/plain": [
       "<Figure size 432x288 with 1 Axes>"
      ]
     },
     "metadata": {
      "needs_background": "light"
     },
     "output_type": "display_data"
    }
   ],
   "source": [
    "## Finding the most purchased items\n",
    "transaction = grouped['transaction']\n",
    "count_transaction = {}\n",
    "transaction = np.array(transaction[:])\n",
    "\n",
    "#counting unique value of itemids and respective addtocart and conveting it to dictionary\n",
    "unique, counts = np.unique(transaction, return_counts=True)\n",
    "count_transaction = dict(zip(unique, counts))\n",
    "sorted_transaction = sorted(count_transaction.items(), key= operator.itemgetter(1), reverse=True)\n",
    "\n",
    "## intialising graph\n",
    "x = [i[0] for i in sorted_transaction[:20]]\n",
    "y = [i[1] for i in sorted_transaction[:20]]\n",
    "sns.barplot(x, y, order=x, palette='rocket')"
   ]
  },
  {
   "cell_type": "markdown",
   "metadata": {},
   "source": [
    "# TODO: Modeling with lightfm"
   ]
  },
  {
   "cell_type": "code",
   "execution_count": 31,
   "metadata": {},
   "outputs": [],
   "source": [
    "from sklearn import preprocessing\n",
    "from lightfm import LightFM\n",
    "from scipy.sparse import coo_matrix\n",
    "from scipy.sparse import csr_matrix\n",
    "from sklearn.metrics import roc_auc_score\n",
    "from lightfm.evaluation import auc_score\n",
    "import time\n",
    "import pickle\n",
    "import datetime"
   ]
  },
  {
   "cell_type": "code",
   "execution_count": 32,
   "metadata": {},
   "outputs": [
    {
     "data": {
      "text/html": [
       "<div>\n",
       "<style scoped>\n",
       "    .dataframe tbody tr th:only-of-type {\n",
       "        vertical-align: middle;\n",
       "    }\n",
       "\n",
       "    .dataframe tbody tr th {\n",
       "        vertical-align: top;\n",
       "    }\n",
       "\n",
       "    .dataframe thead th {\n",
       "        text-align: right;\n",
       "    }\n",
       "</style>\n",
       "<table border=\"1\" class=\"dataframe\">\n",
       "  <thead>\n",
       "    <tr style=\"text-align: right;\">\n",
       "      <th></th>\n",
       "      <th>visitorid</th>\n",
       "      <th>itemid</th>\n",
       "      <th>event</th>\n",
       "      <th>date</th>\n",
       "    </tr>\n",
       "  </thead>\n",
       "  <tbody>\n",
       "    <tr>\n",
       "      <th>27551</th>\n",
       "      <td>353455</td>\n",
       "      <td>114070</td>\n",
       "      <td>view</td>\n",
       "      <td>2015-06-03</td>\n",
       "    </tr>\n",
       "    <tr>\n",
       "      <th>27552</th>\n",
       "      <td>977950</td>\n",
       "      <td>197816</td>\n",
       "      <td>view</td>\n",
       "      <td>2015-06-03</td>\n",
       "    </tr>\n",
       "    <tr>\n",
       "      <th>27553</th>\n",
       "      <td>160659</td>\n",
       "      <td>443590</td>\n",
       "      <td>view</td>\n",
       "      <td>2015-06-03</td>\n",
       "    </tr>\n",
       "    <tr>\n",
       "      <th>27554</th>\n",
       "      <td>77390</td>\n",
       "      <td>258810</td>\n",
       "      <td>view</td>\n",
       "      <td>2015-06-03</td>\n",
       "    </tr>\n",
       "    <tr>\n",
       "      <th>27555</th>\n",
       "      <td>571645</td>\n",
       "      <td>36906</td>\n",
       "      <td>view</td>\n",
       "      <td>2015-06-03</td>\n",
       "    </tr>\n",
       "    <tr>\n",
       "      <th>27556</th>\n",
       "      <td>411496</td>\n",
       "      <td>192491</td>\n",
       "      <td>view</td>\n",
       "      <td>2015-06-03</td>\n",
       "    </tr>\n",
       "    <tr>\n",
       "      <th>27557</th>\n",
       "      <td>1004112</td>\n",
       "      <td>376137</td>\n",
       "      <td>view</td>\n",
       "      <td>2015-06-03</td>\n",
       "    </tr>\n",
       "    <tr>\n",
       "      <th>27558</th>\n",
       "      <td>382778</td>\n",
       "      <td>372293</td>\n",
       "      <td>view</td>\n",
       "      <td>2015-06-03</td>\n",
       "    </tr>\n",
       "    <tr>\n",
       "      <th>27559</th>\n",
       "      <td>913611</td>\n",
       "      <td>263437</td>\n",
       "      <td>view</td>\n",
       "      <td>2015-06-03</td>\n",
       "    </tr>\n",
       "    <tr>\n",
       "      <th>27560</th>\n",
       "      <td>838727</td>\n",
       "      <td>361963</td>\n",
       "      <td>view</td>\n",
       "      <td>2015-06-03</td>\n",
       "    </tr>\n",
       "  </tbody>\n",
       "</table>\n",
       "</div>"
      ],
      "text/plain": [
       "       visitorid  itemid event        date\n",
       "27551     353455  114070  view  2015-06-03\n",
       "27552     977950  197816  view  2015-06-03\n",
       "27553     160659  443590  view  2015-06-03\n",
       "27554      77390  258810  view  2015-06-03\n",
       "27555     571645   36906  view  2015-06-03\n",
       "27556     411496  192491  view  2015-06-03\n",
       "27557    1004112  376137  view  2015-06-03\n",
       "27558     382778  372293  view  2015-06-03\n",
       "27559     913611  263437  view  2015-06-03\n",
       "27560     838727  361963  view  2015-06-03"
      ]
     },
     "execution_count": 32,
     "metadata": {},
     "output_type": "execute_result"
    }
   ],
   "source": [
    "# Sorting wrt date(dataset did not had index field as timestamp)\n",
    "events = events.assign(date=pd.Series(datetime.datetime.fromtimestamp(i//1000).date() for i in events.timestamp))\n",
    "events = events.sort_values('date').reset_index(drop=True)\n",
    "events = events[['visitorid', 'itemid', 'event', 'date']]\n",
    "events.tail(10)"
   ]
  },
  {
   "cell_type": "code",
   "execution_count": 33,
   "metadata": {},
   "outputs": [],
   "source": [
    "# Selecting interval\n",
    "start_date = '2015-06-01'\n",
    "end_date = '2015-06-03'\n",
    "fd = lambda x: datetime.datetime.strptime(x, '%Y-%m-%d').date()\n",
    "events = events[(events.date >= fd(start_date)) & (events.date <= fd(end_date))]\n",
    "    "
   ]
  },
  {
   "cell_type": "code",
   "execution_count": 34,
   "metadata": {},
   "outputs": [],
   "source": [
    "# Splitting train and test data\n",
    "split_point = np.int(np.round(events.shape[0]*0.8))\n",
    "events_train = events.iloc[0:split_point]\n",
    "events_test = events.iloc[split_point::]\n",
    "# events_test = events_test[(events_test['visitorid'].isin(events_train['visitorid'])) & (events_test['itemid'].isin(events_train['itemid']))]\n"
   ]
  },
  {
   "cell_type": "code",
   "execution_count": 36,
   "metadata": {},
   "outputs": [
    {
     "ename": "ValueError",
     "evalue": "y contains previously unseen labels: [17, 52, 202, 283, 1289, 2360, 2681, 2715, 3023, 3473, 3926, 3952, 4816, 5334, 5967, 6195, 7600, 7969, 8683, 9230, 9385, 9487, 9520, 9820, 10481, 10583, 10697, 11199, 11243, 11906, 12988, 14259, 15463, 15866, 15967, 15985, 17128, 17380, 17579, 17948, 18767, 18990, 19297, 20434, 20892, 21302, 22804, 22893, 22897, 23005, 23430, 24192, 24242, 24696, 26007, 26989, 27325, 27370, 28834, 29007, 29150, 29357, 30557, 30900, 31036, 31251, 34410, 34976, 35368, 35657, 35847, 36471, 37282, 37705, 37743, 37860, 38692, 39210, 39743, 40032, 40633, 40711, 42005, 42324, 43488, 43571, 44414, 44904, 45200, 45207, 45876, 46036, 46071, 46863, 47294, 47641, 47721, 47991, 48253, 48323, 49125, 49277, 51757, 52024, 52071, 53501, 54448, 54522, 54928, 57448, 57966, 58469, 58697, 60574, 61972, 63675, 63744, 64334, 64883, 66253, 66612, 68410, 68843, 69363, 69672, 69804, 70677, 71128, 71482, 71743, 71784, 72334, 73611, 73901, 74174, 74340, 74360, 74377, 74419, 74884, 74965, 75319, 75548, 75883, 77021, 78347, 78354, 78356, 78445, 79083, 79098, 79261, 79853, 79911, 80066, 80233, 80936, 81731, 82531, 82627, 82904, 83213, 83684, 84103, 84842, 85130, 85211, 85555, 85680, 85924, 86914, 87057, 87612, 88329, 88897, 89329, 89333, 89370, 89713, 89812, 90496, 91170, 91199, 91288, 91625, 92571, 92594, 93191, 93237, 93793, 94077, 94912, 95123, 95329, 95934, 95935, 95980, 96314, 96458, 96793, 96814, 98152, 99319, 99622, 100224, 100585, 100950, 100985, 101094, 101612, 101806, 101966, 102369, 102765, 103413, 103601, 104078, 104240, 104709, 105241, 105324, 105479, 105498, 105520, 105626, 105720, 107897, 108038, 108298, 109318, 109331, 110346, 110401, 110755, 110760, 110945, 111279, 113277, 114772, 115498, 115547, 116114, 116410, 116524, 116866, 117419, 117494, 117686, 117926, 118993, 120298, 121322, 122149, 122350, 123053, 123114, 123300, 123463, 123730, 124132, 125034, 125042, 125124, 125208, 125355, 126495, 127107, 127222, 127255, 128269, 128917, 129022, 129621, 129678, 129984, 130160, 130398, 131375, 132550, 132802, 133266, 133528, 133583, 133884, 134224, 134927, 135096, 135210, 135434, 136940, 137639, 137869, 138175, 138303, 138494, 138770, 138975, 139032, 139479, 140386, 140488, 141380, 141637, 141642, 142800, 143326, 144914, 144977, 145192, 145306, 145520, 145541, 146058, 146253, 146422, 146578, 147370, 147438, 147544, 148159, 148859, 149194, 149457, 150186, 150333, 150420, 150492, 150770, 150870, 151930, 152183, 152557, 152929, 153120, 153171, 153502, 154313, 154344, 154692, 155662, 155844, 155879, 156998, 157335, 157828, 158508, 158878, 159965, 160024, 160229, 160254, 160461, 160537, 160659, 160809, 161152, 161722, 161958, 162271, 163049, 164306, 164532, 165755, 166260, 166536, 166776, 166912, 168634, 168660, 168958, 169172, 169528, 169586, 169635, 169764, 169814, 170012, 170822, 170832, 170834, 171485, 171675, 171898, 172080, 172136, 172528, 172601, 172647, 172915, 173648, 174677, 175021, 175097, 175166, 176155, 176404, 176779, 177091, 178417, 178484, 179275, 179286, 179412, 179966, 180799, 181736, 182577, 182701, 183192, 183652, 183975, 184719, 184819, 184854, 185121, 185222, 185428, 185437, 185540, 185586, 186484, 186960, 188081, 188601, 190752, 190771, 191189, 193647, 194262, 194967, 195001, 195729, 195802, 195884, 196476, 196478, 196502, 196654, 196657, 197182, 197359, 197383, 197834, 198032, 198281, 200045, 200866, 201713, 201715, 201876, 202428, 202920, 203679, 204233, 204385, 204545, 204682, 204795, 205464, 205793, 206275, 206844, 207082, 207188, 207639, 207698, 208678, 209198, 209520, 209527, 210107, 211355, 211836, 212098, 212112, 212509, 212696, 212882, 213672, 213812, 214045, 214754, 214886, 215001, 215219, 215227, 215660, 215857, 216221, 216702, 217064, 218479, 219044, 219332, 219688, 219839, 220142, 220299, 221413, 221601, 221816, 221827, 221934, 222046, 222421, 222519, 223285, 223335, 224550, 224597, 225130, 225132, 225631, 226253, 226693, 227096, 227125, 227131, 227237, 227590, 227847, 227912, 228171, 228188, 228447, 228660, 229043, 229189, 229324, 229334, 229348, 229523, 229563, 230242, 230557, 231037, 231248, 231806, 231979, 231990, 232203, 232363, 232696, 233019, 233163, 233689, 234479, 235666, 235945, 236443, 237192, 237322, 237486, 237732, 238197, 238555, 240545, 241093, 241927, 242335, 242468, 242605, 242650, 242690, 242741, 243519, 243601, 243753, 243898, 244049, 245072, 246541, 246667, 246921, 247273, 247356, 247461, 247622, 248091, 248199, 248474, 248628, 248754, 248970, 249655, 250601, 250690, 251547, 251789, 252349, 252571, 252614, 253267, 253410, 253433, 253740, 254012, 254888, 255541, 255794, 256858, 257102, 257254, 257574, 257832, 258073, 258099, 258500, 259010, 259017, 259156, 259336, 259685, 260584, 261334, 262796, 262933, 263053, 263140, 263391, 263607, 263618, 263699, 263956, 266181, 266477, 266961, 267254, 267340, 267401, 267774, 268399, 268640, 269408, 269830, 270092, 270198, 270902, 271475, 271675, 271969, 272120, 272717, 273613, 274700, 274785, 274802, 275177, 275436, 276665, 276686, 277459, 277948, 278066, 278087, 278457, 278480, 278620, 279068, 279839, 280107, 280637, 282572, 282580, 283429, 284262, 284408, 285440, 286153, 286448, 288291, 288313, 288568, 289832, 290933, 291125, 292149, 293022, 293146, 293469, 293722, 294132, 294440, 295068, 295259, 295384, 295655, 296188, 296360, 296401, 297770, 297914, 298337, 298770, 298809, 300080, 300126, 300200, 300714, 300882, 300987, 301025, 301530, 301651, 302036, 302151, 302442, 302819, 302963, 303091, 303355, 303367, 303392, 303466, 304527, 304559, 304950, 305234, 305368, 305601, 306652, 307980, 308273, 308430, 308613, 308723, 309865, 310148, 310301, 311579, 311999, 312283, 312287, 313385, 313739, 314419, 315162, 315460, 315552, 316079, 316107, 317065, 317746, 318224, 318389, 318665, 319153, 319482, 319602, 319617, 320642, 320690, 321763, 321890, 321900, 321983, 322046, 322059, 322206, 322929, 323339, 324056, 324733, 324802, 325697, 326345, 326536, 326637, 327957, 327963, 328455, 328629, 328672, 328994, 329290, 329380, 329466, 329910, 330390, 331270, 331854, 332259, 332656, 333029, 333746, 334841, 334918, 335199, 335757, 335875, 337013, 337355, 337951, 337981, 338682, 338728, 339082, 339171, 339379, 339920, 340011, 340388, 340592, 340701, 341816, 342289, 342679, 343026, 343187, 344239, 344779, 345267, 345330, 345455, 345667, 346429, 347066, 347415, 347543, 347573, 348011, 348930, 351021, 351168, 351437, 351575, 352536, 352567, 352759, 352913, 352931, 353304, 353455, 353532, 353784, 354708, 355743, 356385, 356789, 357166, 357445, 357847, 357880, 357981, 359096, 359407, 359596, 360732, 360817, 361340, 361629, 362241, 362897, 363260, 363698, 364814, 364981, 365058, 365175, 365309, 365826, 365944, 366342, 366538, 366879, 366933, 367023, 367289, 368621, 368645, 369265, 370311, 371257, 371321, 371429, 371476, 371491, 371582, 372448, 372591, 373081, 373449, 373935, 374235, 374574, 375549, 376273, 376509, 376546, 377021, 378106, 379058, 379255, 379292, 380413, 380550, 380553, 380834, 381863, 382094, 382778, 382903, 383662, 384132, 384375, 385307, 385617, 385668, 385694, 386204, 386556, 387229, 387301, 389682, 389870, 390130, 391666, 391672, 392291, 392377, 393080, 393230, 393417, 395612, 395634, 396060, 396457, 396557, 396652, 396900, 396917, 396976, 397139, 397631, 397748, 397975, 398041, 398887, 398894, 399048, 399159, 399196, 399577, 400038, 400160, 400735, 401515, 402148, 402268, 402510, 402656, 403210, 403639, 404519, 405136, 405640, 406222, 406943, 407721, 407724, 407832, 408053, 408280, 408301, 408382, 408689, 408955, 409458, 409461, 409485, 410033, 410811, 411351, 411354, 411496, 412310, 412501, 412933, 413322, 413912, 414675, 414686, 415291, 415409, 417241, 417456, 418642, 419026, 419048, 419602, 419913, 420279, 421205, 421750, 422329, 422473, 423249, 423384, 423429, 423760, 424258, 424351, 424918, 424984, 426172, 426250, 426779, 428108, 428270, 428901, 429419, 431115, 431411, 431896, 432175, 433547, 433866, 434329, 434370, 434596, 434989, 435149, 435321, 436593, 436931, 437002, 437219, 437518, 437740, 439397, 439771, 440298, 440369, 440515, 440611, 441270, 441325, 441375, 441446, 441570, 441763, 444192, 444957, 446040, 446291, 446396, 447178, 447273, 448574, 448988, 450060, 450202, 450598, 450604, 451044, 451271, 451406, 452327, 453221, 453788, 453922, 453942, 454010, 454158, 455086, 455299, 455599, 456732, 458120, 458756, 460575, 461115, 462556, 462929, 463400, 463575, 464240, 464612, 464846, 465056, 465118, 465364, 465637, 465836, 466054, 466399, 466412, 466417, 466460, 466552, 467190, 467301, 467476, 467975, 468109, 468641, 468681, 468832, 469598, 469919, 470070, 470707, 470907, 470951, 470990, 472237, 472645, 472734, 472739, 472815, 473378, 473588, 474017, 474849, 475109, 475176, 475718, 476629, 476932, 477164, 477204, 477962, 478152, 478327, 478658, 478753, 478823, 479038, 480160, 481064, 481913, 482123, 482404, 482822, 482839, 482894, 483531, 483661, 484022, 484092, 485303, 485632, 485698, 485726, 487184, 488040, 488195, 488238, 488634, 489130, 489611, 490103, 490285, 491964, 492521, 492996, 493105, 493862, 494012, 494129, 494770, 496089, 496751, 497998, 498101, 498298, 499003, 499004, 499077, 499249, 500061, 500152, 500379, 500598, 501031, 501938, 502669, 503068, 503297, 503595, 504353, 505034, 505139, 505303, 505499, 505811, 505849, 505905, 506116, 506678, 507382, 507616, 507641, 507787, 508690, 510103, 510698, 511583, 512201, 512291, 512834, 513731, 513820, 513889, 514608, 515095, 515279, 515618, 516122, 516993, 517335, 517373, 517556, 517619, 517806, 518218, 518363, 519159, 519575, 520438, 520630, 520728, 521151, 521772, 522549, 522553, 522556, 523428, 523433, 523450, 523604, 523648, 523883, 524902, 525685, 525977, 526106, 526600, 527085, 527837, 529745, 529793, 529836, 530800, 530907, 531742, 532291, 532461, 532484, 532672, 532839, 532870, 533261, 533543, 534294, 534940, 535225, 537735, 538165, 538180, 538420, 538485, 538539, 539145, 539397, 539785, 540434, 540582, 540646, 540828, 540911, 541323, 541443, 542123, 542247, 542755, 543126, 543510, 543664, 544887, 545485, 545900, 546217, 546502, 546759, 547195, 547415, 548134, 548156, 548450, 548596, 548805, 549048, 549454, 549932, 550181, 550471, 550510, 551135, 551442, 551625, 551960, 552445, 552478, 552590, 552612, 552627, 552687, 552749, 552886, 553209, 553616, 553787, 554074, 554324, 554529, 554566, 555300, 555651, 556284, 556319, 556951, 557404, 557497, 557775, 557863, 559201, 559602, 560131, 560328, 560586, 560889, 563713, 563733, 563964, 565078, 565282, 565754, 566850, 568052, 568138, 568620, 568856, 569225, 569509, 569607, 569845, 570392, 570399, 571123, 571126, 571165, 571278, 571340, 571561, 571615, 571645, 571823, 572553, 572673, 573438, 573521, 573590, 573865, 574032, 574564, 576470, 576693, 577045, 577069, 577146, 577930, 577980, 579232, 579989, 580011, 580325, 580408, 580899, 582669, 583421, 584559, 584670, 585085, 586232, 586250, 586531, 586860, 587153, 587190, 587578, 588901, 590001, 591069, 591235, 591870, 593142, 593763, 595905, 596034, 596360, 596466, 597313, 597404, 597848, 598458, 598795, 599057, 599846, 600094, 600148, 600222, 601085, 601523, 601541, 601730, 601864, 601984, 602084, 602482, 602902, 603877, 603880, 603965, 604624, 604978, 605002, 605357, 605399, 606052, 607700, 608542, 609493, 609821, 612213, 612270, 612300, 613566, 613628, 614388, 614535, 614544, 615184, 615198, 615580, 615868, 616137, 616321, 616565, 617474, 617663, 618262, 619230, 619259, 619370, 619602, 619670, 620501, 620789, 621186, 621474, 621588, 621746, 621820, 622013, 622568, 622761, 622893, 623277, 623828, 624048, 624671, 625814, 626103, 626252, 626297, 626727, 626772, 627284, 627826, 627846, 628192, 628232, 628499, 628637, 628688, 628981, 629596, 629631, 629657, 629844, 631065, 631556, 631594, 632035, 633443, 633586, 634258, 634876, 634967, 635996, 636111, 636300, 636558, 636867, 636923, 637028, 637942, 637953, 638616, 639023, 639266, 639429, 640465, 640477, 640602, 641365, 642634, 642808, 642937, 642983, 643129, 643745, 643921, 644119, 644169, 644194, 644560, 644602, 644939, 645653, 645739, 646243, 646570, 646658, 646770, 647694, 647728, 648162, 648684, 649213, 649235, 649863, 649881, 649967, 650711, 650966, 651152, 651314, 651447, 651477, 651645, 651889, 651974, 652538, 652588, 652647, 653217, 653560, 653693, 653942, 654345, 654424, 654581, 655103, 655473, 655839, 656815, 657105, 657303, 657372, 657847, 658373, 658621, 658857, 659011, 659471, 659885, 660116, 660158, 661042, 661726, 661757, 662045, 662057, 662099, 662106, 662534, 662884, 663222, 663788, 663805, 664002, 664580, 664921, 664987, 665014, 665884, 666586, 666626, 667532, 668111, 668282, 669451, 669724, 669801, 670750, 670775, 671484, 671859, 672379, 672429, 672697, 673384, 673572, 673897, 674672, 675292, 676098, 676900, 677425, 678302, 679155, 679225, 680414, 680537, 680862, 681094, 681202, 684152, 684528, 685766, 686203, 686311, 686854, 687450, 687586, 687623, 687642, 688559, 688830, 689116, 689160, 690103, 690264, 690284, 690811, 691452, 692411, 692866, 693284, 694413, 694597, 694822, 695519, 695554, 695880, 696311, 697371, 697501, 697701, 697939, 698027, 698228, 699027, 699425, 699506, 699642, 700077, 700188, 700530, 700588, 700745, 700921, 701672, 701896, 701924, 702031, 702297, 702537, 702689, 704192, 704650, 705201, 705251, 705271, 705549, 705981, 706546, 707131, 707154, 707404, 707826, 708057, 708128, 708464, 708739, 709620, 709631, 709872, 710189, 710612, 712026, 712183, 712875, 713317, 713355, 714161, 714252, 714347, 714390, 715196, 715753, 716222, 716381, 716971, 717232, 717469, 717556, 718348, 718660, 718816, 718921, 720065, 720248, 720645, 720752, 720813, 723092, 723816, 724506, 725383, 725758, 725975, 726265, 726517, 726670, 726744, 727280, 727475, 728039, 728804, 729456, 730012, 730284, 730399, 730402, 730629, 730761, 730767, 731686, 732095, 732145, 732660, 733264, 733923, 734526, 735030, 735479, 735701, 735978, 736334, 736412, 738456, 740947, 741018, 741509, 742439, 742663, 742737, 742739, 742971, 743023, 744001, 744301, 744432, 744433, 745314, 745353, 745588, 745843, 747042, 747157, 747814, 748314, 748402, 748471, 748798, 749088, 749229, 749415, 750116, 750661, 751711, 752062, 752349, 752378, 752535, 752587, 752822, 753022, 753224, 753618, 753810, 753953, 754387, 754801, 755166, 756711, 756831, 757307, 757402, 757567, 757999, 758106, 758275, 758546, 759145, 759288, 759963, 760142, 760316, 760781, 761078, 761206, 761481, 761696, 761890, 762333, 762571, 762804, 762869, 764298, 765113, 765172, 765420, 765552, 766489, 766867, 766873, 768080, 768109, 768458, 768531, 768827, 769878, 770289, 771203, 772028, 773148, 773317, 775527, 776104, 776391, 777093, 777128, 777345, 777419, 778527, 779479, 779938, 780128, 780179, 780376, 780405, 780631, 780664, 780790, 780942, 781590, 782719, 783008, 783279, 784425, 784696, 784838, 785355, 785507, 786299, 786407, 786415, 787789, 788585, 788953, 789365, 789415, 789582, 789685, 789716, 790173, 790498, 790761, 790776, 790947, 791231, 791258, 791283, 791530, 792336, 792529, 792713, 793041, 793277, 793404, 793731, 794245, 794677, 795060, 795766, 796113, 796206, 796265, 796687, 797552, 798055, 798849, 799476, 799774, 800442, 801444, 801576, 801608, 802067, 802539, 803695, 803849, 805618, 805701, 805910, 806325, 806905, 807174, 807310, 807426, 807575, 808129, 808588, 808744, 808775, 808784, 808932, 809014, 809355, 809373, 809723, 810086, 810120, 810756, 813029, 813499, 813551, 813812, 813904, 814507, 815380, 815753, 815866, 815938, 816214, 816574, 816977, 819285, 819325, 819611, 819623, 819896, 819921, 820469, 821401, 821702, 823565, 823710, 824740, 824985, 825148, 825374, 825574, 827513, 828268, 828293, 828731, 828917, 829881, 830377, 830790, 830856, 831695, 832075, 833007, 833267, 833447, 833879, 834355, 834710, 834921, 835221, 837179, 837189, 838203, 838727, 839503, 839715, 839777, 840036, 840513, 840605, 840641, 840649, 841052, 841393, 842081, 842820, 843540, 845032, 845514, 845917, 846340, 848339, 848532, 849410, 849863, 850225, 850664, 851030, 851574, 852565, 852913, 853004, 853330, 853374, 854365, 854858, 855213, 855450, 856387, 857605, 858127, 858482, 859025, 859757, 860054, 860376, 860597, 860822, 861230, 861999, 862154, 862168, 862857, 863238, 863401, 865285, 865415, 865521, 865550, 865643, 865919, 865930, 865988, 866078, 866438, 866654, 866875, 868044, 868741, 869152, 869262, 869311, 869738, 870507, 870589, 871309, 871558, 871702, 872856, 872993, 874223, 874965, 875360, 876256, 876610, 876790, 877554, 877654, 878753, 878858, 879318, 879610, 880621, 881142, 881860, 881945, 883454, 884018, 884527, 884542, 884563, 885870, 886313, 886749, 887698, 887808, 888010, 888493, 888741, 888852, 889174, 890546, 891150, 891190, 891193, 891476, 891919, 892665, 894767, 895452, 895954, 896122, 896849, 898501, 898518, 898643, 899833, 899903, 900435, 900619, 900974, 901226, 901665, 902528, 902876, 903338, 903734, 903952, 904193, 904238, 904710, 904906, 905088, 905122, 906573, 906781, 906988, 907023, 907200, 907217, 907259, 907471, 907624, 907837, 908064, 908783, 909209, 909325, 909676, 909993, 910123, 910156, 910184, 910410, 910846, 911512, 911751, 911971, 913020, 913523, 913611, 914155, 914854, 915210, 915353, 916051, 916714, 916745, 916834, 917461, 917933, 918070, 918345, 918388, 919702, 920538, 920771, 922152, 922166, 922429, 922751, 923071, 924098, 924600, 924698, 925338, 925417, 926849, 926923, 928304, 930320, 930663, 931019, 931726, 931764, 931981, 932466, 932797, 933936, 934287, 934406, 934767, 935585, 935592, 935753, 935931, 935970, 936633, 936723, 937201, 937519, 938690, 938732, 938857, 939309, 939799, 940122, 940533, 940901, 941024, 941163, 942308, 942602, 943225, 944162, 944176, 944529, 944819, 945473, 946806, 947290, 947725, 948851, 949650, 950100, 950235, 950729, 952605, 952922, 953070, 954095, 954122, 954261, 954720, 955048, 955049, 955787, 956514, 956589, 956631, 956809, 956935, 956983, 957012, 957242, 957345, 957388, 957913, 958944, 959256, 959278, 959279, 959955, 960580, 960762, 960773, 961055, 961085, 961782, 962275, 962573, 962763, 962903, 963348, 963462, 963652, 964405, 965324, 965815, 966020, 966668, 967058, 967566, 967628, 968035, 969037, 969277, 969420, 969652, 969879, 969885, 970217, 970926, 971102, 971310, 972091, 972116, 972383, 973367, 973591, 974909, 975313, 975316, 977150, 977950, 978050, 979440, 979647, 980720, 981112, 981356, 981402, 982123, 983787, 984353, 984842, 984948, 985024, 985163, 985901, 987331, 988044, 988409, 989388, 989686, 991296, 992659, 992863, 993092, 993146, 993769, 993835, 994078, 994946, 995511, 995746, 996071, 996853, 998218, 998376, 998584, 998667, 998761, 999824, 999827, 1000188, 1000207, 1000297, 1000312, 1000412, 1000767, 1001935, 1002365, 1002387, 1002785, 1003058, 1003276, 1003375, 1004020, 1004112, 1004781, 1005252, 1005320, 1005451, 1006126, 1006380, 1006583, 1007257, 1008586, 1010879, 1011561, 1012711, 1013199, 1014749, 1014945, 1015287, 1015599, 1016435, 1017151, 1018056, 1018514, 1018710, 1019339, 1020354, 1021363, 1021756, 1022475, 1022908, 1023011, 1023030, 1023436, 1023453, 1024641, 1024844, 1024932, 1025008, 1025019, 1025544, 1026429, 1026667, 1027690, 1028073, 1028234, 1028467, 1028560, 1028727, 1029068, 1029723, 1030063, 1030084, 1030553, 1030566, 1030903, 1031048, 1031058, 1031122, 1031233, 1031650, 1032252, 1032448, 1033156, 1033269, 1034346, 1034467, 1034720, 1034917, 1035718, 1036284, 1036449, 1036620, 1036820, 1037803, 1037825, 1038176, 1040508, 1040509, 1040613, 1040733, 1041164, 1041414, 1041423, 1041586, 1043089, 1044685, 1044814, 1045045, 1045155, 1047905, 1048536, 1048649, 1049419, 1050280, 1050513, 1051114, 1052445, 1053036, 1053705, 1053743, 1053975, 1054162, 1054424, 1054637, 1054828, 1055851, 1057261, 1057397, 1057685, 1057700, 1057742, 1057794, 1057912, 1058330, 1058866, 1058870, 1059333, 1059451, 1060301, 1060311, 1060430, 1060735, 1061685, 1062104, 1062383, 1062626, 1063699, 1063725, 1063881, 1064273, 1066063, 1066399, 1066638, 1066780, 1067136, 1067674, 1068319, 1068521, 1068558, 1068699, 1070006, 1070955, 1071062, 1071220, 1071445, 1071579, 1071991, 1072142, 1072264, 1072455, 1072498, 1072714, 1073023, 1073063, 1073924, 1074062, 1075467, 1075862, 1077949, 1077951, 1078013, 1078027, 1078135, 1079335, 1079888, 1079974, 1080174, 1080588, 1080754, 1081088, 1081509, 1081553, 1081965, 1083069, 1083668, 1083756, 1084014, 1084658, 1085481, 1085515, 1086393, 1086932, 1088047, 1088113, 1088316, 1088424, 1088436, 1088621, 1089093, 1089212, 1089976, 1089988, 1090080, 1090395, 1091007, 1092315, 1092648, 1092659, 1093108, 1093729, 1093881, 1094121, 1094134, 1094883, 1094913, 1095052, 1095102, 1095547, 1095549, 1095856, 1096257, 1096453, 1096790, 1099015, 1100434, 1100616, 1100772, 1100870, 1102055, 1102837, 1103104, 1103742, 1104567, 1105037, 1105217, 1105416, 1105700, 1106017, 1106354, 1107110, 1108182, 1108250, 1108396, 1109527, 1109767, 1110615, 1110996, 1111197, 1111428, 1112030, 1113467, 1113490, 1113611, 1113692, 1115005, 1115653, 1115810, 1116126, 1116252, 1116263, 1117023, 1117762, 1118111, 1118624, 1118867, 1119213, 1119370, 1119403, 1119588, 1119784, 1120142, 1120188, 1121397, 1121557, 1121855, 1121940, 1122435, 1123085, 1123850, 1124247, 1125135, 1125278, 1125728, 1126018, 1126168, 1126705, 1126841, 1127258, 1128875, 1128974, 1129957, 1130584, 1131997, 1133299, 1134134, 1134171, 1134280, 1134342, 1134659, 1134701, 1134863, 1135594, 1136209, 1136795, 1136828, 1137156, 1137246, 1137713, 1137923, 1138250, 1138349, 1138584, 1139243, 1139367, 1139580, 1140325, 1140329, 1140349, 1140379, 1140427, 1141498, 1141759, 1141833, 1142766, 1143553, 1143554, 1144145, 1145142, 1146382, 1147071, 1147451, 1147969, 1147978, 1147984, 1148538, 1148797, 1149113, 1149431, 1150005, 1150369, 1151131, 1151533, 1151740, 1152138, 1152169, 1152438, 1152908, 1152934, 1153700, 1155011, 1155361, 1156611, 1156739, 1157003, 1157435, 1157527, 1158938, 1159560, 1159654, 1160066, 1160892, 1161588, 1162309, 1162320, 1162550, 1162643, 1163127, 1163309, 1163325, 1164553, 1166233, 1166261, 1166703, 1166909, 1166919, 1167082, 1167566, 1168062, 1168711, 1168801, 1169113, 1169869, 1170020, 1170100, 1170161, 1170368, 1171011, 1171171, 1171470, 1171752, 1171969, 1171984, 1172290, 1172449, 1172708, 1173405, 1173622, 1174288, 1175214, 1175437, 1176157, 1176248, 1177118, 1177392, 1177837, 1178080, 1178977, 1179011, 1179312, 1179716, 1179852, 1179869, 1180331, 1182044, 1182843, 1182983, 1183017, 1183559, 1184668, 1184882, 1184973, 1185399, 1185549, 1185624, 1186132, 1186581, 1187267, 1188703, 1189062, 1189100, 1190059, 1190720, 1191607, 1192147, 1192352, 1192541, 1192648, 1192873, 1192897, 1192912, 1193083, 1193096, 1193098, 1193120, 1195163, 1195628, 1196265, 1196515, 1197888, 1197914, 1198179, 1198357, 1199098, 1199127, 1199668, 1201786, 1204189, 1206084, 1207425, 1209243, 1209683, 1209708, 1209786, 1209858, 1209887, 1210014, 1210826, 1210872, 1211220, 1211326, 1212680, 1212899, 1212927, 1213121, 1213707, 1214135, 1214317, 1215049, 1216131, 1216651, 1217092, 1218191, 1218361, 1218900, 1219118, 1219172, 1219205, 1219340, 1219478, 1220025, 1220867, 1221750, 1221841, 1222525, 1222823, 1223529, 1224283, 1224415, 1224728, 1225995, 1227386, 1227876, 1228606, 1228681, 1229116, 1229447, 1229943, 1230140, 1230928, 1231176, 1231940, 1231991, 1232118, 1232258, 1232435, 1232584, 1232659, 1234230, 1234889, 1235189, 1235318, 1235687, 1236405, 1236764, 1237042, 1237147, 1238999, 1239174, 1239332, 1239465, 1239990, 1240416, 1240448, 1240606, 1241193, 1241222, 1242232, 1242621, 1242766, 1245296, 1245514, 1245828, 1245912, 1246307, 1246473, 1246658, 1247050, 1248777, 1249360, 1250093, 1251368, 1251661, 1251689, 1251985, 1252039, 1252613, 1252769, 1253892, 1254036, 1254180, 1254417, 1254871, 1254888, 1255863, 1256058, 1256205, 1256251, 1256360, 1256588, 1256711, 1257470, 1257654, 1258832, 1258842, 1259389, 1259449, 1259545, 1259654, 1259726, 1259780, 1259875, 1260772, 1261046, 1261966, 1262537, 1262894, 1262927, 1263653, 1263853, 1265362, 1265545, 1266218, 1267124, 1267129, 1267336, 1268201, 1268325, 1268419, 1268592, 1268755, 1269196, 1270543, 1270640, 1270788, 1272639, 1272806, 1272954, 1273004, 1273117, 1273184, 1273378, 1273707, 1274442, 1274969, 1275146, 1275257, 1275268, 1276169, 1276824, 1278351, 1278585, 1278621, 1279258, 1279448, 1279468, 1279684, 1280613, 1280721, 1281302, 1282672, 1282791, 1282817, 1283008, 1283784, 1283914, 1284511, 1284813, 1285669, 1286209, 1286248, 1287484, 1287941, 1288254, 1288779, 1289747, 1290326, 1290930, 1291497, 1292197, 1292350, 1292470, 1292665, 1292928, 1293397, 1293474, 1293629, 1294962, 1295280, 1295981, 1296112, 1296764, 1297589, 1297622, 1297962, 1299337, 1299482, 1299810, 1300131, 1300195, 1300271, 1300678, 1301285, 1301729, 1301751, 1301885, 1302690, 1303012, 1303143, 1303180, 1303632, 1303773, 1303796, 1303882, 1304118, 1304174, 1304441, 1304824, 1305284, 1306679, 1306882, 1307639, 1308078, 1308148, 1308415, 1308455, 1309295, 1309538, 1310157, 1310272, 1310713, 1310876, 1311293, 1311895, 1312372, 1312961, 1313710, 1313907, 1313956, 1314169, 1315433, 1316956, 1317351, 1317883, 1318205, 1318252, 1318269, 1318405, 1318535, 1318947, 1319742, 1320199, 1321033, 1321198, 1321287, 1321629, 1322101, 1322523, 1323426, 1323693, 1324464, 1325527, 1325551, 1325696, 1326145, 1328364, 1328914, 1329305, 1329753, 1330051, 1330240, 1330673, 1330825, 1331396, 1331819, 1332859, 1333168, 1333183, 1333653, 1334148, 1335026, 1337110, 1337130, 1337886, 1338212, 1338482, 1339436, 1340090, 1340142, 1341348, 1341760, 1341934, 1342504, 1342527, 1342725, 1342792, 1343243, 1343638, 1344060, 1344282, 1345062, 1345066, 1345569, 1346559, 1346640, 1347012, 1347084, 1347475, 1348370, 1348586, 1348718, 1348967, 1349477, 1349485, 1349529, 1349713, 1349870, 1350424, 1350723, 1351360, 1351550, 1353726, 1354048, 1354300, 1354683, 1354807, 1355300, 1355393, 1355497, 1355914, 1357107, 1357457, 1358812, 1360777, 1360783, 1361581, 1361922, 1362106, 1362122, 1362406, 1363310, 1363321, 1363509, 1363707, 1364152, 1364342, 1364520, 1364540, 1364870, 1365828, 1366155, 1366263, 1366389, 1366401, 1366896, 1367513, 1367710, 1367719, 1370131, 1370418, 1370419, 1370911, 1373580, 1373688, 1375659, 1376215, 1376460, 1376534, 1377003, 1377202, 1378033, 1378200, 1378536, 1378766, 1378971, 1379121, 1379137, 1380776, 1380904, 1381215, 1381329, 1381523, 1381873, 1382752, 1383398, 1383723, 1384311, 1384316, 1384356, 1384392, 1384852, 1385024, 1385223, 1386310, 1386391, 1386435, 1386744, 1387508, 1387632, 1388979, 1390218, 1390625, 1392697, 1392765, 1392845, 1393538, 1393670, 1394482, 1395043, 1395248, 1395521, 1396127, 1396339, 1396657, 1396858, 1398546, 1398588, 1398759, 1399010, 1399116, 1399216, 1399365, 1400447, 1401947, 1402056, 1403566, 1403660, 1403661, 1404133, 1404435, 1404571, 1405176, 1405424, 1405729, 1406578]",
     "output_type": "error",
     "traceback": [
      "\u001b[1;31m---------------------------------------------------------------------------\u001b[0m",
      "\u001b[1;31mValueError\u001b[0m                                Traceback (most recent call last)",
      "\u001b[1;32m<ipython-input-36-22cd396e2ad3>\u001b[0m in \u001b[0;36m<module>\u001b[1;34m\u001b[0m\n\u001b[0;32m      7\u001b[0m     \u001b[0mcate_enc\u001b[0m \u001b[1;33m=\u001b[0m \u001b[0mpreprocessing\u001b[0m\u001b[1;33m.\u001b[0m\u001b[0mLabelEncoder\u001b[0m\u001b[1;33m(\u001b[0m\u001b[1;33m)\u001b[0m\u001b[1;33m\u001b[0m\u001b[1;33m\u001b[0m\u001b[0m\n\u001b[0;32m      8\u001b[0m     \u001b[0mtrans_cat_train\u001b[0m\u001b[1;33m[\u001b[0m\u001b[0mk\u001b[0m\u001b[1;33m]\u001b[0m \u001b[1;33m=\u001b[0m \u001b[0mcate_enc\u001b[0m\u001b[1;33m.\u001b[0m\u001b[0mfit_transform\u001b[0m\u001b[1;33m(\u001b[0m\u001b[0mevents_train\u001b[0m\u001b[1;33m[\u001b[0m\u001b[0mk\u001b[0m\u001b[1;33m]\u001b[0m\u001b[1;33m.\u001b[0m\u001b[0mvalues\u001b[0m\u001b[1;33m)\u001b[0m\u001b[1;33m\u001b[0m\u001b[1;33m\u001b[0m\u001b[0m\n\u001b[1;32m----> 9\u001b[1;33m     \u001b[0mtrans_cat_test\u001b[0m\u001b[1;33m[\u001b[0m\u001b[0mk\u001b[0m\u001b[1;33m]\u001b[0m \u001b[1;33m=\u001b[0m \u001b[0mcate_enc\u001b[0m\u001b[1;33m.\u001b[0m\u001b[0mtransform\u001b[0m\u001b[1;33m(\u001b[0m\u001b[0mevents_test\u001b[0m\u001b[1;33m[\u001b[0m\u001b[0mk\u001b[0m\u001b[1;33m]\u001b[0m\u001b[1;33m.\u001b[0m\u001b[0mvalues\u001b[0m\u001b[1;33m)\u001b[0m\u001b[1;33m\u001b[0m\u001b[1;33m\u001b[0m\u001b[0m\n\u001b[0m",
      "\u001b[1;32mc:\\users\\krishna\\engineproject\\lib\\site-packages\\sklearn\\preprocessing\\_label.py\u001b[0m in \u001b[0;36mtransform\u001b[1;34m(self, y)\u001b[0m\n\u001b[0;32m    275\u001b[0m             \u001b[1;32mreturn\u001b[0m \u001b[0mnp\u001b[0m\u001b[1;33m.\u001b[0m\u001b[0marray\u001b[0m\u001b[1;33m(\u001b[0m\u001b[1;33m[\u001b[0m\u001b[1;33m]\u001b[0m\u001b[1;33m)\u001b[0m\u001b[1;33m\u001b[0m\u001b[1;33m\u001b[0m\u001b[0m\n\u001b[0;32m    276\u001b[0m \u001b[1;33m\u001b[0m\u001b[0m\n\u001b[1;32m--> 277\u001b[1;33m         \u001b[0m_\u001b[0m\u001b[1;33m,\u001b[0m \u001b[0my\u001b[0m \u001b[1;33m=\u001b[0m \u001b[0m_encode\u001b[0m\u001b[1;33m(\u001b[0m\u001b[0my\u001b[0m\u001b[1;33m,\u001b[0m \u001b[0muniques\u001b[0m\u001b[1;33m=\u001b[0m\u001b[0mself\u001b[0m\u001b[1;33m.\u001b[0m\u001b[0mclasses_\u001b[0m\u001b[1;33m,\u001b[0m \u001b[0mencode\u001b[0m\u001b[1;33m=\u001b[0m\u001b[1;32mTrue\u001b[0m\u001b[1;33m)\u001b[0m\u001b[1;33m\u001b[0m\u001b[1;33m\u001b[0m\u001b[0m\n\u001b[0m\u001b[0;32m    278\u001b[0m         \u001b[1;32mreturn\u001b[0m \u001b[0my\u001b[0m\u001b[1;33m\u001b[0m\u001b[1;33m\u001b[0m\u001b[0m\n\u001b[0;32m    279\u001b[0m \u001b[1;33m\u001b[0m\u001b[0m\n",
      "\u001b[1;32mc:\\users\\krishna\\engineproject\\lib\\site-packages\\sklearn\\preprocessing\\_label.py\u001b[0m in \u001b[0;36m_encode\u001b[1;34m(values, uniques, encode, check_unknown)\u001b[0m\n\u001b[0;32m    120\u001b[0m     \u001b[1;32melse\u001b[0m\u001b[1;33m:\u001b[0m\u001b[1;33m\u001b[0m\u001b[1;33m\u001b[0m\u001b[0m\n\u001b[0;32m    121\u001b[0m         return _encode_numpy(values, uniques, encode,\n\u001b[1;32m--> 122\u001b[1;33m                              check_unknown=check_unknown)\n\u001b[0m\u001b[0;32m    123\u001b[0m \u001b[1;33m\u001b[0m\u001b[0m\n\u001b[0;32m    124\u001b[0m \u001b[1;33m\u001b[0m\u001b[0m\n",
      "\u001b[1;32mc:\\users\\krishna\\engineproject\\lib\\site-packages\\sklearn\\preprocessing\\_label.py\u001b[0m in \u001b[0;36m_encode_numpy\u001b[1;34m(values, uniques, encode, check_unknown)\u001b[0m\n\u001b[0;32m     49\u001b[0m             \u001b[1;32mif\u001b[0m \u001b[0mdiff\u001b[0m\u001b[1;33m:\u001b[0m\u001b[1;33m\u001b[0m\u001b[1;33m\u001b[0m\u001b[0m\n\u001b[0;32m     50\u001b[0m                 raise ValueError(\"y contains previously unseen labels: %s\"\n\u001b[1;32m---> 51\u001b[1;33m                                  % str(diff))\n\u001b[0m\u001b[0;32m     52\u001b[0m         \u001b[0mencoded\u001b[0m \u001b[1;33m=\u001b[0m \u001b[0mnp\u001b[0m\u001b[1;33m.\u001b[0m\u001b[0msearchsorted\u001b[0m\u001b[1;33m(\u001b[0m\u001b[0muniques\u001b[0m\u001b[1;33m,\u001b[0m \u001b[0mvalues\u001b[0m\u001b[1;33m)\u001b[0m\u001b[1;33m\u001b[0m\u001b[1;33m\u001b[0m\u001b[0m\n\u001b[0;32m     53\u001b[0m         \u001b[1;32mreturn\u001b[0m \u001b[0muniques\u001b[0m\u001b[1;33m,\u001b[0m \u001b[0mencoded\u001b[0m\u001b[1;33m\u001b[0m\u001b[1;33m\u001b[0m\u001b[0m\n",
      "\u001b[1;31mValueError\u001b[0m: y contains previously unseen labels: [17, 52, 202, 283, 1289, 2360, 2681, 2715, 3023, 3473, 3926, 3952, 4816, 5334, 5967, 6195, 7600, 7969, 8683, 9230, 9385, 9487, 9520, 9820, 10481, 10583, 10697, 11199, 11243, 11906, 12988, 14259, 15463, 15866, 15967, 15985, 17128, 17380, 17579, 17948, 18767, 18990, 19297, 20434, 20892, 21302, 22804, 22893, 22897, 23005, 23430, 24192, 24242, 24696, 26007, 26989, 27325, 27370, 28834, 29007, 29150, 29357, 30557, 30900, 31036, 31251, 34410, 34976, 35368, 35657, 35847, 36471, 37282, 37705, 37743, 37860, 38692, 39210, 39743, 40032, 40633, 40711, 42005, 42324, 43488, 43571, 44414, 44904, 45200, 45207, 45876, 46036, 46071, 46863, 47294, 47641, 47721, 47991, 48253, 48323, 49125, 49277, 51757, 52024, 52071, 53501, 54448, 54522, 54928, 57448, 57966, 58469, 58697, 60574, 61972, 63675, 63744, 64334, 64883, 66253, 66612, 68410, 68843, 69363, 69672, 69804, 70677, 71128, 71482, 71743, 71784, 72334, 73611, 73901, 74174, 74340, 74360, 74377, 74419, 74884, 74965, 75319, 75548, 75883, 77021, 78347, 78354, 78356, 78445, 79083, 79098, 79261, 79853, 79911, 80066, 80233, 80936, 81731, 82531, 82627, 82904, 83213, 83684, 84103, 84842, 85130, 85211, 85555, 85680, 85924, 86914, 87057, 87612, 88329, 88897, 89329, 89333, 89370, 89713, 89812, 90496, 91170, 91199, 91288, 91625, 92571, 92594, 93191, 93237, 93793, 94077, 94912, 95123, 95329, 95934, 95935, 95980, 96314, 96458, 96793, 96814, 98152, 99319, 99622, 100224, 100585, 100950, 100985, 101094, 101612, 101806, 101966, 102369, 102765, 103413, 103601, 104078, 104240, 104709, 105241, 105324, 105479, 105498, 105520, 105626, 105720, 107897, 108038, 108298, 109318, 109331, 110346, 110401, 110755, 110760, 110945, 111279, 113277, 114772, 115498, 115547, 116114, 116410, 116524, 116866, 117419, 117494, 117686, 117926, 118993, 120298, 121322, 122149, 122350, 123053, 123114, 123300, 123463, 123730, 124132, 125034, 125042, 125124, 125208, 125355, 126495, 127107, 127222, 127255, 128269, 128917, 129022, 129621, 129678, 129984, 130160, 130398, 131375, 132550, 132802, 133266, 133528, 133583, 133884, 134224, 134927, 135096, 135210, 135434, 136940, 137639, 137869, 138175, 138303, 138494, 138770, 138975, 139032, 139479, 140386, 140488, 141380, 141637, 141642, 142800, 143326, 144914, 144977, 145192, 145306, 145520, 145541, 146058, 146253, 146422, 146578, 147370, 147438, 147544, 148159, 148859, 149194, 149457, 150186, 150333, 150420, 150492, 150770, 150870, 151930, 152183, 152557, 152929, 153120, 153171, 153502, 154313, 154344, 154692, 155662, 155844, 155879, 156998, 157335, 157828, 158508, 158878, 159965, 160024, 160229, 160254, 160461, 160537, 160659, 160809, 161152, 161722, 161958, 162271, 163049, 164306, 164532, 165755, 166260, 166536, 166776, 166912, 168634, 168660, 168958, 169172, 169528, 169586, 169635, 169764, 169814, 170012, 170822, 170832, 170834, 171485, 171675, 171898, 172080, 172136, 172528, 172601, 172647, 172915, 173648, 174677, 175021, 175097, 175166, 176155, 176404, 176779, 177091, 178417, 178484, 179275, 179286, 179412, 179966, 180799, 181736, 182577, 182701, 183192, 183652, 183975, 184719, 184819, 184854, 185121, 185222, 185428, 185437, 185540, 185586, 186484, 186960, 188081, 188601, 190752, 190771, 191189, 193647, 194262, 194967, 195001, 195729, 195802, 195884, 196476, 196478, 196502, 196654, 196657, 197182, 197359, 197383, 197834, 198032, 198281, 200045, 200866, 201713, 201715, 201876, 202428, 202920, 203679, 204233, 204385, 204545, 204682, 204795, 205464, 205793, 206275, 206844, 207082, 207188, 207639, 207698, 208678, 209198, 209520, 209527, 210107, 211355, 211836, 212098, 212112, 212509, 212696, 212882, 213672, 213812, 214045, 214754, 214886, 215001, 215219, 215227, 215660, 215857, 216221, 216702, 217064, 218479, 219044, 219332, 219688, 219839, 220142, 220299, 221413, 221601, 221816, 221827, 221934, 222046, 222421, 222519, 223285, 223335, 224550, 224597, 225130, 225132, 225631, 226253, 226693, 227096, 227125, 227131, 227237, 227590, 227847, 227912, 228171, 228188, 228447, 228660, 229043, 229189, 229324, 229334, 229348, 229523, 229563, 230242, 230557, 231037, 231248, 231806, 231979, 231990, 232203, 232363, 232696, 233019, 233163, 233689, 234479, 235666, 235945, 236443, 237192, 237322, 237486, 237732, 238197, 238555, 240545, 241093, 241927, 242335, 242468, 242605, 242650, 242690, 242741, 243519, 243601, 243753, 243898, 244049, 245072, 246541, 246667, 246921, 247273, 247356, 247461, 247622, 248091, 248199, 248474, 248628, 248754, 248970, 249655, 250601, 250690, 251547, 251789, 252349, 252571, 252614, 253267, 253410, 253433, 253740, 254012, 254888, 255541, 255794, 256858, 257102, 257254, 257574, 257832, 258073, 258099, 258500, 259010, 259017, 259156, 259336, 259685, 260584, 261334, 262796, 262933, 263053, 263140, 263391, 263607, 263618, 263699, 263956, 266181, 266477, 266961, 267254, 267340, 267401, 267774, 268399, 268640, 269408, 269830, 270092, 270198, 270902, 271475, 271675, 271969, 272120, 272717, 273613, 274700, 274785, 274802, 275177, 275436, 276665, 276686, 277459, 277948, 278066, 278087, 278457, 278480, 278620, 279068, 279839, 280107, 280637, 282572, 282580, 283429, 284262, 284408, 285440, 286153, 286448, 288291, 288313, 288568, 289832, 290933, 291125, 292149, 293022, 293146, 293469, 293722, 294132, 294440, 295068, 295259, 295384, 295655, 296188, 296360, 296401, 297770, 297914, 298337, 298770, 298809, 300080, 300126, 300200, 300714, 300882, 300987, 301025, 301530, 301651, 302036, 302151, 302442, 302819, 302963, 303091, 303355, 303367, 303392, 303466, 304527, 304559, 304950, 305234, 305368, 305601, 306652, 307980, 308273, 308430, 308613, 308723, 309865, 310148, 310301, 311579, 311999, 312283, 312287, 313385, 313739, 314419, 315162, 315460, 315552, 316079, 316107, 317065, 317746, 318224, 318389, 318665, 319153, 319482, 319602, 319617, 320642, 320690, 321763, 321890, 321900, 321983, 322046, 322059, 322206, 322929, 323339, 324056, 324733, 324802, 325697, 326345, 326536, 326637, 327957, 327963, 328455, 328629, 328672, 328994, 329290, 329380, 329466, 329910, 330390, 331270, 331854, 332259, 332656, 333029, 333746, 334841, 334918, 335199, 335757, 335875, 337013, 337355, 337951, 337981, 338682, 338728, 339082, 339171, 339379, 339920, 340011, 340388, 340592, 340701, 341816, 342289, 342679, 343026, 343187, 344239, 344779, 345267, 345330, 345455, 345667, 346429, 347066, 347415, 347543, 347573, 348011, 348930, 351021, 351168, 351437, 351575, 352536, 352567, 352759, 352913, 352931, 353304, 353455, 353532, 353784, 354708, 355743, 356385, 356789, 357166, 357445, 357847, 357880, 357981, 359096, 359407, 359596, 360732, 360817, 361340, 361629, 362241, 362897, 363260, 363698, 364814, 364981, 365058, 365175, 365309, 365826, 365944, 366342, 366538, 366879, 366933, 367023, 367289, 368621, 368645, 369265, 370311, 371257, 371321, 371429, 371476, 371491, 371582, 372448, 372591, 373081, 373449, 373935, 374235, 374574, 375549, 376273, 376509, 376546, 377021, 378106, 379058, 379255, 379292, 380413, 380550, 380553, 380834, 381863, 382094, 382778, 382903, 383662, 384132, 384375, 385307, 385617, 385668, 385694, 386204, 386556, 387229, 387301, 389682, 389870, 390130, 391666, 391672, 392291, 392377, 393080, 393230, 393417, 395612, 395634, 396060, 396457, 396557, 396652, 396900, 396917, 396976, 397139, 397631, 397748, 397975, 398041, 398887, 398894, 399048, 399159, 399196, 399577, 400038, 400160, 400735, 401515, 402148, 402268, 402510, 402656, 403210, 403639, 404519, 405136, 405640, 406222, 406943, 407721, 407724, 407832, 408053, 408280, 408301, 408382, 408689, 408955, 409458, 409461, 409485, 410033, 410811, 411351, 411354, 411496, 412310, 412501, 412933, 413322, 413912, 414675, 414686, 415291, 415409, 417241, 417456, 418642, 419026, 419048, 419602, 419913, 420279, 421205, 421750, 422329, 422473, 423249, 423384, 423429, 423760, 424258, 424351, 424918, 424984, 426172, 426250, 426779, 428108, 428270, 428901, 429419, 431115, 431411, 431896, 432175, 433547, 433866, 434329, 434370, 434596, 434989, 435149, 435321, 436593, 436931, 437002, 437219, 437518, 437740, 439397, 439771, 440298, 440369, 440515, 440611, 441270, 441325, 441375, 441446, 441570, 441763, 444192, 444957, 446040, 446291, 446396, 447178, 447273, 448574, 448988, 450060, 450202, 450598, 450604, 451044, 451271, 451406, 452327, 453221, 453788, 453922, 453942, 454010, 454158, 455086, 455299, 455599, 456732, 458120, 458756, 460575, 461115, 462556, 462929, 463400, 463575, 464240, 464612, 464846, 465056, 465118, 465364, 465637, 465836, 466054, 466399, 466412, 466417, 466460, 466552, 467190, 467301, 467476, 467975, 468109, 468641, 468681, 468832, 469598, 469919, 470070, 470707, 470907, 470951, 470990, 472237, 472645, 472734, 472739, 472815, 473378, 473588, 474017, 474849, 475109, 475176, 475718, 476629, 476932, 477164, 477204, 477962, 478152, 478327, 478658, 478753, 478823, 479038, 480160, 481064, 481913, 482123, 482404, 482822, 482839, 482894, 483531, 483661, 484022, 484092, 485303, 485632, 485698, 485726, 487184, 488040, 488195, 488238, 488634, 489130, 489611, 490103, 490285, 491964, 492521, 492996, 493105, 493862, 494012, 494129, 494770, 496089, 496751, 497998, 498101, 498298, 499003, 499004, 499077, 499249, 500061, 500152, 500379, 500598, 501031, 501938, 502669, 503068, 503297, 503595, 504353, 505034, 505139, 505303, 505499, 505811, 505849, 505905, 506116, 506678, 507382, 507616, 507641, 507787, 508690, 510103, 510698, 511583, 512201, 512291, 512834, 513731, 513820, 513889, 514608, 515095, 515279, 515618, 516122, 516993, 517335, 517373, 517556, 517619, 517806, 518218, 518363, 519159, 519575, 520438, 520630, 520728, 521151, 521772, 522549, 522553, 522556, 523428, 523433, 523450, 523604, 523648, 523883, 524902, 525685, 525977, 526106, 526600, 527085, 527837, 529745, 529793, 529836, 530800, 530907, 531742, 532291, 532461, 532484, 532672, 532839, 532870, 533261, 533543, 534294, 534940, 535225, 537735, 538165, 538180, 538420, 538485, 538539, 539145, 539397, 539785, 540434, 540582, 540646, 540828, 540911, 541323, 541443, 542123, 542247, 542755, 543126, 543510, 543664, 544887, 545485, 545900, 546217, 546502, 546759, 547195, 547415, 548134, 548156, 548450, 548596, 548805, 549048, 549454, 549932, 550181, 550471, 550510, 551135, 551442, 551625, 551960, 552445, 552478, 552590, 552612, 552627, 552687, 552749, 552886, 553209, 553616, 553787, 554074, 554324, 554529, 554566, 555300, 555651, 556284, 556319, 556951, 557404, 557497, 557775, 557863, 559201, 559602, 560131, 560328, 560586, 560889, 563713, 563733, 563964, 565078, 565282, 565754, 566850, 568052, 568138, 568620, 568856, 569225, 569509, 569607, 569845, 570392, 570399, 571123, 571126, 571165, 571278, 571340, 571561, 571615, 571645, 571823, 572553, 572673, 573438, 573521, 573590, 573865, 574032, 574564, 576470, 576693, 577045, 577069, 577146, 577930, 577980, 579232, 579989, 580011, 580325, 580408, 580899, 582669, 583421, 584559, 584670, 585085, 586232, 586250, 586531, 586860, 587153, 587190, 587578, 588901, 590001, 591069, 591235, 591870, 593142, 593763, 595905, 596034, 596360, 596466, 597313, 597404, 597848, 598458, 598795, 599057, 599846, 600094, 600148, 600222, 601085, 601523, 601541, 601730, 601864, 601984, 602084, 602482, 602902, 603877, 603880, 603965, 604624, 604978, 605002, 605357, 605399, 606052, 607700, 608542, 609493, 609821, 612213, 612270, 612300, 613566, 613628, 614388, 614535, 614544, 615184, 615198, 615580, 615868, 616137, 616321, 616565, 617474, 617663, 618262, 619230, 619259, 619370, 619602, 619670, 620501, 620789, 621186, 621474, 621588, 621746, 621820, 622013, 622568, 622761, 622893, 623277, 623828, 624048, 624671, 625814, 626103, 626252, 626297, 626727, 626772, 627284, 627826, 627846, 628192, 628232, 628499, 628637, 628688, 628981, 629596, 629631, 629657, 629844, 631065, 631556, 631594, 632035, 633443, 633586, 634258, 634876, 634967, 635996, 636111, 636300, 636558, 636867, 636923, 637028, 637942, 637953, 638616, 639023, 639266, 639429, 640465, 640477, 640602, 641365, 642634, 642808, 642937, 642983, 643129, 643745, 643921, 644119, 644169, 644194, 644560, 644602, 644939, 645653, 645739, 646243, 646570, 646658, 646770, 647694, 647728, 648162, 648684, 649213, 649235, 649863, 649881, 649967, 650711, 650966, 651152, 651314, 651447, 651477, 651645, 651889, 651974, 652538, 652588, 652647, 653217, 653560, 653693, 653942, 654345, 654424, 654581, 655103, 655473, 655839, 656815, 657105, 657303, 657372, 657847, 658373, 658621, 658857, 659011, 659471, 659885, 660116, 660158, 661042, 661726, 661757, 662045, 662057, 662099, 662106, 662534, 662884, 663222, 663788, 663805, 664002, 664580, 664921, 664987, 665014, 665884, 666586, 666626, 667532, 668111, 668282, 669451, 669724, 669801, 670750, 670775, 671484, 671859, 672379, 672429, 672697, 673384, 673572, 673897, 674672, 675292, 676098, 676900, 677425, 678302, 679155, 679225, 680414, 680537, 680862, 681094, 681202, 684152, 684528, 685766, 686203, 686311, 686854, 687450, 687586, 687623, 687642, 688559, 688830, 689116, 689160, 690103, 690264, 690284, 690811, 691452, 692411, 692866, 693284, 694413, 694597, 694822, 695519, 695554, 695880, 696311, 697371, 697501, 697701, 697939, 698027, 698228, 699027, 699425, 699506, 699642, 700077, 700188, 700530, 700588, 700745, 700921, 701672, 701896, 701924, 702031, 702297, 702537, 702689, 704192, 704650, 705201, 705251, 705271, 705549, 705981, 706546, 707131, 707154, 707404, 707826, 708057, 708128, 708464, 708739, 709620, 709631, 709872, 710189, 710612, 712026, 712183, 712875, 713317, 713355, 714161, 714252, 714347, 714390, 715196, 715753, 716222, 716381, 716971, 717232, 717469, 717556, 718348, 718660, 718816, 718921, 720065, 720248, 720645, 720752, 720813, 723092, 723816, 724506, 725383, 725758, 725975, 726265, 726517, 726670, 726744, 727280, 727475, 728039, 728804, 729456, 730012, 730284, 730399, 730402, 730629, 730761, 730767, 731686, 732095, 732145, 732660, 733264, 733923, 734526, 735030, 735479, 735701, 735978, 736334, 736412, 738456, 740947, 741018, 741509, 742439, 742663, 742737, 742739, 742971, 743023, 744001, 744301, 744432, 744433, 745314, 745353, 745588, 745843, 747042, 747157, 747814, 748314, 748402, 748471, 748798, 749088, 749229, 749415, 750116, 750661, 751711, 752062, 752349, 752378, 752535, 752587, 752822, 753022, 753224, 753618, 753810, 753953, 754387, 754801, 755166, 756711, 756831, 757307, 757402, 757567, 757999, 758106, 758275, 758546, 759145, 759288, 759963, 760142, 760316, 760781, 761078, 761206, 761481, 761696, 761890, 762333, 762571, 762804, 762869, 764298, 765113, 765172, 765420, 765552, 766489, 766867, 766873, 768080, 768109, 768458, 768531, 768827, 769878, 770289, 771203, 772028, 773148, 773317, 775527, 776104, 776391, 777093, 777128, 777345, 777419, 778527, 779479, 779938, 780128, 780179, 780376, 780405, 780631, 780664, 780790, 780942, 781590, 782719, 783008, 783279, 784425, 784696, 784838, 785355, 785507, 786299, 786407, 786415, 787789, 788585, 788953, 789365, 789415, 789582, 789685, 789716, 790173, 790498, 790761, 790776, 790947, 791231, 791258, 791283, 791530, 792336, 792529, 792713, 793041, 793277, 793404, 793731, 794245, 794677, 795060, 795766, 796113, 796206, 796265, 796687, 797552, 798055, 798849, 799476, 799774, 800442, 801444, 801576, 801608, 802067, 802539, 803695, 803849, 805618, 805701, 805910, 806325, 806905, 807174, 807310, 807426, 807575, 808129, 808588, 808744, 808775, 808784, 808932, 809014, 809355, 809373, 809723, 810086, 810120, 810756, 813029, 813499, 813551, 813812, 813904, 814507, 815380, 815753, 815866, 815938, 816214, 816574, 816977, 819285, 819325, 819611, 819623, 819896, 819921, 820469, 821401, 821702, 823565, 823710, 824740, 824985, 825148, 825374, 825574, 827513, 828268, 828293, 828731, 828917, 829881, 830377, 830790, 830856, 831695, 832075, 833007, 833267, 833447, 833879, 834355, 834710, 834921, 835221, 837179, 837189, 838203, 838727, 839503, 839715, 839777, 840036, 840513, 840605, 840641, 840649, 841052, 841393, 842081, 842820, 843540, 845032, 845514, 845917, 846340, 848339, 848532, 849410, 849863, 850225, 850664, 851030, 851574, 852565, 852913, 853004, 853330, 853374, 854365, 854858, 855213, 855450, 856387, 857605, 858127, 858482, 859025, 859757, 860054, 860376, 860597, 860822, 861230, 861999, 862154, 862168, 862857, 863238, 863401, 865285, 865415, 865521, 865550, 865643, 865919, 865930, 865988, 866078, 866438, 866654, 866875, 868044, 868741, 869152, 869262, 869311, 869738, 870507, 870589, 871309, 871558, 871702, 872856, 872993, 874223, 874965, 875360, 876256, 876610, 876790, 877554, 877654, 878753, 878858, 879318, 879610, 880621, 881142, 881860, 881945, 883454, 884018, 884527, 884542, 884563, 885870, 886313, 886749, 887698, 887808, 888010, 888493, 888741, 888852, 889174, 890546, 891150, 891190, 891193, 891476, 891919, 892665, 894767, 895452, 895954, 896122, 896849, 898501, 898518, 898643, 899833, 899903, 900435, 900619, 900974, 901226, 901665, 902528, 902876, 903338, 903734, 903952, 904193, 904238, 904710, 904906, 905088, 905122, 906573, 906781, 906988, 907023, 907200, 907217, 907259, 907471, 907624, 907837, 908064, 908783, 909209, 909325, 909676, 909993, 910123, 910156, 910184, 910410, 910846, 911512, 911751, 911971, 913020, 913523, 913611, 914155, 914854, 915210, 915353, 916051, 916714, 916745, 916834, 917461, 917933, 918070, 918345, 918388, 919702, 920538, 920771, 922152, 922166, 922429, 922751, 923071, 924098, 924600, 924698, 925338, 925417, 926849, 926923, 928304, 930320, 930663, 931019, 931726, 931764, 931981, 932466, 932797, 933936, 934287, 934406, 934767, 935585, 935592, 935753, 935931, 935970, 936633, 936723, 937201, 937519, 938690, 938732, 938857, 939309, 939799, 940122, 940533, 940901, 941024, 941163, 942308, 942602, 943225, 944162, 944176, 944529, 944819, 945473, 946806, 947290, 947725, 948851, 949650, 950100, 950235, 950729, 952605, 952922, 953070, 954095, 954122, 954261, 954720, 955048, 955049, 955787, 956514, 956589, 956631, 956809, 956935, 956983, 957012, 957242, 957345, 957388, 957913, 958944, 959256, 959278, 959279, 959955, 960580, 960762, 960773, 961055, 961085, 961782, 962275, 962573, 962763, 962903, 963348, 963462, 963652, 964405, 965324, 965815, 966020, 966668, 967058, 967566, 967628, 968035, 969037, 969277, 969420, 969652, 969879, 969885, 970217, 970926, 971102, 971310, 972091, 972116, 972383, 973367, 973591, 974909, 975313, 975316, 977150, 977950, 978050, 979440, 979647, 980720, 981112, 981356, 981402, 982123, 983787, 984353, 984842, 984948, 985024, 985163, 985901, 987331, 988044, 988409, 989388, 989686, 991296, 992659, 992863, 993092, 993146, 993769, 993835, 994078, 994946, 995511, 995746, 996071, 996853, 998218, 998376, 998584, 998667, 998761, 999824, 999827, 1000188, 1000207, 1000297, 1000312, 1000412, 1000767, 1001935, 1002365, 1002387, 1002785, 1003058, 1003276, 1003375, 1004020, 1004112, 1004781, 1005252, 1005320, 1005451, 1006126, 1006380, 1006583, 1007257, 1008586, 1010879, 1011561, 1012711, 1013199, 1014749, 1014945, 1015287, 1015599, 1016435, 1017151, 1018056, 1018514, 1018710, 1019339, 1020354, 1021363, 1021756, 1022475, 1022908, 1023011, 1023030, 1023436, 1023453, 1024641, 1024844, 1024932, 1025008, 1025019, 1025544, 1026429, 1026667, 1027690, 1028073, 1028234, 1028467, 1028560, 1028727, 1029068, 1029723, 1030063, 1030084, 1030553, 1030566, 1030903, 1031048, 1031058, 1031122, 1031233, 1031650, 1032252, 1032448, 1033156, 1033269, 1034346, 1034467, 1034720, 1034917, 1035718, 1036284, 1036449, 1036620, 1036820, 1037803, 1037825, 1038176, 1040508, 1040509, 1040613, 1040733, 1041164, 1041414, 1041423, 1041586, 1043089, 1044685, 1044814, 1045045, 1045155, 1047905, 1048536, 1048649, 1049419, 1050280, 1050513, 1051114, 1052445, 1053036, 1053705, 1053743, 1053975, 1054162, 1054424, 1054637, 1054828, 1055851, 1057261, 1057397, 1057685, 1057700, 1057742, 1057794, 1057912, 1058330, 1058866, 1058870, 1059333, 1059451, 1060301, 1060311, 1060430, 1060735, 1061685, 1062104, 1062383, 1062626, 1063699, 1063725, 1063881, 1064273, 1066063, 1066399, 1066638, 1066780, 1067136, 1067674, 1068319, 1068521, 1068558, 1068699, 1070006, 1070955, 1071062, 1071220, 1071445, 1071579, 1071991, 1072142, 1072264, 1072455, 1072498, 1072714, 1073023, 1073063, 1073924, 1074062, 1075467, 1075862, 1077949, 1077951, 1078013, 1078027, 1078135, 1079335, 1079888, 1079974, 1080174, 1080588, 1080754, 1081088, 1081509, 1081553, 1081965, 1083069, 1083668, 1083756, 1084014, 1084658, 1085481, 1085515, 1086393, 1086932, 1088047, 1088113, 1088316, 1088424, 1088436, 1088621, 1089093, 1089212, 1089976, 1089988, 1090080, 1090395, 1091007, 1092315, 1092648, 1092659, 1093108, 1093729, 1093881, 1094121, 1094134, 1094883, 1094913, 1095052, 1095102, 1095547, 1095549, 1095856, 1096257, 1096453, 1096790, 1099015, 1100434, 1100616, 1100772, 1100870, 1102055, 1102837, 1103104, 1103742, 1104567, 1105037, 1105217, 1105416, 1105700, 1106017, 1106354, 1107110, 1108182, 1108250, 1108396, 1109527, 1109767, 1110615, 1110996, 1111197, 1111428, 1112030, 1113467, 1113490, 1113611, 1113692, 1115005, 1115653, 1115810, 1116126, 1116252, 1116263, 1117023, 1117762, 1118111, 1118624, 1118867, 1119213, 1119370, 1119403, 1119588, 1119784, 1120142, 1120188, 1121397, 1121557, 1121855, 1121940, 1122435, 1123085, 1123850, 1124247, 1125135, 1125278, 1125728, 1126018, 1126168, 1126705, 1126841, 1127258, 1128875, 1128974, 1129957, 1130584, 1131997, 1133299, 1134134, 1134171, 1134280, 1134342, 1134659, 1134701, 1134863, 1135594, 1136209, 1136795, 1136828, 1137156, 1137246, 1137713, 1137923, 1138250, 1138349, 1138584, 1139243, 1139367, 1139580, 1140325, 1140329, 1140349, 1140379, 1140427, 1141498, 1141759, 1141833, 1142766, 1143553, 1143554, 1144145, 1145142, 1146382, 1147071, 1147451, 1147969, 1147978, 1147984, 1148538, 1148797, 1149113, 1149431, 1150005, 1150369, 1151131, 1151533, 1151740, 1152138, 1152169, 1152438, 1152908, 1152934, 1153700, 1155011, 1155361, 1156611, 1156739, 1157003, 1157435, 1157527, 1158938, 1159560, 1159654, 1160066, 1160892, 1161588, 1162309, 1162320, 1162550, 1162643, 1163127, 1163309, 1163325, 1164553, 1166233, 1166261, 1166703, 1166909, 1166919, 1167082, 1167566, 1168062, 1168711, 1168801, 1169113, 1169869, 1170020, 1170100, 1170161, 1170368, 1171011, 1171171, 1171470, 1171752, 1171969, 1171984, 1172290, 1172449, 1172708, 1173405, 1173622, 1174288, 1175214, 1175437, 1176157, 1176248, 1177118, 1177392, 1177837, 1178080, 1178977, 1179011, 1179312, 1179716, 1179852, 1179869, 1180331, 1182044, 1182843, 1182983, 1183017, 1183559, 1184668, 1184882, 1184973, 1185399, 1185549, 1185624, 1186132, 1186581, 1187267, 1188703, 1189062, 1189100, 1190059, 1190720, 1191607, 1192147, 1192352, 1192541, 1192648, 1192873, 1192897, 1192912, 1193083, 1193096, 1193098, 1193120, 1195163, 1195628, 1196265, 1196515, 1197888, 1197914, 1198179, 1198357, 1199098, 1199127, 1199668, 1201786, 1204189, 1206084, 1207425, 1209243, 1209683, 1209708, 1209786, 1209858, 1209887, 1210014, 1210826, 1210872, 1211220, 1211326, 1212680, 1212899, 1212927, 1213121, 1213707, 1214135, 1214317, 1215049, 1216131, 1216651, 1217092, 1218191, 1218361, 1218900, 1219118, 1219172, 1219205, 1219340, 1219478, 1220025, 1220867, 1221750, 1221841, 1222525, 1222823, 1223529, 1224283, 1224415, 1224728, 1225995, 1227386, 1227876, 1228606, 1228681, 1229116, 1229447, 1229943, 1230140, 1230928, 1231176, 1231940, 1231991, 1232118, 1232258, 1232435, 1232584, 1232659, 1234230, 1234889, 1235189, 1235318, 1235687, 1236405, 1236764, 1237042, 1237147, 1238999, 1239174, 1239332, 1239465, 1239990, 1240416, 1240448, 1240606, 1241193, 1241222, 1242232, 1242621, 1242766, 1245296, 1245514, 1245828, 1245912, 1246307, 1246473, 1246658, 1247050, 1248777, 1249360, 1250093, 1251368, 1251661, 1251689, 1251985, 1252039, 1252613, 1252769, 1253892, 1254036, 1254180, 1254417, 1254871, 1254888, 1255863, 1256058, 1256205, 1256251, 1256360, 1256588, 1256711, 1257470, 1257654, 1258832, 1258842, 1259389, 1259449, 1259545, 1259654, 1259726, 1259780, 1259875, 1260772, 1261046, 1261966, 1262537, 1262894, 1262927, 1263653, 1263853, 1265362, 1265545, 1266218, 1267124, 1267129, 1267336, 1268201, 1268325, 1268419, 1268592, 1268755, 1269196, 1270543, 1270640, 1270788, 1272639, 1272806, 1272954, 1273004, 1273117, 1273184, 1273378, 1273707, 1274442, 1274969, 1275146, 1275257, 1275268, 1276169, 1276824, 1278351, 1278585, 1278621, 1279258, 1279448, 1279468, 1279684, 1280613, 1280721, 1281302, 1282672, 1282791, 1282817, 1283008, 1283784, 1283914, 1284511, 1284813, 1285669, 1286209, 1286248, 1287484, 1287941, 1288254, 1288779, 1289747, 1290326, 1290930, 1291497, 1292197, 1292350, 1292470, 1292665, 1292928, 1293397, 1293474, 1293629, 1294962, 1295280, 1295981, 1296112, 1296764, 1297589, 1297622, 1297962, 1299337, 1299482, 1299810, 1300131, 1300195, 1300271, 1300678, 1301285, 1301729, 1301751, 1301885, 1302690, 1303012, 1303143, 1303180, 1303632, 1303773, 1303796, 1303882, 1304118, 1304174, 1304441, 1304824, 1305284, 1306679, 1306882, 1307639, 1308078, 1308148, 1308415, 1308455, 1309295, 1309538, 1310157, 1310272, 1310713, 1310876, 1311293, 1311895, 1312372, 1312961, 1313710, 1313907, 1313956, 1314169, 1315433, 1316956, 1317351, 1317883, 1318205, 1318252, 1318269, 1318405, 1318535, 1318947, 1319742, 1320199, 1321033, 1321198, 1321287, 1321629, 1322101, 1322523, 1323426, 1323693, 1324464, 1325527, 1325551, 1325696, 1326145, 1328364, 1328914, 1329305, 1329753, 1330051, 1330240, 1330673, 1330825, 1331396, 1331819, 1332859, 1333168, 1333183, 1333653, 1334148, 1335026, 1337110, 1337130, 1337886, 1338212, 1338482, 1339436, 1340090, 1340142, 1341348, 1341760, 1341934, 1342504, 1342527, 1342725, 1342792, 1343243, 1343638, 1344060, 1344282, 1345062, 1345066, 1345569, 1346559, 1346640, 1347012, 1347084, 1347475, 1348370, 1348586, 1348718, 1348967, 1349477, 1349485, 1349529, 1349713, 1349870, 1350424, 1350723, 1351360, 1351550, 1353726, 1354048, 1354300, 1354683, 1354807, 1355300, 1355393, 1355497, 1355914, 1357107, 1357457, 1358812, 1360777, 1360783, 1361581, 1361922, 1362106, 1362122, 1362406, 1363310, 1363321, 1363509, 1363707, 1364152, 1364342, 1364520, 1364540, 1364870, 1365828, 1366155, 1366263, 1366389, 1366401, 1366896, 1367513, 1367710, 1367719, 1370131, 1370418, 1370419, 1370911, 1373580, 1373688, 1375659, 1376215, 1376460, 1376534, 1377003, 1377202, 1378033, 1378200, 1378536, 1378766, 1378971, 1379121, 1379137, 1380776, 1380904, 1381215, 1381329, 1381523, 1381873, 1382752, 1383398, 1383723, 1384311, 1384316, 1384356, 1384392, 1384852, 1385024, 1385223, 1386310, 1386391, 1386435, 1386744, 1387508, 1387632, 1388979, 1390218, 1390625, 1392697, 1392765, 1392845, 1393538, 1393670, 1394482, 1395043, 1395248, 1395521, 1396127, 1396339, 1396657, 1396858, 1398546, 1398588, 1398759, 1399010, 1399116, 1399216, 1399365, 1400447, 1401947, 1402056, 1403566, 1403660, 1403661, 1404133, 1404435, 1404571, 1405176, 1405424, 1405729, 1406578]"
     ]
    }
   ],
   "source": [
    "# Encoding the data and using visitorid and itemid as the only fields\n",
    "id_cols = ['visitorid','itemid']\n",
    "trans_cat_train = {}\n",
    "trans_cat_test = {}\n",
    "\n",
    "for k in id_cols:\n",
    "    cate_enc = preprocessing.LabelEncoder()\n",
    "    trans_cat_train[k] = cate_enc.fit_transform(events_train[k].values)\n",
    "    trans_cat_test[k] = cate_enc.transform(events_test[k].values)"
   ]
  },
  {
   "cell_type": "code",
   "execution_count": 8,
   "metadata": {},
   "outputs": [],
   "source": [
    "# building ratings\n",
    "ratings = dict()\n",
    "\n",
    "cate_enc = preprocessing.LabelEncoder()\n",
    "ratings['train'] = cate_enc.fit_transform(events_train.event)\n",
    "ratings['test'] = cate_enc.transform(events_test.event)\n"
   ]
  },
  {
   "cell_type": "code",
   "execution_count": 9,
   "metadata": {},
   "outputs": [],
   "source": [
    "# Storing dimensions\n",
    "n_users = len(np.unique(trans_cat_train['visitorid']))\n",
    "n_items = len(np.unique(trans_cat_train['itemid']))"
   ]
  },
  {
   "cell_type": "code",
   "execution_count": 10,
   "metadata": {},
   "outputs": [],
   "source": [
    "# building rate matrix of the data\n",
    "rate_matrix = {}\n",
    "rate_matrix['train'] = coo_matrix((ratings['train'],(trans_cat_train['visitorid'], trans_cat_train['itemid'])), shape=(n_users, n_items))\n",
    "rate_matrix['test'] = coo_matrix((ratings['test'], (trans_cat_test['visitorid'], trans_cat_test['itemid'])), shape=(n_users, n_items))"
   ]
  },
  {
   "cell_type": "code",
   "execution_count": 11,
   "metadata": {},
   "outputs": [
    {
     "data": {
      "text/plain": [
       "<lightfm.lightfm.LightFM at 0xaac4c10>"
      ]
     },
     "execution_count": 11,
     "metadata": {},
     "output_type": "execute_result"
    }
   ],
   "source": [
    "# training the model\n",
    "model = LightFM(no_components=10, loss='warp')\n",
    "model.fit(rate_matrix['train'], epochs=100, num_threads=1)"
   ]
  },
  {
   "cell_type": "code",
   "execution_count": 13,
   "metadata": {},
   "outputs": [
    {
     "name": "stdout",
     "output_type": "stream",
     "text": [
      "Train Score: 0.9976064\n",
      "Test Score: 0.8723946\n"
     ]
    }
   ],
   "source": [
    "# testing the model\n",
    "auc_train = auc_score(model, rate_matrix['train']).mean()\n",
    "auc_test = auc_score(model, rate_matrix['test']).mean()\n",
    "print(\"Train Score:\",auc_train)\n",
    "print(\"Test Score:\", auc_test)\n",
    "# pickled = {\n",
    "#     'model' : model,\n",
    "#     'n_items': n_items\n",
    "# }\n",
    "# pickle.dump(pickled,open('model'+\".p\",\"wb\"))"
   ]
  },
  {
   "cell_type": "code",
   "execution_count": 14,
   "metadata": {},
   "outputs": [
    {
     "data": {
      "text/plain": [
       "(22049, 4)"
      ]
     },
     "execution_count": 14,
     "metadata": {},
     "output_type": "execute_result"
    }
   ],
   "source": [
    "events_train.shape"
   ]
  },
  {
   "cell_type": "code",
   "execution_count": 15,
   "metadata": {},
   "outputs": [
    {
     "name": "stdout",
     "output_type": "stream",
     "text": [
      "0       -3.100678\n",
      "1       -2.831661\n",
      "2       -2.281745\n",
      "3       -2.166362\n",
      "4       -1.945887\n",
      "           ...   \n",
      "13352   -2.221048\n",
      "13353   -0.977286\n",
      "13354   -2.377315\n",
      "13355   -1.826993\n",
      "13356   -2.284565\n",
      "Length: 13357, dtype: float64\n"
     ]
    }
   ],
   "source": [
    "ans = pd.Series(model.predict(3917,np.arange(n_items)))\n",
    "print(ans)"
   ]
  },
  {
   "cell_type": "code",
   "execution_count": 16,
   "metadata": {},
   "outputs": [
    {
     "data": {
      "text/plain": [
       "(13357,)"
      ]
     },
     "execution_count": 16,
     "metadata": {},
     "output_type": "execute_result"
    }
   ],
   "source": [
    "ans.shape"
   ]
  },
  {
   "cell_type": "code",
   "execution_count": 17,
   "metadata": {
    "scrolled": true
   },
   "outputs": [
    {
     "data": {
      "text/plain": [
       "array([    0,     1,     2, ..., 13354, 13355, 13356], dtype=int32)"
      ]
     },
     "execution_count": 17,
     "metadata": {},
     "output_type": "execute_result"
    }
   ],
   "source": [
    "np.unique(trans_cat_train['itemid'])"
   ]
  },
  {
   "cell_type": "code",
   "execution_count": 18,
   "metadata": {},
   "outputs": [
    {
     "name": "stdout",
     "output_type": "stream",
     "text": [
      "[10486, 10820, 9350, 1082, 548, 7781, 2155, 10963, 11748, 11901, 8566, 7398, 735, 12995, 7148, 4094, 3663, 1617, 12516, 4839, 7425, 9305, 6063, 6368, 12680, 12340, 4952, 11216, 7735, 5097, 12268, 13326, 11437, 11531, 202, 9589, 7349, 10045, 4645, 1858, 6764, 6760, 528, 13026, 823, 10476, 11680, 3690, 9454, 7918, 5575, 3556, 2392, 1725, 10320, 8668, 2740, 8098, 6782, 11838, 2720, 5624, 6626, 1776, 1224, 2297, 8346, 2007, 4309, 799, 6290, 1737, 7995, 6599, 8820, 7000, 7463, 12705, 535, 3263, 3126, 1285, 8816, 10853, 11720, 867, 4128, 7518, 9990, 9340, 4448, 7453, 7203, 67, 10432, 10080, 2319, 11371, 5105, 11420, 4538, 2483, 9182, 11121, 13267, 11568, 3723, 10517, 5769, 4358, 5867, 10958, 11517, 7161, 2992, 602, 1862, 295, 9201, 5482, 12672, 6613, 665, 6444, 1397, 1358, 12006, 6018, 4456, 11297, 7232, 3113, 11328, 5253, 5415, 2607, 5282, 1848, 7839, 9080, 12798, 9432, 3764, 10083, 2496, 209, 832, 12762, 41, 11221, 4748, 7115, 5318, 9316, 7702, 13128, 12201, 3532, 8920, 11824, 4406, 10796, 5066, 6434, 7548, 7727, 227, 1037, 10097, 9306, 658, 1072, 8536, 13192, 13250, 8351, 10737, 12797, 6632, 3617, 12715, 10492, 4380, 4159, 3975, 3072, 784, 452, 7674, 8716, 12496, 8364, 1009, 4015, 3526, 2553, 2587, 13080, 6325, 5579, 12526, 9158, 4913, 11181, 3969, 12700, 9130, 9641, 6671, 8795, 1916, 12850, 2435, 5913, 4595, 7316, 3976, 6943, 2579, 3915, 2526, 10699, 4314, 1424, 5079, 11813, 8857, 1020, 2133, 10016, 238, 5065, 9582, 11271, 8281, 11442, 9835, 3810, 2003, 11947, 8926, 12890, 11003, 6160, 1217, 11478, 6933, 1639, 4852, 11796, 4708, 3347, 2494, 12772, 8361, 5986, 12299, 10696, 7339, 5708, 7135, 3652, 6968, 74, 2396, 7048, 182, 9351, 12642, 2595, 13155, 2811, 5100, 2891, 6390, 973, 10626, 9786, 882, 11623, 530, 4120, 12331, 4153, 9082, 5720, 9585, 6243, 3151, 10551, 1264, 7657, 2310, 12472, 8972, 846, 7050, 2749, 5400, 4652, 1705, 5322, 1923, 6214, 5179, 1767, 12380, 5344, 11968, 7469, 13248, 10544, 1811, 6393, 9896, 1665, 4661, 7670, 8908, 9557, 12889, 3182, 80, 2015, 484, 8333, 5082, 3577, 7019, 3110, 5399, 9324, 6427, 1380, 3903, 5632, 1886, 1869, 8198, 421, 5840, 1986, 1868, 11533, 2597, 11262, 758, 10585, 12306, 317, 7328, 7553, 4286, 9575, 4080, 11154, 11018, 4428, 4492, 980, 11792, 9914, 13037, 3936, 10021, 5372, 9474, 2666, 6619, 5775, 5538, 6451, 11418, 1945, 2084, 4818, 11573, 9933, 4276, 9917, 6975, 5077, 11098, 3377, 1373, 5815, 5212, 7035, 11606, 7762, 4933, 6521, 8352, 6805, 7806, 3308, 6314, 11419, 11551, 8732, 6056, 2605, 10163, 8172, 1655, 3114, 7444, 7606, 907, 6250, 10494, 9115, 10875, 2705, 9096, 5745, 13094, 5236, 12639, 10308, 11500, 1487, 10727, 9743, 1258, 9097, 9598, 1342, 6381, 4392, 3642, 374, 9945, 8239, 11949, 228, 8421, 4688, 12075, 5074, 8158, 9763, 825, 10062, 10918, 7819, 9850, 2657, 3275, 36, 9863, 12074, 2030, 465, 3559, 6077, 5789, 3335, 10266, 11201, 247, 11012, 2535, 11721, 9363, 2787, 8941, 549, 3267, 8970, 5455, 6718, 4462, 1205, 712, 142, 11369, 231, 7822, 11363, 3720, 9131, 12730, 12752, 5622, 12193, 4420, 4467, 8168, 7866, 8956, 8788, 8658, 7431, 3497, 4829, 748, 10411, 6885, 12045, 5283, 11078, 8549, 9392, 3522, 7745, 13108, 7594, 3482, 755, 5734, 8289, 3855, 4678, 7789, 10662, 1952, 2471, 13210, 4832, 8671, 13321, 11007, 2257, 1439, 7084, 8229, 1478, 8092, 2309, 3313, 2869, 11438, 253, 1786, 8454, 9751, 11812, 10190, 12536, 417, 1883, 2304, 11798, 8708, 5786, 11161, 11974, 10693, 8120, 7160, 1841, 5699, 12697, 3597, 8431, 12964, 5160, 8347, 9877, 11585, 4740, 7330, 5818, 425, 3262, 9458, 9714, 350, 6134, 13291, 12904, 7631, 13229, 6844, 3311, 494, 1935, 460, 7490, 6995, 8336, 6524, 1079, 554, 7013, 3807, 7683, 7972, 3981, 9242, 66, 12816, 10844, 7879, 7998, 8133, 6908, 6298, 4672, 11543, 6872, 2591, 4430, 6412, 7295, 7539, 9184, 566, 6321, 5487, 9073, 925, 9470, 519, 7984, 10609, 759, 10437, 9243, 7337, 1057, 4986, 7089, 6601, 8814, 4521, 95, 8617, 3979, 2849, 11249, 835, 6247, 3364, 10568, 12161, 5474, 12058, 6579, 2997, 12622, 12515, 8842, 7340, 7967, 9708, 8444, 9957, 9992, 7676, 4866, 3856, 11016, 1638, 3474, 11067, 1657, 11619, 1337, 13205, 9408, 12086, 2335, 1126, 8537, 898, 6758, 13097, 12559, 381, 8149, 8052, 11845, 6043, 3677, 8936, 6656, 8815, 2562, 210, 7046, 5244, 7241, 570, 9328, 2733, 1758, 1836, 6794, 6822, 9221, 1413, 13033, 7259, 3405, 11255, 8250, 9824, 5573, 1968, 3563, 5637, 3138, 6186, 211, 2770, 6689, 2042, 183, 4605, 12821, 3460, 4222, 11301, 4841, 995, 8160, 6400, 11731, 5709, 6949, 10161, 10939, 13129, 5375, 10930, 13042, 12739, 7188, 1851, 12552, 9173, 5224, 2996, 10445, 10052, 12100, 8691, 6202, 4758, 10108, 4912, 11042, 11828, 6379, 2630, 12888, 989, 7112, 8257, 12494, 5635, 12146, 8896, 259, 7570, 13063, 1915, 5894, 4951, 6803, 2672, 7321, 7018, 2856, 12156, 9456, 701, 3581, 3247, 12927, 7888, 11060, 10187, 4680, 9815, 11889, 1627, 11099, 2066, 6510, 7620, 3738, 11679, 2179, 11334, 13284, 4465, 9026, 11710, 5673, 3599, 4958, 12828, 5152, 9251, 5702, 430, 7217, 2836, 1430, 12348, 9710, 8733, 251, 11578, 7042, 11321, 1452, 9118, 10943, 1805, 6105, 8342, 5521, 12019, 307, 2428, 2326, 1931, 790, 8558, 8181, 12565, 9501, 10202, 4709, 3442, 5162, 5851, 1202, 4895, 5146, 12558, 7718, 3932, 4629, 322, 11523, 3230, 5546, 7172, 2894, 11856, 3351, 7615, 1253, 4365, 11678, 8247, 583, 4030, 8870, 8499, 3672, 9546, 6326, 565, 4124, 6288, 2336, 5219, 3891, 2912, 184, 1884, 10999, 8022, 12919, 34, 12243, 4355, 11294, 6024, 525, 8402, 10705, 2718, 10484, 8973, 8216, 7875, 415, 9343, 8067, 4469, 1115, 9490, 10374, 10464, 4512, 10665, 12594, 7946, 2805, 5091, 6752, 7953, 12694, 2072, 8727, 4939, 8597, 13130, 7582, 10330, 8714, 382, 531, 7510, 6106, 3107, 2035, 10427, 4257, 9008, 9189, 6916, 5491, 6590, 504, 4851, 7966, 1675, 4390, 5888, 10311, 2029, 8680, 1476, 11892, 3608, 5083, 5995, 7743, 4329, 12257, 4474, 11877, 6611, 6448, 10180, 5046, 5358, 9836, 8962, 6236, 8201, 10191, 3071, 8819, 9926, 9033, 11324, 6751, 6815, 9058, 9948, 10073, 8615, 2161, 660, 3988, 12266, 8836, 404, 1798, 2693, 11066, 159, 8856, 12578, 2865, 1123, 12817, 7652, 13154, 12423, 1961, 11037, 12625, 3955, 4992, 3084, 10873, 4850, 3726, 6164, 4208, 132, 7212, 10659, 6028, 4863, 12435, 7975, 9658, 3713, 4862, 7432, 1958, 13296, 8157, 12572, 8277, 6755, 6461, 11777, 3798, 2534, 4045, 3508, 3384, 3170, 1788, 1378, 1530, 2681, 1426, 915, 2995, 8889, 4450, 10560, 2376, 7585, 12194, 12414, 960, 2914, 3337, 6475, 9308, 5645, 1316, 3438, 6295, 10512, 12605, 5218, 12687, 6071, 4060, 151, 9161, 6895, 12179, 1699, 2232, 8542, 11134, 1766, 2148, 10438, 7934, 10738, 8872, 11162, 11911, 11912, 9336, 9949, 616, 1186, 7069, 510, 1462, 2119, 4040, 10415, 12544, 10631, 5499, 10189, 10176, 4436, 1844, 12610, 1446, 5814, 9419, 8325, 10112, 9248, 9916, 13236, 10802, 4256, 12480, 8079, 2943, 7823, 3185, 4777, 1471, 8623, 2472, 2551, 682, 12856, 12479, 11009, 13006, 533, 10402, 2528, 1907, 7157, 6114, 12527, 11043, 2975, 9403, 8509, 6069, 9423, 12252, 6457, 663, 1860, 9088, 11639, 2014, 4534, 10505, 2569, 5640, 10545, 9399, 9352, 7114, 5582, 2473, 6193, 9780, 2368, 9240, 7220, 514, 819, 3272, 9479, 11123, 13096, 4199, 626, 1002, 1450, 353, 12606, 2393, 6829, 3722, 2380, 9206, 2371, 5535, 5971, 3486, 4408, 13144, 11880, 977, 11926, 5424, 7384, 9054, 6436, 3815, 10085, 2173, 5580, 3314, 5526, 7312, 4051, 7565, 10220, 6429, 1030, 6541, 5347, 2245, 9494, 49, 243, 5860, 4471, 1388, 8555, 5300, 4279, 5161, 6847, 5293, 4228, 2558, 2484, 12751, 1183, 10872, 12207, 6901, 6489, 13304, 12865, 5954, 11598, 5030, 13249, 10025, 8484, 8946, 3273, 612, 3195, 11051, 7132, 8991, 8759, 7635, 7497, 4517, 8141, 6875, 5454, 1125, 4253, 7243, 1942, 1839, 8027, 11965, 5597, 1770, 5610, 8751, 2593, 1307, 7053, 2348, 4509, 10376, 9110, 10147, 9043, 5128, 5602, 700, 6502, 4485, 10232, 7255, 7176, 9160, 8056, 9346, 12392, 9778, 6614, 1299, 1760, 2695, 3638, 2323, 3118, 491, 7917, 5825, 10421, 13265, 6589, 5230, 5889, 11148, 7026, 609, 4822, 4084, 785, 2419, 1465, 3780, 12138, 7361, 8681, 3883, 2813, 3719, 10774, 8128, 1431, 7525, 10055, 2220, 6731, 8222, 4258, 1069, 6086, 7200, 5935, 4287, 7059, 8641, 8399, 5019, 11433, 3369, 3914, 12943, 10326, 11580, 2518, 9066, 7129, 291, 12951, 5567, 12638, 225, 10556, 11833, 2987, 6121, 3853, 3414, 2649, 4572, 664, 6034, 3167, 4635, 13224, 7047, 13182, 9013, 13299, 1509, 2021, 190, 12533, 11847, 5895, 7407, 5396, 214, 7591, 4548, 6735, 3654, 12296, 6119, 5394, 5647, 1601, 5349, 3086, 5680, 9061, 7406, 2441, 924, 20, 11937, 8059, 12699, 3748, 1689, 826, 3274, 9382, 2664, 24, 9200, 9086, 411, 11508, 5324, 2703, 1922, 8417, 10346, 8917, 12713, 7956, 3003, 7191, 1350, 614, 635, 7286, 12049, 9234, 12616, 5051, 10862, 4988, 6365, 8038, 6659, 11963, 7920, 8990, 3483, 9224, 1178, 4319, 11405, 1516, 8345, 4096, 12121, 10592, 2432, 3791, 7504, 7566, 2251, 6941, 2074, 9750, 12736, 10134, 5983, 5445, 10521, 5156, 1823, 6984, 1508, 5225, 2053, 6256, 5801, 7181, 2294, 3332, 4281, 11236, 6228, 9572, 5907, 3756, 7629, 9754, 12465, 10613, 557, 12518, 9320, 7322, 13153, 4439, 2998, 5393, 6574, 5536, 9261, 750, 7253, 4054, 8863, 1376, 8360, 12290, 2581, 10487, 1145, 72, 708, 12271, 8271, 6246, 8653, 11597, 2490, 5904, 6021, 5384, 12541, 5917, 1039, 13280, 10471, 10397, 6880, 11760, 2517, 4461, 10135, 12546, 5206, 732, 9429, 8365, 12447, 8802, 7507, 12763, 2259, 11167, 502, 12686, 11145, 7549, 109, 2248, 11510, 7568, 981, 1571, 12520, 2194, 9229, 4061, 6970, 12275, 4357, 2136, 6292, 3012, 1656, 8175, 12159, 9614, 5443, 8393, 10983, 1947, 5319, 6967, 10275, 7760, 135, 9535, 1427, 11192, 3203, 11225, 10846, 6508, 13216, 7685, 6747, 9773, 7209, 6065, 11166, 9783, 5936, 3655, 10975, 2064, 13066, 8381, 10047, 12866, 2190, 7709, 11206, 8721, 6571, 10618, 2844, 2381, 11501, 4615, 8878, 4522, 10698, 2536, 9606, 6076, 12781, 8897, 10371, 4963, 8999, 8599, 2942, 3862, 3624, 8738, 3244, 2881, 8628, 8568, 10183, 6145, 11771, 1013, 3635, 2629, 3194, 902, 11701, 5447, 6739, 2636, 10768, 10940, 7470, 6783, 10541, 10251, 12441, 1461, 10804, 4433, 195, 9012, 11349, 11322, 10740, 2743, 9684, 2094, 862, 4405, 13353, 10410, 11799, 1287, 8114, 7213, 3666, 4379, 4791, 7841, 10855, 2909, 10363, 10915, 12095, 1163, 2079, 143, 9389, 5257, 6503, 4275, 9296, 5752, 11970, 9838, 7843, 8776, 3147, 6289, 10132, 6932, 3643, 6922, 6790, 2214, 4466, 13193, 4198, 11429, 6620, 9632, 12063, 4706, 6306, 355, 114, 10493, 5919, 2565, 2872, 6201, 4346, 639, 101, 4993, 12626, 10481, 936, 3831, 11480, 8115, 493, 7641, 12173, 7894, 9104, 9491, 562, 6955, 6336, 5516, 6705, 4151, 5900, 9023, 7980, 6421, 1902, 3896, 7527, 2050, 2116, 8282, 8586, 11421, 11945, 1727, 12561, 8116, 7381, 5812, 5326, 3709, 252, 5323, 4170, 8170, 3406, 9471, 3788, 331, 2503, 4983, 4322, 4451, 5390, 13186, 10710, 7583, 11714, 3226, 9469, 13109, 12176, 13002, 10882, 3637, 11893, 911, 2525, 12569, 2238, 11260, 6407, 12573, 891, 9938, 2099, 12748, 5170, 753, 5098, 12487, 6458, 283, 8543, 1782, 8748, 12076, 9029, 6078, 10208, 7826, 8060, 12825, 2964, 12064, 10858, 8810, 5154, 12372, 1682, 7667, 8563, 9725, 4597, 10824, 4730, 3149, 8298, 10171, 7807, 10358, 8446, 328, 10895, 3119, 5313, 7149, 2588, 9106, 7440, 1097, 12059, 4833, 446, 3239, 12802, 6986, 1236, 13064, 13329, 6494, 3396, 503, 6712, 12502, 12431, 14, 9617, 711, 5267, 1696, 5875, 2823, 3739, 5949, 950, 10702, 4975, 4978, 83, 8066, 1305, 3743, 9258, 5367, 9576, 11610, 134, 2575, 10534, 11439, 4865, 11402, 12603, 10914, 11462, 3970, 9538, 3534, 7264, 11125, 4110, 4127, 5718, 176, 8596, 11036, 4570, 11567, 7447, 6317, 11132, 10434, 1505, 1046, 2950, 12599, 7125, 6649, 5346, 694, 9090, 8648, 4849, 3863, 3039, 8278, 2172, 2789, 821, 7722, 7902, 9814, 6511, 1463, 9114, 9275, 1019, 9913, 8190, 5434, 670, 3570, 5957, 5071, 4023, 11669, 8992, 5192, 8010, 10372, 449, 1780, 12437, 4651, 11574, 1855, 8495, 6690, 593, 7485, 5446, 3945, 5955, 8253, 8852, 1602, 11712, 154, 323, 12285, 2391, 9570, 8143, 7128, 10170, 1459, 5656, 10960, 10769, 11182, 8272, 3586, 3240, 2786, 5950, 12826, 8134, 6333, 10912, 9812, 11683, 12358, 11133, 1223, 8330, 7492, 12090, 6048, 5589, 9562, 7482, 12177, 11827, 7443, 9871, 716, 7276, 3029, 5095, 7922, 10292, 2871, 4504, 10378, 3514, 4996, 13152, 8463, 7584, 8993, 9866, 9959, 11364, 5994, 8288, 4970, 2317, 4432, 11233, 7142, 6893, 8039, 2634, 7774, 919, 10778, 10647, 12667, 2904, 2201, 12185, 7765, 4063, 10348, 5301, 2004, 11335, 7335, 5946, 8948, 12211, 8873, 2408, 11737, 11907, 3928, 2944, 6244, 12277, 1071, 7086, 7297, 12011, 3316, 10850, 5031, 10634, 6309, 12096, 4317, 3183, 6693, 9473, 2661, 7921, 5881, 770, 2915, 740, 2410, 4653, 4910, 6343, 28, 3213, 11726, 5023, 5725, 11918, 5247, 4995, 5295, 6608, 7919, 1277, 744, 938, 12326, 2615, 1690, 6725, 11114, 11711, 13145, 4928, 8572, 780, 5642, 128, 9236, 406, 564, 625, 5925, 2275, 9685, 1293, 7494, 2771, 1112, 1960, 10621, 10405, 7441, 6382, 12654, 9772, 3974, 4637, 5578, 12766, 4650, 444, 5740, 689, 480, 7864, 6506, 3702, 8044, 4584, 1740, 8019, 9443, 4757, 7348, 5527, 9904, 4493, 5782, 1275, 8119, 2709, 12094, 7351, 6811, 642, 12747, 8026, 5060, 7784, 2498, 3933, 11383, 9168, 8501, 13350, 7817, 3434, 3423, 2879, 1175, 12543, 546, 6166, 8452, 9128, 3752, 10167, 657, 4731, 7713, 5117, 2848, 4185, 5081, 10794, 2189, 11593, 4724, 11170, 12378, 10956, 12608, 473, 11378, 11358, 9178, 8762, 8057, 7309, 11829, 6170, 13312, 4632, 3834, 10689, 9371, 7758, 5471, 6123, 11556, 4890, 3631, 1962, 6884, 2989, 11410, 9052, 10955, 1775, 10200, 438, 12195, 4422, 7809, 1895, 11120, 6454, 7426, 7543, 4400, 1973, 6366, 762, 8569, 695, 9057, 7072, 8639, 11564, 13071, 5021, 12567, 5278, 2732, 111, 842, 6280, 6453, 7793, 12843, 13073, 8063, 10382, 1109, 10890, 6015, 12597, 9172, 10688, 2151, 6518, 9966, 4133, 13049, 9639, 9237, 8867, 8185, 89, 577, 2462, 6416, 7906, 7759, 1149, 4542, 820, 2158, 6302, 12318, 11745, 2206, 7603, 11357, 1091, 2019, 7468, 6386, 9364, 12459, 6543, 2710, 3600, 11655, 8244, 5611, 2898, 6418, 4348, 13346, 2279, 6826, 7552, 1393, 7989, 7359, 7503, 6205, 13351, 10791, 12924, 1179, 7899, 9667, 12082, 3691, 10120, 8186, 4925, 12345, 10314, 487, 6373, 1693, 9531, 11555, 806, 8760, 4819, 304, 9044, 3777, 9963, 12804, 1992, 3099, 537, 11693, 1981, 12221, 10589, 4984, 4123, 3605, 11981, 7178, 6358, 553, 3929, 2183, 524, 10155, 239, 5279, 8433, 2886, 10633, 2178, 8593, 12973, 11064, 8313, 1679, 2491, 1518, 9380, 8187, 706, 103, 9722, 9579, 3362, 4274, 3453, 5056, 2833, 12646, 10495, 7041, 4657, 7273, 9502, 5408, 2204, 6717, 1306, 1379, 4443, 11861, 869, 979, 12989, 8676, 9005, 8041, 5985, 8000, 7985, 8806, 1586, 11388, 5369, 4396, 254, 1482, 1581, 12316, 3208, 5765, 3909, 945, 5852, 10911, 2352, 8710, 13324, 8460, 2223, 8635, 11466, 11516, 5311, 2234, 8649, 1480, 594, 1100, 3447, 6587, 10848, 9209, 6375, 4620, 10081, 3027, 968, 3174, 153, 574, 7825, 8939, 1965, 6572, 4057, 7323, 7020, 11394, 2273, 3063, 6911, 8643, 1829, 13347, 12726, 12621, 2095, 2913, 6187, 7716, 11759, 11447, 5872, 2561, 9897, 4868, 12510, 6483, 12994, 5176, 1117, 8984, 7812, 6196, 10383, 7206, 11467, 9925, 6894, 3173, 8212, 6263, 1031, 13263, 3189, 1821, 2662, 7511, 2020, 4109, 1877, 2665, 2229, 4526, 1108, 10210, 1911, 7287, 9147, 8519, 12320, 6315, 12844, 1105, 2919, 396, 12014, 6172, 1365, 11152, 9281, 5992, 10536, 5879, 718, 12598, 11764, 8081, 7533, 967, 8688, 10687, 246, 7370, 11052, 12784, 13013, 1587, 5285, 6866, 212, 1585, 2363, 3630, 2880, 9038, 10090, 1028, 5045, 2907, 1583, 2729, 10483, 6930, 1153, 944, 1454, 5630, 2264, 4282, 3154, 10525, 12874, 8337, 10726, 3763, 9385, 10497, 10739, 300, 8007, 2863, 11866, 11468, 10668, 4557, 10831, 12152, 6200, 8390, 12859, 5102, 8037, 10116, 4608, 12563, 11224, 4082, 5744, 1537, 4437, 13140, 4031, 600, 2711, 10280, 122, 4203, 10044, 9384, 10800, 571, 10723, 7611, 3892, 5767, 422, 10139, 2779, 11291, 5609, 4077, 10388, 11281, 13305, 8845, 5356, 807, 12934, 10286, 10104, 1525, 2934, 9985, 9089, 7607, 11247, 10809, 5460, 2262, 6392, 428, 11636, 3994, 611, 6085, 5677, 11112, 10904, 11512, 12233, 11677, 11772, 185, 9047, 10224, 7458, 2905, 448, 9205, 1713, 6744, 8317, 7475, 1659, 8767, 9668, 8578, 629, 589, 9666, 12636, 3437, 11386, 3132, 56, 6865, 10064, 5481, 6939, 9021, 1668, 1552, 2976, 9682, 646, 395, 340, 6318, 10192, 156, 10121, 13106, 5187, 5805, 3298, 8383, 9911, 13058, 11045, 1716, 6482, 13338, 1044, 1778, 9108, 8824, 4743, 11265, 10784, 509, 3510, 3987, 1180, 1346, 10766, 1181, 4753, 7219, 3494, 4497, 11143, 9154, 8619, 1335, 12165, 13246, 13127, 1524, 1289, 9361, 2479, 3336, 8557, 12469, 7703, 1174, 6231, 1167, 6362, 2372, 361, 8942, 3221, 6283, 12793, 6832, 10209, 7233, 7942, 9035, 5930, 12587, 2385, 1878, 481, 2874, 1526, 168, 12920, 13275, 7247, 343, 3451, 9111, 12892, 1864, 12124, 8757, 1417, 10984, 11415, 3053, 1451, 5724, 6, 13185, 3544, 7516, 3034, 4312, 6497, 922, 6921, 12547, 10175, 2037, 1319, 850, 5043, 8301, 9486, 1204, 8809, 431, 11964, 7007, 13005, 7409, 12174, 11289, 8413, 12389, 12586, 7320, 474, 8715, 6687, 12387, 3404, 9253, 4769, 11608, 11263, 7051, 4544, 10287, 5007, 6072, 5984, 7929, 8459, 8987, 8156, 3237, 6059, 11489, 5846, 10884, 5355, 6153, 433, 5182, 3144, 3225, 632, 8225, 9427, 615, 7959, 13316, 4559, 8297, 667, 11089, 13075, 1301, 1405, 5774, 12060, 9293, 11068, 12894, 4148, 520, 5168, 643, 4953, 6855, 11979, 3879, 11218, 1504, 12150, 11722, 7673, 6812, 4624, 7153, 6726, 4250, 4600, 31, 8523, 9845, 709, 4867, 1816, 4525, 7174, 1629, 1957, 11076, 1225, 4011, 9659, 7141, 13143, 4783, 12425, 4301, 3947, 6359, 435, 10369, 12080, 91, 12542, 7442, 7448, 8101, 5731, 146, 149, 2046, 8877, 7103, 4419, 12909, 3426, 4240, 10620, 3629, 4855, 3551, 3660, 12745, 10056, 7831, 139, 5291, 8535, 3714, 6146, 4272, 10446, 5601, 10460, 3921, 1449, 5231, 8654, 2652, 8032, 3565, 1543, 2047, 8020, 11932, 4860, 677, 8737, 5947, 429, 6158, 2038, 9018, 2619, 11928, 7567, 2457, 108, 6322, 11627, 4835, 6245, 4824, 8415, 13311, 2125, 3870, 10593, 6745, 4186, 2928, 11728, 12225, 3141, 4114, 499, 3684, 5410, 2355, 2442, 12949, 2280, 7669, 12089, 1485, 2024, 5497, 8515, 1436, 7156, 9129, 4959, 1529, 3922, 9964, 10295, 9193, 2959, 6191, 5124, 5670, 5008, 2139, 368, 4157, 9410, 12872, 2712, 7464, 7457, 1495, 6849, 4961, 8665, 4997, 7300, 1168, 6606, 7314, 8556, 2253, 9663, 1086, 1930, 515, 7693, 9559, 4078, 12974, 3008, 9348, 796, 904, 8050, 9187, 1643, 5903, 9156, 6051, 10962, 13014, 1501, 7844, 6255, 654, 13189, 5402, 466, 2979, 11284, 1344, 7878, 12786, 6257, 9924, 11775, 3837, 3261, 2847, 505, 2667, 3620, 75, 13095, 841, 6799, 12941, 6097, 10416, 8206, 12628, 935, 9495, 8021, 13079, 12280, 194, 13256, 6801, 12595, 12069, 10787, 467, 9042, 3309, 48, 5248, 1985, 2416, 5525, 3080, 7741, 2637, 12103, 6410, 666, 6070, 5763, 10169, 12215, 7579, 8868, 11806, 5433, 11819, 9065, 4285, 3717, 6843, 10889, 9920, 3488, 10014, 63, 9422, 10864, 1743, 2388, 7193, 11019, 5464, 3178, 7462, 4200, 5181, 4431, 12996, 5040, 7529, 1664, 1240, 8074, 3806, 10554, 10951, 219, 2364, 6546, 9238, 4328, 10526, 8996, 11503, 5728, 3792, 4454, 13172, 13243, 10338, 7449, 3210, 8705, 6951, 7021, 13053, 12511, 11852, 4055, 7097, 11934, 4003, 9079, 5364, 12206, 6655, 11685, 12815, 7481, 10867, 9331, 2701, 6345, 7344, 6857, 10672, 9262, 1966, 12944, 6163, 11499, 4097, 10700, 12328, 5595, 9765, 10574, 11843, 1982, 4354, 2965, 10404, 4038, 10294, 2673, 5562, 9724, 3832, 5242, 10089, 11664, 10243, 4710, 12592, 8804, 11644, 12644, 12228, 8113, 926, 10461, 4024, 11917, 11588, 2646, 7380, 250, 12787, 10870, 5215, 12332, 10992, 10149, 12135, 147, 6862, 6791, 8988, 6936, 10354, 1636, 8614, 9862, 12065, 4771, 8582, 456, 2911, 5650, 7650, 1171, 12986, 3085, 11822, 769, 286, 9094, 5303, 11696, 3495, 5488, 6681, 4429, 8894, 2931, 12933, 257, 3564, 258, 10750, 11983, 11725, 11275, 6795, 3220, 7435, 3793, 5059, 7099, 10695, 5537, 7055, 275, 8424, 11044, 3301, 11196, 2103, 752, 8308, 5559, 9514, 10214, 10093, 10219, 3125, 13012, 3248, 3703, 13262, 4580, 12758, 10204, 5701, 8646, 10267, 9393, 10670, 12015, 6530, 810, 8957, 12882, 7327, 1979, 10238, 10051, 13120, 97, 7754, 2443, 8348, 6079, 8534, 2132, 2883, 7318, 1850, 6413, 3906, 2450, 8320, 5762, 4009, 6495, 3653, 10206, 6088, 10040, 3478, 1917, 12955, 10981, 7102, 12106, 12688, 522, 13187, 6896, 2225, 12486, 10050, 9923, 12484, 10154, 3958, 7307, 5905, 532, 2268, 6060, 789, 6008, 8221, 12102, 1748, 5593, 8263, 1885, 10260, 12093, 3509, 12120, 9564, 2929, 6504, 5223, 4923, 11839, 11506, 4529, 8560, 3609, 1314, 10686, 7671, 4807, 12998, 5829, 13000, 13255, 6654, 11811, 11727, 778, 2700, 7382, 10586, 8981, 10988, 8502, 766, 11899, 12262, 5050, 2680, 10788, 893, 5821, 1140, 3040, 7952, 116, 4721, 623, 9929, 10982, 12491, 399, 1625, 3297, 11545, 11138, 2186, 1283, 5254, 929, 6617, 8426, 6771, 2209, 5112, 1809, 5419, 10347, 8883, 2387, 2321, 734, 4823, 8139, 8979, 8858, 27, 6499, 10642, 11118, 11288, 7293, 8564, 11846, 10587, 4966, 4014, 8275, 4715, 100, 3848, 9844, 5623, 371, 11702, 3664, 12864, 9870, 5512, 6581, 719, 3513, 5679, 7530, 895, 9434, 10036, 13315, 12645, 12398, 10601, 5336, 978, 2608, 10043, 1076, 11115, 13196, 7044, 10762, 942, 1165, 5164, 12983, 4514, 1946, 3836, 12330, 817, 12227, 9299, 5500, 13343, 6841, 6111, 2542, 2885, 4036, 8618, 10883, 7814, 3602, 12433, 9085, 9771, 9738, 9833, 10546, 10020, 9819, 13175, 10130, 12311, 9712, 13200, 9760, 2276, 5320, 9520, 613, 13235, 1355, 6232, 9357, 802, 3613, 11774, 12213, 10718, 12236, 12046, 187, 12576, 3376, 4349, 7943, 9619, 4277, 4921, 1473, 9830, 4541, 12550, 9074, 11581, 9307, 5916, 9678, 1632, 5197, 1726, 6221, 3692, 5849, 11887, 1738, 5441, 4403, 7915, 12097, 6229, 3050, 3159, 1402, 13008, 972, 3954, 1742, 8915, 5027, 11423, 11285, 8746, 4353, 11605, 6934, 5569, 4712, 303, 6234, 12167, 3290, 3889, 2274, 12250, 12923, 1772, 2784, 3985, 5277, 3246, 4223, 8197, 12591, 11982, 948, 11840, 12954, 7532, 11980, 4775, 5555, 4115, 9637, 8903, 8378, 3833, 4189, 3339, 9355, 12081, 3822, 6014, 12878, 6324, 10583, 3010, 6972, 12930, 363, 4412, 12845, 10248, 5000, 8909, 420, 8112, 8663, 1554, 345, 10842, 7904, 953, 1511, 1334, 6061, 1244, 3724, 180, 4599, 265, 7664, 13194, 9377, 11994, 10553, 9387, 9828, 11954, 8573, 4006, 1825, 1892, 12346, 11360, 10639, 7605, 4674, 8901, 12200, 3840, 9656, 5857, 11814, 2302, 4691, 9232, 8441, 8124, 7356, 3897, 3725, 11472, 1522, 10547, 12118, 4878, 1548, 9854, 4321, 12079, 5049, 2545, 11235, 1052, 1550, 866, 6005, 3002, 6049, 8, 3596, 11436, 12618, 1400, 1938, 4558, 4516, 4654, 3783, 10899, 538, 1336, 5810, 7689, 2678, 2282, 7858, 3375, 11226, 7871, 1532, 11191, 651, 7360, 8268, 6387, 10673, 9943, 6798, 12539, 12509, 2899, 4911, 3814, 8998, 9421, 9218, 8613, 2797, 3598, 10328, 5314, 3650, 5707, 10635, 6220, 4305, 6264, 12158, 12216, 1619, 681, 10759, 12244, 2174, 2362, 1226, 2344, 6721, 2761, 7074, 3865, 9037, 11092, 6000, 4491, 10807, 8491, 10242, 477, 5270, 9980, 13157, 13056, 8040, 10502, 11193, 11493, 3485, 11910, 3781, 365, 4386, 12744, 8425, 6643, 8895, 11816, 2461, 5887, 9337, 10212, 7506, 2121, 5779, 2218, 10428, 12659, 4369, 6639, 53, 9717, 10496, 11278, 7576, 9300, 12127, 4483, 7813, 9266, 8051, 10431, 2868, 3014, 9910, 8913, 5706, 10533, 11920, 9595, 2000, 5147, 2159, 3632, 4692, 5735, 6915, 10193, 6835, 7910, 10296, 1453, 5966, 10733, 606, 6900, 7665, 3241, 5884, 12504, 1735, 11565, 10510, 1137, 6293, 3091, 1523, 5113, 12791, 12276, 507, 3923, 6155, 8457, 5127, 10282, 12834, 1575, 7130, 13331, 9643, 10941, 8934, 8879, 11141, 6142, 13055, 8494, 7927, 705, 12775, 7168, 8285, 1582, 7461, 8440, 2113, 1517, 11844, 12172, 10871, 12066, 3625, 10095, 5703, 9325, 12098, 4790, 5489, 12137, 5342, 13020, 10798, 4899, 1438, 5308, 2226, 4598, 4646, 1512, 6734, 8747, 1032, 11776, 7867, 10100, 12281, 1458, 12418, 10457, 10607, 8627, 2508, 12738, 6840, 5190, 11000, 59, 8261, 3101, 5169, 9890, 12977, 11914, 6669, 4178, 10752, 12329, 6859, 4737, 5366, 8591, 2056, 10197, 12903, 5937, 3797, 8645, 11717, 798, 1026, 7480, 3560, 3112, 558, 7152, 9192, 6394, 1744, 6042, 54, 8076, 11347, 6197, 8775, 7987, 6340, 12388, 1944, 12036, 10377, 12071, 12875, 11105, 50, 271, 1075, 662, 7500, 2433, 9951, 249, 2594, 4812, 269, 1128, 7342, 10713, 6618, 443, 9431, 2430, 5213, 11246, 9430, 8350, 599, 12759, 12803, 10661, 4210, 12033, 12566, 12092, 1824, 11409, 338, 4870, 5753, 11713, 11267, 2090, 8651, 6856, 5198, 11793, 9739, 912, 5294, 10925, 5874, 3416, 10938, 213, 3963, 2008, 9623, 6405, 11868, 2539, 8974, 5843, 462, 13021, 10790, 918, 3790, 10342, 12524, 6151, 4188, 1634, 9488, 11217, 1015, 4158, 11751, 6360, 6861, 12777, 11398, 2804, 4687, 11959, 2403, 16, 12070, 9121, 5485, 7257, 3056, 2625, 7054, 10823, 1080, 11876, 12614, 6258, 12163, 3324, 1596, 909, 1650, 1785, 7098, 8009, 3025, 3223, 7816, 12410, 1845, 1197, 3649, 12754, 6851, 23, 772, 3235, 6769, 4901, 2815, 793, 6545, 9250, 8742, 1817, 1447, 6740, 7336, 6743, 5687, 6837, 4339, 11329, 8384, 4881, 672, 4649, 605, 12288, 11090, 6179, 7775, 7375, 5064, 13124, 3033, 10637, 10610, 1859, 12596, 9616, 2982, 10917, 11080, 2583, 3916, 1843, 9280, 1813, 8042, 5781, 4864, 148, 9846, 136, 1547, 7474, 9342, 7749, 9997, 11991, 3847, 11377, 5847, 11615, 10038, 4018, 203, 8865, 2221, 5101, 4201, 8719, 11529, 4342, 4134, 9213, 10691, 3812, 8456, 8356, 12034, 3561, 5614, 4956, 3712, 7261, 10409, 3227, 9414, 1070, 4937, 3373, 3871, 12027, 4205, 5758, 590, 11126, 13322, 8482, 1975, 9141, 628, 387, 1654, 6603, 9283, 6947, 7790, 9076, 6624, 5207, 2413, 364, 12978, 3527, 10573, 9282, 4545, 8048, 12162, 197, 10916, 11546, 6149, 11351, 1970, 6040, 12347, 2456, 5961, 43, 4421, 3989, 12887, 11904, 9936, 6209, 4716, 12774, 4982, 7169, 9153, 6426, 1280, 6825, 10701, 11741, 6593, 13059, 3885, 261, 536, 3108, 9670, 10952, 2936, 4362, 10304, 8329, 7202, 5130, 5712, 6816, 137, 8240, 5962, 2460, 10439, 3535, 6978, 11356, 5437, 11488, 4100, 13297, 12960, 8904, 1392, 5629, 1847, 11505, 9002, 3304, 5750, 5648, 8587, 7265, 3260, 640, 9629, 11624, 13131, 126, 1034, 2013, 6867, 12969, 10449, 1980, 2993, 13228, 5684, 7096, 8786, 6688, 11654, 11158, 7414, 453, 4255, 2893, 6352, 1887, 5357, 2755, 2215, 592, 2670, 9295, 1466, 9334, 11034, 11479, 4042, 8584, 8045, 6913, 4887, 12985, 2112, 13332, 10110, 5348, 12862, 10387, 1043, 4259, 12512, 754, 8876, 12073, 11014, 2358, 7430, 7066, 7711, 12575, 12143, 7748, 3428, 13070, 7016, 12907, 13162, 12323, 2843, 12374, 2258, 7811, 12043, 5661, 3507, 1687, 393, 9937, 3139, 2713, 13067, 6353, 5240, 7766, 9499, 7438, 8685, 3341, 1300, 4742, 1063, 10234, 7154, 112, 1787, 7194, 2845, 370, 1065, 5726, 9881, 9735, 4164, 12675, 11884, 5143, 6729, 5341, 680, 8476, 4888, 2627, 1732, 104, 6550, 3106, 7877, 10339, 7983, 6233, 7240, 12153, 9353, 8638, 9298, 739, 11010, 8689, 10250, 13215, 9892, 5759, 13041, 3129, 9426, 3345, 13107, 9801, 9397, 4659, 6037, 11111, 12620, 3771, 4377, 7573, 12936, 7419, 4826, 1367, 1122, 6054, 8077, 199, 5109, 13220, 671, 9878, 3633, 9541, 9542, 3732, 5276, 3412, 4969, 728, 2089, 8470, 1929, 13142, 9050, 9024, 5798, 7770, 11740, 10058, 4886, 8462, 9618, 4048, 2373, 1386, 4035, 2185, 4401, 2601, 10414, 1998, 11079, 3385, 5788, 12929, 10256, 9311, 8255, 4957, 2476, 7412, 11002, 2522, 4067, 673, 12321, 2750, 7236, 6965, 408, 12706, 8455, 3399, 1416, 10743, 7815, 4085, 6484, 10233, 3420, 11180, 8401, 2870, 7029, 12286, 7993, 3566, 6452, 5552, 13289, 1017, 8853, 5711, 1856, 4416, 3555, 7416, 11103, 10380, 11160, 9105, 7104, 12365, 10603, 2513, 603, 10877, 1852, 1190, 5873, 5339, 12461, 342, 3575, 12446, 10674, 11258, 2286, 4106, 2762, 5306, 10221, 8830, 12770, 7143, 5412, 11859, 8923, 1162, 13147, 8579, 10694, 3429, 1274, 5395, 4427, 12003, 2076, 12593, 4478, 11399, 6629, 5942, 11778, 397, 9561, 1061, 12556, 3887, 9367, 12029, 8612, 12488, 13191, 1062, 4242, 6918, 1267, 1972, 2365, 8506, 7924, 1441, 9369, 9062, 11724, 3912, 7739, 3817, 12935, 3727, 12811, 3607, 2724, 715, 5551, 3268, 2658, 10667, 5809, 1005, 12912, 4782, 6976, 12720, 5906, 1132, 11401, 5458, 12184, 8818, 5982, 8238, 4554, 6522, 5636, 9802, 9014, 4967, 983, 5325, 539, 11766, 2135, 2314, 13355, 332, 11613, 2298, 9449, 11139, 6535, 3538, 7163, 12522, 2236, 9330, 11342, 7708, 4455, 441, 12972, 12757, 10520, 9761, 1016, 2576, 6259, 540, 9455, 2895, 4854, 4591, 3571, 2166, 2083, 1667, 7315, 11896, 11999, 9274, 2892, 11643, 11971, 11694, 6768, 6341, 11375, 3993, 9345, 6006, 4053, 9732, 12289, 1351, 2860, 6742, 6881, 1333, 1720, 6834, 93, 2394, 7136, 25, 6507, 9792, 8851, 3673, 1950, 1460, 3753, 7165, 7478, 3061, 9903, 2775, 4604, 11703, 10478, 3517, 9478, 4794, 12517, 8902, 4364, 4614, 1750, 1795, 1694, 13004, 7855, 6831, 9883, 5305, 2407, 13285, 7476, 4803, 6696, 5035, 1196, 771, 1670, 3940, 7509, 8191, 2792, 6199, 11136, 12044, 996, 3329, 11906, 10542, 1818, 5104, 10887, 458, 7027, 4002, 12298, 7908, 10611, 2093, 2436, 9701, 5129, 6113, 4480, 12445, 1352, 707, 7345, 9875, 11464, 6948, 6517, 3057, 6165, 601, 8269, 4842, 1603, 3398, 2766, 6954, 4107, 13225, 878, 11831, 13043, 4795, 2499, 2721, 2977, 10393, 6206, 7782, 4046, 6917, 5145, 4441, 10908, 8099, 4311, 3796, 1729, 12717, 11607, 6808, 10970, 8553, 1808, 2875, 6466, 10443, 8264, 6923, 11382, 6994, 1755, 6143, 8711, 2320, 3228, 7378, 9227, 937, 12851, 4130, 13286, 1963, 2706, 208, 2150, 4150, 3075, 3327, 857, 4547, 11245, 5778, 426, 10063, 9245, 8947, 1712, 11617, 2793, 9767, 2861, 8232, 3901, 10069, 9032, 1271, 6542, 12991, 2511, 1905, 9821, 2163, 7266, 588, 9633, 9889, 325, 52, 8706, 1717, 6927, 814, 1538, 4987, 1042, 7332, 10584, 10709, 5140, 1695, 12187, 4206, 1338, 5256, 7644, 12485, 3821, 889, 12863, 2048, 7637, 6208, 7353, 7880, 5125, 11985, 11339, 3124, 9672, 8434, 2044, 4112, 4695, 9027, 12780, 11509, 6383, 5450, 2773, 4553, 4587, 991, 4727, 9967, 11538, 10028, 3843, 12166, 1756, 7981, 3950, 12396, 3374, 12906, 12789, 12870, 12035, 5671, 90, 9655, 13121, 4062, 3242, 10048, 10144, 12952, 10636, 3499, 8600, 8006, 11791, 5477, 11030, 8640, 11855, 8827, 7306, 2504, 527, 5858, 6926, 8411, 1763, 4658, 2169, 10735, 4765, 1666, 1327, 10669, 12116, 13118, 6680, 6203, 1428, 1036, 4307, 1753, 9720, 1395, 7401, 9045, 12038, 6462, 591, 6082, 10099, 7011, 3908, 1135, 12439, 6701, 10632, 4017, 6261, 9247, 8650, 8283, 10315, 12822, 11309, 321, 11784, 12600, 8410, 4202, 7962, 6640, 13040, 12916, 12112, 5627, 1391, 5592, 9552, 4001, 8287, 10092, 11630, 5549, 2427, 3686, 12836, 4610, 3842, 13046, 12016, 2738, 5304, 1206, 2935, 6631, 10827, 4770, 2757, 7289, 7554, 8898, 8964, 1443, 10455, 1083, 12091, 6039, 198, 1435, 468, 9070, 10334, 11584, 8774, 255, 12696, 10088, 1116, 12963, 6409, 12125, 8849, 7960, 3469, 8439, 1294, 13281, 1022, 10406, 12190, 4722, 7393, 8925, 6096, 6294, 8927, 2791, 11638, 12490, 8561, 1604, 11283, 10150, 10630, 6440, 266, 6370, 207, 7439, 9627, 1618, 1623, 11008, 5137, 3679, 9256, 11049, 8387, 5893, 10964, 9376, 5135, 4848, 1103, 5850, 4606, 6178, 1510, 10683, 8385, 584, 9441, 4856, 2075, 1874, 4489, 6562, 10745, 6638, 5490, 2923, 1437, 10690, 13036, 596, 3206, 7562, 9969, 11820, 2690, 1323, 12847, 10852, 7167, 9071, 13295, 4874, 5587, 8821, 10518, 3289, 8043, 4914, 2011, 9402, 1837, 4171, 8864, 6724, 955, 3233, 4, 163, 9894, 12337, 8202, 2663, 2582, 5350, 2896, 13307, 4664, 1771, 11082, 9049, 6364, 4683, 12009, 4991, 10271, 1989, 11053, 5845, 7166, 9986, 2744, 10714, 3030, 2036, 8866, 6763, 3252, 10528, 10151, 8531, 10106, 9860, 4173, 9214, 2772, 2985, 5210, 418, 1791, 12394, 11739, 4877, 9170, 5934, 9978, 11522, 3920, 11709, 6025, 7085, 4503, 278, 5756, 8177, 5565, 9565, 1721, 2580, 11687, 4296, 3397, 6132, 4367, 9445, 4903, 2349, 8445, 12722, 545, 3874, 9230, 3931, 160, 11950, 1364, 10079, 6686, 6792, 12008, 1184, 2686, 2167, 9597, 9872, 6139, 12609, 9132, 11988, 1192, 4193, 3515, 698, 3584, 2887, 9768, 5548, 8624, 9864, 5746, 6157, 11635, 181, 4568, 7577, 11465, 7298, 2027, 12601, 8780, 8193, 9843, 9433, 8546, 9607, 4946, 3070, 88, 12868, 13233, 1678, 9480, 9476, 6303, 6251, 1195, 4977, 4472, 9177, 10179, 12175, 6886, 11022, 1090, 4122, 11013, 11894, 4113, 4280, 6431, 10059, 3326, 7037, 10946, 12651, 1910, 12335, 2910, 7040, 1412, 3658, 11164, 7049, 12397, 12202, 5423, 8018, 12967, 7204, 11127, 10606, 4884, 5286, 6249, 9869, 9117, 4226, 4705, 9847, 8701, 5660, 7679, 8049, 4713, 12732, 10254, 2140, 9135, 8096, 11993, 3934, 8622, 9374, 8697, 970, 10532, 9162, 10317, 4344, 21, 6515, 6697, 5927, 5078, 11885, 5397, 5266, 7746, 4231, 10318, 5041, 2612, 11444, 1903, 12042, 11942, 4019, 1573, 7237, 8943, 3938, 6944, 9775, 9417, 6777, 3619, 9497, 6443, 2118, 1486, 13334, 10201, 10550, 13148, 4119, 58, 5958, 9825, 3678, 731, 10352, 2659, 6560, 6670, 6262, 11106, 5973, 8626, 4830, 2306, 10335, 8161, 11200, 2288, 4686, 7974, 5871, 1802, 12141, 12078, 403, 3432, 10031, 3546, 9464, 7624, 6514, 6022, 12455, 8005, 3537, 11973, 7363, 10392, 4853, 4143, 5566, 1286, 1783, 900, 4919, 7109, 9628, 10736, 9323, 9122, 6446, 12831, 10797, 5354, 9756, 8031, 11456, 11365, 4446, 11038, 2988, 685, 13268, 8812, 5042, 6319, 5039, 10841, 1790, 8178, 5588, 8783, 5088, 8928, 10331, 9681, 1221, 3354, 11006, 2100, 6080, 11869, 1793, 7862, 13133, 7311, 5556, 10825, 12655, 4950, 9940, 7045, 8683, 1919, 3387, 2559, 119, 1281, 13209, 8309, 11927, 5328, 10902, 6397, 2383, 5528, 8436, 7090, 3391, 954, 7845, 10868, 8989, 11684, 319, 4136, 3701, 12101, 7651, 8693, 12004, 11923, 6870, 13206, 8398, 2431, 7569, 5377, 285, 947, 7818, 12873, 5371, 9961, 2622, 11172, 8547, 6287, 4908, 5382, 4511, 2322, 10755, 9748, 12148, 6850, 1311, 10303, 4475, 8959, 8744, 11536, 7911, 4821, 8525, 5149, 10247, 4949, 8758, 6989, 6784, 3467, 941, 2752, 6650, 4586, 7626, 4233, 10429, 11695, 2687, 12661, 2548, 6633, 7804, 3787, 6762, 1188, 1448, 5429, 5920, 901, 11738, 8199, 10724, 7268, 12032, 1977, 10277, 46, 910, 12678, 5340, 4660, 10312, 12782, 2017, 5676, 9444, 11412, 7647, 4147, 280, 4944, 2233, 2378, 2802, 165, 3266, 8126, 4251, 8153, 8995, 4219, 7369, 13023, 7512, 2926, 2324, 11298, 12406, 1362, 9839, 1558, 10944, 5479, 5714, 11231, 3601, 2434, 6442, 11560, 4331, 4050, 1834, 77, 13139, 652, 4802, 9962, 1688, 445, 12205, 6657, 10142, 7738, 11836, 2147, 1325, 10148, 3081, 2604, 12273, 5807, 6091, 4815, 4376, 5180, 6045, 2131, 7445, 461, 12615, 9919, 9215, 9809, 4237, 1129, 7614, 1255, 12149, 3041, 6992, 7776, 12376, 4411, 11653, 7162, 5461, 5010, 5952, 12478, 7421, 4167, 10666, 6969, 13234, 2237, 12908, 4964, 845, 9755, 6648, 5882, 7489, 9868, 10663, 9895, 5633, 543, 7088, 4020, 4388, 5768, 4487, 9028, 1810, 5634, 11331, 11431, 12404, 3808, 1099, 6796, 10851, 3705, 7459, 3761, 2117, 12279, 1208, 5646, 2505, 5625, 3858, 7127, 10640, 3234, 10717, 3317, 6327, 7076, 3997, 11422, 4999, 1794, 6284, 1993, 4056, 11391, 10903, 1219, 9818, 26, 3468, 9163, 8504, 1008, 8498, 1322, 9179, 8299, 9169, 5886, 6683, 5275, 10341, 7936, 8837, 3505, 1066, 9769, 7895, 5428, 7859, 8030, 1865, 6162, 9216, 240, 8607, 12690, 6748, 4366, 4697, 5743, 10707, 12788, 848, 7860, 6830, 45, 2176, 10819, 9782, 8296, 2538, 10623, 7215, 12444, 3750, 2817, 6773, 1939, 8761, 6609, 12497, 8516, 3876, 2866, 386, 9649, 9590, 2543, 9327, 8163, 6159, 3541, 2162, 10865, 10006, 5194, 8790, 4166, 10133, 11890, 13178, 3669, 5269, 7158, 2507, 6501, 12806, 9702, 10658, 10249, 10075, 1833, 12362, 7392, 2756, 9100, 6240, 5572, 3205, 4648, 8726, 10922, 12664, 6979, 12366, 161, 3450, 2669, 9545, 916, 7932, 4495, 5175, 13320, 3930, 5828, 7608, 3852, 3882, 13183, 6260, 6528, 11600, 12881, 6001, 9799, 2765, 4871, 4181, 10426, 11672, 8574, 822, 9329, 6171, 1056, 384, 9927, 8724, 10590, 2901, 9157, 13038, 8629, 8844, 2642, 8241, 2465, 6973, 12, 10262, 3583, 10351, 2202, 10856, 5250, 7256, 4299, 244, 6304, 9827, 11955, 44, 4457, 11916, 11632, 5165, 7666, 10731, 1546, 4533, 8108, 11117, 1113, 8770, 11626, 2386, 8167, 7014, 2834, 5171, 12409, 4973, 10756, 222, 7801, 1658, 8803, 10362, 10361, 3520, 3751, 3134, 10274, 2888, 4515, 8550, 11332, 8195, 7117, 12072, 3229, 5755, 5456, 6009, 2301, 3045, 12549, 8592, 3232, 3782, 3283, 7563, 12529, 5053, 5204, 11311, 3656, 3639, 8583, 3965, 3021, 6385, 11657, 2839, 10596, 5953, 4696, 3158, 1812, 11130, 6488, 10580, 4520, 8001, 1088, 864, 1660, 8698, 12171, 5803, 1774, 2171, 5337, 10159, 1324, 2941, 8136, 5783, 489, 11175, 10645, 10349, 11616, 13034, 7889, 12695, 7965, 2440, 3589, 12232, 11449, 62, 12234, 5564, 7873, 6800, 1633, 13302, 10076, 3143, 1444, 742, 5675, 1381, 7303, 11649, 12246, 1777, 8598, 11938, 7602, 8159, 5590, 9958, 9465, 7612, 1541, 2824, 12926, 8833, 10746, 11956, 4702, 5333, 678, 6415, 11073, 12588, 9412, 391, 6842, 11403, 9566, 12249, 9798, 13244, 11599, 5159, 9853, 9148, 12743, 11048, 7248, 2216, 7535, 4979, 2780, 5719, 2677, 2501, 8035, 11448, 11609, 1591, 10591, 4574, 8135, 1276, 5568, 4673, 6928, 3685, 9112, 10562, 10566, 11628, 6347, 10830, 4083, 2439, 12085, 13195, 3350, 6660, 2390, 12554, 12532, 8493, 5426, 6057, 11445, 763, 10485, 5353, 11086, 9223, 3, 6016, 9415, 4496, 12239, 11308, 5158, 5989, 1997, 8173, 5504, 2454, 2745, 11699, 2951, 10261, 10343, 703, 4479, 6129, 1282, 12144, 13288, 560, 9679, 3403, 3755, 6746, 12132, 6570, 2227, 1710, 9493, 2972, 3511, 7660, 206, 7731, 8184, 2694, 7134, 11404, 2444, 4932, 1394, 2165, 12946, 6268, 4875, 5052, 2983, 11237, 11453, 9660, 5121, 5574, 5222, 8209, 3392, 12300, 9246, 8252, 3315, 9123, 10681, 6754, 4882, 1498, 1906, 13091, 11944, 2203, 6094, 3595, 6248, 10035, 4320, 10644, 4162, 7734, 1640, 4725, 9228, 1635, 11552, 11424, 10022, 8065, 6174, 3015, 2829, 12020, 3496, 8011, 13137, 897, 1882, 10061, 2010, 2519, 7073, 7228, 2451, 12473, 12220, 8373, 7659, 4248, 8976, 2722, 11492, 329, 1254, 8848, 12657, 4898, 9164, 2102, 5751, 3493, 4948, 3828, 2468, 9640, 11244, 2256, 9496, 7882, 6277, 1409, 8875, 7654, 7107, 8606, 9698, 5784, 9928, 8105, 2577, 70, 696, 2098, 8669, 11395, 7501, 3440, 6213, 10101, 10436, 4397, 10511, 3253, 2217, 10412, 6919, 9605, 12853, 6207, 9834, 4337, 2078, 8960, 9500, 9777, 1185, 11230, 10237, 6635, 7514, 9301, 4761, 6700, 10813, 1545, 5436, 6580, 13270, 7079, 8270, 5001, 5361, 13293, 11222, 8778, 1714, 3907, 5951, 3018, 3120, 6389, 6600, 5132, 5890, 9686, 1692, 6677, 7190, 10181, 9918, 12900, 440, 2292, 4909, 10767, 12443, 10575, 768, 6890, 12869, 2572, 631, 2897, 11987, 2057, 2999, 12838, 9752, 6806, 10896, 9059, 7095, 87, 306, 10540, 10811, 10141, 3187, 3318, 7420, 777, 10433, 6335, 4756, 11113, 10741, 12913, 578, 4302, 3393, 1256, 11992, 12760, 13325, 12493, 11995, 8914, 12827, 5290, 11960, 9740, 2384, 6437, 963, 931, 3155, 13352, 2631, 2725, 8219, 4732, 10278, 5722, 5404, 6985, 4523, 6642, 541, 11319, 11707, 11242, 6788, 470, 6540, 5968, 13342, 3344, 764, 1984, 9683, 7550, 2653, 12231, 7964, 10450, 2180, 11826, 5430, 38, 4655, 2651, 11715, 9133, 8955, 3389, 3919, 661, 11390, 2855, 7386, 2598, 5122, 5586, 12260, 7417, 11463, 4218, 5964, 3166, 12245, 5861, 7263, 8121, 447, 8611, 11795, 6983, 3573, 12801, 9257, 4399, 11951, 4936, 13116, 3231, 11634, 7979, 1900, 5263, 6558, 10452, 2514, 11379, 9207, 7701, 6682, 13024, 7083, 880, 5233, 10974, 2550, 8327, 6067, 9375, 4244, 8266, 4719, 8892, 7346, 9556, 8811, 10172, 8367, 13303, 6030, 12237, 11179, 6363, 9297, 8123, 865, 4073, 11269, 5417, 13336, 9700, 12505, 3964, 9747, 3461, 12031, 7278, 5327, 4234, 5613, 2438, 1242, 6073, 11525, 7285, 9406, 10949, 1822, 11147, 3628, 575, 1784, 1399, 1081, 4793, 8481, 11046, 12662, 11898, 7810, 10003, 9159, 9930, 8675, 10131, 1315, 3864, 11535, 10749, 4070, 9136, 2702, 3082, 2502, 5229, 12452, 3961, 12192, 8961, 9254, 1232, 13123, 4283, 4417, 5813, 12056, 12157, 2252, 6270, 10923, 1597, 4787, 3824, 6846, 6588, 3069, 4532, 3280, 674, 7400, 1235, 10263, 827, 747, 927, 2006, 10808, 1609, 3218, 464, 7487, 8416, 1159, 3367, 5209, 1216, 2085, 6904, 653, 13219, 6487, 4751, 8305, 2547, 1464, 13339, 10595, 11367, 976, 4527, 5515, 1580, 2012, 11240, 5787, 13344, 2933, 7798, 11473, 7658, 7187, 883, 572, 3841, 794, 4374, 1148, 4445, 6730, 838, 3894, 724, 13, 2798, 4211, 9290, 9611, 2325, 13241, 8388, 12047, 3585, 10012, 9842, 9508, 4873, 8755, 2034, 358, 13197, 4145, 11656, 3121, 4859, 11417, 7009, 12733, 11620, 2415, 2018, 6554, 7192, 6450, 2684, 988, 11576, 4561, 8764, 12344, 13273, 10581, 13247, 7896, 5255, 7299, 12170, 12037, 3265, 8392, 6356, 12440, 9219, 1672, 9991, 7632, 7646, 1144, 1971, 3476, 3394, 9400, 928, 6720, 12068, 6813, 2841, 2199, 13348, 11689, 2, 8779, 3830, 7388, 5502, 11518, 1974, 12186, 5331, 847, 11670, 6297, 12755, 13356, 10833, 169, 3051, 10300, 5085, 8344, 1918, 12391, 13230, 6774, 3271, 9984, 6940, 2418, 6889, 12229, 5389, 8986, 3161, 5258, 10072, 9510, 8409, 10475, 7341, 7850, 10893, 12746, 3528, 2753, 12718, 3381, 7575, 9553, 7926, 7800, 1768, 10576, 4265, 7836, 4671, 11562, 6099, 3093, 9603, 11250, 1127, 1549, 12040, 5273, 11075, 3707, 12267, 11220, 8801, 9450, 4945, 11915, 12922, 10989, 5057, 7371, 2366, 7830, 8512, 12792, 8093, 9727, 2853, 4846, 1058, 4482, 1089, 830, 4363, 11763, 5626, 5785, 5309, 9124, 5365, 1702, 7023, 9703, 5909, 360, 12119, 12402, 10859, 8380, 7450, 13100, 12430, 8963, 3179, 746, 3730, 10158, 1383, 6449, 9277, 5729, 11004, 2192, 2482, 713, 12083, 6785, 9521, 10680, 2333, 388, 11612, 5524, 8496, 4955, 4235, 2953, 3454, 10905, 12383, 8702, 5002, 11177, 4269, 9737, 13276, 761, 3417, 8480, 3873, 9885, 4076, 3740, 8847, 12325, 9886, 9728, 5069, 10316, 621, 10367, 10373, 4373, 9794, 1136, 7373, 157, 9697, 6950, 6210, 12731, 11256, 6414, 8386, 4759, 10225, 392, 7403, 11941, 10901, 7391, 3222, 8036, 1371, 6565, 5157, 6417, 3017, 2437, 1861, 1730, 4499, 7723, 9198, 10228, 932, 2409, 3466, 5259, 1418, 9583, 5289, 4613, 8753, 3288, 7058, 5657, 4563, 5975, 4058, 12671, 844, 11457, 2876, 2571, 9731, 8644, 2603, 7791, 6661, 5511, 33, 1398, 6313, 10653, 4981, 7126, 12895, 11050, 8787, 13061, 10413, 9091, 10953, 5368, 3898, 6539, 4934, 7881, 8146, 6023, 10231, 11559, 4140, 7903, 5978, 312, 9560, 339, 2341, 3427, 5510, 8634, 2760, 12753, 3472, 3136, 10998, 1520, 8953, 9626, 7367, 10030, 9265, 11140, 10041, 1715, 10284, 6695, 10418, 11062, 15, 12861, 12219, 9699, 9789, 8062, 3695, 1304, 9647, 9291, 7958, 12191, 4372, 8728, 10407, 13054, 1098, 2269, 290, 2633, 6491, 8310, 6253, 8524, 8532, 86, 6300, 4484, 1074, 9721, 6561, 2838, 4407, 6691, 5576, 8260, 9303, 10561, 1500, 939, 7954, 11268, 7214, 958, 1888, 4300, 9664, 648, 9143, 1599, 333, 2532, 1926, 2449, 10919, 12052, 10394, 8539, 1296, 4350, 10986, 839, 12962, 2812, 8882, 7542, 11199, 4313, 12656, 1685, 7039, 7244, 940, 2735, 10538, 3603, 843, 12416, 10480, 9982, 3064, 3904, 1594, 9171, 11925, 5863, 6564, 7682, 7821, 2643, 4418, 9317, 2412, 3422, 13032, 6445, 743, 12981, 10470, 9084, 12693, 4293, 11936, 12860, 679, 13213, 10491, 5963, 1652, 5421, 11789, 7067, 7195, 9134, 1054, 6133, 8656, 3355, 3388, 7551, 11803, 4099, 10270, 8127, 301, 2759, 9212, 6592, 8729, 7078, 5716, 11190, 115, 10265, 3967, 8300, 3284, 4488, 7015, 13354, 11361, 6711, 5713, 3611, 1422, 2600, 2377, 7571, 11299, 12980, 12181, 8679, 11520, 4813, 5468, 5659, 4762, 10054, 12084, 7221, 4638, 12356, 13282, 10652, 177, 2059, 2991, 2210, 11151, 9736, 8003, 8109, 1233, 5631, 5501, 3937, 6961, 9069, 1937, 7933, 1238, 5024, 8477, 5733, 12507, 2283, 99, 9190, 5543, 287, 4809, 6891, 226, 1212, 12624, 12407, 1551, 8306, 13174, 4551, 12560, 1191, 11212, 2714, 11189, 7559, 10157, 8286, 4804, 10900, 12466, 11243, 10676, 9285, 196, 4565, 8228, 1718, 13001, 1828, 8667, 3549, 10729, 736, 7389, 8442, 2822, 10127, 7147, 5581, 13271, 3445, 29, 12799, 7630, 4338, 2353, 2142, 12658, 11563, 8394, 6222, 11837, 2130, 457, 11692, 3340, 8782, 8014, 2940, 9386, 13221, 8200, 852, 8150, 5370, 4324, 2062, 324, 7034, 4750, 12178, 3357, 10753, 561, 7581, 463, 9349, 8831, 8094, 12477, 12612, 8154, 9849, 8935, 4247, 7418, 9968, 7690, 12987, 10894, 4254, 5006, 6219, 7592, 7803, 4897, 6052, 1835, 5172, 8414, 12453, 6467, 6273, 5123, 7742, 2097, 145, 13170, 656, 6496, 1227, 5096, 3302, 12819, 8839, 12115, 9000, 2810, 6224, 3621, 8931, 8756, 12151, 4043, 7786, 8500, 5651, 1000, 7422, 10559, 6036, 5760, 12450, 4316, 11879, 2312, 10891, 11666, 2318, 1291, 1876, 3829, 4734, 12361, 6183, 9098, 6810, 356, 5694, 9934, 920, 10507, 5529, 347, 55, 3250, 5922, 1012, 1207, 3105, 12942, 8137, 6980, 12287, 12140, 781, 5196, 12761, 221, 1457, 3644, 5094, 9999, 2574, 10124, 3998, 5811, 11337, 855, 7396, 998, 8312, 11194, 4382, 3999, 9852, 11, 12432, 10182, 8466, 7207, 9785, 12130, 1068, 37, 5438, 7753, 60, 1177, 1141, 10629, 8262, 4549, 12088, 7988, 5700, 2641, 12312, 7732, 6090, 7623, 4238, 9981, 6848, 9309, 6058, 6990, 2596, 6567, 6177, 3779, 7787, 9507, 4444, 10259, 335, 12682, 8226, 2737, 4196, 4917, 4179, 2599, 12724, 2285, 4081, 6144, 12653, 10885, 2474, 2852, 10781, 8280, 439, 284, 1673, 3826, 7648, 10594, 3539, 6441, 1246, 4180, 11659, 12852, 10614, 3996, 2123, 3435, 10153, 2830, 6899, 4175, 9315, 2470, 10350, 8304, 12067, 885, 6987, 4141, 12302, 5232, 2351, 5380, 2489, 3590, 12248, 11527, 9680, 1445, 8118, 12051, 5730, 1230, 11507, 3291, 12463, 1996, 1560, 8211, 9203, 3199, 4601, 1934, 1169, 12530, 10836, 3809, 9960, 7111, 875, 3330, 7211, 7001, 5462, 5185, 10009, 11758, 11676, 10498, 9587, 795, 5854, 8293, 5945, 2459, 1764, 9322, 9482, 3243, 3504, 7986, 5621, 10309, 737, 7645, 12198, 1746, 12010, 12749, 12024, 2406, 804, 5999, 3370, 11857, 4749, 131, 8846, 94, 8284, 3651, 6432, 7835, 11411, 12538, 8529, 6055, 10239, 5806, 6675, 4340, 3890, 3031, 1404, 7621, 2831, 9347, 10563, 10252, 234, 7950, 8730, 7358, 11056, 7173, 12712, 8054, 8798, 13323, 5571, 8405, 7757, 7008, 7636, 1925, 12126, 12199, 952, 556, 13156, 10082, 8880, 5584, 4954, 1564, 3190, 2696, 320, 13207, 511, 4920, 1698, 3197, 5665, 11786, 479, 10920, 12691, 11487, 7355, 1472, 2049, 6308, 6756, 4703, 12341, 6181, 8082, 2339, 8164, 5114, 11039, 1697, 9823, 10364, 8924, 2110, 9475, 8422, 6780, 8975, 9689, 9888, 1867, 3489, 7060, 5235, 7390, 11454, 7452, 5880, 5005, 9876, 2249, 8576, 4261, 8214, 7694, 4550, 6818, 13327, 9202, 11261, 1983, 11155, 10441, 375, 4137, 2854, 4091, 9459, 2509, 2448, 11769, 9594, 1762, 8929, 4385, 10968, 8527, 12468, 5681, 4675, 6709, 7180, 11790, 11257, 7282, 8528, 9396, 4800, 3372, 1343, 994, 2746, 6931, 7849, 7891, 975, 959, 5553, 2726, 6480, 69, 3741, 5761, 1646, 8722, 2557, 6897, 1842, 5391, 12711, 7260, 12269, 4389, 3127, 11303, 7411, 2623, 4022, 8437, 9103, 8735, 3000, 13177, 11494, 158, 12393, 6591, 7747, 3305, 6472, 2584, 9939, 3285, 3959, 4129, 5830, 1493, 6937, 4102, 11293, 4746, 11919, 7310, 3612, 9101, 12355, 3615, 4893, 8368, 8443, 11290, 3659, 10728, 6115, 11700, 10324, 2902, 1131, 5772, 4345, 7080, 8468, 5134, 11569, 7151, 2873, 8994, 1155, 6563, 5997, 3811, 10184, 201, 8194, 11848, 2291, 1648, 10821, 5717, 921, 10926, 573, 1964, 7794, 11867, 7938, 6017, 10046, 5817, 2578, 7347, 8695, 6887, 4212, 12000, 4394, 12399, 6698, 6468, 8274, 9314, 3918, 5296, 13092, 4820, 2819, 9378, 2145, 11604, 5376, 4121, 9030, 2946, 2152, 1419, 8473, 11202, 2315, 5697, 6316, 2486, 8954, 7656, 9260, 412, 5557, 1006, 3358, 3184, 3383, 1637, 9805, 11128, 8407, 11380, 10129, 1761, 5463, 513, 11336, 1733, 4779, 10216, 12551, 2937, 11326, 6766, 714, 1170, 9555, 7714, 11511, 5616, 6374, 3042, 4289, 5220, 7505, 6092, 13149, 6242, 478, 1194, 3910, 13317, 5513, 3088, 4676, 12333, 13245, 6513, 9081, 9766, 7820, 12475, 4639, 378, 3582, 482, 6068, 6757, 7186, 3011, 5618, 4413, 1363, 10777, 6820, 8625, 5793, 3519, 7868, 4267, 1893, 10703, 9060, 12637, 11186, 7771, 13184, 174, 11352, 1662, 6817, 6323, 3657, 9185, 1310, 4998, 7057, 8131, 6003, 13253, 13050, 11719, 6531, 11091, 1067, 6907, 9294, 11304, 5737, 11716, 3773, 6549, 305, 9971, 5093, 873, 4857, 2424, 11168, 5334, 3036, 7065, 2284, 7930, 11109, 10721, 5028, 377, 10368, 3436, 2691, 1624, 4044, 10469, 8256, 5710, 10107, 619, 11658, 4068, 10360, 5912, 12956, 5142, 8273, 3501, 4088, 9822, 10863, 5996, 3689, 6012, 10366, 908, 3294, 4644, 8570, 2033, 11338, 5178, 3255, 2212, 4596, 5987, 5403, 2266, 8813, 2531, 12702, 12022, 10572, 4564, 7912, 2493, 8085, 5739, 12876, 11553, 7558, 1134, 11708, 7283, 782, 5062, 299, 12582, 9820, 4896, 9284, 9592, 9113, 4327, 11592, 8122, 12633, 6176, 5448, 903, 8047, 2962, 6346, 2146, 3215, 12242, 4530, 10985, 1754, 10217, 4249, 8562, 10281, 6399, 4463, 2157, 8189, 13022, 7467, 5274, 5378, 13212, 6380, 8823, 11359, 10994, 9609, 3484, 7036, 17, 7857, 8949, 9509, 9865, 12155, 8609, 4543, 1941, 8792, 5284, 5808, 9339, 10408, 1577, 5029, 10137, 7144, 7675, 2742, 10424, 704, 6095, 11975, 11484, 12947, 11135, 10950, 10945, 9856, 11781, 3983, 13165, 9742, 8267, 13298, 10627, 6809, 1576, 6776, 12808, 12188, 1329, 5842, 7744, 7496, 1606, 3117, 9137, 107, 647, 5795, 2918, 3419, 2754, 3768, 5312, 12420, 10037, 1932, 2374, 10527, 10245, 5086, 10117, 235, 2821, 5089, 2045, 8002, 1708, 12604, 12649, 9705, 1469, 834, 2182, 9425, 8692, 8662, 3610, 2360, 2945, 11863, 9196, 6974, 5407, 5691, 818, 1021, 9022, 11662, 11185, 6124, 9947, 2567, 10648, 7524, 3872, 2782, 7106, 1674, 10401, 6753, 4989, 12714, 13090, 2124, 10515, 7234, 10548, 8389, 6493, 7990, 4844, 8749, 2671, 10074, 2952, 3805, 12160, 4831, 965, 3487, 10957, 451, 13146, 12223, 12012, 4371, 7874, 913, 8690, 11986, 12742, 7012, 4087, 7642, 6239, 9975, 6329, 12805, 2971, 9694, 1429, 11188, 1680, 9912, 10321, 4728, 5672, 4490, 2198, 7597, 6991, 9447, 6041, 6585, 4500, 7884, 3715, 8196, 12698, 10897, 1290, 8486, 13292, 2556, 277, 11989, 427, 3616, 10336, 7479, 2555, 10835, 10881, 9513, 4297, 3986, 3256, 11314, 12238, 9858, 7258, 3592, 4368, 2497, 11213, 4273, 4409, 1295, 1863, 8918, 5297, 1347, 6355, 13261, 6108, 7892, 4828, 7456, 2300, 4334, 3744, 2978, 6194, 876, 10664, 9127, 5932, 6598, 8089, 2208, 7710, 1799, 10258, 9791, 12829, 13045, 10892, 6465, 10384, 6982, 12629, 2809, 12716, 9204, 3360, 3097, 5183, 5692, 2106, 5940, 9485, 655, 4726, 2878, 6925, 1663, 12545, 11587, 10876, 1110, 4263, 11647, 12122, 9372, 8182, 12848, 8382, 8176, 1514, 189, 394, 3614, 6372, 8210, 3545, 10235, 7668, 7544, 11526, 5628, 9452, 3095, 12483, 11984, 7231, 2568, 6644, 3409, 1354, 12577, 3052, 1731, 8231, 836, 12500, 2191, 7764, 10034, 1239, 5796, 1374, 899, 9498, 4589, 9650, 11207, 3122, 2277, 7033, 2134, 13173, 1340, 267, 2414, 10655, 11504, 10188, 8061, 4452, 10622, 544, 3325, 337, 9075, 1010, 5068, 4111, 9527, 3032, 12214, 10942, 11550, 5503, 150, 6223, 10198, 1375, 7227, 8829, 9610, 12370, 12966, 8397, 13300, 11381, 6291, 12001, 5075, 7222, 11850, 6307, 8843, 10577, 12324, 6192, 8290, 8793, 5084, 6708, 9622, 2417, 13009, 6699, 327, 11209, 11074, 3201, 10860, 2073, 4784, 1033, 1387, 9826, 10744, 9525, 11742, 12737, 11537, 5561, 4071, 10564, 4481, 595, 1298, 917, 2181, 10570, 11205, 1853, 11178, 11142, 7272, 11087, 5577, 7655, 9467, 4165, 2540, 7374, 5483, 10499, 8673, 12002, 11452, 6997, 42, 10165, 6348, 12471, 5211, 1166, 7588, 8736, 7721, 11645, 11344, 962, 7707, 2500, 5695, 2127, 2397, 10462, 13160, 5943, 10933, 12832, 3400, 3366, 2820, 5451, 3310, 5800, 9690, 12400, 6423, 10708, 9726, 9588, 6595, 7737, 7433, 5, 4704, 11882, 6713, 7886, 10832, 118, 2463, 2452, 3844, 12319, 10027, 3395, 3562, 6778, 9634, 4930, 11107, 7940, 6107, 13202, 1676, 6716, 11640, 10010, 10289, 9338, 2290, 8078, 7087, 8503, 4213, 2395, 5865, 12303, 11027, 2230, 8064, 12210, 204, 13029, 12684, 12886, 9083, 6469, 3696, 11471, 10608, 3048, 2239, 10333, 8467, 10567, 8602, 10042, 400, 9055, 5869, 2480, 5522, 3145, 4074, 2271, 1912, 5612, 9811, 7238, 7838, 4845, 10205, 11637, 5063, 9989, 1104, 6625, 6044, 3464, 12350, 9335, 2890, 1607, 9278, 12021, 894, 12390, 4117, 11871, 3553, 6271, 6311, 4029, 1620, 1326, 12114, 6110, 974, 10772, 7379, 5449, 12055, 12867, 6903, 1611, 6663, 6854, 1642, 8642, 7364, 9411, 2877, 8363, 6750, 4968, 8841, 5398, 3475, 9642, 8391, 3851, 949, 10419, 13199, 11733, 11227, 6529, 3776, 6050, 9803, 5530, 3296, 3498, 6728, 3175, 10748, 10929, 5641, 12501, 9020, 2554, 930, 13087, 9241, 2922, 12307, 12429, 797, 5923, 3224, 3062, 10758, 4095, 3697, 5238, 11476, 11163, 8620, 8595, 3694, 7779, 2287, 1027, 281, 11730, 11345, 13111, 1814, 193, 2184, 8217, 2421, 30, 1154, 10307, 4739, 5044, 11665, 9077, 11215, 8403, 699, 837, 6148, 6376, 4197, 1513, 10007, 11343, 9095, 4622, 923, 3408, 8068, 12812, 7706, 5505, 8887, 13069, 4207, 6942, 5216, 5773, 1578, 13011, 8314, 455, 8916, 9528, 1348, 5379, 1241, 9817, 7465, 7218, 12948, 1563, 3799, 7853, 3365, 9142, 5298, 4093, 5386, 6610, 1215, 5246, 12203, 9344, 6802, 6269, 4611, 10785, 9567, 11957, 11561, 6062, 10162, 288, 1211, 11475, 11131, 6646, 11171, 3683, 2825, 12796, 7949, 13159, 6576, 7056, 7547, 6150, 11210, 3277, 1719, 5153, 6033, 5383, 2170, 10365, 1924, 3823, 767, 1201, 7890, 676, 1955, 11969, 2837, 1889, 3825, 669, 6920, 4243, 5388, 8631, 5596, 5653, 3957, 3795, 410, 7695, 12750, 1317, 3850, 10539, 3020, 569, 8478, 8632, 8376, 12131, 2005, 4308, 7595, 3503, 2109, 6958, 9379, 3980, 12979, 2311, 10128, 483, 7681, 8982, 6876, 2803, 3962, 7870, 9573, 3846, 8768, 12107, 8725, 3312, 11116, 9544, 6952, 7028, 6966, 644, 4528, 5827, 7002, 6237, 11646, 2957, 4689, 9921, 270, 11802, 7408, 8652, 11997, 1588, 12293, 4786, 7616, 5534, 12274, 1556, 3443, 4172, 11341, 11169, 1789, 7427, 4763, 4621, 6964, 12334, 10325, 2122, 8490, 12458, 7848, 9140, 8850, 10111, 57, 13232, 6906, 7672, 9829, 10509, 3813, 4476, 4460, 10467, 12422, 11063, 5738, 172, 10386, 1120, 4298, 9652, 3164, 2404, 4032, 7454, 5748, 10215, 9832, 861, 1106, 2303, 4752, 5910, 3287, 2698, 6344, 1339, 3172, 47, 13309, 9653, 2026, 3004, 5061, 12212, 2679, 4295, 8395, 1266, 13231, 10839, 1592, 11736, 9676, 773, 3736, 2175, 11823, 215, 1214, 13134, 633, 9599, 9596, 8420, 7580, 8885, 4268, 733, 10400, 10931, 2219, 11211, 2068, 3066, 5208, 9126, 2350, 12371, 788, 9046, 4556, 4772, 4581, 13166, 13136, 8699, 3875, 3636, 2717, 3550, 12495, 4634, 1187, 8400, 3946, 10488, 3007, 2379, 10719, 3866, 10838, 10650, 1302, 12857, 8805, 521, 8169, 7678, 7772, 3729, 4927, 10990, 5329, 5414, 10451, 5754, 1055, 4931, 8601, 11470, 2332, 10961, 2857, 2313, 8567, 8785, 2069, 9661, 3667, 8071, 1023, 12643, 11144, 9036, 5431, 1231, 5067, 10720, 442, 13180, 7928, 4552, 4918, 3857, 5033, 13141, 1390, 10770, 7267, 9483, 4177, 3251, 10067, 2617, 10987, 10818, 4971, 5908, 2908, 166, 9979, 9983, 11119, 11734, 11972, 1561, 3259, 12521, 7697, 7362, 293, 12005, 1967, 10442, 2835, 645, 12145, 7704, 5199, 6217, 8220, 9226, 1651, 9855, 11274, 379, 8507, 3568, 4025, 7931, 3128, 6636, 8497, 11316, 8294, 3506, 12855, 3401, 5173, 3038, 7883, 9149, 6075, 4264, 8766, 1147, 7531, 11385, 6464, 4227, 4075, 9365, 4352, 7290, 9696, 6988, 4642, 5583, 12247, 5727, 7557, 6882, 8353, 2564, 2028, 4808, 11059, 11354, 398, 8004, 4325, 1819, 5432, 9540, 5844, 3978, 1610, 8588, 11530, 7649, 12938, 2115, 11088, 11602, 9526, 9276, 9723, 12982, 13076, 10396, 9056, 9354, 2560, 3977, 10337, 13164, 9424, 721, 200, 1252, 413, 11541, 2129, 10704, 4065, 2788, 3604, 3410, 2689, 13340, 523, 7750, 4306, 4004, 3402, 6002, 2051, 11229, 8450, 4101, 10814, 9120, 5444, 8968, 10783, 7006, 6871, 10948, 11282, 12652, 12580, 4631, 4560, 6556, 1, 5682, 3300, 11860, 2889, 617, 11108, 6662, 5732, 96, 9394, 9217, 9612, 5227, 7712, 6523, 11681, 1565, 6938, 5802, 7077, 12729, 9581, 3363, 9600, 6573, 2246, 9677, 8594, 3588, 13277, 2697, 3196, 3090, 2639, 10310, 1133, 2973, 10257, 1087, 7246, 8893, 7423, 8906, 10276, 9749, 92, 6860, 9144, 12795, 9859, 2086, 4717, 3747, 1706, 3361, 2267, 2065, 6963, 7182, 10359, 1908, 11315, 3446, 10646, 7024, 6470, 12386, 5405, 4625, 506, 10947, 4217, 7164, 5959, 11497, 1297, 3200, 11208, 13227, 8605, 9625, 6064, 7556, 905, 6552, 4047, 4590, 6898, 4524, 1173, 2485, 9952, 11024, 8147, 5457, 9072, 1661, 6046, 318, 9806, 11389, 9810, 5076, 12417, 8203, 6282, 1535, 7740, 3292, 7224, 1489, 829, 10654, 5878, 3116, 5977, 9593, 8055, 5167, 9608, 1542, 5518, 8208, 437, 2626, 11451, 4010, 127, 9907, 6254, 3804, 2656, 12087, 6337, 3735, 10068, 6474, 1096, 5533, 6498, 3688, 8106, 579, 4508, 11031, 6367, 7842, 6127, 10879, 341, 4387, 3490, 1038, 2281, 6010, 7415, 11248, 8518, 11671, 334, 1891, 13188, 1382, 7466, 1502, 3767, 7376, 1752, 7698, 11490, 3006, 650, 8723, 8712, 8969, 6738, 3028, 4184, 6892, 11153, 10174, 12776, 11801, 5009, 2967, 4571, 10327, 5111, 10803, 4335, 12283, 11780, 7521, 385, 9356, 9010, 5980, 567, 10880, 7437, 2921, 7587, 8090, 11557, 9547, 4447, 12779, 10921, 1456, 13301, 11214, 2767, 1237, 11540, 10246, 9651, 4666, 2984, 6339, 4138, 8932, 4816, 7022, 12514, 12767, 730, 13330, 8370, 4876, 7304, 12263, 11807, 4780, 7198, 3249, 6821, 3286, 3452, 5776, 4585, 3115, 9715, 3058, 2958, 7394, 7523, 3952, 8950, 2143, 2840, 11408, 11029, 10928, 11878, 12728, 3521, 5055, 12901, 5804, 828, 5508, 9988, 11705, 13254, 2521, 8406, 8242, 872, 2105, 1488, 5698, 12914, 6946, 6492, 10084, 4333, 6604, 9255, 8520, 359, 9977, 12113, 7301, 11238, 7284, 1626, 6384, 2864, 9175, 1832, 4883, 130, 10226, 11870, 4156, 3130, 10264, 3718, 10472, 2699, 6924, 4191, 22, 13101, 3558, 1801, 10869, 11397, 8551, 966, 3103, 6285, 8372, 4628, 5667, 2154, 1881, 5686, 3102, 4972, 3207, 1921, 3047, 7121, 11287, 8339, 7473, 6902, 9319, 1278, 2618, 6516, 9779, 10070, 1288, 4072, 9407, 2620, 10240, 3567, 13266, 756, 12939, 8828, 11862, 8861, 9695, 8888, 11081, 1709, 7907, 12905, 5221, 6455, 12741, 2621, 9522, 6532, 6032, 2523, 6490, 12771, 9034, 4442, 11400, 2524, 10597, 7366, 5742, 2650, 35, 7068, 12360, 8633, 10500, 6839, 10005, 1303, 6500, 7338, 230, 11156, 6212, 2354, 8465, 8682, 8475, 5941, 1035, 6953, 3827, 1559, 4723, 11755, 6476, 2356, 3089, 12928, 3762, 3973, 1540, 10913, 851, 7150, 12997, 2168, 4163, 12611, 7377, 7829, 6238, 9453, 1999, 8511, 402, 7827, 3645, 4423, 19, 4976, 4426, 813, 5644, 10730, 3803, 12506, 4383, 8899, 6404, 4647, 4707, 256, 11277, 9861, 3431, 11571, 4236, 9591, 2243, 124, 12719, 6578, 8453, 12902, 308, 10936, 9788, 10991, 9318, 13048, 6505, 4174, 933, 12677, 6672, 5666, 1004, 8554, 4607, 11095, 6116, 7495, 9398, 2624, 9395, 11641, 13072, 6281, 9874, 4738, 2924, 2081, 3352, 8886, 4603, 5531, 12893, 13044, 10229, 6914, 9995, 13279, 11406, 11026, 5603, 3293, 4799, 11305, 9017, 10519, 12885, 6026, 8218, 1796, 5317, 6874, 7210, 6548, 7308, 5638, 3774, 2613, 4505, 4470, 6996, 9764, 9404, 2516, 10078, 6279, 12007, 12258, 692, 13150, 13208, 1779, 4630, 12282, 12301, 2295, 12585, 5292, 9944, 4190, 4685, 10448, 7101, 12251, 13039, 6066, 8479, 9840, 12464, 6863, 3083, 4562, 4578, 11310, 7436, 7755, 7619, 7139, 6845, 3131, 12134, 1130, 3444, 9932, 6858, 9151, 641, 1528, 1497, 8447, 7596, 8530, 9418, 1279, 7325, 10463, 12336, 4745, 7175, 12342, 1894, 4241, 5249, 405, 8435, 5015, 120, 12351, 6117, 2242, 2932, 8464, 10600, 12492, 11270, 8966, 5411, 7976, 3547, 3448, 9051, 6602, 10801, 1741, 302, 175, 10019, 8944, 105, 8174, 4294, 10152, 297, 8148, 8575, 13025, 12411, 5542, 5901, 414, 3742, 6338, 10513, 6084, 8603, 3323, 9515, 7093, 8129, 495, 11591, 5373, 580, 6827, 4220, 4477, 9505, 8107, 2096, 3471, 264, 8709, 7064, 5836, 7333, 10829, 5998, 11446, 9504, 13027, 6369, 8789, 346, 8034, 6664, 7799, 10453, 13310, 6459, 10186, 4801, 10355, 12764, 11614, 1432, 1630, 1410, 8772, 6235, 5193, 7319, 12189, 12196, 11413, 9730, 4027, 11977, 4262, 1425, 6156, 8891, 3211, 6408, 12992, 12778, 5520, 1353, 2683, 4089, 6527, 8951, 914, 10109, 7728, 12846, 1414, 9139, 8145, 5929, 13242, 1477, 6424, 12259, 2411, 10965, 1595, 4303, 4736, 11346, 7780, 6909, 12590, 12379, 7226, 12474, 10927, 11753, 2207, 6182, 7941, 3942, 6330, 12401, 3711, 10543, 2723, 12295, 607, 2647, 1873, 3150, 8117, 2795, 1555, 6141, 8428, 2200, 1951, 3634, 4941, 5967, 6605, 11590, 12061, 9956, 292, 8687, 13283, 9267, 8765, 3819, 5106, 4900, 3968, 12785, 5241, 6031, 3760, 13314, 6401, 12314, 1470, 11929, 1734, 2954, 5506, 11815, 4214, 4662, 167, 4007, 4879, 10474, 2082, 9635, 568, 2632, 9671, 13251, 11104, 3209, 12925, 687, 5022, 8338, 2758, 1807, 8971, 11374, 6999, 12456, 12224, 1218, 9390, 3133, 10255, 9222, 12523, 8130, 1111, 6929, 9813, 812, 12707, 4230, 6824, 9031, 11223, 7828, 4246, 13341, 11102, 3716, 8223, 1094, 1496, 1757, 9358, 9534, 10066, 9970, 6787, 4028, 4698, 5315, 11688, 78, 1213, 12438, 85, 1199, 4391, 10032, 6727, 2346, 11025, 9996, 5120, 1800, 9537, 3622, 7120, 2255, 11362, 7935, 8472, 4291, 11883, 4041, 8438, 1608, 10033, 9898, 7413, 11908, 7885, 6823, 1920, 4266, 1151, 11292, 5832, 8016, 10805, 9654, 10763, 4843, 2231, 9935, 1954, 7365, 12579, 12304, 1040, 4059, 5387, 2382, 11697, 8102, 3067, 3593, 82, 3784, 12230, 9150, 9460, 11061, 296, 7955, 5541, 12308, 5239, 2968, 9636, 7893, 9268, 8907, 5119, 12364, 2429, 4359, 8427, 5898, 4468, 5607, 10760, 3838, 11544, 6419, 84, 7003, 4764, 8540, 9867, 6274, 3177, 5723, 1408, 110, 4168, 5038, 8084, 6100, 11905, 9009, 12945, 9915, 8940, 10091, 6354, 7977, 9621, 2807, 10118, 1121, 12734, 1172, 12291, 4792, 10812, 11302, 3786, 6011, 723, 436, 7486, 12584, 8155, 310, 4965, 3077, 12369, 1831, 5202, 6526, 10218, 1093, 9304, 586, 8769, 8835, 6147, 7994, 1987, 9580, 2862, 1490, 11958, 5560, 2213, 6878, 12824, 10555, 1209, 5163, 390, 3704, 11924, 8859, 5177, 11005, 5201, 3216, 7601, 5926, 4052, 11542, 5025, 8571, 7856, 2138, 7502, 2882, 10017, 9220, 803, 3092, 13098, 5974, 9381, 7618, 4116, 6430, 11307, 5016, 5838, 8791, 6439, 3578, 10002, 3463, 8292, 1711, 8734, 5766, 12028, 9744, 3276, 787, 3303, 5619, 7296, 2614, 11198, 11594, 7249, 1872, 10967, 4575, 229, 3693, 5540, 3076, 8544, 0, 11596, 11441, 5868, 4361, 8236, 5747, 6027, 5939, 11661, 423, 7451, 4885, 13105, 11841, 10969, 12405, 1262, 8237, 13349, 8188, 3026, 10482, 12842, 5260, 13269, 3754, 4315, 2986, 12129, 10712, 4665, 9166, 9906, 6138, 432, 8510, 6422, 4947, 5993, 3900, 13122, 6093, 2645, 8375, 10780, 2475, 3990, 354, 7124, 10096, 11952, 8796, 12169, 1553, 12583, 1534, 11729, 9312, 1765, 7876, 5862, 11818, 2345, 969, 10624, 10, 12535, 5981, 4519, 1118, 6519, 4747, 330, 1124, 3869, 1146, 5777, 1491, 61, 11414, 4612, 11750, 8630, 10344, 3816, 7999, 4414, 4539, 4288, 4906, 10504, 4682, 4588, 11021, 3884, 2193, 1051, 10677, 9511, 6676, 8937, 10660, 9239, 6935, 2925, 8013, 9665, 8318, 7555, 13238, 12235, 10001, 1506, 11528, 79, 8832, 12264, 1332, 10795, 4079, 6122, 6533, 4356, 10656, 12940, 12297, 9438, 11432, 6833, 6616, 4149, 10403, 5924, 1059, 7640, 3708, 3911, 8871, 4627, 12669, 8487, 8965, 12692, 6993, 3152, 12564, 11373, 4858, 2715, 8919, 454, 7075, 4836, 12136, 5110, 4573, 2858, 12513, 2343, 5826, 7951, 2478, 3254, 4619, 10222, 6252, 298, 6103, 5649, 3146, 1047, 3459, 5141, 12581, 11348, 6544, 9692, 12683, 12385, 3160, 12373, 1613, 8341, 3536, 9965, 3148, 2422, 4360, 8088, 6089, 12891, 5302, 4332, 6615, 8817, 10105, 7773, 12025, 11491, 9016, 1384, 6013, 1519, 12357, 1649, 6275, 7424, 6814, 3661, 8485, 3512, 12313, 4540, 9746, 618, 11752, 7199, 2087, 7184, 3343, 11650, 3137, 12896, 12498, 831, 1257, 1521, 6102, 5494, 3902, 3348, 13057, 5599, 6525, 9776, 12208, 6637, 2927, 7189, 849, 4278, 8408, 1060, 7788, 7600, 11787, 3035, 6357, 11948, 7146, 3991, 10125, 2425, 10302, 8245, 4760, 3479, 11110, 10782, 12039, 6125, 8249, 3533, 12723, 12910, 6634, 4221, 9987, 4215, 10792, 9225, 12984, 4838, 188, 5465, 5268, 11020, 5990, 10273, 4985, 9269, 10773, 8322, 7110, 10924, 1468, 7526, 3524, 223, 11323, 2903, 10537, 6266, 4656, 6722, 9718, 6781, 4929, 10651, 10425, 9, 2466, 8086, 5420, 10102, 3236, 12147, 2707, 12133, 7515, 7280, 8429, 5532, 5264, 11396, 5058, 10057, 11054, 710, 7832, 7717, 7455, 5107, 8694, 11239, 816, 9953, 4013, 9569, 2241, 11930, 263, 11953, 3721, 3455, 7957, 12359, 2552, 51, 2222, 2520, 4402, 8784, 7730, 5608, 3322, 3927, 11023, 6420, 6481, 10227, 8227, 6623, 2685, 1683, 8834, 2675, 3675, 5144, 11629, 11524, 1928, 5409, 563, 9848, 9931, 1421, 7030, 3835, 9648, 9781, 3176, 5073, 7997, 684, 6215, 1622, 6104, 11830, 6960, 7, 5493, 5252, 8371, 4741, 6479, 7724, 8684, 11340, 1245, 2660, 10993, 9793, 13169, 10582, 8655, 2609, 8517, 6403, 10973, 7756, 9657, 2947, 3888, 7797, 620, 2826, 3960, 3193, 2541, 3924, 76, 6190, 7887, 10185, 13119, 140, 11754, 11547, 8938, 12879, 8087, 4021, 7574, 11458, 3104, 12421, 1948, 7971, 6779, 2994, 4270, 5413, 1101, 5467, 1182, 10285, 279, 7313, 10322, 8707, 7808, 943, 9481, 13167, 11595, 5794, 4942, 2606, 9194, 4381, 3078, 2001, 11072, 3971, 8354, 12057, 11691, 3662, 7477, 8621, 2420, 10398, 11872, 5330, 6378, 4962, 4154, 12899, 3867, 12253, 8678, 5492, 3951, 2674, 3992, 5191, 10444, 11810, 2783, 3682, 2828, 4090, 13081, 1940, 10979, 1749, 906, 12959, 9887, 2635, 12117, 10160, 8023, 9472, 508, 7767, 11251, 3731, 9539, 9040, 3278, 5280, 12315, 2224, 526, 13117, 12294, 13035, 7201, 9519, 6596, 13226, 497, 8930, 8125, 6789, 13258, 622, 8321, 9087, 6188, 8311, 12023, 12917, 12240, 5550, 3480, 10508, 12619, 12589, 7834, 11259, 4232, 9882, 1474, 10049, 9631, 13204, 5151, 4714, 1880, 2002, 3785, 8355, 11570, 13306, 10156, 1077, 2092, 10522, 6583, 2859, 6868, 4902, 13239, 7100, 3270, 9462, 757, 10980, 10906, 3123, 10024, 9784, 12467, 12077, 8024, 485, 2164, 9428, 6653, 1193, 9675, 11962, 6126, 5072, 11129, 10459, 1092, 11558, 6877, 7499, 8291, 6020, 2104, 10440, 10454, 5080, 3016, 3491, 12640, 8958, 475, 2177, 11084, 11902, 3758, 4960, 749, 6883, 10466, 5092, 6168, 13051, 860, 10671, 11768, 7252, 12537, 8977, 10898, 7429, 7070, 5639, 9271, 4336, 12668, 6828, 3142, 2974, 581, 3982, 4847, 12813, 8144, 9270, 3518, 5184, 9922, 3043, 2389, 765, 5822, 2955, 1736, 125, 4814, 990, 7446, 2329, 11376, 6137, 11011, 2616, 262, 1641, 12270, 12835, 12880, 9574, 4669, 8933, 4347, 8091, 5643, 8826, 3433, 13010, 7334, 10786, 7402, 12710, 8110, 11897, 3523, 9004, 12183, 6140, 7699, 1669, 3356, 10558, 5004, 7590, 2126, 9601, 10599, 5833, 6128, 11157, 11483, 3060, 12660, 102, 10390, 12740, 13007, 6411, 11280, 4204, 11554, 10306, 11854, 9003, 5335, 11065, 9487, 7534, 2602, 10345, 2956, 4033, 11534, 6912, 12773, 534, 5476, 2832, 314, 8541, 7968, 2316, 4700, 10417, 7399, 13084, 8637, 11698, 11601, 2240, 13203, 6406, 5243, 8461, 4501, 5563, 1631, 5139, 7824, 10087, 7179, 12790, 4192, 12898, 1616, 1107, 9543, 7405, 5195, 9529, 12434, 7948, 6320, 8204, 492, 9366, 2799, 13308, 9174, 11577, 11690, 6971, 13028, 8046, 4435, 3766, 10995, 8357, 10164, 12871, 9719, 8661, 2648, 2917, 8319, 12617, 501, 8097, 10857, 7729, 6218, 10954, 8349, 2586, 2842, 2041, 5281, 5956, 73, 7937, 9092, 5662, 9711, 2400, 6665, 9067, 5600, 815, 1157, 2289, 11124, 11300, 8083, 8335, 9302, 881, 2032, 5440, 2544, 2966, 8258, 3473, 2367, 12168, 1574, 10886, 9851, 3019, 8750, 582, 9902, 8340, 5668, 8233, 11176, 6278, 11749, 7140, 6227, 4209, 8192, 8860, 10571, 1248, 5245, 1029, 8610, 13319, 4766, 4579, 2920, 12814, 1102, 8967, 1677, 4425, 4817, 12123, 11077, 8328, 4872, 10616, 9102, 9976, 9125, 2546, 12265, 6714, 241, 1990, 7541, 3626, 3859, 11622, 3306, 6645, 6180, 9436, 3068, 2063, 2515, 4617, 419, 6607, 4825, 9549, 5070, 4733, 5288, 5401, 5853, 336, 3001, 4176, 10119, 6463, 8224, 4926, 4576, 4805, 6905, 10617, 1320, 9360, 12709, 8058, 4840, 9208, 12395, 6120, 9630, 8243, 9025, 9577, 10489, 1433, 1995, 13217, 11783, 6534, 8664, 1826, 2801, 4755, 4788, 6391, 5442, 7251, 3299, 7208, 3074, 10826, 1901, 3941, 6136, 7350, 7483, 490, 6945, 8323, 3465, 6332, 9466, 886, 12627, 1260, 4449, 4224, 529, 10684, 12128, 3415, 11197, 1261, 2785, 5823, 5472, 8166, 4105, 5234, 5374, 5452, 9759, 11435, 2331, 10138, 11498, 11611, 1567, 8797, 1499, 3576, 1956, 11667, 7982, 4103, 4086, 868, 727, 2446, 10136, 7277, 11675, 2299, 4039, 6819, 11055, 12679, 1590, 2141, 12470, 6473, 9901, 5674, 4626, 1210, 1434, 4891, 9146, 11040, 7653, 1671, 7661, 4916, 992, 8838, 11459, 4343, 11723, 13198, 8794, 2464, 13313, 2655, 7094, 10822, 10479, 8151, 12489, 2527, 2188, 5459, 8215, 13077, 11886, 555, 12104, 12794, 9706, 2359, 4384, 6685, 8752, 6428, 10997, 12648, 7861, 5519, 1494, 791, 9900, 8254, 2566, 870, 11735, 409, 9440, 268, 4440, 5186, 5792, 8100, 8771, 8104, 8418, 6161, 4292, 5017, 9362, 11809, 10779, 11631, 476, 10268, 10305, 11434, 11532, 5770, 13211, 11996, 1536, 178, 4811, 11842, 630, 10195, 13062, 12854, 12663, 8862, 10290, 6630, 313, 11939, 3594, 10166, 4602, 13126, 6447, 6786, 610, 6652, 6702, 7768, 3334, 5598, 3219, 5736, 1943, 693, 4182, 8980, 4012, 81, 5683, 12630, 7368, 888, 3745, 5688, 8754, 1978, 1830, 5891, 12607, 3905, 5972, 9807, 11765, 13272, 5136, 13345, 4531, 5969, 4187, 9273, 12322, 4774, 12823, 4744, 7354, 8604, 6674, 10272, 11808, 5037, 2739, 10959, 12833, 5819, 5385, 12310, 3319, 4144, 1330, 10678, 3668, 2692, 3839, 8458, 1222, 10298, 3935, 10357, 144, 11070, 13102, 12574, 8521, 12681, 1568, 6557, 3165, 224, 4161, 9942, 8533, 6081, 10615, 12317, 13082, 3140, 7643, 13237, 9662, 9321, 8075, 7778, 1739, 8585, 8419, 792, 7593, 10854, 4729, 1467, 8028, 3439, 9006, 12241, 10793, 2563, 8910, 3699, 7909, 5669, 6512, 6594, 11514, 2197, 12841, 11633, 6377, 9972, 3065, 3591, 10177, 805, 8069, 12641, 1570, 9512, 8140, 8471, 7963, 7517, 7846, 4693, 11096, 3430, 12442, 8657, 9796, 11865, 7326, 11232, 13260, 11455, 6807, 3153, 1368, 8869, 9068, 12958, 2778, 6328, 6694, 4510, 2938, 6684, 7254, 1356, 1259, 2846, 471, 7223, 10937, 5604, 5514, 6118, 3794, 10888, 1653, 7242, 4252, 4861, 11272, 4636, 10060, 9093, 2153, 6486, 237, 4016, 1701, 10297, 13179, 12830, 4711, 5381, 892, 9693, 7923, 6167, 6195, 12197, 5496, 1533, 121, 7235, 5495, 5473, 6577, 5261, 2338, 10026, 9716, 6767, 5876, 2160, 3180, 6396, 12918, 13290, 10086, 2570, 1481, 7081, 7536, 9704, 7970, 9857, 7005, 3456, 4464, 7978, 3531, 11804, 11041, 5976, 697, 874, 9880, 8854, 8855, 7357, 1815, 11035, 608, 11652, 4239, 9186, 10747, 4066, 10173, 6761, 12519, 218, 2405, 11618, 10732, 5663, 9516, 3530, 12415, 11286, 552, 9461, 8017, 424, 7271, 10018, 5205, 6622, 12030, 5480, 1007, 9145, 9310, 3338, 10775, 11384, 986, 12419, 3548, 6536, 11325, 5427, 7177, 8251, 9457, 10503, 11660, 6361, 2628, 5791, 13138, 7397, 6184, 11583, 5150, 2307, 3477, 10375, 1724, 4690, 12937, 7840, 985, 6305, 10619, 11933, 12915, 9409, 2488, 1849, 8103, 8703, 8162, 2777, 3257, 5933, 11978, 12408, 7225, 1722, 3024, 2481, 597, 1247, 6053, 11097, 5834, 13287, 1078, 9804, 362, 10207, 8053, 2195, 9063, 10934, 5011, 2244, 1949, 1527, 13259, 13214, 1686, 3094, 3156, 2055, 10329, 5685, 982, 10754, 152, 7564, 5087, 2039, 5116, 3943, 8505, 8448, 9530, 11663, 7545, 3331, 10817, 12553, 1909, 5523, 8513, 12017, 4778, 13337, 2205, 4502, 2970, 11566, 1024, 367, 12481, 5189, 10751, 106, 11835, 516, 3282, 946, 7062, 3801, 8666, 11428, 7274, 11673, 1284, 8580, 2144, 9279, 11392, 5678, 6864, 9138, 3737, 8713, 11387, 12499, 10523, 7863, 1018, 9998, 3972, 3640, 9709, 2016, 12727, 9176, 7216, 11174, 372, 7578, 4935, 8565, 450, 7854, 5392, 11071, 351, 11425, 5885, 3188, 7663, 7010, 3770, 12109, 8332, 13151, 6388, 9197, 1707, 7108, 2043, 3886, 4789, 774, 9669, 6425, 11642, 1189, 12508, 3554, 3413, 12990, 686, 11800, 3073, 12555, 65, 11047, 2357, 2644, 1846, 13016, 5036, 4555, 9523, 7155, 5003, 3552, 576, 11922, 11318, 9272, 260, 2549, 10972, 4410, 6998, 8235, 5856, 5824, 12050, 10490, 7383, 12384, 1871, 2340, 5026, 7916, 1988, 6703, 4169, 3728, 5138, 10834, 1220, 4318, 12382, 5174, 10588, 8686, 10996, 13163, 1095, 7519, 9191, 4135, 884, 8142, 6741, 1366, 3665, 11149, 3191, 863, 12839, 1612, 7680, 7239, 4994, 4546, 4118, 3849, 9745, 10734, 5837, 8072, 12634, 3359, 9734, 5466, 7122, 12877, 1001, 3861, 10244, 9879, 4098, 129, 8234, 2736, 9152, 376, 887, 1507, 6582, 7613, 5539, 7900, 10269, 4699, 1385, 8800, 8978, 12053, 2776, 1579, 6977, 11184, 8740, 10909, 7785, 6737, 638, 9687, 8366, 12204, 8343, 3680, 9899, 1691, 10907, 6230, 7837, 634, 1229, 8777, 10071, 11219, 294, 11648, 11875, 13068, 9973, 1138, 8921, 636, 1806, 5545, 2128, 10837, 5310, 9620, 11173, 6204, 272, 4701, 2682, 3733, 1700, 5693, 9691, 8670, 2751, 8807, 4005, 3944, 9252, 13158, 11496, 5103, 10468, 587, 11254, 1879, 9099, 1251, 6267, 6551, 7460, 3470, 10971, 9287, 11333, 8359, 7677, 4668, 12352, 8781, 4370, 40, 12800, 3877, 7625, 3307, 2120, 1064, 6569, 4152, 6667, 11895, 9841, 12858, 3893, 12209, 5133, 1250, 10465, 7025, 7250, 217, 12650, 8183, 282, 11273, 10866, 1605, 3646, 11495, 649, 5166, 5715, 7847, 6621, 7105, 2961, 9313, 12613, 10643, 3949, 5054, 8377, 12292, 9181, 6007, 13274, 9891, 11485, 1621, 4537, 8315, 5108, 2058, 11967, 9955, 10516, 1976, 6310, 9615, 11891, 9584, 10578, 8230, 2398, 2327, 7484, 6083, 8731, 7991, 2137, 11756, 9448, 4351, 10789, 11805, 8423, 12154, 4326, 3917, 7185, 133, 173, 5118, 11770, 3925, 512, 6719, 10146, 3641, 3956, 1309, 3037, 9231, 1025, 11621, 1377, 8608, 2469, 3681, 3687, 2399, 5155, 6371, 7872, 8362, 236, 1455, 9624, 13015, 4026, 11521, 4284, 10771, 9790, 9288, 8326, 11146, 2402, 10319, 10389, 4049, 13218, 13110, 5855, 1681, 3587, 7387, 6673, 1838, 6185, 10356, 12883, 12349, 2293, 7031, 5034, 1557, 5351, 9974, 659, 3557, 12725, 2023, 10697, 9326, 9758, 1927, 5265, 1566, 6112, 3868, 315, 1341, 3279, 4395, 12965, 12703, 8033, 12412, 6286, 7317, 9109, 7897, 6074, 4064, 5360, 10529, 3676, 8008, 2969, 6154, 11761, 3013, 7118, 6520, 9333, 12810, 12309, 7331, 4393, 12363, 3281, 7404, 4323, 2800, 7560, 8483, 10679, 3168, 11443, 12413, 6797, 9233, 12436, 517, 9183, 316, 5544, 13257, 4641, 10473, 7043, 3579, 13104, 3379, 5960, 5864, 8590, 776, 2851, 854, 7610, 1014, 9405, 11203, 11747, 9536, 9007, 8905, 12721, 7795, 6547, 7052, 9638, 7119, 4126, 585, 7851, 6098, 3881, 10506, 10625, 1228, 6537, 6241, 10828, 10604, 7270, 10530, 1769, 2296, 12999, 9492, 559, 2850, 2071, 5048, 8696, 401, 8799, 2590, 4776, 2022, 9993, 10094, 1704, 138, 276, 12354, 6226, 2342, 7063, 8677, 8616, 10966, 10385, 7528, 12950, 9644, 12261, 4473, 1647, 3948, 1759, 12911, 10932, 1562, 12377, 10477, 10761, 7471, 12931, 5594, 5271, 7229, 10977, 1389, 13065, 4980, 8900, 7145, 7733, 11909, 12327, 1492, 1569, 741, 12381, 12457, 4583, 3407, 11821, 10223, 11582, 598, 5217, 11317, 13278, 5338, 2070, 7288, 11825, 12338, 1896, 3079, 9757, 1936, 11372, 12448, 3098, 9554, 6189, 3757, 4806, 4245, 12503, 13161, 13103, 7410, 8180, 8718, 10143, 7996, 1933, 6612, 2447, 13047, 10000, 10103, 1745, 7662, 1401, 518, 10140, 13132, 12454, 12255, 7692, 8474, 9119, 5914, 11481, 8029, 7245, 856, 5655, 5931, 4880, 5764, 5126, 9762, 9954, 5558, 12953, 1628, 8015, 3353, 2108, 12460, 373, 11353, 11350, 10682, 9941, 2347, 7761, 326, 2370, 10765, 12897, 12482, 7491, 4310, 12476, 2867, 7004, 4108, 890, 11001, 1011, 4694, 12768, 12562, 9064, 6584, 1584, 352, 5570, 717, 10845, 1292, 12353, 5362, 627, 1827, 12884, 2054, 8508, 6723, 8674, 6485, 2278, 7493, 6130, 9001, 2827, 10847, 11327, 2774, 4785, 11674, 5321, 3671, 8874, 2763, 5839, 7131, 1041, 9116, 11762, 6509, 1953, 5507, 7914, 3899, 1200, 1797, 10843, 11370, 3109, 6398, 3895, 2781, 10569, 8430, 3411, 1840, 309, 3157, 4142, 5272, 2330, 3202, 11253, 5859, 11279, 1321, 2900, 5820, 8552, 349, 10549, 3349, 11706, 13335, 12026, 1420, 5654, 7279, 2337, 4146, 12670, 7763, 3135, 9211, 2747, 5099, 4155, 2272, 8636, 7091, 8763, 71, 1723, 6575, 5757, 858, 1361, 2426, 11946, 7159, 3710, 2748, 13112, 7586, 7973, 7488, 4616, 5696, 9548, 6956, 6312, 12689, 5047, 2708, 7947, 4834, 6478, 1411, 4195, 1328, 7183, 5013, 10910, 7133, 192, 853, 1857, 1050, 2305, 10430, 1897, 6666, 8589, 5352, 12975, 10115, 9550, 1598, 9368, 5620, 366, 11519, 4125, 3854, 4773, 8492, 11101, 11032, 6627, 216, 12528, 9831, 11137, 10399, 5090, 11241, 10113, 5866, 7869, 3706, 7905, 8577, 5915, 11732, 9435, 5299, 9286, 8840, 2261, 809, 702, 220, 7898, 7684, 7061, 13223, 11779, 7513, 7752, 10535, 416, 11668, 5948, 11330, 11486, 11849, 10039, 11366, 123, 12837, 5203, 5928, 13030, 3648, 10849, 6019, 7792, 13222, 12062, 637, 7262, 6173, 9774, 2530, 11603, 7913, 1403, 3169, 4684, 10565, 1164, 12968, 11874, 2052, 8449, 10013, 10293, 2060, 179, 4304, 357, 3449, 12427, 9463, 12685, 10764, 12548, 3820, 5214, 11998, 3371, 13333, 10715, 5469, 10456, 1600, 9437, 32, 8890, 2455, 12449, 3746, 1269, 10706, 4781, 8152, 8374, 6433, 9571, 4375, 12783, 10458, 4498, 9477, 10145, 3342, 4453, 1272, 3421, 7639, 3457, 3055, 1484, 5658, 2187, 11094, 383, 11575, 11548, 4798, 786, 3627, 10323, 1345, 8331, 6135, 8259, 11773, 5902, 12278, 5741, 11252, 4034, 9800, 10340, 11100, 6301, 164, 7726, 1503, 6211, 10692, 11093, 1440, 7939, 5332, 9646, 1959, 12921, 2796, 5517, 2254, 6836, 8911, 3186, 1263, 11881, 5012, 11943, 5226, 8025, 4892, 12305, 6131, 6749, 6460, 9446, 1890, 4415, 1904, 7171, 2585, 10435, 11990, 10015, 6175, 2080, 3860, 3441, 6852, 7434, 3269, 8881, 39, 2061, 1475, 12451, 2731, 13083, 13089, 1479, 6299, 5988, 11450, 4513, 624, 3320, 4577, 2939, 2818, 964, 2101, 11794, 3425, 3525, 4271, 13294, 3192, 11057, 7017, 2930, 7736, 13190, 9155, 6704, 542, 11931, 1203, 2884, 10420, 8488, 11085, 248, 10776, 12525, 3333, 5416, 12142, 13113, 12099, 7113, 12704, 1792, 1142, 1898, 113, 604, 1143, 2537, 7633, 9341, 9489, 4000, 9518, 3542, 117, 2247, 9180, 10501, 738, 11782, 11313, 1703, 5453, 11460, 1053, 1875, 4943, 5883, 2114, 1442, 311, 9039, 3059, 9420, 5498, 2768, 3204, 1158, 2149, 10976, 3775, 9391, 5979, 1483, 11266, 7508, 9195, 205, 8538, 9586, 9816, 10241, 5200, 2091, 4735, 2638, 6804, 9908, 13019, 10447, 2265, 4681, 10649, 7751, 957, 4907, 4229, 3390, 12676, 9645, 13099, 11427, 4915, 9503, 10799, 1589, 5841, 9292, 10395, 675, 1969, 2107, 3214, 10253, 11744, 9524, 725, 3386, 12054, 3198, 10199, 3769, 4216, 4194, 1544, 4924, 5831, 4566, 2592, 7700, 9235, 6736, 5475, 10291, 6910, 12367, 8704, 3492, 3580, 5188, 8111, 5237, 4889, 7696, 4837, 8660, 6597, 2025, 2458, 8324, 11028, 8207, 2156, 13115, 7275, 2529, 6732, 6733, 8720, 10675, 289, 3674, 11183, 10638, 11312, 4618, 7969, 3618, 10598, 11033, 8952, 2445, 4827, 13052, 12635, 162, 1415, 7032, 232, 668, 6198, 10685, 4160, 2453, 3162, 8165, 3913, 9442, 7137, 10874, 6647, 3574, 5014, 11864, 2741, 4131, 7769, 5897, 4069, 12735, 5896, 12993, 3346, 4434, 4582, 13125, 10806, 1854, 8369, 2250, 5652, 3516, 12818, 9787, 11832, 3984, 11788, 11718, 7805, 4810, 12041, 7833, 951, 11228, 550, 7901, 2492, 2949, 6772, 8358, 7520, 9884, 2719, 879, 5799, 6775, 2963, 6628, 9688, 10299, 7719, 8548, 12139, 9673, 5509, 8179, 3765, 6438, 9837, 11165, 5359, 7038, 10053, 10815, 3878, 7992, 11966, 4904, 10722, 12428, 12976, 1773, 8526, 186, 7598, 7324, 12631, 6765, 11853, 9946, 12674, 1593, 783, 3005, 4667, 6853, 12623, 10422, 12665, 9359, 2263, 7498, 9370, 7627, 4643, 3880, 1119, 1273, 6692, 12217, 4037, 11069, 11159, 4990, 4567, 9259, 10288, 11355, 7705, 4183, 5892, 10370, 11757, 10379, 7196, 5664, 997, 3096, 3046, 7687, 9568, 5554, 2228, 11502, 7783, 9674, 987, 12769, 5020, 11430, 7725, 7123, 3087, 6152, 11549, 10011, 13176, 64, 6586, 1085, 11686, 11234, 1243, 8983, 12164, 11682, 5345, 11513, 8559, 13078, 11122, 9797, 2589, 233, 9249, 10641, 801, 12108, 2668, 9808, 496, 2730, 1515, 10203, 141, 2334, 7715, 2906, 10557, 4378, 1644, 3100, 2960, 9733, 5486, 1049, 11903, 11276, 779, 10194, 4139, 9011, 8302, 3022, 729, 7617, 3966, 3368, 9373, 2270, 1073, 11407, 3380, 4494, 5478, 4404, 10023, 11469, 896, 7082, 984, 10168, 1396, 7395, 8138, 12849, 8276, 6038, 6351, 2401, 3049, 7538, 1994, 6471, 8279, 11482, 12957, 5606, 6004, 1048, 720, 3700, 13181, 6538, 10230, 12820, 8073, 1349, 4796, 3054, 10313, 3295, 808, 6707, 2688, 10935, 4092, 12701, 4905, 98, 5262, 8808, 4458, 8095, 7197, 12180, 1160, 8334, 10122, 12534, 8265, 3623, 6047, 3462, 8514, 9167, 486, 9950, 9264, 13201, 10711, 7071, 9602, 3328, 722, 5406, 6641, 6349, 11426, 7852, 498, 1747, 3778, 11900, 11834, 11368, 13085, 13017, 6456, 10612, 3245, 12932, 8132, 10301, 12666, 1234, 775, 6477, 10840, 13093, 6678, 1728, 11393, 9439, 7292, 12111, 2704, 8647, 10004, 2716, 12756, 5870, 4104, 344, 2533, 8945, 6568, 500, 751, 13003, 5899, 8985, 9165, 2654, 2067, 7604, 12647, 13252, 348, 7092, 6265, 155, 12424, 11017, 5749, 3734, 9506, 6838, 2088, 4768, 459, 1820, 12272, 2916, 840, 10098, 11015, 6759, 369, 8659, 4869, 12840, 999, 8213, 7372, 7691, 7522, 2734, 7589, 7865, 5435, 12809, 11539, 2980, 877, 3543, 2235, 11296, 7628, 5780, 9332, 13240, 9563, 9388, 9707, 690, 2806, 9015, 1045, 1804, 5585, 1369, 12765, 9048, 6109, 5251, 7638, 8246, 12426, 4330, 9873, 4593, 4438, 3500, 2211, 5918, 7329, 5797, 3217, 551, 5316, 3789, 6957, 4633, 1114, 3772, 7281, 2361, 11461, 2375, 3171, 4225, 13318, 12673, 1139, 1645, 3264, 11058, 10008, 12571, 1150, 6981, 5965, 2814, 8997, 9244, 12256, 3111, 5439, 8745, 7777, 8545, 2506, 5422, 274, 1870, 7116, 10126, 8070, 9078, 3926, 10236, 7944, 1914, 5418, 12970, 4767, 9053, 4535, 1270, 2040, 5816, 10332, 7546, 10552, 1899, 6668, 12462, 13018, 11817, 11921, 6553, 12708, 10531, 12568, 12018, 6101, 4718, 5704, 1614, 3569, 4536, 171, 5617, 993, 760, 2573, 4424, 2764, 2610, 3749, 1406, 2510, 5721, 7205, 10279, 3009, 2728, 6651, 1249, 9795, 11187, 4260, 9468, 7609, 1161, 1803, 11589, 13031, 11851, 6216, 2196, 1268, 10657, 12343, 9729, 4974, 1084, 2769, 1331, 11416, 3953, 2260, 10423, 9578, 4594, 7230, 4609, 5970, 5425, 7622, 1370, 8741, 4797, 13074, 2423, 7961, 2611, 11579, 2031, 3258, 4290, 13171, 9551, 1539, 683, 5018, 11858, 6169, 2477, 956, 12557, 2308, 811, 11743, 5790, 961, 8522, 5547, 9532, 2790, 4754, 1357, 4720, 11586, 13086, 12540, 10816, 12971, 5470, 13088, 2990, 11515, 9019, 1572, 1308, 10861, 6225, 9517, 7686, 12961, 9905, 13114, 7269, 5877, 4398, 3800, 824, 8743, 5032, 6959, 745, 10077, 4679, 10029, 1913, 11873, 2676, 12602, 1360, 934, 10628, 7720, 9210, 9188, 9263, 8672, 2495, 13168, 6272, 6395, 245, 8822, 7302, 1265, 12375, 8489, 8451, 6962, 4569, 8303, 5911, 5944, 4486, 3818, 12254, 8412, 3647, 10381, 8912, 18, 10605, 5690, 11888, 11474, 11204, 691, 7291, 12531, 8922, 8396, 2328, 7138, 1313, 3044, 9753, 4940, 9994, 10514, 7925, 11651, 7572, 4663, 2948, 6888, 1152, 1318, 2009, 7352, 5848, 434, 3481, 4506, 13264, 5115, 4640, 3163, 242, 9713, 12110, 5771, 13060, 6658, 3572, 3759, 13328, 9041, 3802, 9909, 12368, 8295, 10065, 488, 6873, 8307, 12339, 9770, 9741, 3212, 8171, 4507, 380, 971, 8700, 9199, 11320, 2816, 407, 6029, 6342, 12105, 4922, 4592, 7802, 273, 10213, 7945, 5287, 11477, 12284, 10211, 7537, 3939, 5689, 4623, 6087, 9558, 2512, 5705, 13135, 2794, 8316, 5835, 1003, 5938, 3845, 3382, 4132, 10716, 10725, 9484, 4459, 8012, 11797, 10353, 5131, 10742, 726, 871, 12632, 10878, 7796, 9533, 10978, 2487, 8825, 10178, 800, 68, 6793, 11195, 8717, 7599, 6715, 4677, 6555, 12403, 3670, 12570, 12226, 11572, 5343, 6350, 10757, 5615, 11306, 12218, 7561, 3529, 6706, 5484, 6679, 1531, 170, 1615, 11913, 7472, 8080, 8884, 11150, 10283, 8205, 3458, 5228, 3698, 9413, 11746, 6334, 2111, 9416, 8379, 1684, 6331, 10579, 1176, 11264, 10602, 7688, 7385, 2808, 1198, 4938, 9604, 9893, 6770, 6879, 5591, 5605, 12807, 1372, 8248, 11440, 833, 5921, 6035, 8739, 688, 191, 12988, 10391, 4894, 9451, 4341, 9401, 1407, 859, 11295, 6296, 3502, 3378, 2981, 1156, 3418, 6559, 11083, 11961, 10114, 1991, 10524, 11785, 3023, 11625, 6566, 9289, 11704, 3321, 2077, 9383, 7428, 5148, 11767, 10123, 12048, 1312, 6869, 8773, 472, 8432, 1781, 6276, 3606, 6402, 7540, 8469, 11935, 7294, 7634, 3181, 389, 12013, 7343, 1423, 1751, 8581, 2467, 10196, 7170, 3995, 1866, 469, 7305, 10810, 11940, 6710, 9107, 12182, 4518, 9613, 4008, 6435, 3540, 5991, 2369, 1359, 2727, 11976, 547, 12222, 3238, 5307, 8404, 5363, 4670, 2640, 3424]\n"
     ]
    }
   ],
   "source": [
    "recommends = list(pd.Series(ans.sort_values(ascending=False).index))\n",
    "print(recommends)"
   ]
  },
  {
   "cell_type": "code",
   "execution_count": 21,
   "metadata": {},
   "outputs": [
    {
     "data": {
      "text/plain": [
       "0.4774557054042816"
      ]
     },
     "execution_count": 21,
     "metadata": {},
     "output_type": "execute_result"
    }
   ],
   "source": []
  },
  {
   "cell_type": "code",
   "execution_count": null,
   "metadata": {},
   "outputs": [],
   "source": []
  }
 ],
 "metadata": {
  "kernelspec": {
   "display_name": "Python 3",
   "language": "python",
   "name": "python3"
  },
  "language_info": {
   "codemirror_mode": {
    "name": "ipython",
    "version": 3
   },
   "file_extension": ".py",
   "mimetype": "text/x-python",
   "name": "python",
   "nbconvert_exporter": "python",
   "pygments_lexer": "ipython3",
   "version": "3.7.2"
  }
 },
 "nbformat": 4,
 "nbformat_minor": 4
}
