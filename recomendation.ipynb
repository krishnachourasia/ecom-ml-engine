{
 "cells": [
  {
   "cell_type": "code",
   "execution_count": 1,
   "metadata": {},
   "outputs": [
    {
     "name": "stdout",
     "output_type": "stream",
     "text": [
      "['category_tree.csv', 'events.csv', 'item_properties_part1.csv', 'item_properties_part2.csv']\n"
     ]
    }
   ],
   "source": [
    "import numpy as np\n",
    "import pandas as pd\n",
    "import matplotlib.pyplot as plt\n",
    "import seaborn as sns\n",
    "\n",
    "\n",
    "# Checking files data files\n",
    "import os\n",
    "print(os.listdir(\"ecommerce-dataset\"))"
   ]
  },
  {
   "cell_type": "code",
   "execution_count": 2,
   "metadata": {},
   "outputs": [
    {
     "data": {
      "text/html": [
       "<div>\n",
       "<style scoped>\n",
       "    .dataframe tbody tr th:only-of-type {\n",
       "        vertical-align: middle;\n",
       "    }\n",
       "\n",
       "    .dataframe tbody tr th {\n",
       "        vertical-align: top;\n",
       "    }\n",
       "\n",
       "    .dataframe thead th {\n",
       "        text-align: right;\n",
       "    }\n",
       "</style>\n",
       "<table border=\"1\" class=\"dataframe\">\n",
       "  <thead>\n",
       "    <tr style=\"text-align: right;\">\n",
       "      <th></th>\n",
       "      <th>timestamp</th>\n",
       "      <th>itemid</th>\n",
       "      <th>property</th>\n",
       "      <th>value</th>\n",
       "    </tr>\n",
       "  </thead>\n",
       "  <tbody>\n",
       "    <tr>\n",
       "      <th>10989</th>\n",
       "      <td>1439089200000</td>\n",
       "      <td>183697</td>\n",
       "      <td>888</td>\n",
       "      <td>231316 237874 610517 n108.000 424566 784581 12...</td>\n",
       "    </tr>\n",
       "    <tr>\n",
       "      <th>10990</th>\n",
       "      <td>1441508400000</td>\n",
       "      <td>337184</td>\n",
       "      <td>978</td>\n",
       "      <td>684814 234274</td>\n",
       "    </tr>\n",
       "    <tr>\n",
       "      <th>10991</th>\n",
       "      <td>1433646000000</td>\n",
       "      <td>55909</td>\n",
       "      <td>888</td>\n",
       "      <td>1072784</td>\n",
       "    </tr>\n",
       "    <tr>\n",
       "      <th>10992</th>\n",
       "      <td>1431226800000</td>\n",
       "      <td>209920</td>\n",
       "      <td>764</td>\n",
       "      <td>1285872</td>\n",
       "    </tr>\n",
       "    <tr>\n",
       "      <th>10993</th>\n",
       "      <td>1432436400000</td>\n",
       "      <td>257606</td>\n",
       "      <td>888</td>\n",
       "      <td>1280825</td>\n",
       "    </tr>\n",
       "    <tr>\n",
       "      <th>10994</th>\n",
       "      <td>1431226800000</td>\n",
       "      <td>329250</td>\n",
       "      <td>available</td>\n",
       "      <td>0</td>\n",
       "    </tr>\n",
       "    <tr>\n",
       "      <th>10995</th>\n",
       "      <td>1440298800000</td>\n",
       "      <td>387609</td>\n",
       "      <td>available</td>\n",
       "      <td>1</td>\n",
       "    </tr>\n",
       "    <tr>\n",
       "      <th>10996</th>\n",
       "      <td>1437274800000</td>\n",
       "      <td>94406</td>\n",
       "      <td>790</td>\n",
       "      <td>n306720.000</td>\n",
       "    </tr>\n",
       "    <tr>\n",
       "      <th>10997</th>\n",
       "      <td>1431226800000</td>\n",
       "      <td>337872</td>\n",
       "      <td>categoryid</td>\n",
       "      <td>1113</td>\n",
       "    </tr>\n",
       "    <tr>\n",
       "      <th>10998</th>\n",
       "      <td>1435460400000</td>\n",
       "      <td>334542</td>\n",
       "      <td>451</td>\n",
       "      <td>1141052 n36.000</td>\n",
       "    </tr>\n",
       "  </tbody>\n",
       "</table>\n",
       "</div>"
      ],
      "text/plain": [
       "           timestamp  itemid    property  \\\n",
       "10989  1439089200000  183697         888   \n",
       "10990  1441508400000  337184         978   \n",
       "10991  1433646000000   55909         888   \n",
       "10992  1431226800000  209920         764   \n",
       "10993  1432436400000  257606         888   \n",
       "10994  1431226800000  329250   available   \n",
       "10995  1440298800000  387609   available   \n",
       "10996  1437274800000   94406         790   \n",
       "10997  1431226800000  337872  categoryid   \n",
       "10998  1435460400000  334542         451   \n",
       "\n",
       "                                                   value  \n",
       "10989  231316 237874 610517 n108.000 424566 784581 12...  \n",
       "10990                                      684814 234274  \n",
       "10991                                            1072784  \n",
       "10992                                            1285872  \n",
       "10993                                            1280825  \n",
       "10994                                                  0  \n",
       "10995                                                  1  \n",
       "10996                                        n306720.000  \n",
       "10997                                               1113  \n",
       "10998                                    1141052 n36.000  "
      ]
     },
     "execution_count": 2,
     "metadata": {},
     "output_type": "execute_result"
    }
   ],
   "source": [
    "## loading items dataset\n",
    "items = pd.read_csv(\"ecommerce-dataset/item_properties_part1.csv\")\n",
    "items = items[:10999]\n",
    "items.tail(10)"
   ]
  },
  {
   "cell_type": "code",
   "execution_count": 3,
   "metadata": {},
   "outputs": [
    {
     "data": {
      "text/plain": [
       "(10999, 4)"
      ]
     },
     "execution_count": 3,
     "metadata": {},
     "output_type": "execute_result"
    }
   ],
   "source": [
    "items.shape"
   ]
  },
  {
   "cell_type": "code",
   "execution_count": 4,
   "metadata": {},
   "outputs": [],
   "source": [
    "import datetime\n",
    "dtime = []\n",
    "for i in items['timestamp']:\n",
    "    dtime.append(datetime.datetime.fromtimestamp(i//1000))"
   ]
  },
  {
   "cell_type": "code",
   "execution_count": 5,
   "metadata": {},
   "outputs": [],
   "source": [
    "items['timestamp'] = dtime"
   ]
  },
  {
   "cell_type": "code",
   "execution_count": 6,
   "metadata": {},
   "outputs": [
    {
     "data": {
      "text/html": [
       "<div>\n",
       "<style scoped>\n",
       "    .dataframe tbody tr th:only-of-type {\n",
       "        vertical-align: middle;\n",
       "    }\n",
       "\n",
       "    .dataframe tbody tr th {\n",
       "        vertical-align: top;\n",
       "    }\n",
       "\n",
       "    .dataframe thead th {\n",
       "        text-align: right;\n",
       "    }\n",
       "</style>\n",
       "<table border=\"1\" class=\"dataframe\">\n",
       "  <thead>\n",
       "    <tr style=\"text-align: right;\">\n",
       "      <th></th>\n",
       "      <th>timestamp</th>\n",
       "      <th>itemid</th>\n",
       "      <th>property</th>\n",
       "      <th>value</th>\n",
       "    </tr>\n",
       "  </thead>\n",
       "  <tbody>\n",
       "    <tr>\n",
       "      <th>0</th>\n",
       "      <td>2015-06-28 08:30:00</td>\n",
       "      <td>460429</td>\n",
       "      <td>categoryid</td>\n",
       "      <td>1338</td>\n",
       "    </tr>\n",
       "    <tr>\n",
       "      <th>1</th>\n",
       "      <td>2015-09-06 08:30:00</td>\n",
       "      <td>206783</td>\n",
       "      <td>888</td>\n",
       "      <td>1116713 960601 n277.200</td>\n",
       "    </tr>\n",
       "    <tr>\n",
       "      <th>2</th>\n",
       "      <td>2015-08-09 08:30:00</td>\n",
       "      <td>395014</td>\n",
       "      <td>400</td>\n",
       "      <td>n552.000 639502 n720.000 424566</td>\n",
       "    </tr>\n",
       "    <tr>\n",
       "      <th>3</th>\n",
       "      <td>2015-05-10 08:30:00</td>\n",
       "      <td>59481</td>\n",
       "      <td>790</td>\n",
       "      <td>n15360.000</td>\n",
       "    </tr>\n",
       "    <tr>\n",
       "      <th>4</th>\n",
       "      <td>2015-05-17 08:30:00</td>\n",
       "      <td>156781</td>\n",
       "      <td>917</td>\n",
       "      <td>828513</td>\n",
       "    </tr>\n",
       "    <tr>\n",
       "      <th>5</th>\n",
       "      <td>2015-07-05 08:30:00</td>\n",
       "      <td>285026</td>\n",
       "      <td>available</td>\n",
       "      <td>0</td>\n",
       "    </tr>\n",
       "    <tr>\n",
       "      <th>6</th>\n",
       "      <td>2015-06-14 08:30:00</td>\n",
       "      <td>89534</td>\n",
       "      <td>213</td>\n",
       "      <td>1121373</td>\n",
       "    </tr>\n",
       "    <tr>\n",
       "      <th>7</th>\n",
       "      <td>2015-05-17 08:30:00</td>\n",
       "      <td>264312</td>\n",
       "      <td>6</td>\n",
       "      <td>319724</td>\n",
       "    </tr>\n",
       "    <tr>\n",
       "      <th>8</th>\n",
       "      <td>2015-06-07 08:30:00</td>\n",
       "      <td>229370</td>\n",
       "      <td>202</td>\n",
       "      <td>1330310</td>\n",
       "    </tr>\n",
       "    <tr>\n",
       "      <th>9</th>\n",
       "      <td>2015-06-14 08:30:00</td>\n",
       "      <td>98113</td>\n",
       "      <td>451</td>\n",
       "      <td>1141052 n48.000</td>\n",
       "    </tr>\n",
       "  </tbody>\n",
       "</table>\n",
       "</div>"
      ],
      "text/plain": [
       "            timestamp  itemid    property                            value\n",
       "0 2015-06-28 08:30:00  460429  categoryid                             1338\n",
       "1 2015-09-06 08:30:00  206783         888          1116713 960601 n277.200\n",
       "2 2015-08-09 08:30:00  395014         400  n552.000 639502 n720.000 424566\n",
       "3 2015-05-10 08:30:00   59481         790                       n15360.000\n",
       "4 2015-05-17 08:30:00  156781         917                           828513\n",
       "5 2015-07-05 08:30:00  285026   available                                0\n",
       "6 2015-06-14 08:30:00   89534         213                          1121373\n",
       "7 2015-05-17 08:30:00  264312           6                           319724\n",
       "8 2015-06-07 08:30:00  229370         202                          1330310\n",
       "9 2015-06-14 08:30:00   98113         451                  1141052 n48.000"
      ]
     },
     "execution_count": 6,
     "metadata": {},
     "output_type": "execute_result"
    }
   ],
   "source": [
    "items.head(10)"
   ]
  },
  {
   "cell_type": "code",
   "execution_count": 8,
   "metadata": {},
   "outputs": [
    {
     "data": {
      "text/html": [
       "<div>\n",
       "<style scoped>\n",
       "    .dataframe tbody tr th:only-of-type {\n",
       "        vertical-align: middle;\n",
       "    }\n",
       "\n",
       "    .dataframe tbody tr th {\n",
       "        vertical-align: top;\n",
       "    }\n",
       "\n",
       "    .dataframe thead th {\n",
       "        text-align: right;\n",
       "    }\n",
       "</style>\n",
       "<table border=\"1\" class=\"dataframe\">\n",
       "  <thead>\n",
       "    <tr style=\"text-align: right;\">\n",
       "      <th></th>\n",
       "      <th>timestamp</th>\n",
       "      <th>visitorid</th>\n",
       "      <th>event</th>\n",
       "      <th>itemid</th>\n",
       "      <th>transactionid</th>\n",
       "    </tr>\n",
       "  </thead>\n",
       "  <tbody>\n",
       "    <tr>\n",
       "      <th>0</th>\n",
       "      <td>1433221332117</td>\n",
       "      <td>257597</td>\n",
       "      <td>view</td>\n",
       "      <td>355908</td>\n",
       "      <td>NaN</td>\n",
       "    </tr>\n",
       "    <tr>\n",
       "      <th>1</th>\n",
       "      <td>1433224214164</td>\n",
       "      <td>992329</td>\n",
       "      <td>view</td>\n",
       "      <td>248676</td>\n",
       "      <td>NaN</td>\n",
       "    </tr>\n",
       "    <tr>\n",
       "      <th>2</th>\n",
       "      <td>1433221999827</td>\n",
       "      <td>111016</td>\n",
       "      <td>view</td>\n",
       "      <td>318965</td>\n",
       "      <td>NaN</td>\n",
       "    </tr>\n",
       "    <tr>\n",
       "      <th>3</th>\n",
       "      <td>1433221955914</td>\n",
       "      <td>483717</td>\n",
       "      <td>view</td>\n",
       "      <td>253185</td>\n",
       "      <td>NaN</td>\n",
       "    </tr>\n",
       "    <tr>\n",
       "      <th>4</th>\n",
       "      <td>1433221337106</td>\n",
       "      <td>951259</td>\n",
       "      <td>view</td>\n",
       "      <td>367447</td>\n",
       "      <td>NaN</td>\n",
       "    </tr>\n",
       "    <tr>\n",
       "      <th>5</th>\n",
       "      <td>1433224086234</td>\n",
       "      <td>972639</td>\n",
       "      <td>view</td>\n",
       "      <td>22556</td>\n",
       "      <td>NaN</td>\n",
       "    </tr>\n",
       "    <tr>\n",
       "      <th>6</th>\n",
       "      <td>1433221923240</td>\n",
       "      <td>810725</td>\n",
       "      <td>view</td>\n",
       "      <td>443030</td>\n",
       "      <td>NaN</td>\n",
       "    </tr>\n",
       "    <tr>\n",
       "      <th>7</th>\n",
       "      <td>1433223291897</td>\n",
       "      <td>794181</td>\n",
       "      <td>view</td>\n",
       "      <td>439202</td>\n",
       "      <td>NaN</td>\n",
       "    </tr>\n",
       "    <tr>\n",
       "      <th>8</th>\n",
       "      <td>1433220899221</td>\n",
       "      <td>824915</td>\n",
       "      <td>view</td>\n",
       "      <td>428805</td>\n",
       "      <td>NaN</td>\n",
       "    </tr>\n",
       "    <tr>\n",
       "      <th>9</th>\n",
       "      <td>1433221204592</td>\n",
       "      <td>339335</td>\n",
       "      <td>view</td>\n",
       "      <td>82389</td>\n",
       "      <td>NaN</td>\n",
       "    </tr>\n",
       "  </tbody>\n",
       "</table>\n",
       "</div>"
      ],
      "text/plain": [
       "       timestamp  visitorid event  itemid  transactionid\n",
       "0  1433221332117     257597  view  355908            NaN\n",
       "1  1433224214164     992329  view  248676            NaN\n",
       "2  1433221999827     111016  view  318965            NaN\n",
       "3  1433221955914     483717  view  253185            NaN\n",
       "4  1433221337106     951259  view  367447            NaN\n",
       "5  1433224086234     972639  view   22556            NaN\n",
       "6  1433221923240     810725  view  443030            NaN\n",
       "7  1433223291897     794181  view  439202            NaN\n",
       "8  1433220899221     824915  view  428805            NaN\n",
       "9  1433221204592     339335  view   82389            NaN"
      ]
     },
     "execution_count": 8,
     "metadata": {},
     "output_type": "execute_result"
    }
   ],
   "source": [
    "## Loading user-interactions, i.e, events dataset\n",
    "events = pd.read_csv(\"ecommerce-dataset/events.csv\")\n",
    "events = events[:27561]\n",
    "events.head(10)"
   ]
  },
  {
   "cell_type": "code",
   "execution_count": 13,
   "metadata": {},
   "outputs": [
    {
     "name": "stdout",
     "output_type": "stream",
     "text": [
      "(27561, 5)\n",
      "view           26700\n",
      "addtocart        639\n",
      "transaction      222\n",
      "Name: event, dtype: int64\n"
     ]
    },
    {
     "data": {
      "text/plain": [
       "<matplotlib.axes._subplots.AxesSubplot at 0xd57ef0>"
      ]
     },
     "execution_count": 13,
     "metadata": {},
     "output_type": "execute_result"
    },
    {
     "data": {
      "image/png": "[encoded data removed]",
      "text/plain": [
       "<Figure size 432x288 with 1 Axes>"
      ]
     },
     "metadata": {
      "needs_background": "light"
     },
     "output_type": "display_data"
    }
   ],
   "source": [
    "print(events.shape)\n",
    "print(events['event'].value_counts())\n",
    "sns.countplot(x='event', data=events, palette='pastel')"
   ]
  },
  {
   "cell_type": "markdown",
   "metadata": {},
   "source": [
    "## TODO: load and analyse Category datasets"
   ]
  },
  {
   "cell_type": "code",
   "execution_count": 15,
   "metadata": {},
   "outputs": [
    {
     "name": "stdout",
     "output_type": "stream",
     "text": [
      "All visitors: 27561\n",
      "All customers: 16684\n"
     ]
    }
   ],
   "source": [
    "## Finding Unique visiters i.e, all the customers\n",
    "customers = events['visitorid'].unique()\n",
    "\n",
    "print(\"All visitors:\", events['visitorid'].size)\n",
    "print(\"All customers:\", customers.size)"
   ]
  },
  {
   "cell_type": "code",
   "execution_count": 17,
   "metadata": {},
   "outputs": [
    {
     "name": "stdout",
     "output_type": "stream",
     "text": [
      "Customers who bought something: 136\n"
     ]
    }
   ],
   "source": [
    "## Finding customers who purchased\n",
    "customers_purchased = events[events.transactionid.notnull()].visitorid.unique()\n",
    "print(\"Customers who bought something:\",customers_purchased.size)"
   ]
  },
  {
   "cell_type": "code",
   "execution_count": 24,
   "metadata": {},
   "outputs": [
    {
     "name": "stdout",
     "output_type": "stream",
     "text": [
      "event\n",
      "addtocart      [5206, 10572, 255275, 356475, 312728, 63312, 1...\n",
      "transaction    [356475, 15335, 81345, 150318, 310791, 54058, ...\n",
      "view           [355908, 248676, 318965, 253185, 367447, 22556...\n",
      "Name: itemid, dtype: object\n"
     ]
    },
    {
     "data": {
      "text/plain": [
       "<matplotlib.axes._subplots.AxesSubplot at 0xd6d630>"
      ]
     },
     "execution_count": 24,
     "metadata": {},
     "output_type": "execute_result"
    },
    {
     "data": {
      "image/png": "[encoded data removed]",
      "text/plain": [
       "<Figure size 432x288 with 1 Axes>"
      ]
     },
     "metadata": {
      "needs_background": "light"
     },
     "output_type": "display_data"
    }
   ],
   "source": [
    "## grouping itemid with it's event type into a lost\n",
    "grouped = events.groupby('event')['itemid'].apply(list)\n",
    "print(grouped)\n",
    "\n",
    "## Finding the most viewed items\n",
    "import operator\n",
    "views = grouped['view']\n",
    "count_view = {}\n",
    "views = np.array(views[:])\n",
    "\n",
    "#counting unique value of itemids and respective views and conveting it to dictionary\n",
    "unique, counts = np.unique(views, return_counts=True)\n",
    "count_view = dict(zip(unique, counts))\n",
    "sorted_view = sorted(count_view.items(), key= operator.itemgetter(1), reverse=True)\n",
    "\n",
    "## intialising graph\n",
    "x = [i[0] for i in sorted_view[:10]]\n",
    "y = [i[1] for i in sorted_view[:10]]\n",
    "sns.barplot(x, y, order=x, palette='rocket')"
   ]
  },
  {
   "cell_type": "code",
   "execution_count": 23,
   "metadata": {},
   "outputs": [
    {
     "data": {
      "text/plain": [
       "<matplotlib.axes._subplots.AxesSubplot at 0x106f310>"
      ]
     },
     "execution_count": 23,
     "metadata": {},
     "output_type": "execute_result"
    },
    {
     "data": {
      "image/png": "[encoded data removed]",
      "text/plain": [
       "<Figure size 432x288 with 1 Axes>"
      ]
     },
     "metadata": {
      "needs_background": "light"
     },
     "output_type": "display_data"
    }
   ],
   "source": [
    "## Finding the most added to cart items\n",
    "addtocart = grouped['addtocart']\n",
    "count_cart = {}\n",
    "addtocart = np.array(addtocart[:])\n",
    "\n",
    "#counting unique value of itemids and respective addtocart and conveting it to dictionary\n",
    "unique, counts = np.unique(addtocart, return_counts=True)\n",
    "count_cart = dict(zip(unique, counts))\n",
    "sorted_cart = sorted(count_cart.items(), key= operator.itemgetter(1), reverse=True)\n",
    "\n",
    "## intialising graph\n",
    "x = [i[0] for i in sorted_cart[:10]]\n",
    "y = [i[1] for i in sorted_cart[:10]]\n",
    "sns.barplot(x, y, order=x, palette='pastel')"
   ]
  },
  {
   "cell_type": "code",
   "execution_count": 27,
   "metadata": {},
   "outputs": [
    {
     "data": {
      "text/plain": [
       "<matplotlib.axes._subplots.AxesSubplot at 0xfc33f0>"
      ]
     },
     "execution_count": 27,
     "metadata": {},
     "output_type": "execute_result"
    },
    {
     "data": {
      "image/png": "[encoded data removed]",
      "text/plain": [
       "<Figure size 432x288 with 1 Axes>"
      ]
     },
     "metadata": {
      "needs_background": "light"
     },
     "output_type": "display_data"
    }
   ],
   "source": [
    "## Finding the most purchased items\n",
    "transaction = grouped['transaction']\n",
    "count_transaction = {}\n",
    "transaction = np.array(transaction[:])\n",
    "\n",
    "#counting unique value of itemids and respective addtocart and conveting it to dictionary\n",
    "unique, counts = np.unique(transaction, return_counts=True)\n",
    "count_transaction = dict(zip(unique, counts))\n",
    "sorted_transaction = sorted(count_transaction.items(), key= operator.itemgetter(1), reverse=True)\n",
    "\n",
    "## intialising graph\n",
    "x = [i[0] for i in sorted_transaction[:20]]\n",
    "y = [i[1] for i in sorted_transaction[:20]]\n",
    "sns.barplot(x, y, order=x, palette='rocket')"
   ]
  },
  {
   "cell_type": "markdown",
   "metadata": {},
   "source": [
    "# TODO: Modeling with lightfm"
   ]
  }
 ],
 "metadata": {
  "kernelspec": {
   "display_name": "Python 3",
   "language": "python",
   "name": "python3"
  },
  "language_info": {
   "codemirror_mode": {
    "name": "ipython",
    "version": 3
   },
   "file_extension": ".py",
   "mimetype": "text/x-python",
   "name": "python",
   "nbconvert_exporter": "python",
   "pygments_lexer": "ipython3",
   "version": "3.7.2"
  }
 },
 "nbformat": 4,
 "nbformat_minor": 4
}
